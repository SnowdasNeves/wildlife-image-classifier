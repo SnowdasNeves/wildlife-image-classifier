{
  "cells": [
    {
      "cell_type": "markdown",
      "metadata": {},
      "source": [
        "# Bounding Box Detection Testing with YOLO\n",
        "\n",
        "This file was created and ran with Google Colab. Some issues may arise if attempted to run locally."
      ]
    },
    {
      "cell_type": "markdown",
      "metadata": {},
      "source": [
        "### Imports"
      ]
    },
    {
      "cell_type": "code",
      "execution_count": null,
      "metadata": {
        "colab": {
          "base_uri": "https://localhost:8080/"
        },
        "id": "lY3GhbFUM70Q",
        "outputId": "e22469fe-acdd-48ee-f311-03213c12b93f"
      },
      "outputs": [
        {
          "name": "stdout",
          "output_type": "stream",
          "text": [
            "Ultralytics YOLOv8.2.103 🚀 Python-3.11.11 torch-2.5.1+cu124 CUDA:0 (Tesla T4, 15095MiB)\n",
            "Setup complete ✅ (2 CPUs, 12.7 GB RAM, 33.1/112.6 GB disk)\n"
          ]
        }
      ],
      "source": [
        "import os\n",
        "import json\n",
        "import random\n",
        "import numpy as np\n",
        "import pandas as pd\n",
        "import matplotlib.pyplot as plt\n",
        "import matplotlib.patches as patches\n",
        "from IPython import display\n",
        "\n",
        "import torch\n",
        "import ultralytics\n",
        "from ultralytics import YOLO\n",
        "from sklearn.model_selection import train_test_split\n",
        "from sklearn.metrics import precision_recall_curve, auc\n",
        "from scipy.interpolate import make_interp_spline\n",
        "import shutil\n",
        "from pathlib import Path\n",
        "from PIL import Image\n",
        "\n",
        "from google.colab import drive\n",
        "\n",
        "HOME = os.getcwd()\n",
        "display.clear_output()\n",
        "ultralytics.checks()"
      ]
    },
    {
      "cell_type": "code",
      "execution_count": 5,
      "metadata": {
        "colab": {
          "base_uri": "https://localhost:8080/"
        },
        "id": "kNdOLTU8NA7X",
        "outputId": "34b4a2d0-0d60-4619-8931-a02e7f535590"
      },
      "outputs": [
        {
          "name": "stdout",
          "output_type": "stream",
          "text": [
            "Mounted at /content/drive\n"
          ]
        }
      ],
      "source": [
        "drive.mount('/content/drive')\n",
        "annotations_folder = r\"/content/drive/My Drive/cct20/cct20/annotations\"\n",
        "image_folder = r\"/content/drive/My Drive/cct20/cct20/test_dataset\""
      ]
    },
    {
      "cell_type": "markdown",
      "metadata": {},
      "source": [
        "### Loading and Treating CCT20"
      ]
    },
    {
      "cell_type": "code",
      "execution_count": null,
      "metadata": {
        "id": "h89G1x1gNbCw"
      },
      "outputs": [],
      "source": [
        "json_files = [f for f in os.listdir(annotations_folder) if f.endswith('.json')]\n",
        "all_data = []\n",
        "category_mapping = {}\n",
        "\n",
        "for file in json_files:\n",
        "    file_path = os.path.join(annotations_folder, file)\n",
        "    with open(file_path, 'r') as f:\n",
        "        data = json.load(f)\n",
        "\n",
        "        for category in data['categories']:\n",
        "            category_mapping[category['id']] = category['name']\n",
        "\n",
        "        image_id_to_info = {}\n",
        "        for img in data['images']:\n",
        "            image_id_to_info[img['id']] = {\n",
        "                'file_name': img['file_name'],\n",
        "                'width': int(img['width'] / 2),\n",
        "                'height': int(img['height'] / 2)\n",
        "            }\n",
        "\n",
        "        for ann in data['annotations']:\n",
        "            if ann['image_id'] in image_id_to_info:\n",
        "                image_info = image_id_to_info[ann['image_id']]\n",
        "                # if ann['category_id'] != 30:\n",
        "                all_data.append({\n",
        "                    'annotation_id': ann['id'],\n",
        "                    'image_id': image_info['file_name'],\n",
        "                    'category_id': ann['category_id'],\n",
        "                    'category_name': category_mapping[ann['category_id']],\n",
        "                    'bbox': ann.get('bbox', None),\n",
        "                    'image_width': image_info['width'],\n",
        "                    'image_height': image_info['height']\n",
        "                })\n",
        "\n",
        "dataset_df = pd.DataFrame(all_data).set_index('annotation_id')"
      ]
    },
    {
      "cell_type": "code",
      "execution_count": 7,
      "metadata": {
        "id": "sXjspo3UNelI"
      },
      "outputs": [],
      "source": [
        "dataset_df = dataset_df.query('bbox.notna()')"
      ]
    },
    {
      "cell_type": "code",
      "execution_count": null,
      "metadata": {
        "id": "qxufS4qGNgIg"
      },
      "outputs": [],
      "source": [
        "def scale_bbox(bbox):\n",
        "    \"\"\"Scales bounding box coordinates by a factor of 0.5 in both dimensions.\"\"\"\n",
        "    x_min, y_min, w, h = bbox\n",
        "\n",
        "    # Scale coordinates to match downsized images\n",
        "    x_min_scaled = int(x_min / 2)\n",
        "    y_min_scaled = int(y_min / 2)\n",
        "    w_scaled = int(w / 2)\n",
        "    h_scaled = int(h / 2)\n",
        "\n",
        "    return [x_min_scaled, y_min_scaled, w_scaled, h_scaled]"
      ]
    },
    {
      "cell_type": "code",
      "execution_count": 9,
      "metadata": {
        "id": "irFu-k4jNh03"
      },
      "outputs": [],
      "source": [
        "dataset_df['bbox']= dataset_df['bbox'].apply(scale_bbox)"
      ]
    },
    {
      "cell_type": "code",
      "execution_count": null,
      "metadata": {
        "id": "ShRq-c3zNwnS"
      },
      "outputs": [],
      "source": [
        "train_df, test_df = train_test_split(dataset_df, test_size=0.80, stratify=dataset_df['category_name'], random_state=31)\n",
        "train_df, val_df = train_test_split(train_df, test_size=0.50, stratify=train_df['category_name'], random_state=37)\n",
        "\n",
        "train_df.to_csv(\"train_annotations.csv\", index=False)\n",
        "val_df.to_csv(\"val_annotations.csv\", index=False)\n",
        "test_df.to_csv(\"test_annotations.csv\", index=False)"
      ]
    },
    {
      "cell_type": "code",
      "execution_count": null,
      "metadata": {
        "colab": {
          "base_uri": "https://localhost:8080/"
        },
        "id": "rNK4oDxjOG4_",
        "outputId": "5dd3f88c-bde8-4e85-c816-a71fb67f87bf"
      },
      "outputs": [
        {
          "name": "stdout",
          "output_type": "stream",
          "text": [
            "\n",
            "Filtered Train set size: 338\n",
            "Filtered Validation set size: 345\n",
            "Filtered Test set size: 2725\n",
            "\n",
            "Checking for duplicate image_ids:\n",
            "Duplicates in train_df: 2\n",
            "Duplicates in val_df: 0\n",
            "Duplicates in test_df: 114\n"
          ]
        }
      ],
      "source": [
        "available_image_filenames = set(os.listdir(image_folder))\n",
        "train_df = train_df[train_df['image_id'].isin(available_image_filenames)]\n",
        "test_df = test_df[test_df['image_id'].isin(available_image_filenames)]\n",
        "val_df = val_df[val_df['image_id'].isin(available_image_filenames)]\n",
        "\n",
        "print(\"\\nFiltered Train set size:\", train_df.shape[0])\n",
        "print(\"Filtered Validation set size:\", val_df.shape[0])\n",
        "print(\"Filtered Test set size:\", test_df.shape[0])\n",
        "\n",
        "print(\"\\nChecking for duplicate image_ids:\")\n",
        "print(f\"Duplicates in train_df: {train_df.duplicated(subset=['image_id']).sum()}\")\n",
        "print(f\"Duplicates in val_df: {val_df.duplicated(subset=['image_id']).sum()}\")\n",
        "print(f\"Duplicates in test_df: {test_df.duplicated(subset=['image_id']).sum()}\")\n",
        "\n",
        "missing_train = [img_id for img_id in train_df['image_id'].unique() if img_id not in available_image_filenames]\n",
        "missing_val = [img_id for img_id in val_df['image_id'].unique() if img_id not in available_image_filenames]\n",
        "missing_test = [img_id for img_id in test_df['image_id'].unique() if img_id not in available_image_filenames]\n",
        "\n",
        "if missing_train or missing_val or missing_test:\n",
        "    print(\"WARNING: Missing images after filtering:\")\n",
        "    if missing_train:\n",
        "        print(f\"  {len(missing_train)} image_ids in train_df are missing.\")\n",
        "    if missing_val:\n",
        "        print(f\"  {len(missing_val)} image_ids in val_df are missing.\")\n",
        "    if missing_test:\n",
        "        print(f\"  {len(missing_test)} image_ids in test_df are missing.\")\n",
        "    raise FileNotFoundError(\"Missing images after filtering. Check data and filtering logic.\")"
      ]
    },
    {
      "cell_type": "markdown",
      "metadata": {},
      "source": [
        "### Preparing Dataset for YOLO"
      ]
    },
    {
      "cell_type": "code",
      "execution_count": null,
      "metadata": {
        "id": "i94NAxSgOS9I"
      },
      "outputs": [],
      "source": [
        "def create_yolo_labels(df, output_dir, image_dir, category_mapping):\n",
        "    os.makedirs(output_dir, exist_ok=True)\n",
        "\n",
        "    name_to_id = {name: i for i, name in enumerate(sorted(category_mapping.values()))}\n",
        "    print(\"YOLO Class Mapping:\", name_to_id)\n",
        "\n",
        "    for image_filename, group in df.groupby('image_id'):\n",
        "        image_path = os.path.join(image_dir, image_filename)\n",
        "        try:\n",
        "            with Image.open(image_path) as img:\n",
        "                img_width, img_height = img.size\n",
        "        except (FileNotFoundError, OSError) as e:\n",
        "            print(f\"Error processing image {image_path}: {e}\")\n",
        "            continue\n",
        "\n",
        "        label_filepath = os.path.join(output_dir, f\"{os.path.splitext(image_filename)[0]}.txt\")\n",
        "        with open(label_filepath, 'w') as f:\n",
        "            for _, row in group.iterrows():\n",
        "                yolo_class_id = name_to_id[row['category_name']]\n",
        "\n",
        "                x_min, y_min, w, h = row['bbox']\n",
        "                x_center = (x_min + w / 2) / img_width\n",
        "                y_center = (y_min + h / 2) / img_height\n",
        "                width = w / img_width\n",
        "                height = h / img_height\n",
        "                f.write(f\"{yolo_class_id} {x_center} {y_center} {width} {height}\\n\")"
      ]
    },
    {
      "cell_type": "code",
      "execution_count": null,
      "metadata": {
        "id": "1vN7hQAROZR2"
      },
      "outputs": [],
      "source": [
        "dataset_root = \"/content/datasets/my_custom_dataset\"\n",
        "os.makedirs(dataset_root, exist_ok=True)\n",
        "\n",
        "train_dir = os.path.join(dataset_root, \"train\")\n",
        "val_dir= os.path.join(dataset_root, \"val\")\n",
        "test_dir = os.path.join(dataset_root, \"test\")\n",
        "train_label_dir = os.path.join(train_dir, \"labels\")\n",
        "val_label_dir = os.path.join(val_dir, \"labels\")\n",
        "test_label_dir = os.path.join(test_dir, \"labels\")\n",
        "train_image_dir = os.path.join(train_dir, \"images\")\n",
        "val_image_dir = os.path.join(val_dir, \"images\")\n",
        "test_image_dir = os.path.join(test_dir, \"images\")"
      ]
    },
    {
      "cell_type": "code",
      "execution_count": 14,
      "metadata": {
        "id": "Yy9YVar3Oix9"
      },
      "outputs": [],
      "source": [
        "os.makedirs(train_label_dir, exist_ok=True)\n",
        "os.makedirs(val_label_dir, exist_ok=True)\n",
        "os.makedirs(test_label_dir, exist_ok=True)\n",
        "os.makedirs(train_image_dir, exist_ok=True)\n",
        "os.makedirs(val_image_dir, exist_ok=True)\n",
        "os.makedirs(test_image_dir, exist_ok=True)"
      ]
    },
    {
      "cell_type": "code",
      "execution_count": null,
      "metadata": {
        "colab": {
          "base_uri": "https://localhost:8080/"
        },
        "id": "p-TuihhnOqIO",
        "outputId": "fe402e34-741f-4959-89db-1f40f5c79a7e"
      },
      "outputs": [
        {
          "name": "stdout",
          "output_type": "stream",
          "text": [
            "YOLO Class Mapping: {'badger': 0, 'bird': 1, 'bobcat': 2, 'car': 3, 'cat': 4, 'coyote': 5, 'deer': 6, 'dog': 7, 'empty': 8, 'fox': 9, 'opossum': 10, 'rabbit': 11, 'raccoon': 12, 'rodent': 13, 'skunk': 14, 'squirrel': 15}\n",
            "YOLO Class Mapping: {'badger': 0, 'bird': 1, 'bobcat': 2, 'car': 3, 'cat': 4, 'coyote': 5, 'deer': 6, 'dog': 7, 'empty': 8, 'fox': 9, 'opossum': 10, 'rabbit': 11, 'raccoon': 12, 'rodent': 13, 'skunk': 14, 'squirrel': 15}\n",
            "YOLO Class Mapping: {'badger': 0, 'bird': 1, 'bobcat': 2, 'car': 3, 'cat': 4, 'coyote': 5, 'deer': 6, 'dog': 7, 'empty': 8, 'fox': 9, 'opossum': 10, 'rabbit': 11, 'raccoon': 12, 'rodent': 13, 'skunk': 14, 'squirrel': 15}\n"
          ]
        }
      ],
      "source": [
        "# Create Yolo Variables\n",
        "create_yolo_labels(train_df, train_label_dir, image_folder, category_mapping)\n",
        "create_yolo_labels(val_df, val_label_dir, image_folder, category_mapping)\n",
        "create_yolo_labels(test_df, test_label_dir, image_folder, category_mapping)"
      ]
    },
    {
      "cell_type": "code",
      "execution_count": null,
      "metadata": {
        "id": "JI8N1096OxDW"
      },
      "outputs": [],
      "source": [
        "# Move images\n",
        "train_count = 0\n",
        "val_count = 0\n",
        "test_count = 0\n",
        "for filename in train_df['image_id'].unique():\n",
        "    src_path = os.path.join(image_folder, filename)\n",
        "    dst_path = os.path.join(train_image_dir, filename)\n",
        "    try:\n",
        "        shutil.copy(src_path, dst_path)\n",
        "        train_count += 1\n",
        "    except (FileNotFoundError, Exception) as e:\n",
        "        print(f\"Error copying image {filename}: {e}\")\n",
        "\n",
        "for filename in val_df['image_id'].unique():\n",
        "    src_path = os.path.join(image_folder, filename)\n",
        "    dst_path = os.path.join(val_image_dir, filename)\n",
        "    try:\n",
        "        shutil.copy(src_path, dst_path)\n",
        "        val_count += 1\n",
        "    except (FileNotFoundError, Exception) as e:\n",
        "        print(f\"Error copying image {filename}: {e}\")\n",
        "\n",
        "for filename in test_df['image_id'].unique():\n",
        "    src_path = os.path.join(image_folder, filename)\n",
        "    dst_path = os.path.join(test_image_dir, filename)\n",
        "    try:\n",
        "        shutil.copy(src_path, dst_path)\n",
        "        test_count += 1\n",
        "    except (FileNotFoundError, Exception) as e:\n",
        "        print(f\"Error copying image {filename}: {e}\")\n"
      ]
    },
    {
      "cell_type": "code",
      "execution_count": 17,
      "metadata": {
        "colab": {
          "base_uri": "https://localhost:8080/"
        },
        "id": "F0T2wC6KO4qQ",
        "outputId": "ca7c41b0-cc1a-497c-d89f-75109e87dffa"
      },
      "outputs": [
        {
          "name": "stdout",
          "output_type": "stream",
          "text": [
            "\n",
            "Image Copying Verification:\n",
            "Successfully copied 336 images to the training set.\n",
            "Successfully copied 345 images to the validation set.\n",
            "Successfully copied 2611 images to the test set.\n",
            "Total images copied: 3292\n"
          ]
        }
      ],
      "source": [
        "print(\"\\nImage Copying Verification:\")\n",
        "print(f\"Successfully copied {train_count} images to the training set.\")\n",
        "print(f\"Successfully copied {val_count} images to the validation set.\")\n",
        "print(f\"Successfully copied {test_count} images to the test set.\")\n",
        "total_copied = train_count + val_count + test_count\n",
        "print(f\"Total images copied: {total_copied}\")"
      ]
    },
    {
      "cell_type": "code",
      "execution_count": 18,
      "metadata": {
        "id": "rLO_Fp-nO7Rf"
      },
      "outputs": [],
      "source": [
        "class_names = [name for _, name in sorted(category_mapping.items())]\n",
        "data_yaml_content = f\"\"\"\n",
        "train: {train_image_dir}\n",
        "val: {val_image_dir}\n",
        "test: {test_image_dir}\n",
        "nc: {len(class_names)}\n",
        "names: {class_names}\n",
        "\"\"\"\n",
        "with open(\"data.yaml\", 'w') as f:\n",
        "    f.write(data_yaml_content)"
      ]
    },
    {
      "cell_type": "markdown",
      "metadata": {},
      "source": [
        "### Model Import"
      ]
    },
    {
      "cell_type": "code",
      "execution_count": 19,
      "metadata": {
        "colab": {
          "base_uri": "https://localhost:8080/"
        },
        "id": "PZOP5srfPBsW",
        "outputId": "4b02efea-7e08-4b60-b53d-9cd0d33b923c"
      },
      "outputs": [
        {
          "name": "stdout",
          "output_type": "stream",
          "text": [
            "Ultralytics YOLOv8.2.103 🚀 Python-3.11.11 torch-2.5.1+cu124 CUDA:0 (Tesla T4, 15095MiB)\n",
            "Model summary (fused): 218 layers, 25,849,024 parameters, 0 gradients, 78.7 GFLOPs\n",
            "Downloading https://ultralytics.com/assets/Arial.ttf to '/root/.config/Ultralytics/Arial.ttf'...\n"
          ]
        },
        {
          "name": "stderr",
          "output_type": "stream",
          "text": [
            "100%|██████████| 755k/755k [00:00<00:00, 28.0MB/s]\n",
            "\u001b[34m\u001b[1mval: \u001b[0mScanning /content/datasets/my_custom_dataset/test/labels... 2611 images, 0 backgrounds, 39 corrupt: 100%|██████████| 2611/2611 [00:01<00:00, 2022.96it/s]"
          ]
        },
        {
          "name": "stdout",
          "output_type": "stream",
          "text": [
            "\u001b[34m\u001b[1mval: \u001b[0mWARNING ⚠️ /content/datasets/my_custom_dataset/test/images/5858bfcd-23d2-11e8-a6a3-ec086b02610b.jpg: ignoring corrupt image/label: non-normalized or out of bounds coordinates [       1.25        1.25]\n",
            "\u001b[34m\u001b[1mval: \u001b[0mWARNING ⚠️ /content/datasets/my_custom_dataset/test/images/5858c28b-23d2-11e8-a6a3-ec086b02610b.jpg: ignoring corrupt image/label: non-normalized or out of bounds coordinates [       1.25        1.25]\n",
            "\u001b[34m\u001b[1mval: \u001b[0mWARNING ⚠️ /content/datasets/my_custom_dataset/test/images/5860ef5d-23d2-11e8-a6a3-ec086b02610b.jpg: ignoring corrupt image/label: non-normalized or out of bounds coordinates [     1.1159]\n",
            "\u001b[34m\u001b[1mval: \u001b[0mWARNING ⚠️ /content/datasets/my_custom_dataset/test/images/5874d3b4-23d2-11e8-a6a3-ec086b02610b.jpg: ignoring corrupt image/label: non-normalized or out of bounds coordinates [     1.0885]\n",
            "\u001b[34m\u001b[1mval: \u001b[0mWARNING ⚠️ /content/datasets/my_custom_dataset/test/images/5874d409-23d2-11e8-a6a3-ec086b02610b.jpg: ignoring corrupt image/label: non-normalized or out of bounds coordinates [       1.25        1.25]\n",
            "\u001b[34m\u001b[1mval: \u001b[0mWARNING ⚠️ /content/datasets/my_custom_dataset/test/images/5874d6a8-23d2-11e8-a6a3-ec086b02610b.jpg: ignoring corrupt image/label: non-normalized or out of bounds coordinates [     1.1138]\n",
            "\u001b[34m\u001b[1mval: \u001b[0mWARNING ⚠️ /content/datasets/my_custom_dataset/test/images/5874d737-23d2-11e8-a6a3-ec086b02610b.jpg: ignoring corrupt image/label: non-normalized or out of bounds coordinates [       1.25        1.25]\n",
            "\u001b[34m\u001b[1mval: \u001b[0mWARNING ⚠️ /content/datasets/my_custom_dataset/test/images/5883e70e-23d2-11e8-a6a3-ec086b02610b.jpg: ignoring corrupt image/label: non-normalized or out of bounds coordinates [     1.1294]\n",
            "\u001b[34m\u001b[1mval: \u001b[0mWARNING ⚠️ /content/datasets/my_custom_dataset/test/images/5883e9df-23d2-11e8-a6a3-ec086b02610b.jpg: ignoring corrupt image/label: non-normalized or out of bounds coordinates [     1.1826]\n",
            "\u001b[34m\u001b[1mval: \u001b[0mWARNING ⚠️ /content/datasets/my_custom_dataset/test/images/5888bda6-23d2-11e8-a6a3-ec086b02610b.jpg: ignoring corrupt image/label: non-normalized or out of bounds coordinates [       1.25        1.25]\n",
            "\u001b[34m\u001b[1mval: \u001b[0mWARNING ⚠️ /content/datasets/my_custom_dataset/test/images/5888be64-23d2-11e8-a6a3-ec086b02610b.jpg: ignoring corrupt image/label: non-normalized or out of bounds coordinates [     1.0137]\n",
            "\u001b[34m\u001b[1mval: \u001b[0mWARNING ⚠️ /content/datasets/my_custom_dataset/test/images/5892b43c-23d2-11e8-a6a3-ec086b02610b.jpg: ignoring corrupt image/label: non-normalized or out of bounds coordinates [      1.104]\n",
            "\u001b[34m\u001b[1mval: \u001b[0mWARNING ⚠️ /content/datasets/my_custom_dataset/test/images/5900a253-23d2-11e8-a6a3-ec086b02610b.jpg: ignoring corrupt image/label: non-normalized or out of bounds coordinates [       1.25        1.25]\n",
            "\u001b[34m\u001b[1mval: \u001b[0mWARNING ⚠️ /content/datasets/my_custom_dataset/test/images/5903cc86-23d2-11e8-a6a3-ec086b02610b.jpg: ignoring corrupt image/label: non-normalized or out of bounds coordinates [     1.1372]\n",
            "\u001b[34m\u001b[1mval: \u001b[0mWARNING ⚠️ /content/datasets/my_custom_dataset/test/images/5906efd3-23d2-11e8-a6a3-ec086b02610b.jpg: ignoring corrupt image/label: non-normalized or out of bounds coordinates [       1.25        1.25]\n",
            "\u001b[34m\u001b[1mval: \u001b[0mWARNING ⚠️ /content/datasets/my_custom_dataset/test/images/5906f195-23d2-11e8-a6a3-ec086b02610b.jpg: ignoring corrupt image/label: non-normalized or out of bounds coordinates [       1.25        1.25]\n",
            "\u001b[34m\u001b[1mval: \u001b[0mWARNING ⚠️ /content/datasets/my_custom_dataset/test/images/5914ee02-23d2-11e8-a6a3-ec086b02610b.jpg: ignoring corrupt image/label: non-normalized or out of bounds coordinates [     1.1484]\n",
            "\u001b[34m\u001b[1mval: \u001b[0mWARNING ⚠️ /content/datasets/my_custom_dataset/test/images/5914ee4d-23d2-11e8-a6a3-ec086b02610b.jpg: ignoring corrupt image/label: non-normalized or out of bounds coordinates [       1.25        1.25]\n",
            "\u001b[34m\u001b[1mval: \u001b[0mWARNING ⚠️ /content/datasets/my_custom_dataset/test/images/5922ecf4-23d2-11e8-a6a3-ec086b02610b.jpg: ignoring corrupt image/label: non-normalized or out of bounds coordinates [     1.0103]\n",
            "\u001b[34m\u001b[1mval: \u001b[0mWARNING ⚠️ /content/datasets/my_custom_dataset/test/images/5922edad-23d2-11e8-a6a3-ec086b02610b.jpg: ignoring corrupt image/label: non-normalized or out of bounds coordinates [       1.25        1.25]\n",
            "\u001b[34m\u001b[1mval: \u001b[0mWARNING ⚠️ /content/datasets/my_custom_dataset/test/images/5938c04b-23d2-11e8-a6a3-ec086b02610b.jpg: ignoring corrupt image/label: non-normalized or out of bounds coordinates [       1.25        1.25]\n",
            "\u001b[34m\u001b[1mval: \u001b[0mWARNING ⚠️ /content/datasets/my_custom_dataset/test/images/5938c1a2-23d2-11e8-a6a3-ec086b02610b.jpg: ignoring corrupt image/label: non-normalized or out of bounds coordinates [       1.25        1.25]\n",
            "\u001b[34m\u001b[1mval: \u001b[0mWARNING ⚠️ /content/datasets/my_custom_dataset/test/images/5938c1d8-23d2-11e8-a6a3-ec086b02610b.jpg: ignoring corrupt image/label: non-normalized or out of bounds coordinates [       1.25        1.25]\n",
            "\u001b[34m\u001b[1mval: \u001b[0mWARNING ⚠️ /content/datasets/my_custom_dataset/test/images/5938c2ff-23d2-11e8-a6a3-ec086b02610b.jpg: ignoring corrupt image/label: non-normalized or out of bounds coordinates [       1.25        1.25]\n",
            "\u001b[34m\u001b[1mval: \u001b[0mWARNING ⚠️ /content/datasets/my_custom_dataset/test/images/5949cfca-23d2-11e8-a6a3-ec086b02610b.jpg: ignoring corrupt image/label: non-normalized or out of bounds coordinates [       1.25        1.25]\n",
            "\u001b[34m\u001b[1mval: \u001b[0mWARNING ⚠️ /content/datasets/my_custom_dataset/test/images/597feed1-23d2-11e8-a6a3-ec086b02610b.jpg: ignoring corrupt image/label: non-normalized or out of bounds coordinates [     1.0459]\n",
            "\u001b[34m\u001b[1mval: \u001b[0mWARNING ⚠️ /content/datasets/my_custom_dataset/test/images/598ad10d-23d2-11e8-a6a3-ec086b02610b.jpg: ignoring corrupt image/label: non-normalized or out of bounds coordinates [       1.25        1.25]\n",
            "\u001b[34m\u001b[1mval: \u001b[0mWARNING ⚠️ /content/datasets/my_custom_dataset/test/images/598c5b8e-23d2-11e8-a6a3-ec086b02610b.jpg: ignoring corrupt image/label: non-normalized or out of bounds coordinates [       1.25        1.25]\n",
            "\u001b[34m\u001b[1mval: \u001b[0mWARNING ⚠️ /content/datasets/my_custom_dataset/test/images/598c5c81-23d2-11e8-a6a3-ec086b02610b.jpg: ignoring corrupt image/label: non-normalized or out of bounds coordinates [       1.25        1.25]\n",
            "\u001b[34m\u001b[1mval: \u001b[0mWARNING ⚠️ /content/datasets/my_custom_dataset/test/images/598de9a9-23d2-11e8-a6a3-ec086b02610b.jpg: ignoring corrupt image/label: non-normalized or out of bounds coordinates [       1.25        1.25]\n",
            "\u001b[34m\u001b[1mval: \u001b[0mWARNING ⚠️ /content/datasets/my_custom_dataset/test/images/599a59d5-23d2-11e8-a6a3-ec086b02610b.jpg: ignoring corrupt image/label: non-normalized or out of bounds coordinates [       1.25        1.25]\n",
            "\u001b[34m\u001b[1mval: \u001b[0mWARNING ⚠️ /content/datasets/my_custom_dataset/test/images/599a5a3d-23d2-11e8-a6a3-ec086b02610b.jpg: ignoring corrupt image/label: non-normalized or out of bounds coordinates [       1.25        1.25]\n",
            "\u001b[34m\u001b[1mval: \u001b[0mWARNING ⚠️ /content/datasets/my_custom_dataset/test/images/599a5ade-23d2-11e8-a6a3-ec086b02610b.jpg: ignoring corrupt image/label: non-normalized or out of bounds coordinates [       1.25        1.25]\n",
            "\u001b[34m\u001b[1mval: \u001b[0mWARNING ⚠️ /content/datasets/my_custom_dataset/test/images/599a5b35-23d2-11e8-a6a3-ec086b02610b.jpg: ignoring corrupt image/label: non-normalized or out of bounds coordinates [       1.25        1.25]\n",
            "\u001b[34m\u001b[1mval: \u001b[0mWARNING ⚠️ /content/datasets/my_custom_dataset/test/images/599be8dc-23d2-11e8-a6a3-ec086b02610b.jpg: ignoring corrupt image/label: non-normalized or out of bounds coordinates [       1.25        1.25]\n",
            "\u001b[34m\u001b[1mval: \u001b[0mWARNING ⚠️ /content/datasets/my_custom_dataset/test/images/599d7b79-23d2-11e8-a6a3-ec086b02610b.jpg: ignoring corrupt image/label: non-normalized or out of bounds coordinates [       1.25        1.25]\n",
            "\u001b[34m\u001b[1mval: \u001b[0mWARNING ⚠️ /content/datasets/my_custom_dataset/test/images/599fbdde-23d2-11e8-a6a3-ec086b02610b.jpg: ignoring corrupt image/label: non-normalized or out of bounds coordinates [       1.25        1.25]\n",
            "\u001b[34m\u001b[1mval: \u001b[0mWARNING ⚠️ /content/datasets/my_custom_dataset/test/images/599fbedd-23d2-11e8-a6a3-ec086b02610b.jpg: ignoring corrupt image/label: non-normalized or out of bounds coordinates [       1.25        1.25]\n",
            "\u001b[34m\u001b[1mval: \u001b[0mWARNING ⚠️ /content/datasets/my_custom_dataset/test/images/599fbefc-23d2-11e8-a6a3-ec086b02610b.jpg: ignoring corrupt image/label: non-normalized or out of bounds coordinates [       1.25        1.25]\n"
          ]
        },
        {
          "name": "stderr",
          "output_type": "stream",
          "text": [
            "\n"
          ]
        },
        {
          "name": "stdout",
          "output_type": "stream",
          "text": [
            "\u001b[34m\u001b[1mval: \u001b[0mNew cache created: /content/datasets/my_custom_dataset/test/labels.cache\n"
          ]
        },
        {
          "name": "stderr",
          "output_type": "stream",
          "text": [
            "                 Class     Images  Instances      Box(P          R      mAP50  mAP50-95): 100%|██████████| 161/161 [01:55<00:00,  1.40it/s]\n"
          ]
        },
        {
          "name": "stdout",
          "output_type": "stream",
          "text": [
            "                   all       2572       2683       0.91      0.759      0.799       0.55\n",
            "               opossum          2          2          1          0     0.0934     0.0798\n",
            "               raccoon         59         83      0.746      0.651      0.686      0.422\n",
            "              squirrel        246        255      0.924      0.902      0.941      0.696\n",
            "                bobcat        130        130      0.969          1      0.991      0.892\n",
            "                 skunk        220        225      0.874      0.898      0.922      0.617\n",
            "                   dog        238        255       0.84      0.906       0.93      0.691\n",
            "                coyote          8          8          1      0.798      0.982      0.706\n",
            "                rabbit        135        153      0.855      0.902      0.921      0.651\n",
            "                   cat          1          1          1          0          0          0\n",
            "                badger        641        645      0.953      0.963      0.978      0.574\n",
            "                 empty        251        259      0.925        0.9      0.928      0.617\n",
            "                   car        436        456      0.909      0.976      0.966      0.692\n",
            "                  deer         25         25      0.904       0.84      0.894      0.467\n",
            "                   fox         43         44      0.881       0.84      0.889      0.615\n",
            "                rodent        142        142      0.865      0.817      0.871      0.523\n",
            "Speed: 0.7ms preprocess, 40.1ms inference, 0.0ms loss, 0.8ms postprocess per image\n",
            "Results saved to \u001b[1mruns/detect/val\u001b[0m\n",
            "ultralytics.utils.metrics.DetMetrics object with attributes:\n",
            "\n",
            "ap_class_index: array([ 0,  1,  2,  3,  4,  5,  6,  7,  9, 10, 11, 12, 13, 14, 15])\n",
            "box: ultralytics.utils.metrics.Metric object\n",
            "confusion_matrix: <ultralytics.utils.metrics.ConfusionMatrix object at 0x7a490e633b10>\n",
            "curves: ['Precision-Recall(B)', 'F1-Confidence(B)', 'Precision-Confidence(B)', 'Recall-Confidence(B)']\n",
            "curves_results: [[array([          0,    0.001001,    0.002002,    0.003003,    0.004004,    0.005005,    0.006006,    0.007007,    0.008008,    0.009009,     0.01001,    0.011011,    0.012012,    0.013013,    0.014014,    0.015015,    0.016016,    0.017017,    0.018018,    0.019019,     0.02002,    0.021021,    0.022022,    0.023023,\n",
            "          0.024024,    0.025025,    0.026026,    0.027027,    0.028028,    0.029029,     0.03003,    0.031031,    0.032032,    0.033033,    0.034034,    0.035035,    0.036036,    0.037037,    0.038038,    0.039039,     0.04004,    0.041041,    0.042042,    0.043043,    0.044044,    0.045045,    0.046046,    0.047047,\n",
            "          0.048048,    0.049049,     0.05005,    0.051051,    0.052052,    0.053053,    0.054054,    0.055055,    0.056056,    0.057057,    0.058058,    0.059059,     0.06006,    0.061061,    0.062062,    0.063063,    0.064064,    0.065065,    0.066066,    0.067067,    0.068068,    0.069069,     0.07007,    0.071071,\n",
            "          0.072072,    0.073073,    0.074074,    0.075075,    0.076076,    0.077077,    0.078078,    0.079079,     0.08008,    0.081081,    0.082082,    0.083083,    0.084084,    0.085085,    0.086086,    0.087087,    0.088088,    0.089089,     0.09009,    0.091091,    0.092092,    0.093093,    0.094094,    0.095095,\n",
            "          0.096096,    0.097097,    0.098098,    0.099099,      0.1001,      0.1011,      0.1021,      0.1031,      0.1041,     0.10511,     0.10611,     0.10711,     0.10811,     0.10911,     0.11011,     0.11111,     0.11211,     0.11311,     0.11411,     0.11512,     0.11612,     0.11712,     0.11812,     0.11912,\n",
            "           0.12012,     0.12112,     0.12212,     0.12312,     0.12412,     0.12513,     0.12613,     0.12713,     0.12813,     0.12913,     0.13013,     0.13113,     0.13213,     0.13313,     0.13413,     0.13514,     0.13614,     0.13714,     0.13814,     0.13914,     0.14014,     0.14114,     0.14214,     0.14314,\n",
            "           0.14414,     0.14515,     0.14615,     0.14715,     0.14815,     0.14915,     0.15015,     0.15115,     0.15215,     0.15315,     0.15415,     0.15516,     0.15616,     0.15716,     0.15816,     0.15916,     0.16016,     0.16116,     0.16216,     0.16316,     0.16416,     0.16517,     0.16617,     0.16717,\n",
            "           0.16817,     0.16917,     0.17017,     0.17117,     0.17217,     0.17317,     0.17417,     0.17518,     0.17618,     0.17718,     0.17818,     0.17918,     0.18018,     0.18118,     0.18218,     0.18318,     0.18418,     0.18519,     0.18619,     0.18719,     0.18819,     0.18919,     0.19019,     0.19119,\n",
            "           0.19219,     0.19319,     0.19419,      0.1952,      0.1962,      0.1972,      0.1982,      0.1992,      0.2002,      0.2012,      0.2022,      0.2032,      0.2042,     0.20521,     0.20621,     0.20721,     0.20821,     0.20921,     0.21021,     0.21121,     0.21221,     0.21321,     0.21421,     0.21522,\n",
            "           0.21622,     0.21722,     0.21822,     0.21922,     0.22022,     0.22122,     0.22222,     0.22322,     0.22422,     0.22523,     0.22623,     0.22723,     0.22823,     0.22923,     0.23023,     0.23123,     0.23223,     0.23323,     0.23423,     0.23524,     0.23624,     0.23724,     0.23824,     0.23924,\n",
            "           0.24024,     0.24124,     0.24224,     0.24324,     0.24424,     0.24525,     0.24625,     0.24725,     0.24825,     0.24925,     0.25025,     0.25125,     0.25225,     0.25325,     0.25425,     0.25526,     0.25626,     0.25726,     0.25826,     0.25926,     0.26026,     0.26126,     0.26226,     0.26326,\n",
            "           0.26426,     0.26527,     0.26627,     0.26727,     0.26827,     0.26927,     0.27027,     0.27127,     0.27227,     0.27327,     0.27427,     0.27528,     0.27628,     0.27728,     0.27828,     0.27928,     0.28028,     0.28128,     0.28228,     0.28328,     0.28428,     0.28529,     0.28629,     0.28729,\n",
            "           0.28829,     0.28929,     0.29029,     0.29129,     0.29229,     0.29329,     0.29429,      0.2953,      0.2963,      0.2973,      0.2983,      0.2993,      0.3003,      0.3013,      0.3023,      0.3033,      0.3043,     0.30531,     0.30631,     0.30731,     0.30831,     0.30931,     0.31031,     0.31131,\n",
            "           0.31231,     0.31331,     0.31431,     0.31532,     0.31632,     0.31732,     0.31832,     0.31932,     0.32032,     0.32132,     0.32232,     0.32332,     0.32432,     0.32533,     0.32633,     0.32733,     0.32833,     0.32933,     0.33033,     0.33133,     0.33233,     0.33333,     0.33433,     0.33534,\n",
            "           0.33634,     0.33734,     0.33834,     0.33934,     0.34034,     0.34134,     0.34234,     0.34334,     0.34434,     0.34535,     0.34635,     0.34735,     0.34835,     0.34935,     0.35035,     0.35135,     0.35235,     0.35335,     0.35435,     0.35536,     0.35636,     0.35736,     0.35836,     0.35936,\n",
            "           0.36036,     0.36136,     0.36236,     0.36336,     0.36436,     0.36537,     0.36637,     0.36737,     0.36837,     0.36937,     0.37037,     0.37137,     0.37237,     0.37337,     0.37437,     0.37538,     0.37638,     0.37738,     0.37838,     0.37938,     0.38038,     0.38138,     0.38238,     0.38338,\n",
            "           0.38438,     0.38539,     0.38639,     0.38739,     0.38839,     0.38939,     0.39039,     0.39139,     0.39239,     0.39339,     0.39439,      0.3954,      0.3964,      0.3974,      0.3984,      0.3994,      0.4004,      0.4014,      0.4024,      0.4034,      0.4044,     0.40541,     0.40641,     0.40741,\n",
            "           0.40841,     0.40941,     0.41041,     0.41141,     0.41241,     0.41341,     0.41441,     0.41542,     0.41642,     0.41742,     0.41842,     0.41942,     0.42042,     0.42142,     0.42242,     0.42342,     0.42442,     0.42543,     0.42643,     0.42743,     0.42843,     0.42943,     0.43043,     0.43143,\n",
            "           0.43243,     0.43343,     0.43443,     0.43544,     0.43644,     0.43744,     0.43844,     0.43944,     0.44044,     0.44144,     0.44244,     0.44344,     0.44444,     0.44545,     0.44645,     0.44745,     0.44845,     0.44945,     0.45045,     0.45145,     0.45245,     0.45345,     0.45445,     0.45546,\n",
            "           0.45646,     0.45746,     0.45846,     0.45946,     0.46046,     0.46146,     0.46246,     0.46346,     0.46446,     0.46547,     0.46647,     0.46747,     0.46847,     0.46947,     0.47047,     0.47147,     0.47247,     0.47347,     0.47447,     0.47548,     0.47648,     0.47748,     0.47848,     0.47948,\n",
            "           0.48048,     0.48148,     0.48248,     0.48348,     0.48448,     0.48549,     0.48649,     0.48749,     0.48849,     0.48949,     0.49049,     0.49149,     0.49249,     0.49349,     0.49449,      0.4955,      0.4965,      0.4975,      0.4985,      0.4995,      0.5005,      0.5015,      0.5025,      0.5035,\n",
            "            0.5045,     0.50551,     0.50651,     0.50751,     0.50851,     0.50951,     0.51051,     0.51151,     0.51251,     0.51351,     0.51451,     0.51552,     0.51652,     0.51752,     0.51852,     0.51952,     0.52052,     0.52152,     0.52252,     0.52352,     0.52452,     0.52553,     0.52653,     0.52753,\n",
            "           0.52853,     0.52953,     0.53053,     0.53153,     0.53253,     0.53353,     0.53453,     0.53554,     0.53654,     0.53754,     0.53854,     0.53954,     0.54054,     0.54154,     0.54254,     0.54354,     0.54454,     0.54555,     0.54655,     0.54755,     0.54855,     0.54955,     0.55055,     0.55155,\n",
            "           0.55255,     0.55355,     0.55455,     0.55556,     0.55656,     0.55756,     0.55856,     0.55956,     0.56056,     0.56156,     0.56256,     0.56356,     0.56456,     0.56557,     0.56657,     0.56757,     0.56857,     0.56957,     0.57057,     0.57157,     0.57257,     0.57357,     0.57457,     0.57558,\n",
            "           0.57658,     0.57758,     0.57858,     0.57958,     0.58058,     0.58158,     0.58258,     0.58358,     0.58458,     0.58559,     0.58659,     0.58759,     0.58859,     0.58959,     0.59059,     0.59159,     0.59259,     0.59359,     0.59459,      0.5956,      0.5966,      0.5976,      0.5986,      0.5996,\n",
            "            0.6006,      0.6016,      0.6026,      0.6036,      0.6046,     0.60561,     0.60661,     0.60761,     0.60861,     0.60961,     0.61061,     0.61161,     0.61261,     0.61361,     0.61461,     0.61562,     0.61662,     0.61762,     0.61862,     0.61962,     0.62062,     0.62162,     0.62262,     0.62362,\n",
            "           0.62462,     0.62563,     0.62663,     0.62763,     0.62863,     0.62963,     0.63063,     0.63163,     0.63263,     0.63363,     0.63463,     0.63564,     0.63664,     0.63764,     0.63864,     0.63964,     0.64064,     0.64164,     0.64264,     0.64364,     0.64464,     0.64565,     0.64665,     0.64765,\n",
            "           0.64865,     0.64965,     0.65065,     0.65165,     0.65265,     0.65365,     0.65465,     0.65566,     0.65666,     0.65766,     0.65866,     0.65966,     0.66066,     0.66166,     0.66266,     0.66366,     0.66466,     0.66567,     0.66667,     0.66767,     0.66867,     0.66967,     0.67067,     0.67167,\n",
            "           0.67267,     0.67367,     0.67467,     0.67568,     0.67668,     0.67768,     0.67868,     0.67968,     0.68068,     0.68168,     0.68268,     0.68368,     0.68468,     0.68569,     0.68669,     0.68769,     0.68869,     0.68969,     0.69069,     0.69169,     0.69269,     0.69369,     0.69469,      0.6957,\n",
            "            0.6967,      0.6977,      0.6987,      0.6997,      0.7007,      0.7017,      0.7027,      0.7037,      0.7047,     0.70571,     0.70671,     0.70771,     0.70871,     0.70971,     0.71071,     0.71171,     0.71271,     0.71371,     0.71471,     0.71572,     0.71672,     0.71772,     0.71872,     0.71972,\n",
            "           0.72072,     0.72172,     0.72272,     0.72372,     0.72472,     0.72573,     0.72673,     0.72773,     0.72873,     0.72973,     0.73073,     0.73173,     0.73273,     0.73373,     0.73473,     0.73574,     0.73674,     0.73774,     0.73874,     0.73974,     0.74074,     0.74174,     0.74274,     0.74374,\n",
            "           0.74474,     0.74575,     0.74675,     0.74775,     0.74875,     0.74975,     0.75075,     0.75175,     0.75275,     0.75375,     0.75475,     0.75576,     0.75676,     0.75776,     0.75876,     0.75976,     0.76076,     0.76176,     0.76276,     0.76376,     0.76476,     0.76577,     0.76677,     0.76777,\n",
            "           0.76877,     0.76977,     0.77077,     0.77177,     0.77277,     0.77377,     0.77477,     0.77578,     0.77678,     0.77778,     0.77878,     0.77978,     0.78078,     0.78178,     0.78278,     0.78378,     0.78478,     0.78579,     0.78679,     0.78779,     0.78879,     0.78979,     0.79079,     0.79179,\n",
            "           0.79279,     0.79379,     0.79479,      0.7958,      0.7968,      0.7978,      0.7988,      0.7998,      0.8008,      0.8018,      0.8028,      0.8038,      0.8048,     0.80581,     0.80681,     0.80781,     0.80881,     0.80981,     0.81081,     0.81181,     0.81281,     0.81381,     0.81481,     0.81582,\n",
            "           0.81682,     0.81782,     0.81882,     0.81982,     0.82082,     0.82182,     0.82282,     0.82382,     0.82482,     0.82583,     0.82683,     0.82783,     0.82883,     0.82983,     0.83083,     0.83183,     0.83283,     0.83383,     0.83483,     0.83584,     0.83684,     0.83784,     0.83884,     0.83984,\n",
            "           0.84084,     0.84184,     0.84284,     0.84384,     0.84484,     0.84585,     0.84685,     0.84785,     0.84885,     0.84985,     0.85085,     0.85185,     0.85285,     0.85385,     0.85485,     0.85586,     0.85686,     0.85786,     0.85886,     0.85986,     0.86086,     0.86186,     0.86286,     0.86386,\n",
            "           0.86486,     0.86587,     0.86687,     0.86787,     0.86887,     0.86987,     0.87087,     0.87187,     0.87287,     0.87387,     0.87487,     0.87588,     0.87688,     0.87788,     0.87888,     0.87988,     0.88088,     0.88188,     0.88288,     0.88388,     0.88488,     0.88589,     0.88689,     0.88789,\n",
            "           0.88889,     0.88989,     0.89089,     0.89189,     0.89289,     0.89389,     0.89489,      0.8959,      0.8969,      0.8979,      0.8989,      0.8999,      0.9009,      0.9019,      0.9029,      0.9039,      0.9049,     0.90591,     0.90691,     0.90791,     0.90891,     0.90991,     0.91091,     0.91191,\n",
            "           0.91291,     0.91391,     0.91491,     0.91592,     0.91692,     0.91792,     0.91892,     0.91992,     0.92092,     0.92192,     0.92292,     0.92392,     0.92492,     0.92593,     0.92693,     0.92793,     0.92893,     0.92993,     0.93093,     0.93193,     0.93293,     0.93393,     0.93493,     0.93594,\n",
            "           0.93694,     0.93794,     0.93894,     0.93994,     0.94094,     0.94194,     0.94294,     0.94394,     0.94494,     0.94595,     0.94695,     0.94795,     0.94895,     0.94995,     0.95095,     0.95195,     0.95295,     0.95395,     0.95495,     0.95596,     0.95696,     0.95796,     0.95896,     0.95996,\n",
            "           0.96096,     0.96196,     0.96296,     0.96396,     0.96496,     0.96597,     0.96697,     0.96797,     0.96897,     0.96997,     0.97097,     0.97197,     0.97297,     0.97397,     0.97497,     0.97598,     0.97698,     0.97798,     0.97898,     0.97998,     0.98098,     0.98198,     0.98298,     0.98398,\n",
            "           0.98498,     0.98599,     0.98699,     0.98799,     0.98899,     0.98999,     0.99099,     0.99199,     0.99299,     0.99399,     0.99499,       0.996,       0.997,       0.998,       0.999,           1]), array([[    0.14286,     0.14286,     0.14286, ...,    0.045455,    0.045455,           0],\n",
            "       [          1,           1,           1, ...,  0.00069092,  0.00034546,           0],\n",
            "       [          1,           1,           1, ...,    0.020652,    0.010326,           0],\n",
            "       ...,\n",
            "       [          1,           1,           1, ...,      0.0078,      0.0039,           0],\n",
            "       [          1,           1,           1, ...,   0.0037675,   0.0018838,           0],\n",
            "       [          1,           1,           1, ...,   0.0037995,   0.0018997,           0]]), 'Recall', 'Precision'], [array([          0,    0.001001,    0.002002,    0.003003,    0.004004,    0.005005,    0.006006,    0.007007,    0.008008,    0.009009,     0.01001,    0.011011,    0.012012,    0.013013,    0.014014,    0.015015,    0.016016,    0.017017,    0.018018,    0.019019,     0.02002,    0.021021,    0.022022,    0.023023,\n",
            "          0.024024,    0.025025,    0.026026,    0.027027,    0.028028,    0.029029,     0.03003,    0.031031,    0.032032,    0.033033,    0.034034,    0.035035,    0.036036,    0.037037,    0.038038,    0.039039,     0.04004,    0.041041,    0.042042,    0.043043,    0.044044,    0.045045,    0.046046,    0.047047,\n",
            "          0.048048,    0.049049,     0.05005,    0.051051,    0.052052,    0.053053,    0.054054,    0.055055,    0.056056,    0.057057,    0.058058,    0.059059,     0.06006,    0.061061,    0.062062,    0.063063,    0.064064,    0.065065,    0.066066,    0.067067,    0.068068,    0.069069,     0.07007,    0.071071,\n",
            "          0.072072,    0.073073,    0.074074,    0.075075,    0.076076,    0.077077,    0.078078,    0.079079,     0.08008,    0.081081,    0.082082,    0.083083,    0.084084,    0.085085,    0.086086,    0.087087,    0.088088,    0.089089,     0.09009,    0.091091,    0.092092,    0.093093,    0.094094,    0.095095,\n",
            "          0.096096,    0.097097,    0.098098,    0.099099,      0.1001,      0.1011,      0.1021,      0.1031,      0.1041,     0.10511,     0.10611,     0.10711,     0.10811,     0.10911,     0.11011,     0.11111,     0.11211,     0.11311,     0.11411,     0.11512,     0.11612,     0.11712,     0.11812,     0.11912,\n",
            "           0.12012,     0.12112,     0.12212,     0.12312,     0.12412,     0.12513,     0.12613,     0.12713,     0.12813,     0.12913,     0.13013,     0.13113,     0.13213,     0.13313,     0.13413,     0.13514,     0.13614,     0.13714,     0.13814,     0.13914,     0.14014,     0.14114,     0.14214,     0.14314,\n",
            "           0.14414,     0.14515,     0.14615,     0.14715,     0.14815,     0.14915,     0.15015,     0.15115,     0.15215,     0.15315,     0.15415,     0.15516,     0.15616,     0.15716,     0.15816,     0.15916,     0.16016,     0.16116,     0.16216,     0.16316,     0.16416,     0.16517,     0.16617,     0.16717,\n",
            "           0.16817,     0.16917,     0.17017,     0.17117,     0.17217,     0.17317,     0.17417,     0.17518,     0.17618,     0.17718,     0.17818,     0.17918,     0.18018,     0.18118,     0.18218,     0.18318,     0.18418,     0.18519,     0.18619,     0.18719,     0.18819,     0.18919,     0.19019,     0.19119,\n",
            "           0.19219,     0.19319,     0.19419,      0.1952,      0.1962,      0.1972,      0.1982,      0.1992,      0.2002,      0.2012,      0.2022,      0.2032,      0.2042,     0.20521,     0.20621,     0.20721,     0.20821,     0.20921,     0.21021,     0.21121,     0.21221,     0.21321,     0.21421,     0.21522,\n",
            "           0.21622,     0.21722,     0.21822,     0.21922,     0.22022,     0.22122,     0.22222,     0.22322,     0.22422,     0.22523,     0.22623,     0.22723,     0.22823,     0.22923,     0.23023,     0.23123,     0.23223,     0.23323,     0.23423,     0.23524,     0.23624,     0.23724,     0.23824,     0.23924,\n",
            "           0.24024,     0.24124,     0.24224,     0.24324,     0.24424,     0.24525,     0.24625,     0.24725,     0.24825,     0.24925,     0.25025,     0.25125,     0.25225,     0.25325,     0.25425,     0.25526,     0.25626,     0.25726,     0.25826,     0.25926,     0.26026,     0.26126,     0.26226,     0.26326,\n",
            "           0.26426,     0.26527,     0.26627,     0.26727,     0.26827,     0.26927,     0.27027,     0.27127,     0.27227,     0.27327,     0.27427,     0.27528,     0.27628,     0.27728,     0.27828,     0.27928,     0.28028,     0.28128,     0.28228,     0.28328,     0.28428,     0.28529,     0.28629,     0.28729,\n",
            "           0.28829,     0.28929,     0.29029,     0.29129,     0.29229,     0.29329,     0.29429,      0.2953,      0.2963,      0.2973,      0.2983,      0.2993,      0.3003,      0.3013,      0.3023,      0.3033,      0.3043,     0.30531,     0.30631,     0.30731,     0.30831,     0.30931,     0.31031,     0.31131,\n",
            "           0.31231,     0.31331,     0.31431,     0.31532,     0.31632,     0.31732,     0.31832,     0.31932,     0.32032,     0.32132,     0.32232,     0.32332,     0.32432,     0.32533,     0.32633,     0.32733,     0.32833,     0.32933,     0.33033,     0.33133,     0.33233,     0.33333,     0.33433,     0.33534,\n",
            "           0.33634,     0.33734,     0.33834,     0.33934,     0.34034,     0.34134,     0.34234,     0.34334,     0.34434,     0.34535,     0.34635,     0.34735,     0.34835,     0.34935,     0.35035,     0.35135,     0.35235,     0.35335,     0.35435,     0.35536,     0.35636,     0.35736,     0.35836,     0.35936,\n",
            "           0.36036,     0.36136,     0.36236,     0.36336,     0.36436,     0.36537,     0.36637,     0.36737,     0.36837,     0.36937,     0.37037,     0.37137,     0.37237,     0.37337,     0.37437,     0.37538,     0.37638,     0.37738,     0.37838,     0.37938,     0.38038,     0.38138,     0.38238,     0.38338,\n",
            "           0.38438,     0.38539,     0.38639,     0.38739,     0.38839,     0.38939,     0.39039,     0.39139,     0.39239,     0.39339,     0.39439,      0.3954,      0.3964,      0.3974,      0.3984,      0.3994,      0.4004,      0.4014,      0.4024,      0.4034,      0.4044,     0.40541,     0.40641,     0.40741,\n",
            "           0.40841,     0.40941,     0.41041,     0.41141,     0.41241,     0.41341,     0.41441,     0.41542,     0.41642,     0.41742,     0.41842,     0.41942,     0.42042,     0.42142,     0.42242,     0.42342,     0.42442,     0.42543,     0.42643,     0.42743,     0.42843,     0.42943,     0.43043,     0.43143,\n",
            "           0.43243,     0.43343,     0.43443,     0.43544,     0.43644,     0.43744,     0.43844,     0.43944,     0.44044,     0.44144,     0.44244,     0.44344,     0.44444,     0.44545,     0.44645,     0.44745,     0.44845,     0.44945,     0.45045,     0.45145,     0.45245,     0.45345,     0.45445,     0.45546,\n",
            "           0.45646,     0.45746,     0.45846,     0.45946,     0.46046,     0.46146,     0.46246,     0.46346,     0.46446,     0.46547,     0.46647,     0.46747,     0.46847,     0.46947,     0.47047,     0.47147,     0.47247,     0.47347,     0.47447,     0.47548,     0.47648,     0.47748,     0.47848,     0.47948,\n",
            "           0.48048,     0.48148,     0.48248,     0.48348,     0.48448,     0.48549,     0.48649,     0.48749,     0.48849,     0.48949,     0.49049,     0.49149,     0.49249,     0.49349,     0.49449,      0.4955,      0.4965,      0.4975,      0.4985,      0.4995,      0.5005,      0.5015,      0.5025,      0.5035,\n",
            "            0.5045,     0.50551,     0.50651,     0.50751,     0.50851,     0.50951,     0.51051,     0.51151,     0.51251,     0.51351,     0.51451,     0.51552,     0.51652,     0.51752,     0.51852,     0.51952,     0.52052,     0.52152,     0.52252,     0.52352,     0.52452,     0.52553,     0.52653,     0.52753,\n",
            "           0.52853,     0.52953,     0.53053,     0.53153,     0.53253,     0.53353,     0.53453,     0.53554,     0.53654,     0.53754,     0.53854,     0.53954,     0.54054,     0.54154,     0.54254,     0.54354,     0.54454,     0.54555,     0.54655,     0.54755,     0.54855,     0.54955,     0.55055,     0.55155,\n",
            "           0.55255,     0.55355,     0.55455,     0.55556,     0.55656,     0.55756,     0.55856,     0.55956,     0.56056,     0.56156,     0.56256,     0.56356,     0.56456,     0.56557,     0.56657,     0.56757,     0.56857,     0.56957,     0.57057,     0.57157,     0.57257,     0.57357,     0.57457,     0.57558,\n",
            "           0.57658,     0.57758,     0.57858,     0.57958,     0.58058,     0.58158,     0.58258,     0.58358,     0.58458,     0.58559,     0.58659,     0.58759,     0.58859,     0.58959,     0.59059,     0.59159,     0.59259,     0.59359,     0.59459,      0.5956,      0.5966,      0.5976,      0.5986,      0.5996,\n",
            "            0.6006,      0.6016,      0.6026,      0.6036,      0.6046,     0.60561,     0.60661,     0.60761,     0.60861,     0.60961,     0.61061,     0.61161,     0.61261,     0.61361,     0.61461,     0.61562,     0.61662,     0.61762,     0.61862,     0.61962,     0.62062,     0.62162,     0.62262,     0.62362,\n",
            "           0.62462,     0.62563,     0.62663,     0.62763,     0.62863,     0.62963,     0.63063,     0.63163,     0.63263,     0.63363,     0.63463,     0.63564,     0.63664,     0.63764,     0.63864,     0.63964,     0.64064,     0.64164,     0.64264,     0.64364,     0.64464,     0.64565,     0.64665,     0.64765,\n",
            "           0.64865,     0.64965,     0.65065,     0.65165,     0.65265,     0.65365,     0.65465,     0.65566,     0.65666,     0.65766,     0.65866,     0.65966,     0.66066,     0.66166,     0.66266,     0.66366,     0.66466,     0.66567,     0.66667,     0.66767,     0.66867,     0.66967,     0.67067,     0.67167,\n",
            "           0.67267,     0.67367,     0.67467,     0.67568,     0.67668,     0.67768,     0.67868,     0.67968,     0.68068,     0.68168,     0.68268,     0.68368,     0.68468,     0.68569,     0.68669,     0.68769,     0.68869,     0.68969,     0.69069,     0.69169,     0.69269,     0.69369,     0.69469,      0.6957,\n",
            "            0.6967,      0.6977,      0.6987,      0.6997,      0.7007,      0.7017,      0.7027,      0.7037,      0.7047,     0.70571,     0.70671,     0.70771,     0.70871,     0.70971,     0.71071,     0.71171,     0.71271,     0.71371,     0.71471,     0.71572,     0.71672,     0.71772,     0.71872,     0.71972,\n",
            "           0.72072,     0.72172,     0.72272,     0.72372,     0.72472,     0.72573,     0.72673,     0.72773,     0.72873,     0.72973,     0.73073,     0.73173,     0.73273,     0.73373,     0.73473,     0.73574,     0.73674,     0.73774,     0.73874,     0.73974,     0.74074,     0.74174,     0.74274,     0.74374,\n",
            "           0.74474,     0.74575,     0.74675,     0.74775,     0.74875,     0.74975,     0.75075,     0.75175,     0.75275,     0.75375,     0.75475,     0.75576,     0.75676,     0.75776,     0.75876,     0.75976,     0.76076,     0.76176,     0.76276,     0.76376,     0.76476,     0.76577,     0.76677,     0.76777,\n",
            "           0.76877,     0.76977,     0.77077,     0.77177,     0.77277,     0.77377,     0.77477,     0.77578,     0.77678,     0.77778,     0.77878,     0.77978,     0.78078,     0.78178,     0.78278,     0.78378,     0.78478,     0.78579,     0.78679,     0.78779,     0.78879,     0.78979,     0.79079,     0.79179,\n",
            "           0.79279,     0.79379,     0.79479,      0.7958,      0.7968,      0.7978,      0.7988,      0.7998,      0.8008,      0.8018,      0.8028,      0.8038,      0.8048,     0.80581,     0.80681,     0.80781,     0.80881,     0.80981,     0.81081,     0.81181,     0.81281,     0.81381,     0.81481,     0.81582,\n",
            "           0.81682,     0.81782,     0.81882,     0.81982,     0.82082,     0.82182,     0.82282,     0.82382,     0.82482,     0.82583,     0.82683,     0.82783,     0.82883,     0.82983,     0.83083,     0.83183,     0.83283,     0.83383,     0.83483,     0.83584,     0.83684,     0.83784,     0.83884,     0.83984,\n",
            "           0.84084,     0.84184,     0.84284,     0.84384,     0.84484,     0.84585,     0.84685,     0.84785,     0.84885,     0.84985,     0.85085,     0.85185,     0.85285,     0.85385,     0.85485,     0.85586,     0.85686,     0.85786,     0.85886,     0.85986,     0.86086,     0.86186,     0.86286,     0.86386,\n",
            "           0.86486,     0.86587,     0.86687,     0.86787,     0.86887,     0.86987,     0.87087,     0.87187,     0.87287,     0.87387,     0.87487,     0.87588,     0.87688,     0.87788,     0.87888,     0.87988,     0.88088,     0.88188,     0.88288,     0.88388,     0.88488,     0.88589,     0.88689,     0.88789,\n",
            "           0.88889,     0.88989,     0.89089,     0.89189,     0.89289,     0.89389,     0.89489,      0.8959,      0.8969,      0.8979,      0.8989,      0.8999,      0.9009,      0.9019,      0.9029,      0.9039,      0.9049,     0.90591,     0.90691,     0.90791,     0.90891,     0.90991,     0.91091,     0.91191,\n",
            "           0.91291,     0.91391,     0.91491,     0.91592,     0.91692,     0.91792,     0.91892,     0.91992,     0.92092,     0.92192,     0.92292,     0.92392,     0.92492,     0.92593,     0.92693,     0.92793,     0.92893,     0.92993,     0.93093,     0.93193,     0.93293,     0.93393,     0.93493,     0.93594,\n",
            "           0.93694,     0.93794,     0.93894,     0.93994,     0.94094,     0.94194,     0.94294,     0.94394,     0.94494,     0.94595,     0.94695,     0.94795,     0.94895,     0.94995,     0.95095,     0.95195,     0.95295,     0.95395,     0.95495,     0.95596,     0.95696,     0.95796,     0.95896,     0.95996,\n",
            "           0.96096,     0.96196,     0.96296,     0.96396,     0.96496,     0.96597,     0.96697,     0.96797,     0.96897,     0.96997,     0.97097,     0.97197,     0.97297,     0.97397,     0.97497,     0.97598,     0.97698,     0.97798,     0.97898,     0.97998,     0.98098,     0.98198,     0.98298,     0.98398,\n",
            "           0.98498,     0.98599,     0.98699,     0.98799,     0.98899,     0.98999,     0.99099,     0.99199,     0.99299,     0.99399,     0.99499,       0.996,       0.997,       0.998,       0.999,           1]), array([[   0.017241,    0.017243,     0.03426, ...,           0,           0,           0],\n",
            "       [     0.1016,      0.1016,     0.16147, ...,           0,           0,           0],\n",
            "       [    0.33535,      0.3356,     0.43202, ...,           0,           0,           0],\n",
            "       ...,\n",
            "       [    0.26816,     0.26816,     0.36662, ...,           0,           0,           0],\n",
            "       [    0.15701,     0.15701,     0.20312, ...,           0,           0,           0],\n",
            "       [    0.17035,     0.17035,     0.25222, ...,           0,           0,           0]]), 'Confidence', 'F1'], [array([          0,    0.001001,    0.002002,    0.003003,    0.004004,    0.005005,    0.006006,    0.007007,    0.008008,    0.009009,     0.01001,    0.011011,    0.012012,    0.013013,    0.014014,    0.015015,    0.016016,    0.017017,    0.018018,    0.019019,     0.02002,    0.021021,    0.022022,    0.023023,\n",
            "          0.024024,    0.025025,    0.026026,    0.027027,    0.028028,    0.029029,     0.03003,    0.031031,    0.032032,    0.033033,    0.034034,    0.035035,    0.036036,    0.037037,    0.038038,    0.039039,     0.04004,    0.041041,    0.042042,    0.043043,    0.044044,    0.045045,    0.046046,    0.047047,\n",
            "          0.048048,    0.049049,     0.05005,    0.051051,    0.052052,    0.053053,    0.054054,    0.055055,    0.056056,    0.057057,    0.058058,    0.059059,     0.06006,    0.061061,    0.062062,    0.063063,    0.064064,    0.065065,    0.066066,    0.067067,    0.068068,    0.069069,     0.07007,    0.071071,\n",
            "          0.072072,    0.073073,    0.074074,    0.075075,    0.076076,    0.077077,    0.078078,    0.079079,     0.08008,    0.081081,    0.082082,    0.083083,    0.084084,    0.085085,    0.086086,    0.087087,    0.088088,    0.089089,     0.09009,    0.091091,    0.092092,    0.093093,    0.094094,    0.095095,\n",
            "          0.096096,    0.097097,    0.098098,    0.099099,      0.1001,      0.1011,      0.1021,      0.1031,      0.1041,     0.10511,     0.10611,     0.10711,     0.10811,     0.10911,     0.11011,     0.11111,     0.11211,     0.11311,     0.11411,     0.11512,     0.11612,     0.11712,     0.11812,     0.11912,\n",
            "           0.12012,     0.12112,     0.12212,     0.12312,     0.12412,     0.12513,     0.12613,     0.12713,     0.12813,     0.12913,     0.13013,     0.13113,     0.13213,     0.13313,     0.13413,     0.13514,     0.13614,     0.13714,     0.13814,     0.13914,     0.14014,     0.14114,     0.14214,     0.14314,\n",
            "           0.14414,     0.14515,     0.14615,     0.14715,     0.14815,     0.14915,     0.15015,     0.15115,     0.15215,     0.15315,     0.15415,     0.15516,     0.15616,     0.15716,     0.15816,     0.15916,     0.16016,     0.16116,     0.16216,     0.16316,     0.16416,     0.16517,     0.16617,     0.16717,\n",
            "           0.16817,     0.16917,     0.17017,     0.17117,     0.17217,     0.17317,     0.17417,     0.17518,     0.17618,     0.17718,     0.17818,     0.17918,     0.18018,     0.18118,     0.18218,     0.18318,     0.18418,     0.18519,     0.18619,     0.18719,     0.18819,     0.18919,     0.19019,     0.19119,\n",
            "           0.19219,     0.19319,     0.19419,      0.1952,      0.1962,      0.1972,      0.1982,      0.1992,      0.2002,      0.2012,      0.2022,      0.2032,      0.2042,     0.20521,     0.20621,     0.20721,     0.20821,     0.20921,     0.21021,     0.21121,     0.21221,     0.21321,     0.21421,     0.21522,\n",
            "           0.21622,     0.21722,     0.21822,     0.21922,     0.22022,     0.22122,     0.22222,     0.22322,     0.22422,     0.22523,     0.22623,     0.22723,     0.22823,     0.22923,     0.23023,     0.23123,     0.23223,     0.23323,     0.23423,     0.23524,     0.23624,     0.23724,     0.23824,     0.23924,\n",
            "           0.24024,     0.24124,     0.24224,     0.24324,     0.24424,     0.24525,     0.24625,     0.24725,     0.24825,     0.24925,     0.25025,     0.25125,     0.25225,     0.25325,     0.25425,     0.25526,     0.25626,     0.25726,     0.25826,     0.25926,     0.26026,     0.26126,     0.26226,     0.26326,\n",
            "           0.26426,     0.26527,     0.26627,     0.26727,     0.26827,     0.26927,     0.27027,     0.27127,     0.27227,     0.27327,     0.27427,     0.27528,     0.27628,     0.27728,     0.27828,     0.27928,     0.28028,     0.28128,     0.28228,     0.28328,     0.28428,     0.28529,     0.28629,     0.28729,\n",
            "           0.28829,     0.28929,     0.29029,     0.29129,     0.29229,     0.29329,     0.29429,      0.2953,      0.2963,      0.2973,      0.2983,      0.2993,      0.3003,      0.3013,      0.3023,      0.3033,      0.3043,     0.30531,     0.30631,     0.30731,     0.30831,     0.30931,     0.31031,     0.31131,\n",
            "           0.31231,     0.31331,     0.31431,     0.31532,     0.31632,     0.31732,     0.31832,     0.31932,     0.32032,     0.32132,     0.32232,     0.32332,     0.32432,     0.32533,     0.32633,     0.32733,     0.32833,     0.32933,     0.33033,     0.33133,     0.33233,     0.33333,     0.33433,     0.33534,\n",
            "           0.33634,     0.33734,     0.33834,     0.33934,     0.34034,     0.34134,     0.34234,     0.34334,     0.34434,     0.34535,     0.34635,     0.34735,     0.34835,     0.34935,     0.35035,     0.35135,     0.35235,     0.35335,     0.35435,     0.35536,     0.35636,     0.35736,     0.35836,     0.35936,\n",
            "           0.36036,     0.36136,     0.36236,     0.36336,     0.36436,     0.36537,     0.36637,     0.36737,     0.36837,     0.36937,     0.37037,     0.37137,     0.37237,     0.37337,     0.37437,     0.37538,     0.37638,     0.37738,     0.37838,     0.37938,     0.38038,     0.38138,     0.38238,     0.38338,\n",
            "           0.38438,     0.38539,     0.38639,     0.38739,     0.38839,     0.38939,     0.39039,     0.39139,     0.39239,     0.39339,     0.39439,      0.3954,      0.3964,      0.3974,      0.3984,      0.3994,      0.4004,      0.4014,      0.4024,      0.4034,      0.4044,     0.40541,     0.40641,     0.40741,\n",
            "           0.40841,     0.40941,     0.41041,     0.41141,     0.41241,     0.41341,     0.41441,     0.41542,     0.41642,     0.41742,     0.41842,     0.41942,     0.42042,     0.42142,     0.42242,     0.42342,     0.42442,     0.42543,     0.42643,     0.42743,     0.42843,     0.42943,     0.43043,     0.43143,\n",
            "           0.43243,     0.43343,     0.43443,     0.43544,     0.43644,     0.43744,     0.43844,     0.43944,     0.44044,     0.44144,     0.44244,     0.44344,     0.44444,     0.44545,     0.44645,     0.44745,     0.44845,     0.44945,     0.45045,     0.45145,     0.45245,     0.45345,     0.45445,     0.45546,\n",
            "           0.45646,     0.45746,     0.45846,     0.45946,     0.46046,     0.46146,     0.46246,     0.46346,     0.46446,     0.46547,     0.46647,     0.46747,     0.46847,     0.46947,     0.47047,     0.47147,     0.47247,     0.47347,     0.47447,     0.47548,     0.47648,     0.47748,     0.47848,     0.47948,\n",
            "           0.48048,     0.48148,     0.48248,     0.48348,     0.48448,     0.48549,     0.48649,     0.48749,     0.48849,     0.48949,     0.49049,     0.49149,     0.49249,     0.49349,     0.49449,      0.4955,      0.4965,      0.4975,      0.4985,      0.4995,      0.5005,      0.5015,      0.5025,      0.5035,\n",
            "            0.5045,     0.50551,     0.50651,     0.50751,     0.50851,     0.50951,     0.51051,     0.51151,     0.51251,     0.51351,     0.51451,     0.51552,     0.51652,     0.51752,     0.51852,     0.51952,     0.52052,     0.52152,     0.52252,     0.52352,     0.52452,     0.52553,     0.52653,     0.52753,\n",
            "           0.52853,     0.52953,     0.53053,     0.53153,     0.53253,     0.53353,     0.53453,     0.53554,     0.53654,     0.53754,     0.53854,     0.53954,     0.54054,     0.54154,     0.54254,     0.54354,     0.54454,     0.54555,     0.54655,     0.54755,     0.54855,     0.54955,     0.55055,     0.55155,\n",
            "           0.55255,     0.55355,     0.55455,     0.55556,     0.55656,     0.55756,     0.55856,     0.55956,     0.56056,     0.56156,     0.56256,     0.56356,     0.56456,     0.56557,     0.56657,     0.56757,     0.56857,     0.56957,     0.57057,     0.57157,     0.57257,     0.57357,     0.57457,     0.57558,\n",
            "           0.57658,     0.57758,     0.57858,     0.57958,     0.58058,     0.58158,     0.58258,     0.58358,     0.58458,     0.58559,     0.58659,     0.58759,     0.58859,     0.58959,     0.59059,     0.59159,     0.59259,     0.59359,     0.59459,      0.5956,      0.5966,      0.5976,      0.5986,      0.5996,\n",
            "            0.6006,      0.6016,      0.6026,      0.6036,      0.6046,     0.60561,     0.60661,     0.60761,     0.60861,     0.60961,     0.61061,     0.61161,     0.61261,     0.61361,     0.61461,     0.61562,     0.61662,     0.61762,     0.61862,     0.61962,     0.62062,     0.62162,     0.62262,     0.62362,\n",
            "           0.62462,     0.62563,     0.62663,     0.62763,     0.62863,     0.62963,     0.63063,     0.63163,     0.63263,     0.63363,     0.63463,     0.63564,     0.63664,     0.63764,     0.63864,     0.63964,     0.64064,     0.64164,     0.64264,     0.64364,     0.64464,     0.64565,     0.64665,     0.64765,\n",
            "           0.64865,     0.64965,     0.65065,     0.65165,     0.65265,     0.65365,     0.65465,     0.65566,     0.65666,     0.65766,     0.65866,     0.65966,     0.66066,     0.66166,     0.66266,     0.66366,     0.66466,     0.66567,     0.66667,     0.66767,     0.66867,     0.66967,     0.67067,     0.67167,\n",
            "           0.67267,     0.67367,     0.67467,     0.67568,     0.67668,     0.67768,     0.67868,     0.67968,     0.68068,     0.68168,     0.68268,     0.68368,     0.68468,     0.68569,     0.68669,     0.68769,     0.68869,     0.68969,     0.69069,     0.69169,     0.69269,     0.69369,     0.69469,      0.6957,\n",
            "            0.6967,      0.6977,      0.6987,      0.6997,      0.7007,      0.7017,      0.7027,      0.7037,      0.7047,     0.70571,     0.70671,     0.70771,     0.70871,     0.70971,     0.71071,     0.71171,     0.71271,     0.71371,     0.71471,     0.71572,     0.71672,     0.71772,     0.71872,     0.71972,\n",
            "           0.72072,     0.72172,     0.72272,     0.72372,     0.72472,     0.72573,     0.72673,     0.72773,     0.72873,     0.72973,     0.73073,     0.73173,     0.73273,     0.73373,     0.73473,     0.73574,     0.73674,     0.73774,     0.73874,     0.73974,     0.74074,     0.74174,     0.74274,     0.74374,\n",
            "           0.74474,     0.74575,     0.74675,     0.74775,     0.74875,     0.74975,     0.75075,     0.75175,     0.75275,     0.75375,     0.75475,     0.75576,     0.75676,     0.75776,     0.75876,     0.75976,     0.76076,     0.76176,     0.76276,     0.76376,     0.76476,     0.76577,     0.76677,     0.76777,\n",
            "           0.76877,     0.76977,     0.77077,     0.77177,     0.77277,     0.77377,     0.77477,     0.77578,     0.77678,     0.77778,     0.77878,     0.77978,     0.78078,     0.78178,     0.78278,     0.78378,     0.78478,     0.78579,     0.78679,     0.78779,     0.78879,     0.78979,     0.79079,     0.79179,\n",
            "           0.79279,     0.79379,     0.79479,      0.7958,      0.7968,      0.7978,      0.7988,      0.7998,      0.8008,      0.8018,      0.8028,      0.8038,      0.8048,     0.80581,     0.80681,     0.80781,     0.80881,     0.80981,     0.81081,     0.81181,     0.81281,     0.81381,     0.81481,     0.81582,\n",
            "           0.81682,     0.81782,     0.81882,     0.81982,     0.82082,     0.82182,     0.82282,     0.82382,     0.82482,     0.82583,     0.82683,     0.82783,     0.82883,     0.82983,     0.83083,     0.83183,     0.83283,     0.83383,     0.83483,     0.83584,     0.83684,     0.83784,     0.83884,     0.83984,\n",
            "           0.84084,     0.84184,     0.84284,     0.84384,     0.84484,     0.84585,     0.84685,     0.84785,     0.84885,     0.84985,     0.85085,     0.85185,     0.85285,     0.85385,     0.85485,     0.85586,     0.85686,     0.85786,     0.85886,     0.85986,     0.86086,     0.86186,     0.86286,     0.86386,\n",
            "           0.86486,     0.86587,     0.86687,     0.86787,     0.86887,     0.86987,     0.87087,     0.87187,     0.87287,     0.87387,     0.87487,     0.87588,     0.87688,     0.87788,     0.87888,     0.87988,     0.88088,     0.88188,     0.88288,     0.88388,     0.88488,     0.88589,     0.88689,     0.88789,\n",
            "           0.88889,     0.88989,     0.89089,     0.89189,     0.89289,     0.89389,     0.89489,      0.8959,      0.8969,      0.8979,      0.8989,      0.8999,      0.9009,      0.9019,      0.9029,      0.9039,      0.9049,     0.90591,     0.90691,     0.90791,     0.90891,     0.90991,     0.91091,     0.91191,\n",
            "           0.91291,     0.91391,     0.91491,     0.91592,     0.91692,     0.91792,     0.91892,     0.91992,     0.92092,     0.92192,     0.92292,     0.92392,     0.92492,     0.92593,     0.92693,     0.92793,     0.92893,     0.92993,     0.93093,     0.93193,     0.93293,     0.93393,     0.93493,     0.93594,\n",
            "           0.93694,     0.93794,     0.93894,     0.93994,     0.94094,     0.94194,     0.94294,     0.94394,     0.94494,     0.94595,     0.94695,     0.94795,     0.94895,     0.94995,     0.95095,     0.95195,     0.95295,     0.95395,     0.95495,     0.95596,     0.95696,     0.95796,     0.95896,     0.95996,\n",
            "           0.96096,     0.96196,     0.96296,     0.96396,     0.96496,     0.96597,     0.96697,     0.96797,     0.96897,     0.96997,     0.97097,     0.97197,     0.97297,     0.97397,     0.97497,     0.97598,     0.97698,     0.97798,     0.97898,     0.97998,     0.98098,     0.98198,     0.98298,     0.98398,\n",
            "           0.98498,     0.98599,     0.98699,     0.98799,     0.98899,     0.98999,     0.99099,     0.99199,     0.99299,     0.99399,     0.99499,       0.996,       0.997,       0.998,       0.999,           1]), array([[  0.0086957,   0.0086965,    0.017429, ...,           1,           1,           1],\n",
            "       [   0.054054,    0.054054,    0.089281, ...,           1,           1,           1],\n",
            "       [    0.20227,     0.20245,     0.27705, ...,           1,           1,           1],\n",
            "       ...,\n",
            "       [    0.15584,     0.15584,     0.22658, ...,           1,           1,           1],\n",
            "       [    0.08554,     0.08554,     0.11398, ...,           1,           1,           1],\n",
            "       [   0.093555,    0.093555,      0.1459, ...,           1,           1,           1]]), 'Confidence', 'Precision'], [array([          0,    0.001001,    0.002002,    0.003003,    0.004004,    0.005005,    0.006006,    0.007007,    0.008008,    0.009009,     0.01001,    0.011011,    0.012012,    0.013013,    0.014014,    0.015015,    0.016016,    0.017017,    0.018018,    0.019019,     0.02002,    0.021021,    0.022022,    0.023023,\n",
            "          0.024024,    0.025025,    0.026026,    0.027027,    0.028028,    0.029029,     0.03003,    0.031031,    0.032032,    0.033033,    0.034034,    0.035035,    0.036036,    0.037037,    0.038038,    0.039039,     0.04004,    0.041041,    0.042042,    0.043043,    0.044044,    0.045045,    0.046046,    0.047047,\n",
            "          0.048048,    0.049049,     0.05005,    0.051051,    0.052052,    0.053053,    0.054054,    0.055055,    0.056056,    0.057057,    0.058058,    0.059059,     0.06006,    0.061061,    0.062062,    0.063063,    0.064064,    0.065065,    0.066066,    0.067067,    0.068068,    0.069069,     0.07007,    0.071071,\n",
            "          0.072072,    0.073073,    0.074074,    0.075075,    0.076076,    0.077077,    0.078078,    0.079079,     0.08008,    0.081081,    0.082082,    0.083083,    0.084084,    0.085085,    0.086086,    0.087087,    0.088088,    0.089089,     0.09009,    0.091091,    0.092092,    0.093093,    0.094094,    0.095095,\n",
            "          0.096096,    0.097097,    0.098098,    0.099099,      0.1001,      0.1011,      0.1021,      0.1031,      0.1041,     0.10511,     0.10611,     0.10711,     0.10811,     0.10911,     0.11011,     0.11111,     0.11211,     0.11311,     0.11411,     0.11512,     0.11612,     0.11712,     0.11812,     0.11912,\n",
            "           0.12012,     0.12112,     0.12212,     0.12312,     0.12412,     0.12513,     0.12613,     0.12713,     0.12813,     0.12913,     0.13013,     0.13113,     0.13213,     0.13313,     0.13413,     0.13514,     0.13614,     0.13714,     0.13814,     0.13914,     0.14014,     0.14114,     0.14214,     0.14314,\n",
            "           0.14414,     0.14515,     0.14615,     0.14715,     0.14815,     0.14915,     0.15015,     0.15115,     0.15215,     0.15315,     0.15415,     0.15516,     0.15616,     0.15716,     0.15816,     0.15916,     0.16016,     0.16116,     0.16216,     0.16316,     0.16416,     0.16517,     0.16617,     0.16717,\n",
            "           0.16817,     0.16917,     0.17017,     0.17117,     0.17217,     0.17317,     0.17417,     0.17518,     0.17618,     0.17718,     0.17818,     0.17918,     0.18018,     0.18118,     0.18218,     0.18318,     0.18418,     0.18519,     0.18619,     0.18719,     0.18819,     0.18919,     0.19019,     0.19119,\n",
            "           0.19219,     0.19319,     0.19419,      0.1952,      0.1962,      0.1972,      0.1982,      0.1992,      0.2002,      0.2012,      0.2022,      0.2032,      0.2042,     0.20521,     0.20621,     0.20721,     0.20821,     0.20921,     0.21021,     0.21121,     0.21221,     0.21321,     0.21421,     0.21522,\n",
            "           0.21622,     0.21722,     0.21822,     0.21922,     0.22022,     0.22122,     0.22222,     0.22322,     0.22422,     0.22523,     0.22623,     0.22723,     0.22823,     0.22923,     0.23023,     0.23123,     0.23223,     0.23323,     0.23423,     0.23524,     0.23624,     0.23724,     0.23824,     0.23924,\n",
            "           0.24024,     0.24124,     0.24224,     0.24324,     0.24424,     0.24525,     0.24625,     0.24725,     0.24825,     0.24925,     0.25025,     0.25125,     0.25225,     0.25325,     0.25425,     0.25526,     0.25626,     0.25726,     0.25826,     0.25926,     0.26026,     0.26126,     0.26226,     0.26326,\n",
            "           0.26426,     0.26527,     0.26627,     0.26727,     0.26827,     0.26927,     0.27027,     0.27127,     0.27227,     0.27327,     0.27427,     0.27528,     0.27628,     0.27728,     0.27828,     0.27928,     0.28028,     0.28128,     0.28228,     0.28328,     0.28428,     0.28529,     0.28629,     0.28729,\n",
            "           0.28829,     0.28929,     0.29029,     0.29129,     0.29229,     0.29329,     0.29429,      0.2953,      0.2963,      0.2973,      0.2983,      0.2993,      0.3003,      0.3013,      0.3023,      0.3033,      0.3043,     0.30531,     0.30631,     0.30731,     0.30831,     0.30931,     0.31031,     0.31131,\n",
            "           0.31231,     0.31331,     0.31431,     0.31532,     0.31632,     0.31732,     0.31832,     0.31932,     0.32032,     0.32132,     0.32232,     0.32332,     0.32432,     0.32533,     0.32633,     0.32733,     0.32833,     0.32933,     0.33033,     0.33133,     0.33233,     0.33333,     0.33433,     0.33534,\n",
            "           0.33634,     0.33734,     0.33834,     0.33934,     0.34034,     0.34134,     0.34234,     0.34334,     0.34434,     0.34535,     0.34635,     0.34735,     0.34835,     0.34935,     0.35035,     0.35135,     0.35235,     0.35335,     0.35435,     0.35536,     0.35636,     0.35736,     0.35836,     0.35936,\n",
            "           0.36036,     0.36136,     0.36236,     0.36336,     0.36436,     0.36537,     0.36637,     0.36737,     0.36837,     0.36937,     0.37037,     0.37137,     0.37237,     0.37337,     0.37437,     0.37538,     0.37638,     0.37738,     0.37838,     0.37938,     0.38038,     0.38138,     0.38238,     0.38338,\n",
            "           0.38438,     0.38539,     0.38639,     0.38739,     0.38839,     0.38939,     0.39039,     0.39139,     0.39239,     0.39339,     0.39439,      0.3954,      0.3964,      0.3974,      0.3984,      0.3994,      0.4004,      0.4014,      0.4024,      0.4034,      0.4044,     0.40541,     0.40641,     0.40741,\n",
            "           0.40841,     0.40941,     0.41041,     0.41141,     0.41241,     0.41341,     0.41441,     0.41542,     0.41642,     0.41742,     0.41842,     0.41942,     0.42042,     0.42142,     0.42242,     0.42342,     0.42442,     0.42543,     0.42643,     0.42743,     0.42843,     0.42943,     0.43043,     0.43143,\n",
            "           0.43243,     0.43343,     0.43443,     0.43544,     0.43644,     0.43744,     0.43844,     0.43944,     0.44044,     0.44144,     0.44244,     0.44344,     0.44444,     0.44545,     0.44645,     0.44745,     0.44845,     0.44945,     0.45045,     0.45145,     0.45245,     0.45345,     0.45445,     0.45546,\n",
            "           0.45646,     0.45746,     0.45846,     0.45946,     0.46046,     0.46146,     0.46246,     0.46346,     0.46446,     0.46547,     0.46647,     0.46747,     0.46847,     0.46947,     0.47047,     0.47147,     0.47247,     0.47347,     0.47447,     0.47548,     0.47648,     0.47748,     0.47848,     0.47948,\n",
            "           0.48048,     0.48148,     0.48248,     0.48348,     0.48448,     0.48549,     0.48649,     0.48749,     0.48849,     0.48949,     0.49049,     0.49149,     0.49249,     0.49349,     0.49449,      0.4955,      0.4965,      0.4975,      0.4985,      0.4995,      0.5005,      0.5015,      0.5025,      0.5035,\n",
            "            0.5045,     0.50551,     0.50651,     0.50751,     0.50851,     0.50951,     0.51051,     0.51151,     0.51251,     0.51351,     0.51451,     0.51552,     0.51652,     0.51752,     0.51852,     0.51952,     0.52052,     0.52152,     0.52252,     0.52352,     0.52452,     0.52553,     0.52653,     0.52753,\n",
            "           0.52853,     0.52953,     0.53053,     0.53153,     0.53253,     0.53353,     0.53453,     0.53554,     0.53654,     0.53754,     0.53854,     0.53954,     0.54054,     0.54154,     0.54254,     0.54354,     0.54454,     0.54555,     0.54655,     0.54755,     0.54855,     0.54955,     0.55055,     0.55155,\n",
            "           0.55255,     0.55355,     0.55455,     0.55556,     0.55656,     0.55756,     0.55856,     0.55956,     0.56056,     0.56156,     0.56256,     0.56356,     0.56456,     0.56557,     0.56657,     0.56757,     0.56857,     0.56957,     0.57057,     0.57157,     0.57257,     0.57357,     0.57457,     0.57558,\n",
            "           0.57658,     0.57758,     0.57858,     0.57958,     0.58058,     0.58158,     0.58258,     0.58358,     0.58458,     0.58559,     0.58659,     0.58759,     0.58859,     0.58959,     0.59059,     0.59159,     0.59259,     0.59359,     0.59459,      0.5956,      0.5966,      0.5976,      0.5986,      0.5996,\n",
            "            0.6006,      0.6016,      0.6026,      0.6036,      0.6046,     0.60561,     0.60661,     0.60761,     0.60861,     0.60961,     0.61061,     0.61161,     0.61261,     0.61361,     0.61461,     0.61562,     0.61662,     0.61762,     0.61862,     0.61962,     0.62062,     0.62162,     0.62262,     0.62362,\n",
            "           0.62462,     0.62563,     0.62663,     0.62763,     0.62863,     0.62963,     0.63063,     0.63163,     0.63263,     0.63363,     0.63463,     0.63564,     0.63664,     0.63764,     0.63864,     0.63964,     0.64064,     0.64164,     0.64264,     0.64364,     0.64464,     0.64565,     0.64665,     0.64765,\n",
            "           0.64865,     0.64965,     0.65065,     0.65165,     0.65265,     0.65365,     0.65465,     0.65566,     0.65666,     0.65766,     0.65866,     0.65966,     0.66066,     0.66166,     0.66266,     0.66366,     0.66466,     0.66567,     0.66667,     0.66767,     0.66867,     0.66967,     0.67067,     0.67167,\n",
            "           0.67267,     0.67367,     0.67467,     0.67568,     0.67668,     0.67768,     0.67868,     0.67968,     0.68068,     0.68168,     0.68268,     0.68368,     0.68468,     0.68569,     0.68669,     0.68769,     0.68869,     0.68969,     0.69069,     0.69169,     0.69269,     0.69369,     0.69469,      0.6957,\n",
            "            0.6967,      0.6977,      0.6987,      0.6997,      0.7007,      0.7017,      0.7027,      0.7037,      0.7047,     0.70571,     0.70671,     0.70771,     0.70871,     0.70971,     0.71071,     0.71171,     0.71271,     0.71371,     0.71471,     0.71572,     0.71672,     0.71772,     0.71872,     0.71972,\n",
            "           0.72072,     0.72172,     0.72272,     0.72372,     0.72472,     0.72573,     0.72673,     0.72773,     0.72873,     0.72973,     0.73073,     0.73173,     0.73273,     0.73373,     0.73473,     0.73574,     0.73674,     0.73774,     0.73874,     0.73974,     0.74074,     0.74174,     0.74274,     0.74374,\n",
            "           0.74474,     0.74575,     0.74675,     0.74775,     0.74875,     0.74975,     0.75075,     0.75175,     0.75275,     0.75375,     0.75475,     0.75576,     0.75676,     0.75776,     0.75876,     0.75976,     0.76076,     0.76176,     0.76276,     0.76376,     0.76476,     0.76577,     0.76677,     0.76777,\n",
            "           0.76877,     0.76977,     0.77077,     0.77177,     0.77277,     0.77377,     0.77477,     0.77578,     0.77678,     0.77778,     0.77878,     0.77978,     0.78078,     0.78178,     0.78278,     0.78378,     0.78478,     0.78579,     0.78679,     0.78779,     0.78879,     0.78979,     0.79079,     0.79179,\n",
            "           0.79279,     0.79379,     0.79479,      0.7958,      0.7968,      0.7978,      0.7988,      0.7998,      0.8008,      0.8018,      0.8028,      0.8038,      0.8048,     0.80581,     0.80681,     0.80781,     0.80881,     0.80981,     0.81081,     0.81181,     0.81281,     0.81381,     0.81481,     0.81582,\n",
            "           0.81682,     0.81782,     0.81882,     0.81982,     0.82082,     0.82182,     0.82282,     0.82382,     0.82482,     0.82583,     0.82683,     0.82783,     0.82883,     0.82983,     0.83083,     0.83183,     0.83283,     0.83383,     0.83483,     0.83584,     0.83684,     0.83784,     0.83884,     0.83984,\n",
            "           0.84084,     0.84184,     0.84284,     0.84384,     0.84484,     0.84585,     0.84685,     0.84785,     0.84885,     0.84985,     0.85085,     0.85185,     0.85285,     0.85385,     0.85485,     0.85586,     0.85686,     0.85786,     0.85886,     0.85986,     0.86086,     0.86186,     0.86286,     0.86386,\n",
            "           0.86486,     0.86587,     0.86687,     0.86787,     0.86887,     0.86987,     0.87087,     0.87187,     0.87287,     0.87387,     0.87487,     0.87588,     0.87688,     0.87788,     0.87888,     0.87988,     0.88088,     0.88188,     0.88288,     0.88388,     0.88488,     0.88589,     0.88689,     0.88789,\n",
            "           0.88889,     0.88989,     0.89089,     0.89189,     0.89289,     0.89389,     0.89489,      0.8959,      0.8969,      0.8979,      0.8989,      0.8999,      0.9009,      0.9019,      0.9029,      0.9039,      0.9049,     0.90591,     0.90691,     0.90791,     0.90891,     0.90991,     0.91091,     0.91191,\n",
            "           0.91291,     0.91391,     0.91491,     0.91592,     0.91692,     0.91792,     0.91892,     0.91992,     0.92092,     0.92192,     0.92292,     0.92392,     0.92492,     0.92593,     0.92693,     0.92793,     0.92893,     0.92993,     0.93093,     0.93193,     0.93293,     0.93393,     0.93493,     0.93594,\n",
            "           0.93694,     0.93794,     0.93894,     0.93994,     0.94094,     0.94194,     0.94294,     0.94394,     0.94494,     0.94595,     0.94695,     0.94795,     0.94895,     0.94995,     0.95095,     0.95195,     0.95295,     0.95395,     0.95495,     0.95596,     0.95696,     0.95796,     0.95896,     0.95996,\n",
            "           0.96096,     0.96196,     0.96296,     0.96396,     0.96496,     0.96597,     0.96697,     0.96797,     0.96897,     0.96997,     0.97097,     0.97197,     0.97297,     0.97397,     0.97497,     0.97598,     0.97698,     0.97798,     0.97898,     0.97998,     0.98098,     0.98198,     0.98298,     0.98398,\n",
            "           0.98498,     0.98599,     0.98699,     0.98799,     0.98899,     0.98999,     0.99099,     0.99199,     0.99299,     0.99399,     0.99499,       0.996,       0.997,       0.998,       0.999,           1]), array([[          1,           1,           1, ...,           0,           0,           0],\n",
            "       [    0.84337,     0.84337,     0.84337, ...,           0,           0,           0],\n",
            "       [    0.98039,     0.98039,     0.98039, ...,           0,           0,           0],\n",
            "       ...,\n",
            "       [       0.96,        0.96,        0.96, ...,           0,           0,           0],\n",
            "       [    0.95455,     0.95455,     0.93182, ...,           0,           0,           0],\n",
            "       [     0.9507,      0.9507,     0.92958, ...,           0,           0,           0]]), 'Confidence', 'Recall']]\n",
            "fitness: 0.5745652567491668\n",
            "keys: ['metrics/precision(B)', 'metrics/recall(B)', 'metrics/mAP50(B)', 'metrics/mAP50-95(B)']\n",
            "maps: array([   0.079774,     0.42215,     0.69571,     0.89234,     0.61674,     0.69148,     0.70601,     0.65102,     0.54957,           0,     0.57388,     0.61745,     0.69183,     0.46699,     0.61479,     0.52345])\n",
            "names: {0: 'opossum', 1: 'raccoon', 2: 'squirrel', 3: 'bobcat', 4: 'skunk', 5: 'dog', 6: 'coyote', 7: 'rabbit', 8: 'bird', 9: 'cat', 10: 'badger', 11: 'empty', 12: 'car', 13: 'deer', 14: 'fox', 15: 'rodent'}\n",
            "plot: True\n",
            "results_dict: {'metrics/precision(B)': 0.9095177430341181, 'metrics/recall(B)': 0.7594436607447205, 'metrics/mAP50(B)': 0.7994885120295118, 'metrics/mAP50-95(B)': 0.5495737839402396, 'fitness': 0.5745652567491668}\n",
            "save_dir: PosixPath('runs/detect/val')\n",
            "speed: {'preprocess': 0.6562947856137764, 'inference': 40.10579402487534, 'loss': 0.0006046673372781851, 'postprocess': 0.8194090604411314}\n",
            "task: 'detect'\n"
          ]
        }
      ],
      "source": [
        "model = YOLO(r\"/content/drive/My Drive/cct20/cct20/my_yolo_project/train22/weights/best.pt\")  # Use the correct path to best.pt\n",
        "results = model.val(split=\"test\")\n",
        "print(results)"
      ]
    },
    {
      "cell_type": "markdown",
      "metadata": {},
      "source": [
        "### Testing"
      ]
    },
    {
      "cell_type": "code",
      "execution_count": null,
      "metadata": {
        "colab": {
          "base_uri": "https://localhost:8080/",
          "height": 564
        },
        "id": "R-ds41jxPv3m",
        "outputId": "20b9538a-d924-46a8-8aee-f27f9068ed8e"
      },
      "outputs": [
        {
          "data": {
            "image/png": "[encoded data removed]",
            "text/plain": [
              "<Figure size 1000x600 with 1 Axes>"
            ]
          },
          "metadata": {},
          "output_type": "display_data"
        }
      ],
      "source": [
        "training_run_dir = r\"/content/drive/My Drive/cct20/cct20/my_yolo_project/train22\"\n",
        "\n",
        "results_csv_path = os.path.join(training_run_dir, \"results.csv\")\n",
        "\n",
        "if not os.path.exists(results_csv_path):\n",
        "    raise FileNotFoundError(f\"results.csv file not found at: {results_csv_path}. \"\n",
        "                            f\"Make sure you provided the correct training run directory.\")\n",
        "\n",
        "try:\n",
        "    results_df = pd.read_csv(results_csv_path)\n",
        "except Exception as e:\n",
        "    raise FileNotFoundError(f\"Error reading results.csv: {e}. Check for file corruption.\")\n",
        "\n",
        "# Remove column spaces\n",
        "results_df.columns = results_df.columns.str.strip()\n",
        "\n",
        "plt.figure(figsize=(10, 6))\n",
        "\n",
        "plt.plot(results_df['epoch'], results_df['train/box_loss'], label='Train Box Loss', color='blue')\n",
        "\n",
        "if 'val/box_loss' in results_df.columns:\n",
        "    plt.plot(results_df['epoch'], results_df['val/box_loss'], label='Validation Box Loss', color='red')\n",
        "\n",
        "plt.xlabel('Epoch')\n",
        "plt.ylabel('Box Loss')\n",
        "plt.title('Box Loss vs. Epoch')\n",
        "plt.legend()\n",
        "plt.grid(True)\n",
        "plt.show()"
      ]
    },
    {
      "cell_type": "code",
      "execution_count": null,
      "metadata": {
        "colab": {
          "base_uri": "https://localhost:8080/",
          "height": 1000
        },
        "id": "rDOQzLnCP0pr",
        "outputId": "fab46c44-55af-4237-a47f-39a4a72b5f02"
      },
      "outputs": [
        {
          "name": "stdout",
          "output_type": "stream",
          "text": [
            "Ultralytics YOLOv8.2.103 🚀 Python-3.11.11 torch-2.5.1+cu124 CUDA:0 (Tesla T4, 15095MiB)\n",
            "Model summary (fused): 218 layers, 25,849,024 parameters, 0 gradients, 78.7 GFLOPs\n"
          ]
        },
        {
          "name": "stderr",
          "output_type": "stream",
          "text": [
            "\u001b[34m\u001b[1mval: \u001b[0mScanning /content/datasets/my_custom_dataset/test/labels.cache... 2611 images, 0 backgrounds, 39 corrupt: 100%|██████████| 2611/2611 [00:00<?, ?it/s]"
          ]
        },
        {
          "name": "stdout",
          "output_type": "stream",
          "text": [
            "\u001b[34m\u001b[1mval: \u001b[0mWARNING ⚠️ /content/datasets/my_custom_dataset/test/images/5858bfcd-23d2-11e8-a6a3-ec086b02610b.jpg: ignoring corrupt image/label: non-normalized or out of bounds coordinates [       1.25        1.25]\n",
            "\u001b[34m\u001b[1mval: \u001b[0mWARNING ⚠️ /content/datasets/my_custom_dataset/test/images/5858c28b-23d2-11e8-a6a3-ec086b02610b.jpg: ignoring corrupt image/label: non-normalized or out of bounds coordinates [       1.25        1.25]\n",
            "\u001b[34m\u001b[1mval: \u001b[0mWARNING ⚠️ /content/datasets/my_custom_dataset/test/images/5860ef5d-23d2-11e8-a6a3-ec086b02610b.jpg: ignoring corrupt image/label: non-normalized or out of bounds coordinates [     1.1159]\n",
            "\u001b[34m\u001b[1mval: \u001b[0mWARNING ⚠️ /content/datasets/my_custom_dataset/test/images/5874d3b4-23d2-11e8-a6a3-ec086b02610b.jpg: ignoring corrupt image/label: non-normalized or out of bounds coordinates [     1.0885]\n",
            "\u001b[34m\u001b[1mval: \u001b[0mWARNING ⚠️ /content/datasets/my_custom_dataset/test/images/5874d409-23d2-11e8-a6a3-ec086b02610b.jpg: ignoring corrupt image/label: non-normalized or out of bounds coordinates [       1.25        1.25]\n",
            "\u001b[34m\u001b[1mval: \u001b[0mWARNING ⚠️ /content/datasets/my_custom_dataset/test/images/5874d6a8-23d2-11e8-a6a3-ec086b02610b.jpg: ignoring corrupt image/label: non-normalized or out of bounds coordinates [     1.1138]\n",
            "\u001b[34m\u001b[1mval: \u001b[0mWARNING ⚠️ /content/datasets/my_custom_dataset/test/images/5874d737-23d2-11e8-a6a3-ec086b02610b.jpg: ignoring corrupt image/label: non-normalized or out of bounds coordinates [       1.25        1.25]\n",
            "\u001b[34m\u001b[1mval: \u001b[0mWARNING ⚠️ /content/datasets/my_custom_dataset/test/images/5883e70e-23d2-11e8-a6a3-ec086b02610b.jpg: ignoring corrupt image/label: non-normalized or out of bounds coordinates [     1.1294]\n",
            "\u001b[34m\u001b[1mval: \u001b[0mWARNING ⚠️ /content/datasets/my_custom_dataset/test/images/5883e9df-23d2-11e8-a6a3-ec086b02610b.jpg: ignoring corrupt image/label: non-normalized or out of bounds coordinates [     1.1826]\n",
            "\u001b[34m\u001b[1mval: \u001b[0mWARNING ⚠️ /content/datasets/my_custom_dataset/test/images/5888bda6-23d2-11e8-a6a3-ec086b02610b.jpg: ignoring corrupt image/label: non-normalized or out of bounds coordinates [       1.25        1.25]\n",
            "\u001b[34m\u001b[1mval: \u001b[0mWARNING ⚠️ /content/datasets/my_custom_dataset/test/images/5888be64-23d2-11e8-a6a3-ec086b02610b.jpg: ignoring corrupt image/label: non-normalized or out of bounds coordinates [     1.0137]\n",
            "\u001b[34m\u001b[1mval: \u001b[0mWARNING ⚠️ /content/datasets/my_custom_dataset/test/images/5892b43c-23d2-11e8-a6a3-ec086b02610b.jpg: ignoring corrupt image/label: non-normalized or out of bounds coordinates [      1.104]\n",
            "\u001b[34m\u001b[1mval: \u001b[0mWARNING ⚠️ /content/datasets/my_custom_dataset/test/images/5900a253-23d2-11e8-a6a3-ec086b02610b.jpg: ignoring corrupt image/label: non-normalized or out of bounds coordinates [       1.25        1.25]\n",
            "\u001b[34m\u001b[1mval: \u001b[0mWARNING ⚠️ /content/datasets/my_custom_dataset/test/images/5903cc86-23d2-11e8-a6a3-ec086b02610b.jpg: ignoring corrupt image/label: non-normalized or out of bounds coordinates [     1.1372]\n",
            "\u001b[34m\u001b[1mval: \u001b[0mWARNING ⚠️ /content/datasets/my_custom_dataset/test/images/5906efd3-23d2-11e8-a6a3-ec086b02610b.jpg: ignoring corrupt image/label: non-normalized or out of bounds coordinates [       1.25        1.25]\n",
            "\u001b[34m\u001b[1mval: \u001b[0mWARNING ⚠️ /content/datasets/my_custom_dataset/test/images/5906f195-23d2-11e8-a6a3-ec086b02610b.jpg: ignoring corrupt image/label: non-normalized or out of bounds coordinates [       1.25        1.25]\n",
            "\u001b[34m\u001b[1mval: \u001b[0mWARNING ⚠️ /content/datasets/my_custom_dataset/test/images/5914ee02-23d2-11e8-a6a3-ec086b02610b.jpg: ignoring corrupt image/label: non-normalized or out of bounds coordinates [     1.1484]\n",
            "\u001b[34m\u001b[1mval: \u001b[0mWARNING ⚠️ /content/datasets/my_custom_dataset/test/images/5914ee4d-23d2-11e8-a6a3-ec086b02610b.jpg: ignoring corrupt image/label: non-normalized or out of bounds coordinates [       1.25        1.25]\n",
            "\u001b[34m\u001b[1mval: \u001b[0mWARNING ⚠️ /content/datasets/my_custom_dataset/test/images/5922ecf4-23d2-11e8-a6a3-ec086b02610b.jpg: ignoring corrupt image/label: non-normalized or out of bounds coordinates [     1.0103]\n",
            "\u001b[34m\u001b[1mval: \u001b[0mWARNING ⚠️ /content/datasets/my_custom_dataset/test/images/5922edad-23d2-11e8-a6a3-ec086b02610b.jpg: ignoring corrupt image/label: non-normalized or out of bounds coordinates [       1.25        1.25]\n",
            "\u001b[34m\u001b[1mval: \u001b[0mWARNING ⚠️ /content/datasets/my_custom_dataset/test/images/5938c04b-23d2-11e8-a6a3-ec086b02610b.jpg: ignoring corrupt image/label: non-normalized or out of bounds coordinates [       1.25        1.25]\n",
            "\u001b[34m\u001b[1mval: \u001b[0mWARNING ⚠️ /content/datasets/my_custom_dataset/test/images/5938c1a2-23d2-11e8-a6a3-ec086b02610b.jpg: ignoring corrupt image/label: non-normalized or out of bounds coordinates [       1.25        1.25]\n",
            "\u001b[34m\u001b[1mval: \u001b[0mWARNING ⚠️ /content/datasets/my_custom_dataset/test/images/5938c1d8-23d2-11e8-a6a3-ec086b02610b.jpg: ignoring corrupt image/label: non-normalized or out of bounds coordinates [       1.25        1.25]\n",
            "\u001b[34m\u001b[1mval: \u001b[0mWARNING ⚠️ /content/datasets/my_custom_dataset/test/images/5938c2ff-23d2-11e8-a6a3-ec086b02610b.jpg: ignoring corrupt image/label: non-normalized or out of bounds coordinates [       1.25        1.25]\n",
            "\u001b[34m\u001b[1mval: \u001b[0mWARNING ⚠️ /content/datasets/my_custom_dataset/test/images/5949cfca-23d2-11e8-a6a3-ec086b02610b.jpg: ignoring corrupt image/label: non-normalized or out of bounds coordinates [       1.25        1.25]\n",
            "\u001b[34m\u001b[1mval: \u001b[0mWARNING ⚠️ /content/datasets/my_custom_dataset/test/images/597feed1-23d2-11e8-a6a3-ec086b02610b.jpg: ignoring corrupt image/label: non-normalized or out of bounds coordinates [     1.0459]\n",
            "\u001b[34m\u001b[1mval: \u001b[0mWARNING ⚠️ /content/datasets/my_custom_dataset/test/images/598ad10d-23d2-11e8-a6a3-ec086b02610b.jpg: ignoring corrupt image/label: non-normalized or out of bounds coordinates [       1.25        1.25]\n",
            "\u001b[34m\u001b[1mval: \u001b[0mWARNING ⚠️ /content/datasets/my_custom_dataset/test/images/598c5b8e-23d2-11e8-a6a3-ec086b02610b.jpg: ignoring corrupt image/label: non-normalized or out of bounds coordinates [       1.25        1.25]\n",
            "\u001b[34m\u001b[1mval: \u001b[0mWARNING ⚠️ /content/datasets/my_custom_dataset/test/images/598c5c81-23d2-11e8-a6a3-ec086b02610b.jpg: ignoring corrupt image/label: non-normalized or out of bounds coordinates [       1.25        1.25]\n",
            "\u001b[34m\u001b[1mval: \u001b[0mWARNING ⚠️ /content/datasets/my_custom_dataset/test/images/598de9a9-23d2-11e8-a6a3-ec086b02610b.jpg: ignoring corrupt image/label: non-normalized or out of bounds coordinates [       1.25        1.25]\n",
            "\u001b[34m\u001b[1mval: \u001b[0mWARNING ⚠️ /content/datasets/my_custom_dataset/test/images/599a59d5-23d2-11e8-a6a3-ec086b02610b.jpg: ignoring corrupt image/label: non-normalized or out of bounds coordinates [       1.25        1.25]\n",
            "\u001b[34m\u001b[1mval: \u001b[0mWARNING ⚠️ /content/datasets/my_custom_dataset/test/images/599a5a3d-23d2-11e8-a6a3-ec086b02610b.jpg: ignoring corrupt image/label: non-normalized or out of bounds coordinates [       1.25        1.25]\n",
            "\u001b[34m\u001b[1mval: \u001b[0mWARNING ⚠️ /content/datasets/my_custom_dataset/test/images/599a5ade-23d2-11e8-a6a3-ec086b02610b.jpg: ignoring corrupt image/label: non-normalized or out of bounds coordinates [       1.25        1.25]\n",
            "\u001b[34m\u001b[1mval: \u001b[0mWARNING ⚠️ /content/datasets/my_custom_dataset/test/images/599a5b35-23d2-11e8-a6a3-ec086b02610b.jpg: ignoring corrupt image/label: non-normalized or out of bounds coordinates [       1.25        1.25]\n",
            "\u001b[34m\u001b[1mval: \u001b[0mWARNING ⚠️ /content/datasets/my_custom_dataset/test/images/599be8dc-23d2-11e8-a6a3-ec086b02610b.jpg: ignoring corrupt image/label: non-normalized or out of bounds coordinates [       1.25        1.25]\n",
            "\u001b[34m\u001b[1mval: \u001b[0mWARNING ⚠️ /content/datasets/my_custom_dataset/test/images/599d7b79-23d2-11e8-a6a3-ec086b02610b.jpg: ignoring corrupt image/label: non-normalized or out of bounds coordinates [       1.25        1.25]\n",
            "\u001b[34m\u001b[1mval: \u001b[0mWARNING ⚠️ /content/datasets/my_custom_dataset/test/images/599fbdde-23d2-11e8-a6a3-ec086b02610b.jpg: ignoring corrupt image/label: non-normalized or out of bounds coordinates [       1.25        1.25]\n",
            "\u001b[34m\u001b[1mval: \u001b[0mWARNING ⚠️ /content/datasets/my_custom_dataset/test/images/599fbedd-23d2-11e8-a6a3-ec086b02610b.jpg: ignoring corrupt image/label: non-normalized or out of bounds coordinates [       1.25        1.25]\n",
            "\u001b[34m\u001b[1mval: \u001b[0mWARNING ⚠️ /content/datasets/my_custom_dataset/test/images/599fbefc-23d2-11e8-a6a3-ec086b02610b.jpg: ignoring corrupt image/label: non-normalized or out of bounds coordinates [       1.25        1.25]\n"
          ]
        },
        {
          "name": "stderr",
          "output_type": "stream",
          "text": [
            "\n",
            "                 Class     Images  Instances      Box(P          R      mAP50  mAP50-95):  10%|▉         | 16/161 [00:42<05:51,  2.42s/it]"
          ]
        },
        {
          "name": "stdout",
          "output_type": "stream",
          "text": [
            "WARNING ⚠️ NMS time limit 2.800s exceeded\n"
          ]
        },
        {
          "name": "stderr",
          "output_type": "stream",
          "text": [
            "                 Class     Images  Instances      Box(P          R      mAP50  mAP50-95): 100%|██████████| 161/161 [06:48<00:00,  2.54s/it]\n"
          ]
        },
        {
          "name": "stdout",
          "output_type": "stream",
          "text": [
            "                   all       2572       2683      0.922      0.756      0.796      0.536\n",
            "               opossum          2          2          1          0      0.094     0.0799\n",
            "               raccoon         59         83      0.764      0.651      0.672      0.399\n",
            "              squirrel        246        255      0.924      0.905      0.941      0.686\n",
            "                bobcat        130        130      0.969          1      0.991      0.892\n",
            "                 skunk        220        225      0.881      0.891      0.913      0.601\n",
            "                   dog        238        255      0.858        0.9      0.917      0.672\n",
            "                coyote          8          8          1      0.803      0.982      0.705\n",
            "                rabbit        135        153      0.861      0.902       0.92       0.64\n",
            "                   cat          1          1          1          0          0          0\n",
            "                badger        641        645      0.965       0.96      0.972      0.548\n",
            "                 empty        251        259       0.94      0.902      0.928      0.606\n",
            "                   car        436        456      0.915      0.971      0.958      0.665\n",
            "                  deer         25         25      0.941        0.8      0.882      0.434\n",
            "                   fox         43         44      0.923      0.841      0.904      0.611\n",
            "                rodent        142        142      0.883      0.817       0.87      0.506\n",
            "Speed: 0.8ms preprocess, 42.5ms inference, 0.0ms loss, 104.4ms postprocess per image\n",
            "Results saved to \u001b[1mruns/detect/val6\u001b[0m\n",
            "Ultralytics YOLOv8.2.103 🚀 Python-3.11.11 torch-2.5.1+cu124 CUDA:0 (Tesla T4, 15095MiB)\n"
          ]
        },
        {
          "name": "stderr",
          "output_type": "stream",
          "text": [
            "\u001b[34m\u001b[1mval: \u001b[0mScanning /content/datasets/my_custom_dataset/test/labels.cache... 2611 images, 0 backgrounds, 39 corrupt: 100%|██████████| 2611/2611 [00:00<?, ?it/s]"
          ]
        },
        {
          "name": "stdout",
          "output_type": "stream",
          "text": [
            "\u001b[34m\u001b[1mval: \u001b[0mWARNING ⚠️ /content/datasets/my_custom_dataset/test/images/5858bfcd-23d2-11e8-a6a3-ec086b02610b.jpg: ignoring corrupt image/label: non-normalized or out of bounds coordinates [       1.25        1.25]\n",
            "\u001b[34m\u001b[1mval: \u001b[0mWARNING ⚠️ /content/datasets/my_custom_dataset/test/images/5858c28b-23d2-11e8-a6a3-ec086b02610b.jpg: ignoring corrupt image/label: non-normalized or out of bounds coordinates [       1.25        1.25]\n",
            "\u001b[34m\u001b[1mval: \u001b[0mWARNING ⚠️ /content/datasets/my_custom_dataset/test/images/5860ef5d-23d2-11e8-a6a3-ec086b02610b.jpg: ignoring corrupt image/label: non-normalized or out of bounds coordinates [     1.1159]\n",
            "\u001b[34m\u001b[1mval: \u001b[0mWARNING ⚠️ /content/datasets/my_custom_dataset/test/images/5874d3b4-23d2-11e8-a6a3-ec086b02610b.jpg: ignoring corrupt image/label: non-normalized or out of bounds coordinates [     1.0885]\n",
            "\u001b[34m\u001b[1mval: \u001b[0mWARNING ⚠️ /content/datasets/my_custom_dataset/test/images/5874d409-23d2-11e8-a6a3-ec086b02610b.jpg: ignoring corrupt image/label: non-normalized or out of bounds coordinates [       1.25        1.25]\n",
            "\u001b[34m\u001b[1mval: \u001b[0mWARNING ⚠️ /content/datasets/my_custom_dataset/test/images/5874d6a8-23d2-11e8-a6a3-ec086b02610b.jpg: ignoring corrupt image/label: non-normalized or out of bounds coordinates [     1.1138]\n",
            "\u001b[34m\u001b[1mval: \u001b[0mWARNING ⚠️ /content/datasets/my_custom_dataset/test/images/5874d737-23d2-11e8-a6a3-ec086b02610b.jpg: ignoring corrupt image/label: non-normalized or out of bounds coordinates [       1.25        1.25]\n",
            "\u001b[34m\u001b[1mval: \u001b[0mWARNING ⚠️ /content/datasets/my_custom_dataset/test/images/5883e70e-23d2-11e8-a6a3-ec086b02610b.jpg: ignoring corrupt image/label: non-normalized or out of bounds coordinates [     1.1294]\n",
            "\u001b[34m\u001b[1mval: \u001b[0mWARNING ⚠️ /content/datasets/my_custom_dataset/test/images/5883e9df-23d2-11e8-a6a3-ec086b02610b.jpg: ignoring corrupt image/label: non-normalized or out of bounds coordinates [     1.1826]\n",
            "\u001b[34m\u001b[1mval: \u001b[0mWARNING ⚠️ /content/datasets/my_custom_dataset/test/images/5888bda6-23d2-11e8-a6a3-ec086b02610b.jpg: ignoring corrupt image/label: non-normalized or out of bounds coordinates [       1.25        1.25]\n",
            "\u001b[34m\u001b[1mval: \u001b[0mWARNING ⚠️ /content/datasets/my_custom_dataset/test/images/5888be64-23d2-11e8-a6a3-ec086b02610b.jpg: ignoring corrupt image/label: non-normalized or out of bounds coordinates [     1.0137]\n",
            "\u001b[34m\u001b[1mval: \u001b[0mWARNING ⚠️ /content/datasets/my_custom_dataset/test/images/5892b43c-23d2-11e8-a6a3-ec086b02610b.jpg: ignoring corrupt image/label: non-normalized or out of bounds coordinates [      1.104]\n",
            "\u001b[34m\u001b[1mval: \u001b[0mWARNING ⚠️ /content/datasets/my_custom_dataset/test/images/5900a253-23d2-11e8-a6a3-ec086b02610b.jpg: ignoring corrupt image/label: non-normalized or out of bounds coordinates [       1.25        1.25]\n",
            "\u001b[34m\u001b[1mval: \u001b[0mWARNING ⚠️ /content/datasets/my_custom_dataset/test/images/5903cc86-23d2-11e8-a6a3-ec086b02610b.jpg: ignoring corrupt image/label: non-normalized or out of bounds coordinates [     1.1372]\n",
            "\u001b[34m\u001b[1mval: \u001b[0mWARNING ⚠️ /content/datasets/my_custom_dataset/test/images/5906efd3-23d2-11e8-a6a3-ec086b02610b.jpg: ignoring corrupt image/label: non-normalized or out of bounds coordinates [       1.25        1.25]\n",
            "\u001b[34m\u001b[1mval: \u001b[0mWARNING ⚠️ /content/datasets/my_custom_dataset/test/images/5906f195-23d2-11e8-a6a3-ec086b02610b.jpg: ignoring corrupt image/label: non-normalized or out of bounds coordinates [       1.25        1.25]\n",
            "\u001b[34m\u001b[1mval: \u001b[0mWARNING ⚠️ /content/datasets/my_custom_dataset/test/images/5914ee02-23d2-11e8-a6a3-ec086b02610b.jpg: ignoring corrupt image/label: non-normalized or out of bounds coordinates [     1.1484]\n",
            "\u001b[34m\u001b[1mval: \u001b[0mWARNING ⚠️ /content/datasets/my_custom_dataset/test/images/5914ee4d-23d2-11e8-a6a3-ec086b02610b.jpg: ignoring corrupt image/label: non-normalized or out of bounds coordinates [       1.25        1.25]\n",
            "\u001b[34m\u001b[1mval: \u001b[0mWARNING ⚠️ /content/datasets/my_custom_dataset/test/images/5922ecf4-23d2-11e8-a6a3-ec086b02610b.jpg: ignoring corrupt image/label: non-normalized or out of bounds coordinates [     1.0103]\n",
            "\u001b[34m\u001b[1mval: \u001b[0mWARNING ⚠️ /content/datasets/my_custom_dataset/test/images/5922edad-23d2-11e8-a6a3-ec086b02610b.jpg: ignoring corrupt image/label: non-normalized or out of bounds coordinates [       1.25        1.25]\n",
            "\u001b[34m\u001b[1mval: \u001b[0mWARNING ⚠️ /content/datasets/my_custom_dataset/test/images/5938c04b-23d2-11e8-a6a3-ec086b02610b.jpg: ignoring corrupt image/label: non-normalized or out of bounds coordinates [       1.25        1.25]\n",
            "\u001b[34m\u001b[1mval: \u001b[0mWARNING ⚠️ /content/datasets/my_custom_dataset/test/images/5938c1a2-23d2-11e8-a6a3-ec086b02610b.jpg: ignoring corrupt image/label: non-normalized or out of bounds coordinates [       1.25        1.25]\n",
            "\u001b[34m\u001b[1mval: \u001b[0mWARNING ⚠️ /content/datasets/my_custom_dataset/test/images/5938c1d8-23d2-11e8-a6a3-ec086b02610b.jpg: ignoring corrupt image/label: non-normalized or out of bounds coordinates [       1.25        1.25]\n",
            "\u001b[34m\u001b[1mval: \u001b[0mWARNING ⚠️ /content/datasets/my_custom_dataset/test/images/5938c2ff-23d2-11e8-a6a3-ec086b02610b.jpg: ignoring corrupt image/label: non-normalized or out of bounds coordinates [       1.25        1.25]\n",
            "\u001b[34m\u001b[1mval: \u001b[0mWARNING ⚠️ /content/datasets/my_custom_dataset/test/images/5949cfca-23d2-11e8-a6a3-ec086b02610b.jpg: ignoring corrupt image/label: non-normalized or out of bounds coordinates [       1.25        1.25]\n",
            "\u001b[34m\u001b[1mval: \u001b[0mWARNING ⚠️ /content/datasets/my_custom_dataset/test/images/597feed1-23d2-11e8-a6a3-ec086b02610b.jpg: ignoring corrupt image/label: non-normalized or out of bounds coordinates [     1.0459]\n",
            "\u001b[34m\u001b[1mval: \u001b[0mWARNING ⚠️ /content/datasets/my_custom_dataset/test/images/598ad10d-23d2-11e8-a6a3-ec086b02610b.jpg: ignoring corrupt image/label: non-normalized or out of bounds coordinates [       1.25        1.25]\n",
            "\u001b[34m\u001b[1mval: \u001b[0mWARNING ⚠️ /content/datasets/my_custom_dataset/test/images/598c5b8e-23d2-11e8-a6a3-ec086b02610b.jpg: ignoring corrupt image/label: non-normalized or out of bounds coordinates [       1.25        1.25]\n",
            "\u001b[34m\u001b[1mval: \u001b[0mWARNING ⚠️ /content/datasets/my_custom_dataset/test/images/598c5c81-23d2-11e8-a6a3-ec086b02610b.jpg: ignoring corrupt image/label: non-normalized or out of bounds coordinates [       1.25        1.25]\n",
            "\u001b[34m\u001b[1mval: \u001b[0mWARNING ⚠️ /content/datasets/my_custom_dataset/test/images/598de9a9-23d2-11e8-a6a3-ec086b02610b.jpg: ignoring corrupt image/label: non-normalized or out of bounds coordinates [       1.25        1.25]\n",
            "\u001b[34m\u001b[1mval: \u001b[0mWARNING ⚠️ /content/datasets/my_custom_dataset/test/images/599a59d5-23d2-11e8-a6a3-ec086b02610b.jpg: ignoring corrupt image/label: non-normalized or out of bounds coordinates [       1.25        1.25]\n",
            "\u001b[34m\u001b[1mval: \u001b[0mWARNING ⚠️ /content/datasets/my_custom_dataset/test/images/599a5a3d-23d2-11e8-a6a3-ec086b02610b.jpg: ignoring corrupt image/label: non-normalized or out of bounds coordinates [       1.25        1.25]\n",
            "\u001b[34m\u001b[1mval: \u001b[0mWARNING ⚠️ /content/datasets/my_custom_dataset/test/images/599a5ade-23d2-11e8-a6a3-ec086b02610b.jpg: ignoring corrupt image/label: non-normalized or out of bounds coordinates [       1.25        1.25]\n",
            "\u001b[34m\u001b[1mval: \u001b[0mWARNING ⚠️ /content/datasets/my_custom_dataset/test/images/599a5b35-23d2-11e8-a6a3-ec086b02610b.jpg: ignoring corrupt image/label: non-normalized or out of bounds coordinates [       1.25        1.25]\n",
            "\u001b[34m\u001b[1mval: \u001b[0mWARNING ⚠️ /content/datasets/my_custom_dataset/test/images/599be8dc-23d2-11e8-a6a3-ec086b02610b.jpg: ignoring corrupt image/label: non-normalized or out of bounds coordinates [       1.25        1.25]\n",
            "\u001b[34m\u001b[1mval: \u001b[0mWARNING ⚠️ /content/datasets/my_custom_dataset/test/images/599d7b79-23d2-11e8-a6a3-ec086b02610b.jpg: ignoring corrupt image/label: non-normalized or out of bounds coordinates [       1.25        1.25]\n",
            "\u001b[34m\u001b[1mval: \u001b[0mWARNING ⚠️ /content/datasets/my_custom_dataset/test/images/599fbdde-23d2-11e8-a6a3-ec086b02610b.jpg: ignoring corrupt image/label: non-normalized or out of bounds coordinates [       1.25        1.25]\n",
            "\u001b[34m\u001b[1mval: \u001b[0mWARNING ⚠️ /content/datasets/my_custom_dataset/test/images/599fbedd-23d2-11e8-a6a3-ec086b02610b.jpg: ignoring corrupt image/label: non-normalized or out of bounds coordinates [       1.25        1.25]\n",
            "\u001b[34m\u001b[1mval: \u001b[0mWARNING ⚠️ /content/datasets/my_custom_dataset/test/images/599fbefc-23d2-11e8-a6a3-ec086b02610b.jpg: ignoring corrupt image/label: non-normalized or out of bounds coordinates [       1.25        1.25]\n"
          ]
        },
        {
          "name": "stderr",
          "output_type": "stream",
          "text": [
            "\n",
            "                 Class     Images  Instances      Box(P          R      mAP50  mAP50-95): 100%|██████████| 161/161 [02:02<00:00,  1.31it/s]\n"
          ]
        },
        {
          "name": "stdout",
          "output_type": "stream",
          "text": [
            "                   all       2572       2683      0.855      0.757      0.808      0.574\n",
            "               opossum          2          2          1          0      0.107     0.0964\n",
            "               raccoon         59         83      0.764      0.651       0.72      0.456\n",
            "              squirrel        246        255      0.924      0.905      0.941      0.721\n",
            "                bobcat        130        130      0.969          1      0.991      0.892\n",
            "                 skunk        220        225      0.882        0.9      0.924      0.646\n",
            "                   dog        238        255      0.858        0.9      0.933      0.716\n",
            "                coyote          8          8          1      0.803      0.982      0.721\n",
            "                rabbit        135        153      0.861      0.902      0.924      0.678\n",
            "                   cat          1          1          0          0          0          0\n",
            "                badger        641        645      0.965      0.963      0.979        0.6\n",
            "                 empty        251        259       0.94      0.902      0.937      0.653\n",
            "                   car        436        456      0.915      0.971      0.963       0.71\n",
            "                  deer         25         25      0.941        0.8      0.907      0.505\n",
            "                   fox         43         44      0.923      0.841      0.915      0.652\n",
            "                rodent        142        142      0.883      0.817      0.891      0.571\n",
            "Speed: 0.6ms preprocess, 43.6ms inference, 0.0ms loss, 0.7ms postprocess per image\n",
            "Results saved to \u001b[1mruns/detect/val7\u001b[0m\n",
            "Ultralytics YOLOv8.2.103 🚀 Python-3.11.11 torch-2.5.1+cu124 CUDA:0 (Tesla T4, 15095MiB)\n"
          ]
        },
        {
          "name": "stderr",
          "output_type": "stream",
          "text": [
            "\u001b[34m\u001b[1mval: \u001b[0mScanning /content/datasets/my_custom_dataset/test/labels.cache... 2611 images, 0 backgrounds, 39 corrupt: 100%|██████████| 2611/2611 [00:00<?, ?it/s]"
          ]
        },
        {
          "name": "stdout",
          "output_type": "stream",
          "text": [
            "\u001b[34m\u001b[1mval: \u001b[0mWARNING ⚠️ /content/datasets/my_custom_dataset/test/images/5858bfcd-23d2-11e8-a6a3-ec086b02610b.jpg: ignoring corrupt image/label: non-normalized or out of bounds coordinates [       1.25        1.25]\n",
            "\u001b[34m\u001b[1mval: \u001b[0mWARNING ⚠️ /content/datasets/my_custom_dataset/test/images/5858c28b-23d2-11e8-a6a3-ec086b02610b.jpg: ignoring corrupt image/label: non-normalized or out of bounds coordinates [       1.25        1.25]\n",
            "\u001b[34m\u001b[1mval: \u001b[0mWARNING ⚠️ /content/datasets/my_custom_dataset/test/images/5860ef5d-23d2-11e8-a6a3-ec086b02610b.jpg: ignoring corrupt image/label: non-normalized or out of bounds coordinates [     1.1159]\n",
            "\u001b[34m\u001b[1mval: \u001b[0mWARNING ⚠️ /content/datasets/my_custom_dataset/test/images/5874d3b4-23d2-11e8-a6a3-ec086b02610b.jpg: ignoring corrupt image/label: non-normalized or out of bounds coordinates [     1.0885]\n",
            "\u001b[34m\u001b[1mval: \u001b[0mWARNING ⚠️ /content/datasets/my_custom_dataset/test/images/5874d409-23d2-11e8-a6a3-ec086b02610b.jpg: ignoring corrupt image/label: non-normalized or out of bounds coordinates [       1.25        1.25]\n",
            "\u001b[34m\u001b[1mval: \u001b[0mWARNING ⚠️ /content/datasets/my_custom_dataset/test/images/5874d6a8-23d2-11e8-a6a3-ec086b02610b.jpg: ignoring corrupt image/label: non-normalized or out of bounds coordinates [     1.1138]\n",
            "\u001b[34m\u001b[1mval: \u001b[0mWARNING ⚠️ /content/datasets/my_custom_dataset/test/images/5874d737-23d2-11e8-a6a3-ec086b02610b.jpg: ignoring corrupt image/label: non-normalized or out of bounds coordinates [       1.25        1.25]\n",
            "\u001b[34m\u001b[1mval: \u001b[0mWARNING ⚠️ /content/datasets/my_custom_dataset/test/images/5883e70e-23d2-11e8-a6a3-ec086b02610b.jpg: ignoring corrupt image/label: non-normalized or out of bounds coordinates [     1.1294]\n",
            "\u001b[34m\u001b[1mval: \u001b[0mWARNING ⚠️ /content/datasets/my_custom_dataset/test/images/5883e9df-23d2-11e8-a6a3-ec086b02610b.jpg: ignoring corrupt image/label: non-normalized or out of bounds coordinates [     1.1826]\n",
            "\u001b[34m\u001b[1mval: \u001b[0mWARNING ⚠️ /content/datasets/my_custom_dataset/test/images/5888bda6-23d2-11e8-a6a3-ec086b02610b.jpg: ignoring corrupt image/label: non-normalized or out of bounds coordinates [       1.25        1.25]\n",
            "\u001b[34m\u001b[1mval: \u001b[0mWARNING ⚠️ /content/datasets/my_custom_dataset/test/images/5888be64-23d2-11e8-a6a3-ec086b02610b.jpg: ignoring corrupt image/label: non-normalized or out of bounds coordinates [     1.0137]\n",
            "\u001b[34m\u001b[1mval: \u001b[0mWARNING ⚠️ /content/datasets/my_custom_dataset/test/images/5892b43c-23d2-11e8-a6a3-ec086b02610b.jpg: ignoring corrupt image/label: non-normalized or out of bounds coordinates [      1.104]\n",
            "\u001b[34m\u001b[1mval: \u001b[0mWARNING ⚠️ /content/datasets/my_custom_dataset/test/images/5900a253-23d2-11e8-a6a3-ec086b02610b.jpg: ignoring corrupt image/label: non-normalized or out of bounds coordinates [       1.25        1.25]\n",
            "\u001b[34m\u001b[1mval: \u001b[0mWARNING ⚠️ /content/datasets/my_custom_dataset/test/images/5903cc86-23d2-11e8-a6a3-ec086b02610b.jpg: ignoring corrupt image/label: non-normalized or out of bounds coordinates [     1.1372]\n",
            "\u001b[34m\u001b[1mval: \u001b[0mWARNING ⚠️ /content/datasets/my_custom_dataset/test/images/5906efd3-23d2-11e8-a6a3-ec086b02610b.jpg: ignoring corrupt image/label: non-normalized or out of bounds coordinates [       1.25        1.25]\n",
            "\u001b[34m\u001b[1mval: \u001b[0mWARNING ⚠️ /content/datasets/my_custom_dataset/test/images/5906f195-23d2-11e8-a6a3-ec086b02610b.jpg: ignoring corrupt image/label: non-normalized or out of bounds coordinates [       1.25        1.25]\n",
            "\u001b[34m\u001b[1mval: \u001b[0mWARNING ⚠️ /content/datasets/my_custom_dataset/test/images/5914ee02-23d2-11e8-a6a3-ec086b02610b.jpg: ignoring corrupt image/label: non-normalized or out of bounds coordinates [     1.1484]\n",
            "\u001b[34m\u001b[1mval: \u001b[0mWARNING ⚠️ /content/datasets/my_custom_dataset/test/images/5914ee4d-23d2-11e8-a6a3-ec086b02610b.jpg: ignoring corrupt image/label: non-normalized or out of bounds coordinates [       1.25        1.25]\n",
            "\u001b[34m\u001b[1mval: \u001b[0mWARNING ⚠️ /content/datasets/my_custom_dataset/test/images/5922ecf4-23d2-11e8-a6a3-ec086b02610b.jpg: ignoring corrupt image/label: non-normalized or out of bounds coordinates [     1.0103]\n",
            "\u001b[34m\u001b[1mval: \u001b[0mWARNING ⚠️ /content/datasets/my_custom_dataset/test/images/5922edad-23d2-11e8-a6a3-ec086b02610b.jpg: ignoring corrupt image/label: non-normalized or out of bounds coordinates [       1.25        1.25]\n",
            "\u001b[34m\u001b[1mval: \u001b[0mWARNING ⚠️ /content/datasets/my_custom_dataset/test/images/5938c04b-23d2-11e8-a6a3-ec086b02610b.jpg: ignoring corrupt image/label: non-normalized or out of bounds coordinates [       1.25        1.25]\n",
            "\u001b[34m\u001b[1mval: \u001b[0mWARNING ⚠️ /content/datasets/my_custom_dataset/test/images/5938c1a2-23d2-11e8-a6a3-ec086b02610b.jpg: ignoring corrupt image/label: non-normalized or out of bounds coordinates [       1.25        1.25]\n",
            "\u001b[34m\u001b[1mval: \u001b[0mWARNING ⚠️ /content/datasets/my_custom_dataset/test/images/5938c1d8-23d2-11e8-a6a3-ec086b02610b.jpg: ignoring corrupt image/label: non-normalized or out of bounds coordinates [       1.25        1.25]\n",
            "\u001b[34m\u001b[1mval: \u001b[0mWARNING ⚠️ /content/datasets/my_custom_dataset/test/images/5938c2ff-23d2-11e8-a6a3-ec086b02610b.jpg: ignoring corrupt image/label: non-normalized or out of bounds coordinates [       1.25        1.25]\n",
            "\u001b[34m\u001b[1mval: \u001b[0mWARNING ⚠️ /content/datasets/my_custom_dataset/test/images/5949cfca-23d2-11e8-a6a3-ec086b02610b.jpg: ignoring corrupt image/label: non-normalized or out of bounds coordinates [       1.25        1.25]\n",
            "\u001b[34m\u001b[1mval: \u001b[0mWARNING ⚠️ /content/datasets/my_custom_dataset/test/images/597feed1-23d2-11e8-a6a3-ec086b02610b.jpg: ignoring corrupt image/label: non-normalized or out of bounds coordinates [     1.0459]\n",
            "\u001b[34m\u001b[1mval: \u001b[0mWARNING ⚠️ /content/datasets/my_custom_dataset/test/images/598ad10d-23d2-11e8-a6a3-ec086b02610b.jpg: ignoring corrupt image/label: non-normalized or out of bounds coordinates [       1.25        1.25]\n",
            "\u001b[34m\u001b[1mval: \u001b[0mWARNING ⚠️ /content/datasets/my_custom_dataset/test/images/598c5b8e-23d2-11e8-a6a3-ec086b02610b.jpg: ignoring corrupt image/label: non-normalized or out of bounds coordinates [       1.25        1.25]\n",
            "\u001b[34m\u001b[1mval: \u001b[0mWARNING ⚠️ /content/datasets/my_custom_dataset/test/images/598c5c81-23d2-11e8-a6a3-ec086b02610b.jpg: ignoring corrupt image/label: non-normalized or out of bounds coordinates [       1.25        1.25]\n",
            "\u001b[34m\u001b[1mval: \u001b[0mWARNING ⚠️ /content/datasets/my_custom_dataset/test/images/598de9a9-23d2-11e8-a6a3-ec086b02610b.jpg: ignoring corrupt image/label: non-normalized or out of bounds coordinates [       1.25        1.25]\n",
            "\u001b[34m\u001b[1mval: \u001b[0mWARNING ⚠️ /content/datasets/my_custom_dataset/test/images/599a59d5-23d2-11e8-a6a3-ec086b02610b.jpg: ignoring corrupt image/label: non-normalized or out of bounds coordinates [       1.25        1.25]\n",
            "\u001b[34m\u001b[1mval: \u001b[0mWARNING ⚠️ /content/datasets/my_custom_dataset/test/images/599a5a3d-23d2-11e8-a6a3-ec086b02610b.jpg: ignoring corrupt image/label: non-normalized or out of bounds coordinates [       1.25        1.25]\n",
            "\u001b[34m\u001b[1mval: \u001b[0mWARNING ⚠️ /content/datasets/my_custom_dataset/test/images/599a5ade-23d2-11e8-a6a3-ec086b02610b.jpg: ignoring corrupt image/label: non-normalized or out of bounds coordinates [       1.25        1.25]\n",
            "\u001b[34m\u001b[1mval: \u001b[0mWARNING ⚠️ /content/datasets/my_custom_dataset/test/images/599a5b35-23d2-11e8-a6a3-ec086b02610b.jpg: ignoring corrupt image/label: non-normalized or out of bounds coordinates [       1.25        1.25]\n",
            "\u001b[34m\u001b[1mval: \u001b[0mWARNING ⚠️ /content/datasets/my_custom_dataset/test/images/599be8dc-23d2-11e8-a6a3-ec086b02610b.jpg: ignoring corrupt image/label: non-normalized or out of bounds coordinates [       1.25        1.25]\n",
            "\u001b[34m\u001b[1mval: \u001b[0mWARNING ⚠️ /content/datasets/my_custom_dataset/test/images/599d7b79-23d2-11e8-a6a3-ec086b02610b.jpg: ignoring corrupt image/label: non-normalized or out of bounds coordinates [       1.25        1.25]\n",
            "\u001b[34m\u001b[1mval: \u001b[0mWARNING ⚠️ /content/datasets/my_custom_dataset/test/images/599fbdde-23d2-11e8-a6a3-ec086b02610b.jpg: ignoring corrupt image/label: non-normalized or out of bounds coordinates [       1.25        1.25]\n",
            "\u001b[34m\u001b[1mval: \u001b[0mWARNING ⚠️ /content/datasets/my_custom_dataset/test/images/599fbedd-23d2-11e8-a6a3-ec086b02610b.jpg: ignoring corrupt image/label: non-normalized or out of bounds coordinates [       1.25        1.25]\n",
            "\u001b[34m\u001b[1mval: \u001b[0mWARNING ⚠️ /content/datasets/my_custom_dataset/test/images/599fbefc-23d2-11e8-a6a3-ec086b02610b.jpg: ignoring corrupt image/label: non-normalized or out of bounds coordinates [       1.25        1.25]\n"
          ]
        },
        {
          "name": "stderr",
          "output_type": "stream",
          "text": [
            "\n",
            "                 Class     Images  Instances      Box(P          R      mAP50  mAP50-95): 100%|██████████| 161/161 [02:02<00:00,  1.31it/s]\n"
          ]
        },
        {
          "name": "stdout",
          "output_type": "stream",
          "text": [
            "                   all       2572       2683      0.855      0.757      0.797      0.569\n",
            "               opossum          2          2          1          0          0          0\n",
            "               raccoon         59         83      0.764      0.651      0.715      0.461\n",
            "              squirrel        246        255      0.924      0.905      0.939      0.723\n",
            "                bobcat        130        130       0.97          1      0.991      0.892\n",
            "                 skunk        220        225      0.882        0.9      0.925      0.648\n",
            "                   dog        238        255      0.858        0.9      0.931      0.717\n",
            "                coyote          8          8          1      0.803      0.982      0.731\n",
            "                rabbit        135        153      0.861      0.902      0.914      0.675\n",
            "                   cat          1          1          0          0          0          0\n",
            "                badger        641        645      0.965      0.963      0.979        0.6\n",
            "                 empty        251        259       0.94      0.902      0.937      0.657\n",
            "                   car        436        456      0.915      0.971      0.962       0.71\n",
            "                  deer         25         25      0.941        0.8      0.889      0.489\n",
            "                   fox         43         44      0.923      0.841      0.908      0.655\n",
            "                rodent        142        142      0.883      0.817       0.89      0.573\n",
            "Speed: 0.5ms preprocess, 43.3ms inference, 0.0ms loss, 0.7ms postprocess per image\n",
            "Results saved to \u001b[1mruns/detect/val8\u001b[0m\n",
            "Ultralytics YOLOv8.2.103 🚀 Python-3.11.11 torch-2.5.1+cu124 CUDA:0 (Tesla T4, 15095MiB)\n"
          ]
        },
        {
          "name": "stderr",
          "output_type": "stream",
          "text": [
            "\u001b[34m\u001b[1mval: \u001b[0mScanning /content/datasets/my_custom_dataset/test/labels.cache... 2611 images, 0 backgrounds, 39 corrupt: 100%|██████████| 2611/2611 [00:00<?, ?it/s]"
          ]
        },
        {
          "name": "stdout",
          "output_type": "stream",
          "text": [
            "\u001b[34m\u001b[1mval: \u001b[0mWARNING ⚠️ /content/datasets/my_custom_dataset/test/images/5858bfcd-23d2-11e8-a6a3-ec086b02610b.jpg: ignoring corrupt image/label: non-normalized or out of bounds coordinates [       1.25        1.25]\n",
            "\u001b[34m\u001b[1mval: \u001b[0mWARNING ⚠️ /content/datasets/my_custom_dataset/test/images/5858c28b-23d2-11e8-a6a3-ec086b02610b.jpg: ignoring corrupt image/label: non-normalized or out of bounds coordinates [       1.25        1.25]\n",
            "\u001b[34m\u001b[1mval: \u001b[0mWARNING ⚠️ /content/datasets/my_custom_dataset/test/images/5860ef5d-23d2-11e8-a6a3-ec086b02610b.jpg: ignoring corrupt image/label: non-normalized or out of bounds coordinates [     1.1159]\n",
            "\u001b[34m\u001b[1mval: \u001b[0mWARNING ⚠️ /content/datasets/my_custom_dataset/test/images/5874d3b4-23d2-11e8-a6a3-ec086b02610b.jpg: ignoring corrupt image/label: non-normalized or out of bounds coordinates [     1.0885]\n",
            "\u001b[34m\u001b[1mval: \u001b[0mWARNING ⚠️ /content/datasets/my_custom_dataset/test/images/5874d409-23d2-11e8-a6a3-ec086b02610b.jpg: ignoring corrupt image/label: non-normalized or out of bounds coordinates [       1.25        1.25]\n",
            "\u001b[34m\u001b[1mval: \u001b[0mWARNING ⚠️ /content/datasets/my_custom_dataset/test/images/5874d6a8-23d2-11e8-a6a3-ec086b02610b.jpg: ignoring corrupt image/label: non-normalized or out of bounds coordinates [     1.1138]\n",
            "\u001b[34m\u001b[1mval: \u001b[0mWARNING ⚠️ /content/datasets/my_custom_dataset/test/images/5874d737-23d2-11e8-a6a3-ec086b02610b.jpg: ignoring corrupt image/label: non-normalized or out of bounds coordinates [       1.25        1.25]\n",
            "\u001b[34m\u001b[1mval: \u001b[0mWARNING ⚠️ /content/datasets/my_custom_dataset/test/images/5883e70e-23d2-11e8-a6a3-ec086b02610b.jpg: ignoring corrupt image/label: non-normalized or out of bounds coordinates [     1.1294]\n",
            "\u001b[34m\u001b[1mval: \u001b[0mWARNING ⚠️ /content/datasets/my_custom_dataset/test/images/5883e9df-23d2-11e8-a6a3-ec086b02610b.jpg: ignoring corrupt image/label: non-normalized or out of bounds coordinates [     1.1826]\n",
            "\u001b[34m\u001b[1mval: \u001b[0mWARNING ⚠️ /content/datasets/my_custom_dataset/test/images/5888bda6-23d2-11e8-a6a3-ec086b02610b.jpg: ignoring corrupt image/label: non-normalized or out of bounds coordinates [       1.25        1.25]\n",
            "\u001b[34m\u001b[1mval: \u001b[0mWARNING ⚠️ /content/datasets/my_custom_dataset/test/images/5888be64-23d2-11e8-a6a3-ec086b02610b.jpg: ignoring corrupt image/label: non-normalized or out of bounds coordinates [     1.0137]\n",
            "\u001b[34m\u001b[1mval: \u001b[0mWARNING ⚠️ /content/datasets/my_custom_dataset/test/images/5892b43c-23d2-11e8-a6a3-ec086b02610b.jpg: ignoring corrupt image/label: non-normalized or out of bounds coordinates [      1.104]\n",
            "\u001b[34m\u001b[1mval: \u001b[0mWARNING ⚠️ /content/datasets/my_custom_dataset/test/images/5900a253-23d2-11e8-a6a3-ec086b02610b.jpg: ignoring corrupt image/label: non-normalized or out of bounds coordinates [       1.25        1.25]\n",
            "\u001b[34m\u001b[1mval: \u001b[0mWARNING ⚠️ /content/datasets/my_custom_dataset/test/images/5903cc86-23d2-11e8-a6a3-ec086b02610b.jpg: ignoring corrupt image/label: non-normalized or out of bounds coordinates [     1.1372]\n",
            "\u001b[34m\u001b[1mval: \u001b[0mWARNING ⚠️ /content/datasets/my_custom_dataset/test/images/5906efd3-23d2-11e8-a6a3-ec086b02610b.jpg: ignoring corrupt image/label: non-normalized or out of bounds coordinates [       1.25        1.25]\n",
            "\u001b[34m\u001b[1mval: \u001b[0mWARNING ⚠️ /content/datasets/my_custom_dataset/test/images/5906f195-23d2-11e8-a6a3-ec086b02610b.jpg: ignoring corrupt image/label: non-normalized or out of bounds coordinates [       1.25        1.25]\n",
            "\u001b[34m\u001b[1mval: \u001b[0mWARNING ⚠️ /content/datasets/my_custom_dataset/test/images/5914ee02-23d2-11e8-a6a3-ec086b02610b.jpg: ignoring corrupt image/label: non-normalized or out of bounds coordinates [     1.1484]\n",
            "\u001b[34m\u001b[1mval: \u001b[0mWARNING ⚠️ /content/datasets/my_custom_dataset/test/images/5914ee4d-23d2-11e8-a6a3-ec086b02610b.jpg: ignoring corrupt image/label: non-normalized or out of bounds coordinates [       1.25        1.25]\n",
            "\u001b[34m\u001b[1mval: \u001b[0mWARNING ⚠️ /content/datasets/my_custom_dataset/test/images/5922ecf4-23d2-11e8-a6a3-ec086b02610b.jpg: ignoring corrupt image/label: non-normalized or out of bounds coordinates [     1.0103]\n",
            "\u001b[34m\u001b[1mval: \u001b[0mWARNING ⚠️ /content/datasets/my_custom_dataset/test/images/5922edad-23d2-11e8-a6a3-ec086b02610b.jpg: ignoring corrupt image/label: non-normalized or out of bounds coordinates [       1.25        1.25]\n",
            "\u001b[34m\u001b[1mval: \u001b[0mWARNING ⚠️ /content/datasets/my_custom_dataset/test/images/5938c04b-23d2-11e8-a6a3-ec086b02610b.jpg: ignoring corrupt image/label: non-normalized or out of bounds coordinates [       1.25        1.25]\n",
            "\u001b[34m\u001b[1mval: \u001b[0mWARNING ⚠️ /content/datasets/my_custom_dataset/test/images/5938c1a2-23d2-11e8-a6a3-ec086b02610b.jpg: ignoring corrupt image/label: non-normalized or out of bounds coordinates [       1.25        1.25]\n",
            "\u001b[34m\u001b[1mval: \u001b[0mWARNING ⚠️ /content/datasets/my_custom_dataset/test/images/5938c1d8-23d2-11e8-a6a3-ec086b02610b.jpg: ignoring corrupt image/label: non-normalized or out of bounds coordinates [       1.25        1.25]\n",
            "\u001b[34m\u001b[1mval: \u001b[0mWARNING ⚠️ /content/datasets/my_custom_dataset/test/images/5938c2ff-23d2-11e8-a6a3-ec086b02610b.jpg: ignoring corrupt image/label: non-normalized or out of bounds coordinates [       1.25        1.25]\n",
            "\u001b[34m\u001b[1mval: \u001b[0mWARNING ⚠️ /content/datasets/my_custom_dataset/test/images/5949cfca-23d2-11e8-a6a3-ec086b02610b.jpg: ignoring corrupt image/label: non-normalized or out of bounds coordinates [       1.25        1.25]\n",
            "\u001b[34m\u001b[1mval: \u001b[0mWARNING ⚠️ /content/datasets/my_custom_dataset/test/images/597feed1-23d2-11e8-a6a3-ec086b02610b.jpg: ignoring corrupt image/label: non-normalized or out of bounds coordinates [     1.0459]\n",
            "\u001b[34m\u001b[1mval: \u001b[0mWARNING ⚠️ /content/datasets/my_custom_dataset/test/images/598ad10d-23d2-11e8-a6a3-ec086b02610b.jpg: ignoring corrupt image/label: non-normalized or out of bounds coordinates [       1.25        1.25]\n",
            "\u001b[34m\u001b[1mval: \u001b[0mWARNING ⚠️ /content/datasets/my_custom_dataset/test/images/598c5b8e-23d2-11e8-a6a3-ec086b02610b.jpg: ignoring corrupt image/label: non-normalized or out of bounds coordinates [       1.25        1.25]\n",
            "\u001b[34m\u001b[1mval: \u001b[0mWARNING ⚠️ /content/datasets/my_custom_dataset/test/images/598c5c81-23d2-11e8-a6a3-ec086b02610b.jpg: ignoring corrupt image/label: non-normalized or out of bounds coordinates [       1.25        1.25]\n",
            "\u001b[34m\u001b[1mval: \u001b[0mWARNING ⚠️ /content/datasets/my_custom_dataset/test/images/598de9a9-23d2-11e8-a6a3-ec086b02610b.jpg: ignoring corrupt image/label: non-normalized or out of bounds coordinates [       1.25        1.25]\n",
            "\u001b[34m\u001b[1mval: \u001b[0mWARNING ⚠️ /content/datasets/my_custom_dataset/test/images/599a59d5-23d2-11e8-a6a3-ec086b02610b.jpg: ignoring corrupt image/label: non-normalized or out of bounds coordinates [       1.25        1.25]\n",
            "\u001b[34m\u001b[1mval: \u001b[0mWARNING ⚠️ /content/datasets/my_custom_dataset/test/images/599a5a3d-23d2-11e8-a6a3-ec086b02610b.jpg: ignoring corrupt image/label: non-normalized or out of bounds coordinates [       1.25        1.25]\n",
            "\u001b[34m\u001b[1mval: \u001b[0mWARNING ⚠️ /content/datasets/my_custom_dataset/test/images/599a5ade-23d2-11e8-a6a3-ec086b02610b.jpg: ignoring corrupt image/label: non-normalized or out of bounds coordinates [       1.25        1.25]\n",
            "\u001b[34m\u001b[1mval: \u001b[0mWARNING ⚠️ /content/datasets/my_custom_dataset/test/images/599a5b35-23d2-11e8-a6a3-ec086b02610b.jpg: ignoring corrupt image/label: non-normalized or out of bounds coordinates [       1.25        1.25]\n",
            "\u001b[34m\u001b[1mval: \u001b[0mWARNING ⚠️ /content/datasets/my_custom_dataset/test/images/599be8dc-23d2-11e8-a6a3-ec086b02610b.jpg: ignoring corrupt image/label: non-normalized or out of bounds coordinates [       1.25        1.25]\n",
            "\u001b[34m\u001b[1mval: \u001b[0mWARNING ⚠️ /content/datasets/my_custom_dataset/test/images/599d7b79-23d2-11e8-a6a3-ec086b02610b.jpg: ignoring corrupt image/label: non-normalized or out of bounds coordinates [       1.25        1.25]\n",
            "\u001b[34m\u001b[1mval: \u001b[0mWARNING ⚠️ /content/datasets/my_custom_dataset/test/images/599fbdde-23d2-11e8-a6a3-ec086b02610b.jpg: ignoring corrupt image/label: non-normalized or out of bounds coordinates [       1.25        1.25]\n",
            "\u001b[34m\u001b[1mval: \u001b[0mWARNING ⚠️ /content/datasets/my_custom_dataset/test/images/599fbedd-23d2-11e8-a6a3-ec086b02610b.jpg: ignoring corrupt image/label: non-normalized or out of bounds coordinates [       1.25        1.25]\n",
            "\u001b[34m\u001b[1mval: \u001b[0mWARNING ⚠️ /content/datasets/my_custom_dataset/test/images/599fbefc-23d2-11e8-a6a3-ec086b02610b.jpg: ignoring corrupt image/label: non-normalized or out of bounds coordinates [       1.25        1.25]\n"
          ]
        },
        {
          "name": "stderr",
          "output_type": "stream",
          "text": [
            "\n",
            "                 Class     Images  Instances      Box(P          R      mAP50  mAP50-95): 100%|██████████| 161/161 [02:02<00:00,  1.32it/s]\n"
          ]
        },
        {
          "name": "stdout",
          "output_type": "stream",
          "text": [
            "                   all       2572       2683      0.855      0.758      0.792      0.567\n",
            "               opossum          2          2          1          0          0          0\n",
            "               raccoon         59         83      0.763      0.651      0.709      0.466\n",
            "              squirrel        246        255      0.923      0.906      0.935      0.722\n",
            "                bobcat        130        130       0.97          1      0.991      0.892\n",
            "                 skunk        220        225      0.882      0.902      0.924      0.649\n",
            "                   dog        238        255      0.859      0.905      0.931       0.72\n",
            "                coyote          8          8          1      0.805       0.93        0.7\n",
            "                rabbit        135        153      0.859      0.902      0.911      0.679\n",
            "                   cat          1          1          0          0          0          0\n",
            "                badger        641        645      0.964      0.963      0.977        0.6\n",
            "                 empty        251        259       0.94      0.903      0.936      0.658\n",
            "                   car        436        456      0.915      0.971      0.959      0.709\n",
            "                  deer         25         25      0.952        0.8      0.893      0.493\n",
            "                   fox         43         44       0.92      0.841        0.9       0.65\n",
            "                rodent        142        142      0.883      0.817      0.882      0.571\n",
            "Speed: 0.5ms preprocess, 43.3ms inference, 0.0ms loss, 0.7ms postprocess per image\n",
            "Results saved to \u001b[1mruns/detect/val9\u001b[0m\n",
            "Ultralytics YOLOv8.2.103 🚀 Python-3.11.11 torch-2.5.1+cu124 CUDA:0 (Tesla T4, 15095MiB)\n"
          ]
        },
        {
          "name": "stderr",
          "output_type": "stream",
          "text": [
            "\u001b[34m\u001b[1mval: \u001b[0mScanning /content/datasets/my_custom_dataset/test/labels.cache... 2611 images, 0 backgrounds, 39 corrupt: 100%|██████████| 2611/2611 [00:00<?, ?it/s]"
          ]
        },
        {
          "name": "stdout",
          "output_type": "stream",
          "text": [
            "\u001b[34m\u001b[1mval: \u001b[0mWARNING ⚠️ /content/datasets/my_custom_dataset/test/images/5858bfcd-23d2-11e8-a6a3-ec086b02610b.jpg: ignoring corrupt image/label: non-normalized or out of bounds coordinates [       1.25        1.25]\n",
            "\u001b[34m\u001b[1mval: \u001b[0mWARNING ⚠️ /content/datasets/my_custom_dataset/test/images/5858c28b-23d2-11e8-a6a3-ec086b02610b.jpg: ignoring corrupt image/label: non-normalized or out of bounds coordinates [       1.25        1.25]\n",
            "\u001b[34m\u001b[1mval: \u001b[0mWARNING ⚠️ /content/datasets/my_custom_dataset/test/images/5860ef5d-23d2-11e8-a6a3-ec086b02610b.jpg: ignoring corrupt image/label: non-normalized or out of bounds coordinates [     1.1159]\n",
            "\u001b[34m\u001b[1mval: \u001b[0mWARNING ⚠️ /content/datasets/my_custom_dataset/test/images/5874d3b4-23d2-11e8-a6a3-ec086b02610b.jpg: ignoring corrupt image/label: non-normalized or out of bounds coordinates [     1.0885]\n",
            "\u001b[34m\u001b[1mval: \u001b[0mWARNING ⚠️ /content/datasets/my_custom_dataset/test/images/5874d409-23d2-11e8-a6a3-ec086b02610b.jpg: ignoring corrupt image/label: non-normalized or out of bounds coordinates [       1.25        1.25]\n",
            "\u001b[34m\u001b[1mval: \u001b[0mWARNING ⚠️ /content/datasets/my_custom_dataset/test/images/5874d6a8-23d2-11e8-a6a3-ec086b02610b.jpg: ignoring corrupt image/label: non-normalized or out of bounds coordinates [     1.1138]\n",
            "\u001b[34m\u001b[1mval: \u001b[0mWARNING ⚠️ /content/datasets/my_custom_dataset/test/images/5874d737-23d2-11e8-a6a3-ec086b02610b.jpg: ignoring corrupt image/label: non-normalized or out of bounds coordinates [       1.25        1.25]\n",
            "\u001b[34m\u001b[1mval: \u001b[0mWARNING ⚠️ /content/datasets/my_custom_dataset/test/images/5883e70e-23d2-11e8-a6a3-ec086b02610b.jpg: ignoring corrupt image/label: non-normalized or out of bounds coordinates [     1.1294]\n",
            "\u001b[34m\u001b[1mval: \u001b[0mWARNING ⚠️ /content/datasets/my_custom_dataset/test/images/5883e9df-23d2-11e8-a6a3-ec086b02610b.jpg: ignoring corrupt image/label: non-normalized or out of bounds coordinates [     1.1826]\n",
            "\u001b[34m\u001b[1mval: \u001b[0mWARNING ⚠️ /content/datasets/my_custom_dataset/test/images/5888bda6-23d2-11e8-a6a3-ec086b02610b.jpg: ignoring corrupt image/label: non-normalized or out of bounds coordinates [       1.25        1.25]\n",
            "\u001b[34m\u001b[1mval: \u001b[0mWARNING ⚠️ /content/datasets/my_custom_dataset/test/images/5888be64-23d2-11e8-a6a3-ec086b02610b.jpg: ignoring corrupt image/label: non-normalized or out of bounds coordinates [     1.0137]\n",
            "\u001b[34m\u001b[1mval: \u001b[0mWARNING ⚠️ /content/datasets/my_custom_dataset/test/images/5892b43c-23d2-11e8-a6a3-ec086b02610b.jpg: ignoring corrupt image/label: non-normalized or out of bounds coordinates [      1.104]\n",
            "\u001b[34m\u001b[1mval: \u001b[0mWARNING ⚠️ /content/datasets/my_custom_dataset/test/images/5900a253-23d2-11e8-a6a3-ec086b02610b.jpg: ignoring corrupt image/label: non-normalized or out of bounds coordinates [       1.25        1.25]\n",
            "\u001b[34m\u001b[1mval: \u001b[0mWARNING ⚠️ /content/datasets/my_custom_dataset/test/images/5903cc86-23d2-11e8-a6a3-ec086b02610b.jpg: ignoring corrupt image/label: non-normalized or out of bounds coordinates [     1.1372]\n",
            "\u001b[34m\u001b[1mval: \u001b[0mWARNING ⚠️ /content/datasets/my_custom_dataset/test/images/5906efd3-23d2-11e8-a6a3-ec086b02610b.jpg: ignoring corrupt image/label: non-normalized or out of bounds coordinates [       1.25        1.25]\n",
            "\u001b[34m\u001b[1mval: \u001b[0mWARNING ⚠️ /content/datasets/my_custom_dataset/test/images/5906f195-23d2-11e8-a6a3-ec086b02610b.jpg: ignoring corrupt image/label: non-normalized or out of bounds coordinates [       1.25        1.25]\n",
            "\u001b[34m\u001b[1mval: \u001b[0mWARNING ⚠️ /content/datasets/my_custom_dataset/test/images/5914ee02-23d2-11e8-a6a3-ec086b02610b.jpg: ignoring corrupt image/label: non-normalized or out of bounds coordinates [     1.1484]\n",
            "\u001b[34m\u001b[1mval: \u001b[0mWARNING ⚠️ /content/datasets/my_custom_dataset/test/images/5914ee4d-23d2-11e8-a6a3-ec086b02610b.jpg: ignoring corrupt image/label: non-normalized or out of bounds coordinates [       1.25        1.25]\n",
            "\u001b[34m\u001b[1mval: \u001b[0mWARNING ⚠️ /content/datasets/my_custom_dataset/test/images/5922ecf4-23d2-11e8-a6a3-ec086b02610b.jpg: ignoring corrupt image/label: non-normalized or out of bounds coordinates [     1.0103]\n",
            "\u001b[34m\u001b[1mval: \u001b[0mWARNING ⚠️ /content/datasets/my_custom_dataset/test/images/5922edad-23d2-11e8-a6a3-ec086b02610b.jpg: ignoring corrupt image/label: non-normalized or out of bounds coordinates [       1.25        1.25]\n",
            "\u001b[34m\u001b[1mval: \u001b[0mWARNING ⚠️ /content/datasets/my_custom_dataset/test/images/5938c04b-23d2-11e8-a6a3-ec086b02610b.jpg: ignoring corrupt image/label: non-normalized or out of bounds coordinates [       1.25        1.25]\n",
            "\u001b[34m\u001b[1mval: \u001b[0mWARNING ⚠️ /content/datasets/my_custom_dataset/test/images/5938c1a2-23d2-11e8-a6a3-ec086b02610b.jpg: ignoring corrupt image/label: non-normalized or out of bounds coordinates [       1.25        1.25]\n",
            "\u001b[34m\u001b[1mval: \u001b[0mWARNING ⚠️ /content/datasets/my_custom_dataset/test/images/5938c1d8-23d2-11e8-a6a3-ec086b02610b.jpg: ignoring corrupt image/label: non-normalized or out of bounds coordinates [       1.25        1.25]\n",
            "\u001b[34m\u001b[1mval: \u001b[0mWARNING ⚠️ /content/datasets/my_custom_dataset/test/images/5938c2ff-23d2-11e8-a6a3-ec086b02610b.jpg: ignoring corrupt image/label: non-normalized or out of bounds coordinates [       1.25        1.25]\n",
            "\u001b[34m\u001b[1mval: \u001b[0mWARNING ⚠️ /content/datasets/my_custom_dataset/test/images/5949cfca-23d2-11e8-a6a3-ec086b02610b.jpg: ignoring corrupt image/label: non-normalized or out of bounds coordinates [       1.25        1.25]\n",
            "\u001b[34m\u001b[1mval: \u001b[0mWARNING ⚠️ /content/datasets/my_custom_dataset/test/images/597feed1-23d2-11e8-a6a3-ec086b02610b.jpg: ignoring corrupt image/label: non-normalized or out of bounds coordinates [     1.0459]\n",
            "\u001b[34m\u001b[1mval: \u001b[0mWARNING ⚠️ /content/datasets/my_custom_dataset/test/images/598ad10d-23d2-11e8-a6a3-ec086b02610b.jpg: ignoring corrupt image/label: non-normalized or out of bounds coordinates [       1.25        1.25]\n",
            "\u001b[34m\u001b[1mval: \u001b[0mWARNING ⚠️ /content/datasets/my_custom_dataset/test/images/598c5b8e-23d2-11e8-a6a3-ec086b02610b.jpg: ignoring corrupt image/label: non-normalized or out of bounds coordinates [       1.25        1.25]\n",
            "\u001b[34m\u001b[1mval: \u001b[0mWARNING ⚠️ /content/datasets/my_custom_dataset/test/images/598c5c81-23d2-11e8-a6a3-ec086b02610b.jpg: ignoring corrupt image/label: non-normalized or out of bounds coordinates [       1.25        1.25]\n",
            "\u001b[34m\u001b[1mval: \u001b[0mWARNING ⚠️ /content/datasets/my_custom_dataset/test/images/598de9a9-23d2-11e8-a6a3-ec086b02610b.jpg: ignoring corrupt image/label: non-normalized or out of bounds coordinates [       1.25        1.25]\n",
            "\u001b[34m\u001b[1mval: \u001b[0mWARNING ⚠️ /content/datasets/my_custom_dataset/test/images/599a59d5-23d2-11e8-a6a3-ec086b02610b.jpg: ignoring corrupt image/label: non-normalized or out of bounds coordinates [       1.25        1.25]\n",
            "\u001b[34m\u001b[1mval: \u001b[0mWARNING ⚠️ /content/datasets/my_custom_dataset/test/images/599a5a3d-23d2-11e8-a6a3-ec086b02610b.jpg: ignoring corrupt image/label: non-normalized or out of bounds coordinates [       1.25        1.25]\n",
            "\u001b[34m\u001b[1mval: \u001b[0mWARNING ⚠️ /content/datasets/my_custom_dataset/test/images/599a5ade-23d2-11e8-a6a3-ec086b02610b.jpg: ignoring corrupt image/label: non-normalized or out of bounds coordinates [       1.25        1.25]\n",
            "\u001b[34m\u001b[1mval: \u001b[0mWARNING ⚠️ /content/datasets/my_custom_dataset/test/images/599a5b35-23d2-11e8-a6a3-ec086b02610b.jpg: ignoring corrupt image/label: non-normalized or out of bounds coordinates [       1.25        1.25]\n",
            "\u001b[34m\u001b[1mval: \u001b[0mWARNING ⚠️ /content/datasets/my_custom_dataset/test/images/599be8dc-23d2-11e8-a6a3-ec086b02610b.jpg: ignoring corrupt image/label: non-normalized or out of bounds coordinates [       1.25        1.25]\n",
            "\u001b[34m\u001b[1mval: \u001b[0mWARNING ⚠️ /content/datasets/my_custom_dataset/test/images/599d7b79-23d2-11e8-a6a3-ec086b02610b.jpg: ignoring corrupt image/label: non-normalized or out of bounds coordinates [       1.25        1.25]\n",
            "\u001b[34m\u001b[1mval: \u001b[0mWARNING ⚠️ /content/datasets/my_custom_dataset/test/images/599fbdde-23d2-11e8-a6a3-ec086b02610b.jpg: ignoring corrupt image/label: non-normalized or out of bounds coordinates [       1.25        1.25]\n",
            "\u001b[34m\u001b[1mval: \u001b[0mWARNING ⚠️ /content/datasets/my_custom_dataset/test/images/599fbedd-23d2-11e8-a6a3-ec086b02610b.jpg: ignoring corrupt image/label: non-normalized or out of bounds coordinates [       1.25        1.25]\n",
            "\u001b[34m\u001b[1mval: \u001b[0mWARNING ⚠️ /content/datasets/my_custom_dataset/test/images/599fbefc-23d2-11e8-a6a3-ec086b02610b.jpg: ignoring corrupt image/label: non-normalized or out of bounds coordinates [       1.25        1.25]\n"
          ]
        },
        {
          "name": "stderr",
          "output_type": "stream",
          "text": [
            "\n",
            "                 Class     Images  Instances      Box(P          R      mAP50  mAP50-95):  12%|█▏        | 19/161 [00:15<01:49,  1.30it/s]Exception ignored in: <function _MultiProcessingDataLoaderIter.__del__ at 0x7a498b999bc0>\n",
            "Traceback (most recent call last):\n",
            "  File \"/usr/local/lib/python3.11/dist-packages/torch/utils/data/dataloader.py\", line 1604, in __del__\n",
            "    self._shutdown_workers()\n",
            "  File \"/usr/local/lib/python3.11/dist-packages/torch/utils/data/dataloader.py\", line 1587, in _shutdown_workers\n",
            "    if w.is_alive():\n",
            "       ^^^^^^^^^^^^\n",
            "  File \"/usr/lib/python3.11/multiprocessing/process.py\", line 160, in is_alive\n",
            "    assert self._parent_pid == os.getpid(), 'can only test a child process'\n",
            "           ^^^^^^^^^^^^^^^^^^^^^^^^^^^^^^^\n",
            "AssertionError: can only test a child process\n",
            "Exception ignored in: <function _MultiProcessingDataLoaderIter.__del__ at 0x7a498b999bc0>\n",
            "Traceback (most recent call last):\n",
            "  File \"/usr/local/lib/python3.11/dist-packages/torch/utils/data/dataloader.py\", line 1604, in __del__\n",
            "    self._shutdown_workers()\n",
            "  File \"/usr/local/lib/python3.11/dist-packages/torch/utils/data/dataloader.py\", line 1587, in _shutdown_workers\n",
            "    if w.is_alive():\n",
            "       ^^^^^^^^^^^^\n",
            "  File \"/usr/lib/python3.11/multiprocessing/process.py\", line 160, in is_alive\n",
            "    assert self._parent_pid == os.getpid(), 'can only test a child process'\n",
            "           ^^^^^^^^^^^^^^^^^^^^^^^^^^^^^^^\n",
            "AssertionError: can only test a child process\n",
            "                 Class     Images  Instances      Box(P          R      mAP50  mAP50-95):  12%|█▏        | 20/161 [00:16<01:52,  1.26it/s]Exception ignored in: <function _MultiProcessingDataLoaderIter.__del__ at 0x7a498b999bc0>\n",
            "Traceback (most recent call last):\n",
            "  File \"/usr/local/lib/python3.11/dist-packages/torch/utils/data/dataloader.py\", line 1604, in __del__\n",
            "    self._shutdown_workers()\n",
            "  File \"/usr/local/lib/python3.11/dist-packages/torch/utils/data/dataloader.py\", line 1587, in _shutdown_workers\n",
            "    if w.is_alive():\n",
            "       ^^^^^^^^^^^^\n",
            "  File \"/usr/lib/python3.11/multiprocessing/process.py\", line 160, in is_alive\n",
            "    assert self._parent_pid == os.getpid(), 'can only test a child process'\n",
            "           ^^^^^^^^^^^^^^^^^^^^^^^^^^^^^^^\n",
            "AssertionError: can only test a child process\n",
            "                 Class     Images  Instances      Box(P          R      mAP50  mAP50-95):  14%|█▎        | 22/161 [00:18<02:12,  1.05it/s]Exception ignored in: <function _MultiProcessingDataLoaderIter.__del__ at 0x7a498b999bc0>\n",
            "Traceback (most recent call last):\n",
            "  File \"/usr/local/lib/python3.11/dist-packages/torch/utils/data/dataloader.py\", line 1604, in __del__\n",
            "    self._shutdown_workers()\n",
            "  File \"/usr/local/lib/python3.11/dist-packages/torch/utils/data/dataloader.py\", line 1587, in _shutdown_workers\n",
            "    if w.is_alive():\n",
            "                 Class     Images  Instances      Box(P          R      mAP50  mAP50-95):  14%|█▍        | 23/161 [00:19<02:07,  1.08it/s]^^^\n",
            "  File \"/usr/lib/python3.11/multiprocessing/process.py\", line 160, in is_alive\n",
            "    assert self._parent_pid == os.getpid(), 'can only test a child process'\n",
            "           ^^^^^^^^^^^^^^^^^^^^^^^^^^^^^^^\n",
            "AssertionError: can only test a child process\n",
            "Exception ignored in: <function _MultiProcessingDataLoaderIter.__del__ at 0x7a498b999bc0>\n",
            "Traceback (most recent call last):\n",
            "  File \"/usr/local/lib/python3.11/dist-packages/torch/utils/data/dataloader.py\", line 1604, in __del__\n",
            "    self._shutdown_workers()\n",
            "  File \"/usr/local/lib/python3.11/dist-packages/torch/utils/data/dataloader.py\", line 1587, in _shutdown_workers\n",
            "    if w.is_alive():\n",
            "       ^^^^^^^^^^^^\n",
            "  File \"/usr/lib/python3.11/multiprocessing/process.py\", line 160, in is_alive\n",
            "    assert self._parent_pid == os.getpid(), 'can only test a child process'\n",
            "           ^^^^^^^^^^^^^^^^^^^^^^^^^^^^^^^\n",
            "AssertionError: can only test a child process\n",
            "Exception ignored in: <function _MultiProcessingDataLoaderIter.__del__ at 0x7a498b999bc0>\n",
            "Traceback (most recent call last):\n",
            "  File \"/usr/local/lib/python3.11/dist-packages/torch/utils/data/dataloader.py\", line 1604, in __del__\n",
            "    self._shutdown_workers()\n",
            "  File \"/usr/local/lib/python3.11/dist-packages/torch/utils/data/dataloader.py\", line 1587, in _shutdown_workers\n",
            "    if w.is_alive():\n",
            "                 Class     Images  Instances      Box(P          R      mAP50  mAP50-95):  15%|█▍        | 24/161 [00:20<02:04,  1.10it/s]^^^^^\n",
            "  File \"/usr/lib/python3.11/multiprocessing/process.py\", line 160, in is_alive\n",
            "    assert self._parent_pid == os.getpid(), 'can only test a child process'\n",
            "           ^^^^^^^^^^^^^^^^^^^^^^^^^^^^^^^\n",
            "AssertionError: can only test a child process\n",
            "                 Class     Images  Instances      Box(P          R      mAP50  mAP50-95): 100%|██████████| 161/161 [02:03<00:00,  1.30it/s]\n"
          ]
        },
        {
          "name": "stdout",
          "output_type": "stream",
          "text": [
            "                   all       2572       2683      0.792      0.751      0.787      0.566\n",
            "               opossum          2          2          0          0          0          0\n",
            "               raccoon         59         83      0.771      0.647      0.706      0.472\n",
            "              squirrel        246        255      0.924      0.901      0.932      0.721\n",
            "                bobcat        130        130       0.97          1      0.991      0.892\n",
            "                 skunk        220        225      0.896      0.898      0.925       0.65\n",
            "                   dog        238        255       0.86      0.894      0.923      0.718\n",
            "                coyote          8          8          1       0.75      0.875      0.678\n",
            "                rabbit        135        153      0.867      0.902      0.911      0.682\n",
            "                   cat          1          1          0          0          0          0\n",
            "                badger        641        645      0.967      0.963      0.977        0.6\n",
            "                 empty        251        259      0.943      0.896      0.932      0.657\n",
            "                   car        436        456       0.92      0.971      0.959      0.709\n",
            "                  deer         25         25      0.952        0.8      0.893      0.493\n",
            "                   fox         43         44      0.924      0.834      0.895      0.654\n",
            "                rodent        142        142      0.892      0.817      0.879       0.57\n",
            "Speed: 0.8ms preprocess, 43.4ms inference, 0.0ms loss, 0.7ms postprocess per image\n",
            "Results saved to \u001b[1mruns/detect/val10\u001b[0m\n",
            "Ultralytics YOLOv8.2.103 🚀 Python-3.11.11 torch-2.5.1+cu124 CUDA:0 (Tesla T4, 15095MiB)\n"
          ]
        },
        {
          "name": "stderr",
          "output_type": "stream",
          "text": [
            "\u001b[34m\u001b[1mval: \u001b[0mScanning /content/datasets/my_custom_dataset/test/labels.cache... 2611 images, 0 backgrounds, 39 corrupt: 100%|██████████| 2611/2611 [00:00<?, ?it/s]"
          ]
        },
        {
          "name": "stdout",
          "output_type": "stream",
          "text": [
            "\u001b[34m\u001b[1mval: \u001b[0mWARNING ⚠️ /content/datasets/my_custom_dataset/test/images/5858bfcd-23d2-11e8-a6a3-ec086b02610b.jpg: ignoring corrupt image/label: non-normalized or out of bounds coordinates [       1.25        1.25]\n",
            "\u001b[34m\u001b[1mval: \u001b[0mWARNING ⚠️ /content/datasets/my_custom_dataset/test/images/5858c28b-23d2-11e8-a6a3-ec086b02610b.jpg: ignoring corrupt image/label: non-normalized or out of bounds coordinates [       1.25        1.25]\n",
            "\u001b[34m\u001b[1mval: \u001b[0mWARNING ⚠️ /content/datasets/my_custom_dataset/test/images/5860ef5d-23d2-11e8-a6a3-ec086b02610b.jpg: ignoring corrupt image/label: non-normalized or out of bounds coordinates [     1.1159]\n",
            "\u001b[34m\u001b[1mval: \u001b[0mWARNING ⚠️ /content/datasets/my_custom_dataset/test/images/5874d3b4-23d2-11e8-a6a3-ec086b02610b.jpg: ignoring corrupt image/label: non-normalized or out of bounds coordinates [     1.0885]\n",
            "\u001b[34m\u001b[1mval: \u001b[0mWARNING ⚠️ /content/datasets/my_custom_dataset/test/images/5874d409-23d2-11e8-a6a3-ec086b02610b.jpg: ignoring corrupt image/label: non-normalized or out of bounds coordinates [       1.25        1.25]\n",
            "\u001b[34m\u001b[1mval: \u001b[0mWARNING ⚠️ /content/datasets/my_custom_dataset/test/images/5874d6a8-23d2-11e8-a6a3-ec086b02610b.jpg: ignoring corrupt image/label: non-normalized or out of bounds coordinates [     1.1138]\n",
            "\u001b[34m\u001b[1mval: \u001b[0mWARNING ⚠️ /content/datasets/my_custom_dataset/test/images/5874d737-23d2-11e8-a6a3-ec086b02610b.jpg: ignoring corrupt image/label: non-normalized or out of bounds coordinates [       1.25        1.25]\n",
            "\u001b[34m\u001b[1mval: \u001b[0mWARNING ⚠️ /content/datasets/my_custom_dataset/test/images/5883e70e-23d2-11e8-a6a3-ec086b02610b.jpg: ignoring corrupt image/label: non-normalized or out of bounds coordinates [     1.1294]\n",
            "\u001b[34m\u001b[1mval: \u001b[0mWARNING ⚠️ /content/datasets/my_custom_dataset/test/images/5883e9df-23d2-11e8-a6a3-ec086b02610b.jpg: ignoring corrupt image/label: non-normalized or out of bounds coordinates [     1.1826]\n",
            "\u001b[34m\u001b[1mval: \u001b[0mWARNING ⚠️ /content/datasets/my_custom_dataset/test/images/5888bda6-23d2-11e8-a6a3-ec086b02610b.jpg: ignoring corrupt image/label: non-normalized or out of bounds coordinates [       1.25        1.25]\n",
            "\u001b[34m\u001b[1mval: \u001b[0mWARNING ⚠️ /content/datasets/my_custom_dataset/test/images/5888be64-23d2-11e8-a6a3-ec086b02610b.jpg: ignoring corrupt image/label: non-normalized or out of bounds coordinates [     1.0137]\n",
            "\u001b[34m\u001b[1mval: \u001b[0mWARNING ⚠️ /content/datasets/my_custom_dataset/test/images/5892b43c-23d2-11e8-a6a3-ec086b02610b.jpg: ignoring corrupt image/label: non-normalized or out of bounds coordinates [      1.104]\n",
            "\u001b[34m\u001b[1mval: \u001b[0mWARNING ⚠️ /content/datasets/my_custom_dataset/test/images/5900a253-23d2-11e8-a6a3-ec086b02610b.jpg: ignoring corrupt image/label: non-normalized or out of bounds coordinates [       1.25        1.25]\n",
            "\u001b[34m\u001b[1mval: \u001b[0mWARNING ⚠️ /content/datasets/my_custom_dataset/test/images/5903cc86-23d2-11e8-a6a3-ec086b02610b.jpg: ignoring corrupt image/label: non-normalized or out of bounds coordinates [     1.1372]\n",
            "\u001b[34m\u001b[1mval: \u001b[0mWARNING ⚠️ /content/datasets/my_custom_dataset/test/images/5906efd3-23d2-11e8-a6a3-ec086b02610b.jpg: ignoring corrupt image/label: non-normalized or out of bounds coordinates [       1.25        1.25]\n",
            "\u001b[34m\u001b[1mval: \u001b[0mWARNING ⚠️ /content/datasets/my_custom_dataset/test/images/5906f195-23d2-11e8-a6a3-ec086b02610b.jpg: ignoring corrupt image/label: non-normalized or out of bounds coordinates [       1.25        1.25]\n",
            "\u001b[34m\u001b[1mval: \u001b[0mWARNING ⚠️ /content/datasets/my_custom_dataset/test/images/5914ee02-23d2-11e8-a6a3-ec086b02610b.jpg: ignoring corrupt image/label: non-normalized or out of bounds coordinates [     1.1484]\n",
            "\u001b[34m\u001b[1mval: \u001b[0mWARNING ⚠️ /content/datasets/my_custom_dataset/test/images/5914ee4d-23d2-11e8-a6a3-ec086b02610b.jpg: ignoring corrupt image/label: non-normalized or out of bounds coordinates [       1.25        1.25]\n",
            "\u001b[34m\u001b[1mval: \u001b[0mWARNING ⚠️ /content/datasets/my_custom_dataset/test/images/5922ecf4-23d2-11e8-a6a3-ec086b02610b.jpg: ignoring corrupt image/label: non-normalized or out of bounds coordinates [     1.0103]\n",
            "\u001b[34m\u001b[1mval: \u001b[0mWARNING ⚠️ /content/datasets/my_custom_dataset/test/images/5922edad-23d2-11e8-a6a3-ec086b02610b.jpg: ignoring corrupt image/label: non-normalized or out of bounds coordinates [       1.25        1.25]\n",
            "\u001b[34m\u001b[1mval: \u001b[0mWARNING ⚠️ /content/datasets/my_custom_dataset/test/images/5938c04b-23d2-11e8-a6a3-ec086b02610b.jpg: ignoring corrupt image/label: non-normalized or out of bounds coordinates [       1.25        1.25]\n",
            "\u001b[34m\u001b[1mval: \u001b[0mWARNING ⚠️ /content/datasets/my_custom_dataset/test/images/5938c1a2-23d2-11e8-a6a3-ec086b02610b.jpg: ignoring corrupt image/label: non-normalized or out of bounds coordinates [       1.25        1.25]\n",
            "\u001b[34m\u001b[1mval: \u001b[0mWARNING ⚠️ /content/datasets/my_custom_dataset/test/images/5938c1d8-23d2-11e8-a6a3-ec086b02610b.jpg: ignoring corrupt image/label: non-normalized or out of bounds coordinates [       1.25        1.25]\n",
            "\u001b[34m\u001b[1mval: \u001b[0mWARNING ⚠️ /content/datasets/my_custom_dataset/test/images/5938c2ff-23d2-11e8-a6a3-ec086b02610b.jpg: ignoring corrupt image/label: non-normalized or out of bounds coordinates [       1.25        1.25]\n",
            "\u001b[34m\u001b[1mval: \u001b[0mWARNING ⚠️ /content/datasets/my_custom_dataset/test/images/5949cfca-23d2-11e8-a6a3-ec086b02610b.jpg: ignoring corrupt image/label: non-normalized or out of bounds coordinates [       1.25        1.25]\n",
            "\u001b[34m\u001b[1mval: \u001b[0mWARNING ⚠️ /content/datasets/my_custom_dataset/test/images/597feed1-23d2-11e8-a6a3-ec086b02610b.jpg: ignoring corrupt image/label: non-normalized or out of bounds coordinates [     1.0459]\n",
            "\u001b[34m\u001b[1mval: \u001b[0mWARNING ⚠️ /content/datasets/my_custom_dataset/test/images/598ad10d-23d2-11e8-a6a3-ec086b02610b.jpg: ignoring corrupt image/label: non-normalized or out of bounds coordinates [       1.25        1.25]\n",
            "\u001b[34m\u001b[1mval: \u001b[0mWARNING ⚠️ /content/datasets/my_custom_dataset/test/images/598c5b8e-23d2-11e8-a6a3-ec086b02610b.jpg: ignoring corrupt image/label: non-normalized or out of bounds coordinates [       1.25        1.25]\n",
            "\u001b[34m\u001b[1mval: \u001b[0mWARNING ⚠️ /content/datasets/my_custom_dataset/test/images/598c5c81-23d2-11e8-a6a3-ec086b02610b.jpg: ignoring corrupt image/label: non-normalized or out of bounds coordinates [       1.25        1.25]\n",
            "\u001b[34m\u001b[1mval: \u001b[0mWARNING ⚠️ /content/datasets/my_custom_dataset/test/images/598de9a9-23d2-11e8-a6a3-ec086b02610b.jpg: ignoring corrupt image/label: non-normalized or out of bounds coordinates [       1.25        1.25]\n",
            "\u001b[34m\u001b[1mval: \u001b[0mWARNING ⚠️ /content/datasets/my_custom_dataset/test/images/599a59d5-23d2-11e8-a6a3-ec086b02610b.jpg: ignoring corrupt image/label: non-normalized or out of bounds coordinates [       1.25        1.25]\n",
            "\u001b[34m\u001b[1mval: \u001b[0mWARNING ⚠️ /content/datasets/my_custom_dataset/test/images/599a5a3d-23d2-11e8-a6a3-ec086b02610b.jpg: ignoring corrupt image/label: non-normalized or out of bounds coordinates [       1.25        1.25]\n",
            "\u001b[34m\u001b[1mval: \u001b[0mWARNING ⚠️ /content/datasets/my_custom_dataset/test/images/599a5ade-23d2-11e8-a6a3-ec086b02610b.jpg: ignoring corrupt image/label: non-normalized or out of bounds coordinates [       1.25        1.25]\n",
            "\u001b[34m\u001b[1mval: \u001b[0mWARNING ⚠️ /content/datasets/my_custom_dataset/test/images/599a5b35-23d2-11e8-a6a3-ec086b02610b.jpg: ignoring corrupt image/label: non-normalized or out of bounds coordinates [       1.25        1.25]\n",
            "\u001b[34m\u001b[1mval: \u001b[0mWARNING ⚠️ /content/datasets/my_custom_dataset/test/images/599be8dc-23d2-11e8-a6a3-ec086b02610b.jpg: ignoring corrupt image/label: non-normalized or out of bounds coordinates [       1.25        1.25]\n",
            "\u001b[34m\u001b[1mval: \u001b[0mWARNING ⚠️ /content/datasets/my_custom_dataset/test/images/599d7b79-23d2-11e8-a6a3-ec086b02610b.jpg: ignoring corrupt image/label: non-normalized or out of bounds coordinates [       1.25        1.25]\n",
            "\u001b[34m\u001b[1mval: \u001b[0mWARNING ⚠️ /content/datasets/my_custom_dataset/test/images/599fbdde-23d2-11e8-a6a3-ec086b02610b.jpg: ignoring corrupt image/label: non-normalized or out of bounds coordinates [       1.25        1.25]\n",
            "\u001b[34m\u001b[1mval: \u001b[0mWARNING ⚠️ /content/datasets/my_custom_dataset/test/images/599fbedd-23d2-11e8-a6a3-ec086b02610b.jpg: ignoring corrupt image/label: non-normalized or out of bounds coordinates [       1.25        1.25]\n",
            "\u001b[34m\u001b[1mval: \u001b[0mWARNING ⚠️ /content/datasets/my_custom_dataset/test/images/599fbefc-23d2-11e8-a6a3-ec086b02610b.jpg: ignoring corrupt image/label: non-normalized or out of bounds coordinates [       1.25        1.25]\n"
          ]
        },
        {
          "name": "stderr",
          "output_type": "stream",
          "text": [
            "\n",
            "                 Class     Images  Instances      Box(P          R      mAP50  mAP50-95): 100%|██████████| 161/161 [02:03<00:00,  1.30it/s]\n"
          ]
        },
        {
          "name": "stdout",
          "output_type": "stream",
          "text": [
            "                   all       2572       2683       0.79      0.754      0.786      0.567\n",
            "               opossum          2          2          0          0          0          0\n",
            "               raccoon         59         83      0.771      0.651      0.709      0.481\n",
            "              squirrel        246        255      0.924      0.906      0.929      0.721\n",
            "                bobcat        130        130       0.97          1      0.991      0.892\n",
            "                 skunk        220        225      0.883      0.902      0.922       0.65\n",
            "                   dog        238        255      0.858      0.902      0.919      0.717\n",
            "                coyote          8          8          1       0.75      0.875      0.678\n",
            "                rabbit        135        153      0.863      0.902      0.912      0.683\n",
            "                   cat          1          1          0          0          0          0\n",
            "                badger        641        645      0.966      0.963      0.977        0.6\n",
            "                 empty        251        259       0.94        0.9      0.927      0.656\n",
            "                   car        436        456      0.915      0.971      0.958      0.709\n",
            "                  deer         25         25      0.952        0.8      0.893      0.493\n",
            "                   fox         43         44      0.925      0.841      0.898      0.658\n",
            "                rodent        142        142      0.885      0.817      0.881      0.572\n",
            "Speed: 1.0ms preprocess, 43.3ms inference, 0.0ms loss, 0.7ms postprocess per image\n",
            "Results saved to \u001b[1mruns/detect/val11\u001b[0m\n",
            "Ultralytics YOLOv8.2.103 🚀 Python-3.11.11 torch-2.5.1+cu124 CUDA:0 (Tesla T4, 15095MiB)\n"
          ]
        },
        {
          "name": "stderr",
          "output_type": "stream",
          "text": [
            "\u001b[34m\u001b[1mval: \u001b[0mScanning /content/datasets/my_custom_dataset/test/labels.cache... 2611 images, 0 backgrounds, 39 corrupt: 100%|██████████| 2611/2611 [00:00<?, ?it/s]"
          ]
        },
        {
          "name": "stdout",
          "output_type": "stream",
          "text": [
            "\u001b[34m\u001b[1mval: \u001b[0mWARNING ⚠️ /content/datasets/my_custom_dataset/test/images/5858bfcd-23d2-11e8-a6a3-ec086b02610b.jpg: ignoring corrupt image/label: non-normalized or out of bounds coordinates [       1.25        1.25]\n",
            "\u001b[34m\u001b[1mval: \u001b[0mWARNING ⚠️ /content/datasets/my_custom_dataset/test/images/5858c28b-23d2-11e8-a6a3-ec086b02610b.jpg: ignoring corrupt image/label: non-normalized or out of bounds coordinates [       1.25        1.25]\n",
            "\u001b[34m\u001b[1mval: \u001b[0mWARNING ⚠️ /content/datasets/my_custom_dataset/test/images/5860ef5d-23d2-11e8-a6a3-ec086b02610b.jpg: ignoring corrupt image/label: non-normalized or out of bounds coordinates [     1.1159]\n",
            "\u001b[34m\u001b[1mval: \u001b[0mWARNING ⚠️ /content/datasets/my_custom_dataset/test/images/5874d3b4-23d2-11e8-a6a3-ec086b02610b.jpg: ignoring corrupt image/label: non-normalized or out of bounds coordinates [     1.0885]\n",
            "\u001b[34m\u001b[1mval: \u001b[0mWARNING ⚠️ /content/datasets/my_custom_dataset/test/images/5874d409-23d2-11e8-a6a3-ec086b02610b.jpg: ignoring corrupt image/label: non-normalized or out of bounds coordinates [       1.25        1.25]\n",
            "\u001b[34m\u001b[1mval: \u001b[0mWARNING ⚠️ /content/datasets/my_custom_dataset/test/images/5874d6a8-23d2-11e8-a6a3-ec086b02610b.jpg: ignoring corrupt image/label: non-normalized or out of bounds coordinates [     1.1138]\n",
            "\u001b[34m\u001b[1mval: \u001b[0mWARNING ⚠️ /content/datasets/my_custom_dataset/test/images/5874d737-23d2-11e8-a6a3-ec086b02610b.jpg: ignoring corrupt image/label: non-normalized or out of bounds coordinates [       1.25        1.25]\n",
            "\u001b[34m\u001b[1mval: \u001b[0mWARNING ⚠️ /content/datasets/my_custom_dataset/test/images/5883e70e-23d2-11e8-a6a3-ec086b02610b.jpg: ignoring corrupt image/label: non-normalized or out of bounds coordinates [     1.1294]\n",
            "\u001b[34m\u001b[1mval: \u001b[0mWARNING ⚠️ /content/datasets/my_custom_dataset/test/images/5883e9df-23d2-11e8-a6a3-ec086b02610b.jpg: ignoring corrupt image/label: non-normalized or out of bounds coordinates [     1.1826]\n",
            "\u001b[34m\u001b[1mval: \u001b[0mWARNING ⚠️ /content/datasets/my_custom_dataset/test/images/5888bda6-23d2-11e8-a6a3-ec086b02610b.jpg: ignoring corrupt image/label: non-normalized or out of bounds coordinates [       1.25        1.25]\n",
            "\u001b[34m\u001b[1mval: \u001b[0mWARNING ⚠️ /content/datasets/my_custom_dataset/test/images/5888be64-23d2-11e8-a6a3-ec086b02610b.jpg: ignoring corrupt image/label: non-normalized or out of bounds coordinates [     1.0137]\n",
            "\u001b[34m\u001b[1mval: \u001b[0mWARNING ⚠️ /content/datasets/my_custom_dataset/test/images/5892b43c-23d2-11e8-a6a3-ec086b02610b.jpg: ignoring corrupt image/label: non-normalized or out of bounds coordinates [      1.104]\n",
            "\u001b[34m\u001b[1mval: \u001b[0mWARNING ⚠️ /content/datasets/my_custom_dataset/test/images/5900a253-23d2-11e8-a6a3-ec086b02610b.jpg: ignoring corrupt image/label: non-normalized or out of bounds coordinates [       1.25        1.25]\n",
            "\u001b[34m\u001b[1mval: \u001b[0mWARNING ⚠️ /content/datasets/my_custom_dataset/test/images/5903cc86-23d2-11e8-a6a3-ec086b02610b.jpg: ignoring corrupt image/label: non-normalized or out of bounds coordinates [     1.1372]\n",
            "\u001b[34m\u001b[1mval: \u001b[0mWARNING ⚠️ /content/datasets/my_custom_dataset/test/images/5906efd3-23d2-11e8-a6a3-ec086b02610b.jpg: ignoring corrupt image/label: non-normalized or out of bounds coordinates [       1.25        1.25]\n",
            "\u001b[34m\u001b[1mval: \u001b[0mWARNING ⚠️ /content/datasets/my_custom_dataset/test/images/5906f195-23d2-11e8-a6a3-ec086b02610b.jpg: ignoring corrupt image/label: non-normalized or out of bounds coordinates [       1.25        1.25]\n",
            "\u001b[34m\u001b[1mval: \u001b[0mWARNING ⚠️ /content/datasets/my_custom_dataset/test/images/5914ee02-23d2-11e8-a6a3-ec086b02610b.jpg: ignoring corrupt image/label: non-normalized or out of bounds coordinates [     1.1484]\n",
            "\u001b[34m\u001b[1mval: \u001b[0mWARNING ⚠️ /content/datasets/my_custom_dataset/test/images/5914ee4d-23d2-11e8-a6a3-ec086b02610b.jpg: ignoring corrupt image/label: non-normalized or out of bounds coordinates [       1.25        1.25]\n",
            "\u001b[34m\u001b[1mval: \u001b[0mWARNING ⚠️ /content/datasets/my_custom_dataset/test/images/5922ecf4-23d2-11e8-a6a3-ec086b02610b.jpg: ignoring corrupt image/label: non-normalized or out of bounds coordinates [     1.0103]\n",
            "\u001b[34m\u001b[1mval: \u001b[0mWARNING ⚠️ /content/datasets/my_custom_dataset/test/images/5922edad-23d2-11e8-a6a3-ec086b02610b.jpg: ignoring corrupt image/label: non-normalized or out of bounds coordinates [       1.25        1.25]\n",
            "\u001b[34m\u001b[1mval: \u001b[0mWARNING ⚠️ /content/datasets/my_custom_dataset/test/images/5938c04b-23d2-11e8-a6a3-ec086b02610b.jpg: ignoring corrupt image/label: non-normalized or out of bounds coordinates [       1.25        1.25]\n",
            "\u001b[34m\u001b[1mval: \u001b[0mWARNING ⚠️ /content/datasets/my_custom_dataset/test/images/5938c1a2-23d2-11e8-a6a3-ec086b02610b.jpg: ignoring corrupt image/label: non-normalized or out of bounds coordinates [       1.25        1.25]\n",
            "\u001b[34m\u001b[1mval: \u001b[0mWARNING ⚠️ /content/datasets/my_custom_dataset/test/images/5938c1d8-23d2-11e8-a6a3-ec086b02610b.jpg: ignoring corrupt image/label: non-normalized or out of bounds coordinates [       1.25        1.25]\n",
            "\u001b[34m\u001b[1mval: \u001b[0mWARNING ⚠️ /content/datasets/my_custom_dataset/test/images/5938c2ff-23d2-11e8-a6a3-ec086b02610b.jpg: ignoring corrupt image/label: non-normalized or out of bounds coordinates [       1.25        1.25]\n",
            "\u001b[34m\u001b[1mval: \u001b[0mWARNING ⚠️ /content/datasets/my_custom_dataset/test/images/5949cfca-23d2-11e8-a6a3-ec086b02610b.jpg: ignoring corrupt image/label: non-normalized or out of bounds coordinates [       1.25        1.25]\n",
            "\u001b[34m\u001b[1mval: \u001b[0mWARNING ⚠️ /content/datasets/my_custom_dataset/test/images/597feed1-23d2-11e8-a6a3-ec086b02610b.jpg: ignoring corrupt image/label: non-normalized or out of bounds coordinates [     1.0459]\n",
            "\u001b[34m\u001b[1mval: \u001b[0mWARNING ⚠️ /content/datasets/my_custom_dataset/test/images/598ad10d-23d2-11e8-a6a3-ec086b02610b.jpg: ignoring corrupt image/label: non-normalized or out of bounds coordinates [       1.25        1.25]\n",
            "\u001b[34m\u001b[1mval: \u001b[0mWARNING ⚠️ /content/datasets/my_custom_dataset/test/images/598c5b8e-23d2-11e8-a6a3-ec086b02610b.jpg: ignoring corrupt image/label: non-normalized or out of bounds coordinates [       1.25        1.25]\n",
            "\u001b[34m\u001b[1mval: \u001b[0mWARNING ⚠️ /content/datasets/my_custom_dataset/test/images/598c5c81-23d2-11e8-a6a3-ec086b02610b.jpg: ignoring corrupt image/label: non-normalized or out of bounds coordinates [       1.25        1.25]\n",
            "\u001b[34m\u001b[1mval: \u001b[0mWARNING ⚠️ /content/datasets/my_custom_dataset/test/images/598de9a9-23d2-11e8-a6a3-ec086b02610b.jpg: ignoring corrupt image/label: non-normalized or out of bounds coordinates [       1.25        1.25]\n",
            "\u001b[34m\u001b[1mval: \u001b[0mWARNING ⚠️ /content/datasets/my_custom_dataset/test/images/599a59d5-23d2-11e8-a6a3-ec086b02610b.jpg: ignoring corrupt image/label: non-normalized or out of bounds coordinates [       1.25        1.25]\n",
            "\u001b[34m\u001b[1mval: \u001b[0mWARNING ⚠️ /content/datasets/my_custom_dataset/test/images/599a5a3d-23d2-11e8-a6a3-ec086b02610b.jpg: ignoring corrupt image/label: non-normalized or out of bounds coordinates [       1.25        1.25]\n",
            "\u001b[34m\u001b[1mval: \u001b[0mWARNING ⚠️ /content/datasets/my_custom_dataset/test/images/599a5ade-23d2-11e8-a6a3-ec086b02610b.jpg: ignoring corrupt image/label: non-normalized or out of bounds coordinates [       1.25        1.25]\n",
            "\u001b[34m\u001b[1mval: \u001b[0mWARNING ⚠️ /content/datasets/my_custom_dataset/test/images/599a5b35-23d2-11e8-a6a3-ec086b02610b.jpg: ignoring corrupt image/label: non-normalized or out of bounds coordinates [       1.25        1.25]\n",
            "\u001b[34m\u001b[1mval: \u001b[0mWARNING ⚠️ /content/datasets/my_custom_dataset/test/images/599be8dc-23d2-11e8-a6a3-ec086b02610b.jpg: ignoring corrupt image/label: non-normalized or out of bounds coordinates [       1.25        1.25]\n",
            "\u001b[34m\u001b[1mval: \u001b[0mWARNING ⚠️ /content/datasets/my_custom_dataset/test/images/599d7b79-23d2-11e8-a6a3-ec086b02610b.jpg: ignoring corrupt image/label: non-normalized or out of bounds coordinates [       1.25        1.25]\n",
            "\u001b[34m\u001b[1mval: \u001b[0mWARNING ⚠️ /content/datasets/my_custom_dataset/test/images/599fbdde-23d2-11e8-a6a3-ec086b02610b.jpg: ignoring corrupt image/label: non-normalized or out of bounds coordinates [       1.25        1.25]\n",
            "\u001b[34m\u001b[1mval: \u001b[0mWARNING ⚠️ /content/datasets/my_custom_dataset/test/images/599fbedd-23d2-11e8-a6a3-ec086b02610b.jpg: ignoring corrupt image/label: non-normalized or out of bounds coordinates [       1.25        1.25]\n",
            "\u001b[34m\u001b[1mval: \u001b[0mWARNING ⚠️ /content/datasets/my_custom_dataset/test/images/599fbefc-23d2-11e8-a6a3-ec086b02610b.jpg: ignoring corrupt image/label: non-normalized or out of bounds coordinates [       1.25        1.25]\n"
          ]
        },
        {
          "name": "stderr",
          "output_type": "stream",
          "text": [
            "\n",
            "                 Class     Images  Instances      Box(P          R      mAP50  mAP50-95): 100%|██████████| 161/161 [02:02<00:00,  1.31it/s]\n"
          ]
        },
        {
          "name": "stdout",
          "output_type": "stream",
          "text": [
            "                   all       2572       2683      0.796      0.743      0.782      0.565\n",
            "               opossum          2          2          0          0          0          0\n",
            "               raccoon         59         83      0.788      0.627      0.703      0.478\n",
            "              squirrel        246        255      0.923      0.898      0.925      0.717\n",
            "                bobcat        130        130      0.977          1      0.991      0.892\n",
            "                 skunk        220        225       0.91      0.893       0.92      0.649\n",
            "                   dog        238        255      0.862      0.882      0.911      0.712\n",
            "                coyote          8          8          1       0.75      0.875      0.678\n",
            "                rabbit        135        153      0.878      0.895       0.91      0.682\n",
            "                   cat          1          1          0          0          0          0\n",
            "                badger        641        645      0.969      0.958      0.974      0.599\n",
            "                 empty        251        259      0.946      0.884       0.92      0.654\n",
            "                   car        436        456      0.923      0.971      0.958       0.71\n",
            "                  deer         25         25       0.95       0.76      0.874      0.483\n",
            "                   fox         43         44      0.923      0.818      0.887       0.65\n",
            "                rodent        142        142      0.898      0.803      0.875      0.569\n",
            "Speed: 0.9ms preprocess, 43.1ms inference, 0.0ms loss, 0.7ms postprocess per image\n",
            "Results saved to \u001b[1mruns/detect/val12\u001b[0m\n",
            "Ultralytics YOLOv8.2.103 🚀 Python-3.11.11 torch-2.5.1+cu124 CUDA:0 (Tesla T4, 15095MiB)\n"
          ]
        },
        {
          "name": "stderr",
          "output_type": "stream",
          "text": [
            "\u001b[34m\u001b[1mval: \u001b[0mScanning /content/datasets/my_custom_dataset/test/labels.cache... 2611 images, 0 backgrounds, 39 corrupt: 100%|██████████| 2611/2611 [00:00<?, ?it/s]"
          ]
        },
        {
          "name": "stdout",
          "output_type": "stream",
          "text": [
            "\u001b[34m\u001b[1mval: \u001b[0mWARNING ⚠️ /content/datasets/my_custom_dataset/test/images/5858bfcd-23d2-11e8-a6a3-ec086b02610b.jpg: ignoring corrupt image/label: non-normalized or out of bounds coordinates [       1.25        1.25]\n",
            "\u001b[34m\u001b[1mval: \u001b[0mWARNING ⚠️ /content/datasets/my_custom_dataset/test/images/5858c28b-23d2-11e8-a6a3-ec086b02610b.jpg: ignoring corrupt image/label: non-normalized or out of bounds coordinates [       1.25        1.25]\n",
            "\u001b[34m\u001b[1mval: \u001b[0mWARNING ⚠️ /content/datasets/my_custom_dataset/test/images/5860ef5d-23d2-11e8-a6a3-ec086b02610b.jpg: ignoring corrupt image/label: non-normalized or out of bounds coordinates [     1.1159]\n",
            "\u001b[34m\u001b[1mval: \u001b[0mWARNING ⚠️ /content/datasets/my_custom_dataset/test/images/5874d3b4-23d2-11e8-a6a3-ec086b02610b.jpg: ignoring corrupt image/label: non-normalized or out of bounds coordinates [     1.0885]\n",
            "\u001b[34m\u001b[1mval: \u001b[0mWARNING ⚠️ /content/datasets/my_custom_dataset/test/images/5874d409-23d2-11e8-a6a3-ec086b02610b.jpg: ignoring corrupt image/label: non-normalized or out of bounds coordinates [       1.25        1.25]\n",
            "\u001b[34m\u001b[1mval: \u001b[0mWARNING ⚠️ /content/datasets/my_custom_dataset/test/images/5874d6a8-23d2-11e8-a6a3-ec086b02610b.jpg: ignoring corrupt image/label: non-normalized or out of bounds coordinates [     1.1138]\n",
            "\u001b[34m\u001b[1mval: \u001b[0mWARNING ⚠️ /content/datasets/my_custom_dataset/test/images/5874d737-23d2-11e8-a6a3-ec086b02610b.jpg: ignoring corrupt image/label: non-normalized or out of bounds coordinates [       1.25        1.25]\n",
            "\u001b[34m\u001b[1mval: \u001b[0mWARNING ⚠️ /content/datasets/my_custom_dataset/test/images/5883e70e-23d2-11e8-a6a3-ec086b02610b.jpg: ignoring corrupt image/label: non-normalized or out of bounds coordinates [     1.1294]\n",
            "\u001b[34m\u001b[1mval: \u001b[0mWARNING ⚠️ /content/datasets/my_custom_dataset/test/images/5883e9df-23d2-11e8-a6a3-ec086b02610b.jpg: ignoring corrupt image/label: non-normalized or out of bounds coordinates [     1.1826]\n",
            "\u001b[34m\u001b[1mval: \u001b[0mWARNING ⚠️ /content/datasets/my_custom_dataset/test/images/5888bda6-23d2-11e8-a6a3-ec086b02610b.jpg: ignoring corrupt image/label: non-normalized or out of bounds coordinates [       1.25        1.25]\n",
            "\u001b[34m\u001b[1mval: \u001b[0mWARNING ⚠️ /content/datasets/my_custom_dataset/test/images/5888be64-23d2-11e8-a6a3-ec086b02610b.jpg: ignoring corrupt image/label: non-normalized or out of bounds coordinates [     1.0137]\n",
            "\u001b[34m\u001b[1mval: \u001b[0mWARNING ⚠️ /content/datasets/my_custom_dataset/test/images/5892b43c-23d2-11e8-a6a3-ec086b02610b.jpg: ignoring corrupt image/label: non-normalized or out of bounds coordinates [      1.104]\n",
            "\u001b[34m\u001b[1mval: \u001b[0mWARNING ⚠️ /content/datasets/my_custom_dataset/test/images/5900a253-23d2-11e8-a6a3-ec086b02610b.jpg: ignoring corrupt image/label: non-normalized or out of bounds coordinates [       1.25        1.25]\n",
            "\u001b[34m\u001b[1mval: \u001b[0mWARNING ⚠️ /content/datasets/my_custom_dataset/test/images/5903cc86-23d2-11e8-a6a3-ec086b02610b.jpg: ignoring corrupt image/label: non-normalized or out of bounds coordinates [     1.1372]\n",
            "\u001b[34m\u001b[1mval: \u001b[0mWARNING ⚠️ /content/datasets/my_custom_dataset/test/images/5906efd3-23d2-11e8-a6a3-ec086b02610b.jpg: ignoring corrupt image/label: non-normalized or out of bounds coordinates [       1.25        1.25]\n",
            "\u001b[34m\u001b[1mval: \u001b[0mWARNING ⚠️ /content/datasets/my_custom_dataset/test/images/5906f195-23d2-11e8-a6a3-ec086b02610b.jpg: ignoring corrupt image/label: non-normalized or out of bounds coordinates [       1.25        1.25]\n",
            "\u001b[34m\u001b[1mval: \u001b[0mWARNING ⚠️ /content/datasets/my_custom_dataset/test/images/5914ee02-23d2-11e8-a6a3-ec086b02610b.jpg: ignoring corrupt image/label: non-normalized or out of bounds coordinates [     1.1484]\n",
            "\u001b[34m\u001b[1mval: \u001b[0mWARNING ⚠️ /content/datasets/my_custom_dataset/test/images/5914ee4d-23d2-11e8-a6a3-ec086b02610b.jpg: ignoring corrupt image/label: non-normalized or out of bounds coordinates [       1.25        1.25]\n",
            "\u001b[34m\u001b[1mval: \u001b[0mWARNING ⚠️ /content/datasets/my_custom_dataset/test/images/5922ecf4-23d2-11e8-a6a3-ec086b02610b.jpg: ignoring corrupt image/label: non-normalized or out of bounds coordinates [     1.0103]\n",
            "\u001b[34m\u001b[1mval: \u001b[0mWARNING ⚠️ /content/datasets/my_custom_dataset/test/images/5922edad-23d2-11e8-a6a3-ec086b02610b.jpg: ignoring corrupt image/label: non-normalized or out of bounds coordinates [       1.25        1.25]\n",
            "\u001b[34m\u001b[1mval: \u001b[0mWARNING ⚠️ /content/datasets/my_custom_dataset/test/images/5938c04b-23d2-11e8-a6a3-ec086b02610b.jpg: ignoring corrupt image/label: non-normalized or out of bounds coordinates [       1.25        1.25]\n",
            "\u001b[34m\u001b[1mval: \u001b[0mWARNING ⚠️ /content/datasets/my_custom_dataset/test/images/5938c1a2-23d2-11e8-a6a3-ec086b02610b.jpg: ignoring corrupt image/label: non-normalized or out of bounds coordinates [       1.25        1.25]\n",
            "\u001b[34m\u001b[1mval: \u001b[0mWARNING ⚠️ /content/datasets/my_custom_dataset/test/images/5938c1d8-23d2-11e8-a6a3-ec086b02610b.jpg: ignoring corrupt image/label: non-normalized or out of bounds coordinates [       1.25        1.25]\n",
            "\u001b[34m\u001b[1mval: \u001b[0mWARNING ⚠️ /content/datasets/my_custom_dataset/test/images/5938c2ff-23d2-11e8-a6a3-ec086b02610b.jpg: ignoring corrupt image/label: non-normalized or out of bounds coordinates [       1.25        1.25]\n",
            "\u001b[34m\u001b[1mval: \u001b[0mWARNING ⚠️ /content/datasets/my_custom_dataset/test/images/5949cfca-23d2-11e8-a6a3-ec086b02610b.jpg: ignoring corrupt image/label: non-normalized or out of bounds coordinates [       1.25        1.25]\n",
            "\u001b[34m\u001b[1mval: \u001b[0mWARNING ⚠️ /content/datasets/my_custom_dataset/test/images/597feed1-23d2-11e8-a6a3-ec086b02610b.jpg: ignoring corrupt image/label: non-normalized or out of bounds coordinates [     1.0459]\n",
            "\u001b[34m\u001b[1mval: \u001b[0mWARNING ⚠️ /content/datasets/my_custom_dataset/test/images/598ad10d-23d2-11e8-a6a3-ec086b02610b.jpg: ignoring corrupt image/label: non-normalized or out of bounds coordinates [       1.25        1.25]\n",
            "\u001b[34m\u001b[1mval: \u001b[0mWARNING ⚠️ /content/datasets/my_custom_dataset/test/images/598c5b8e-23d2-11e8-a6a3-ec086b02610b.jpg: ignoring corrupt image/label: non-normalized or out of bounds coordinates [       1.25        1.25]\n",
            "\u001b[34m\u001b[1mval: \u001b[0mWARNING ⚠️ /content/datasets/my_custom_dataset/test/images/598c5c81-23d2-11e8-a6a3-ec086b02610b.jpg: ignoring corrupt image/label: non-normalized or out of bounds coordinates [       1.25        1.25]\n",
            "\u001b[34m\u001b[1mval: \u001b[0mWARNING ⚠️ /content/datasets/my_custom_dataset/test/images/598de9a9-23d2-11e8-a6a3-ec086b02610b.jpg: ignoring corrupt image/label: non-normalized or out of bounds coordinates [       1.25        1.25]\n",
            "\u001b[34m\u001b[1mval: \u001b[0mWARNING ⚠️ /content/datasets/my_custom_dataset/test/images/599a59d5-23d2-11e8-a6a3-ec086b02610b.jpg: ignoring corrupt image/label: non-normalized or out of bounds coordinates [       1.25        1.25]\n",
            "\u001b[34m\u001b[1mval: \u001b[0mWARNING ⚠️ /content/datasets/my_custom_dataset/test/images/599a5a3d-23d2-11e8-a6a3-ec086b02610b.jpg: ignoring corrupt image/label: non-normalized or out of bounds coordinates [       1.25        1.25]\n",
            "\u001b[34m\u001b[1mval: \u001b[0mWARNING ⚠️ /content/datasets/my_custom_dataset/test/images/599a5ade-23d2-11e8-a6a3-ec086b02610b.jpg: ignoring corrupt image/label: non-normalized or out of bounds coordinates [       1.25        1.25]\n",
            "\u001b[34m\u001b[1mval: \u001b[0mWARNING ⚠️ /content/datasets/my_custom_dataset/test/images/599a5b35-23d2-11e8-a6a3-ec086b02610b.jpg: ignoring corrupt image/label: non-normalized or out of bounds coordinates [       1.25        1.25]\n",
            "\u001b[34m\u001b[1mval: \u001b[0mWARNING ⚠️ /content/datasets/my_custom_dataset/test/images/599be8dc-23d2-11e8-a6a3-ec086b02610b.jpg: ignoring corrupt image/label: non-normalized or out of bounds coordinates [       1.25        1.25]\n",
            "\u001b[34m\u001b[1mval: \u001b[0mWARNING ⚠️ /content/datasets/my_custom_dataset/test/images/599d7b79-23d2-11e8-a6a3-ec086b02610b.jpg: ignoring corrupt image/label: non-normalized or out of bounds coordinates [       1.25        1.25]\n",
            "\u001b[34m\u001b[1mval: \u001b[0mWARNING ⚠️ /content/datasets/my_custom_dataset/test/images/599fbdde-23d2-11e8-a6a3-ec086b02610b.jpg: ignoring corrupt image/label: non-normalized or out of bounds coordinates [       1.25        1.25]\n",
            "\u001b[34m\u001b[1mval: \u001b[0mWARNING ⚠️ /content/datasets/my_custom_dataset/test/images/599fbedd-23d2-11e8-a6a3-ec086b02610b.jpg: ignoring corrupt image/label: non-normalized or out of bounds coordinates [       1.25        1.25]\n",
            "\u001b[34m\u001b[1mval: \u001b[0mWARNING ⚠️ /content/datasets/my_custom_dataset/test/images/599fbefc-23d2-11e8-a6a3-ec086b02610b.jpg: ignoring corrupt image/label: non-normalized or out of bounds coordinates [       1.25        1.25]\n"
          ]
        },
        {
          "name": "stderr",
          "output_type": "stream",
          "text": [
            "\n",
            "                 Class     Images  Instances      Box(P          R      mAP50  mAP50-95): 100%|██████████| 161/161 [02:02<00:00,  1.31it/s]\n"
          ]
        },
        {
          "name": "stdout",
          "output_type": "stream",
          "text": [
            "                   all       2572       2683      0.807       0.73      0.776      0.563\n",
            "               opossum          2          2          0          0          0          0\n",
            "               raccoon         59         83        0.8      0.627      0.705       0.48\n",
            "              squirrel        246        255      0.923      0.894      0.923      0.716\n",
            "                bobcat        130        130      0.992          1      0.991      0.892\n",
            "                 skunk        220        225      0.909      0.889      0.918      0.648\n",
            "                   dog        238        255      0.871      0.875      0.908      0.711\n",
            "                coyote          8          8          1      0.625      0.812      0.639\n",
            "                rabbit        135        153      0.889      0.889      0.907      0.683\n",
            "                   cat          1          1          0          0          0          0\n",
            "                badger        641        645      0.969      0.957      0.974      0.599\n",
            "                 empty        251        259      0.949      0.869      0.913      0.652\n",
            "                   car        436        456      0.933      0.971      0.958       0.71\n",
            "                  deer         25         25          1       0.76       0.88      0.488\n",
            "                   fox         43         44      0.947      0.818       0.89      0.652\n",
            "                rodent        142        142      0.924      0.775      0.865       0.57\n",
            "Speed: 0.5ms preprocess, 43.5ms inference, 0.0ms loss, 0.7ms postprocess per image\n",
            "Results saved to \u001b[1mruns/detect/val13\u001b[0m\n",
            "Ultralytics YOLOv8.2.103 🚀 Python-3.11.11 torch-2.5.1+cu124 CUDA:0 (Tesla T4, 15095MiB)\n"
          ]
        },
        {
          "name": "stderr",
          "output_type": "stream",
          "text": [
            "\u001b[34m\u001b[1mval: \u001b[0mScanning /content/datasets/my_custom_dataset/test/labels.cache... 2611 images, 0 backgrounds, 39 corrupt: 100%|██████████| 2611/2611 [00:00<?, ?it/s]"
          ]
        },
        {
          "name": "stdout",
          "output_type": "stream",
          "text": [
            "\u001b[34m\u001b[1mval: \u001b[0mWARNING ⚠️ /content/datasets/my_custom_dataset/test/images/5858bfcd-23d2-11e8-a6a3-ec086b02610b.jpg: ignoring corrupt image/label: non-normalized or out of bounds coordinates [       1.25        1.25]\n",
            "\u001b[34m\u001b[1mval: \u001b[0mWARNING ⚠️ /content/datasets/my_custom_dataset/test/images/5858c28b-23d2-11e8-a6a3-ec086b02610b.jpg: ignoring corrupt image/label: non-normalized or out of bounds coordinates [       1.25        1.25]\n",
            "\u001b[34m\u001b[1mval: \u001b[0mWARNING ⚠️ /content/datasets/my_custom_dataset/test/images/5860ef5d-23d2-11e8-a6a3-ec086b02610b.jpg: ignoring corrupt image/label: non-normalized or out of bounds coordinates [     1.1159]\n",
            "\u001b[34m\u001b[1mval: \u001b[0mWARNING ⚠️ /content/datasets/my_custom_dataset/test/images/5874d3b4-23d2-11e8-a6a3-ec086b02610b.jpg: ignoring corrupt image/label: non-normalized or out of bounds coordinates [     1.0885]\n",
            "\u001b[34m\u001b[1mval: \u001b[0mWARNING ⚠️ /content/datasets/my_custom_dataset/test/images/5874d409-23d2-11e8-a6a3-ec086b02610b.jpg: ignoring corrupt image/label: non-normalized or out of bounds coordinates [       1.25        1.25]\n",
            "\u001b[34m\u001b[1mval: \u001b[0mWARNING ⚠️ /content/datasets/my_custom_dataset/test/images/5874d6a8-23d2-11e8-a6a3-ec086b02610b.jpg: ignoring corrupt image/label: non-normalized or out of bounds coordinates [     1.1138]\n",
            "\u001b[34m\u001b[1mval: \u001b[0mWARNING ⚠️ /content/datasets/my_custom_dataset/test/images/5874d737-23d2-11e8-a6a3-ec086b02610b.jpg: ignoring corrupt image/label: non-normalized or out of bounds coordinates [       1.25        1.25]\n",
            "\u001b[34m\u001b[1mval: \u001b[0mWARNING ⚠️ /content/datasets/my_custom_dataset/test/images/5883e70e-23d2-11e8-a6a3-ec086b02610b.jpg: ignoring corrupt image/label: non-normalized or out of bounds coordinates [     1.1294]\n",
            "\u001b[34m\u001b[1mval: \u001b[0mWARNING ⚠️ /content/datasets/my_custom_dataset/test/images/5883e9df-23d2-11e8-a6a3-ec086b02610b.jpg: ignoring corrupt image/label: non-normalized or out of bounds coordinates [     1.1826]\n",
            "\u001b[34m\u001b[1mval: \u001b[0mWARNING ⚠️ /content/datasets/my_custom_dataset/test/images/5888bda6-23d2-11e8-a6a3-ec086b02610b.jpg: ignoring corrupt image/label: non-normalized or out of bounds coordinates [       1.25        1.25]\n",
            "\u001b[34m\u001b[1mval: \u001b[0mWARNING ⚠️ /content/datasets/my_custom_dataset/test/images/5888be64-23d2-11e8-a6a3-ec086b02610b.jpg: ignoring corrupt image/label: non-normalized or out of bounds coordinates [     1.0137]\n",
            "\u001b[34m\u001b[1mval: \u001b[0mWARNING ⚠️ /content/datasets/my_custom_dataset/test/images/5892b43c-23d2-11e8-a6a3-ec086b02610b.jpg: ignoring corrupt image/label: non-normalized or out of bounds coordinates [      1.104]\n",
            "\u001b[34m\u001b[1mval: \u001b[0mWARNING ⚠️ /content/datasets/my_custom_dataset/test/images/5900a253-23d2-11e8-a6a3-ec086b02610b.jpg: ignoring corrupt image/label: non-normalized or out of bounds coordinates [       1.25        1.25]\n",
            "\u001b[34m\u001b[1mval: \u001b[0mWARNING ⚠️ /content/datasets/my_custom_dataset/test/images/5903cc86-23d2-11e8-a6a3-ec086b02610b.jpg: ignoring corrupt image/label: non-normalized or out of bounds coordinates [     1.1372]\n",
            "\u001b[34m\u001b[1mval: \u001b[0mWARNING ⚠️ /content/datasets/my_custom_dataset/test/images/5906efd3-23d2-11e8-a6a3-ec086b02610b.jpg: ignoring corrupt image/label: non-normalized or out of bounds coordinates [       1.25        1.25]\n",
            "\u001b[34m\u001b[1mval: \u001b[0mWARNING ⚠️ /content/datasets/my_custom_dataset/test/images/5906f195-23d2-11e8-a6a3-ec086b02610b.jpg: ignoring corrupt image/label: non-normalized or out of bounds coordinates [       1.25        1.25]\n",
            "\u001b[34m\u001b[1mval: \u001b[0mWARNING ⚠️ /content/datasets/my_custom_dataset/test/images/5914ee02-23d2-11e8-a6a3-ec086b02610b.jpg: ignoring corrupt image/label: non-normalized or out of bounds coordinates [     1.1484]\n",
            "\u001b[34m\u001b[1mval: \u001b[0mWARNING ⚠️ /content/datasets/my_custom_dataset/test/images/5914ee4d-23d2-11e8-a6a3-ec086b02610b.jpg: ignoring corrupt image/label: non-normalized or out of bounds coordinates [       1.25        1.25]\n",
            "\u001b[34m\u001b[1mval: \u001b[0mWARNING ⚠️ /content/datasets/my_custom_dataset/test/images/5922ecf4-23d2-11e8-a6a3-ec086b02610b.jpg: ignoring corrupt image/label: non-normalized or out of bounds coordinates [     1.0103]\n",
            "\u001b[34m\u001b[1mval: \u001b[0mWARNING ⚠️ /content/datasets/my_custom_dataset/test/images/5922edad-23d2-11e8-a6a3-ec086b02610b.jpg: ignoring corrupt image/label: non-normalized or out of bounds coordinates [       1.25        1.25]\n",
            "\u001b[34m\u001b[1mval: \u001b[0mWARNING ⚠️ /content/datasets/my_custom_dataset/test/images/5938c04b-23d2-11e8-a6a3-ec086b02610b.jpg: ignoring corrupt image/label: non-normalized or out of bounds coordinates [       1.25        1.25]\n",
            "\u001b[34m\u001b[1mval: \u001b[0mWARNING ⚠️ /content/datasets/my_custom_dataset/test/images/5938c1a2-23d2-11e8-a6a3-ec086b02610b.jpg: ignoring corrupt image/label: non-normalized or out of bounds coordinates [       1.25        1.25]\n",
            "\u001b[34m\u001b[1mval: \u001b[0mWARNING ⚠️ /content/datasets/my_custom_dataset/test/images/5938c1d8-23d2-11e8-a6a3-ec086b02610b.jpg: ignoring corrupt image/label: non-normalized or out of bounds coordinates [       1.25        1.25]\n",
            "\u001b[34m\u001b[1mval: \u001b[0mWARNING ⚠️ /content/datasets/my_custom_dataset/test/images/5938c2ff-23d2-11e8-a6a3-ec086b02610b.jpg: ignoring corrupt image/label: non-normalized or out of bounds coordinates [       1.25        1.25]\n",
            "\u001b[34m\u001b[1mval: \u001b[0mWARNING ⚠️ /content/datasets/my_custom_dataset/test/images/5949cfca-23d2-11e8-a6a3-ec086b02610b.jpg: ignoring corrupt image/label: non-normalized or out of bounds coordinates [       1.25        1.25]\n",
            "\u001b[34m\u001b[1mval: \u001b[0mWARNING ⚠️ /content/datasets/my_custom_dataset/test/images/597feed1-23d2-11e8-a6a3-ec086b02610b.jpg: ignoring corrupt image/label: non-normalized or out of bounds coordinates [     1.0459]\n",
            "\u001b[34m\u001b[1mval: \u001b[0mWARNING ⚠️ /content/datasets/my_custom_dataset/test/images/598ad10d-23d2-11e8-a6a3-ec086b02610b.jpg: ignoring corrupt image/label: non-normalized or out of bounds coordinates [       1.25        1.25]\n",
            "\u001b[34m\u001b[1mval: \u001b[0mWARNING ⚠️ /content/datasets/my_custom_dataset/test/images/598c5b8e-23d2-11e8-a6a3-ec086b02610b.jpg: ignoring corrupt image/label: non-normalized or out of bounds coordinates [       1.25        1.25]\n",
            "\u001b[34m\u001b[1mval: \u001b[0mWARNING ⚠️ /content/datasets/my_custom_dataset/test/images/598c5c81-23d2-11e8-a6a3-ec086b02610b.jpg: ignoring corrupt image/label: non-normalized or out of bounds coordinates [       1.25        1.25]\n",
            "\u001b[34m\u001b[1mval: \u001b[0mWARNING ⚠️ /content/datasets/my_custom_dataset/test/images/598de9a9-23d2-11e8-a6a3-ec086b02610b.jpg: ignoring corrupt image/label: non-normalized or out of bounds coordinates [       1.25        1.25]\n",
            "\u001b[34m\u001b[1mval: \u001b[0mWARNING ⚠️ /content/datasets/my_custom_dataset/test/images/599a59d5-23d2-11e8-a6a3-ec086b02610b.jpg: ignoring corrupt image/label: non-normalized or out of bounds coordinates [       1.25        1.25]\n",
            "\u001b[34m\u001b[1mval: \u001b[0mWARNING ⚠️ /content/datasets/my_custom_dataset/test/images/599a5a3d-23d2-11e8-a6a3-ec086b02610b.jpg: ignoring corrupt image/label: non-normalized or out of bounds coordinates [       1.25        1.25]\n",
            "\u001b[34m\u001b[1mval: \u001b[0mWARNING ⚠️ /content/datasets/my_custom_dataset/test/images/599a5ade-23d2-11e8-a6a3-ec086b02610b.jpg: ignoring corrupt image/label: non-normalized or out of bounds coordinates [       1.25        1.25]\n",
            "\u001b[34m\u001b[1mval: \u001b[0mWARNING ⚠️ /content/datasets/my_custom_dataset/test/images/599a5b35-23d2-11e8-a6a3-ec086b02610b.jpg: ignoring corrupt image/label: non-normalized or out of bounds coordinates [       1.25        1.25]\n",
            "\u001b[34m\u001b[1mval: \u001b[0mWARNING ⚠️ /content/datasets/my_custom_dataset/test/images/599be8dc-23d2-11e8-a6a3-ec086b02610b.jpg: ignoring corrupt image/label: non-normalized or out of bounds coordinates [       1.25        1.25]\n",
            "\u001b[34m\u001b[1mval: \u001b[0mWARNING ⚠️ /content/datasets/my_custom_dataset/test/images/599d7b79-23d2-11e8-a6a3-ec086b02610b.jpg: ignoring corrupt image/label: non-normalized or out of bounds coordinates [       1.25        1.25]\n",
            "\u001b[34m\u001b[1mval: \u001b[0mWARNING ⚠️ /content/datasets/my_custom_dataset/test/images/599fbdde-23d2-11e8-a6a3-ec086b02610b.jpg: ignoring corrupt image/label: non-normalized or out of bounds coordinates [       1.25        1.25]\n",
            "\u001b[34m\u001b[1mval: \u001b[0mWARNING ⚠️ /content/datasets/my_custom_dataset/test/images/599fbedd-23d2-11e8-a6a3-ec086b02610b.jpg: ignoring corrupt image/label: non-normalized or out of bounds coordinates [       1.25        1.25]\n",
            "\u001b[34m\u001b[1mval: \u001b[0mWARNING ⚠️ /content/datasets/my_custom_dataset/test/images/599fbefc-23d2-11e8-a6a3-ec086b02610b.jpg: ignoring corrupt image/label: non-normalized or out of bounds coordinates [       1.25        1.25]\n"
          ]
        },
        {
          "name": "stderr",
          "output_type": "stream",
          "text": [
            "\n",
            "                 Class     Images  Instances      Box(P          R      mAP50  mAP50-95): 100%|██████████| 161/161 [02:02<00:00,  1.32it/s]\n"
          ]
        },
        {
          "name": "stdout",
          "output_type": "stream",
          "text": [
            "                   all       2572       2683      0.811      0.706      0.765      0.557\n",
            "               opossum          2          2          0          0          0          0\n",
            "               raccoon         59         83      0.806      0.602      0.697      0.474\n",
            "              squirrel        246        255      0.929      0.878      0.916      0.713\n",
            "                bobcat        130        130      0.992          1      0.991      0.892\n",
            "                 skunk        220        225      0.917      0.889      0.918      0.648\n",
            "                   dog        238        255      0.888      0.867      0.906       0.71\n",
            "                coyote          8          8          1        0.5       0.75      0.588\n",
            "                rabbit        135        153      0.893      0.876      0.902       0.68\n",
            "                   cat          1          1          0          0          0          0\n",
            "                badger        641        645      0.972      0.953      0.972      0.599\n",
            "                 empty        251        259      0.961      0.857      0.908       0.65\n",
            "                   car        436        456      0.934      0.967      0.956      0.709\n",
            "                  deer         25         25          1       0.64       0.82      0.478\n",
            "                   fox         43         44      0.947      0.818       0.89      0.652\n",
            "                rodent        142        142      0.929      0.739       0.85      0.565\n",
            "Speed: 0.5ms preprocess, 43.2ms inference, 0.0ms loss, 0.7ms postprocess per image\n",
            "Results saved to \u001b[1mruns/detect/val14\u001b[0m\n",
            "Ultralytics YOLOv8.2.103 🚀 Python-3.11.11 torch-2.5.1+cu124 CUDA:0 (Tesla T4, 15095MiB)\n"
          ]
        },
        {
          "name": "stderr",
          "output_type": "stream",
          "text": [
            "\u001b[34m\u001b[1mval: \u001b[0mScanning /content/datasets/my_custom_dataset/test/labels.cache... 2611 images, 0 backgrounds, 39 corrupt: 100%|██████████| 2611/2611 [00:00<?, ?it/s]"
          ]
        },
        {
          "name": "stdout",
          "output_type": "stream",
          "text": [
            "\u001b[34m\u001b[1mval: \u001b[0mWARNING ⚠️ /content/datasets/my_custom_dataset/test/images/5858bfcd-23d2-11e8-a6a3-ec086b02610b.jpg: ignoring corrupt image/label: non-normalized or out of bounds coordinates [       1.25        1.25]\n",
            "\u001b[34m\u001b[1mval: \u001b[0mWARNING ⚠️ /content/datasets/my_custom_dataset/test/images/5858c28b-23d2-11e8-a6a3-ec086b02610b.jpg: ignoring corrupt image/label: non-normalized or out of bounds coordinates [       1.25        1.25]\n",
            "\u001b[34m\u001b[1mval: \u001b[0mWARNING ⚠️ /content/datasets/my_custom_dataset/test/images/5860ef5d-23d2-11e8-a6a3-ec086b02610b.jpg: ignoring corrupt image/label: non-normalized or out of bounds coordinates [     1.1159]\n",
            "\u001b[34m\u001b[1mval: \u001b[0mWARNING ⚠️ /content/datasets/my_custom_dataset/test/images/5874d3b4-23d2-11e8-a6a3-ec086b02610b.jpg: ignoring corrupt image/label: non-normalized or out of bounds coordinates [     1.0885]\n",
            "\u001b[34m\u001b[1mval: \u001b[0mWARNING ⚠️ /content/datasets/my_custom_dataset/test/images/5874d409-23d2-11e8-a6a3-ec086b02610b.jpg: ignoring corrupt image/label: non-normalized or out of bounds coordinates [       1.25        1.25]\n",
            "\u001b[34m\u001b[1mval: \u001b[0mWARNING ⚠️ /content/datasets/my_custom_dataset/test/images/5874d6a8-23d2-11e8-a6a3-ec086b02610b.jpg: ignoring corrupt image/label: non-normalized or out of bounds coordinates [     1.1138]\n",
            "\u001b[34m\u001b[1mval: \u001b[0mWARNING ⚠️ /content/datasets/my_custom_dataset/test/images/5874d737-23d2-11e8-a6a3-ec086b02610b.jpg: ignoring corrupt image/label: non-normalized or out of bounds coordinates [       1.25        1.25]\n",
            "\u001b[34m\u001b[1mval: \u001b[0mWARNING ⚠️ /content/datasets/my_custom_dataset/test/images/5883e70e-23d2-11e8-a6a3-ec086b02610b.jpg: ignoring corrupt image/label: non-normalized or out of bounds coordinates [     1.1294]\n",
            "\u001b[34m\u001b[1mval: \u001b[0mWARNING ⚠️ /content/datasets/my_custom_dataset/test/images/5883e9df-23d2-11e8-a6a3-ec086b02610b.jpg: ignoring corrupt image/label: non-normalized or out of bounds coordinates [     1.1826]\n",
            "\u001b[34m\u001b[1mval: \u001b[0mWARNING ⚠️ /content/datasets/my_custom_dataset/test/images/5888bda6-23d2-11e8-a6a3-ec086b02610b.jpg: ignoring corrupt image/label: non-normalized or out of bounds coordinates [       1.25        1.25]\n",
            "\u001b[34m\u001b[1mval: \u001b[0mWARNING ⚠️ /content/datasets/my_custom_dataset/test/images/5888be64-23d2-11e8-a6a3-ec086b02610b.jpg: ignoring corrupt image/label: non-normalized or out of bounds coordinates [     1.0137]\n",
            "\u001b[34m\u001b[1mval: \u001b[0mWARNING ⚠️ /content/datasets/my_custom_dataset/test/images/5892b43c-23d2-11e8-a6a3-ec086b02610b.jpg: ignoring corrupt image/label: non-normalized or out of bounds coordinates [      1.104]\n",
            "\u001b[34m\u001b[1mval: \u001b[0mWARNING ⚠️ /content/datasets/my_custom_dataset/test/images/5900a253-23d2-11e8-a6a3-ec086b02610b.jpg: ignoring corrupt image/label: non-normalized or out of bounds coordinates [       1.25        1.25]\n",
            "\u001b[34m\u001b[1mval: \u001b[0mWARNING ⚠️ /content/datasets/my_custom_dataset/test/images/5903cc86-23d2-11e8-a6a3-ec086b02610b.jpg: ignoring corrupt image/label: non-normalized or out of bounds coordinates [     1.1372]\n",
            "\u001b[34m\u001b[1mval: \u001b[0mWARNING ⚠️ /content/datasets/my_custom_dataset/test/images/5906efd3-23d2-11e8-a6a3-ec086b02610b.jpg: ignoring corrupt image/label: non-normalized or out of bounds coordinates [       1.25        1.25]\n",
            "\u001b[34m\u001b[1mval: \u001b[0mWARNING ⚠️ /content/datasets/my_custom_dataset/test/images/5906f195-23d2-11e8-a6a3-ec086b02610b.jpg: ignoring corrupt image/label: non-normalized or out of bounds coordinates [       1.25        1.25]\n",
            "\u001b[34m\u001b[1mval: \u001b[0mWARNING ⚠️ /content/datasets/my_custom_dataset/test/images/5914ee02-23d2-11e8-a6a3-ec086b02610b.jpg: ignoring corrupt image/label: non-normalized or out of bounds coordinates [     1.1484]\n",
            "\u001b[34m\u001b[1mval: \u001b[0mWARNING ⚠️ /content/datasets/my_custom_dataset/test/images/5914ee4d-23d2-11e8-a6a3-ec086b02610b.jpg: ignoring corrupt image/label: non-normalized or out of bounds coordinates [       1.25        1.25]\n",
            "\u001b[34m\u001b[1mval: \u001b[0mWARNING ⚠️ /content/datasets/my_custom_dataset/test/images/5922ecf4-23d2-11e8-a6a3-ec086b02610b.jpg: ignoring corrupt image/label: non-normalized or out of bounds coordinates [     1.0103]\n",
            "\u001b[34m\u001b[1mval: \u001b[0mWARNING ⚠️ /content/datasets/my_custom_dataset/test/images/5922edad-23d2-11e8-a6a3-ec086b02610b.jpg: ignoring corrupt image/label: non-normalized or out of bounds coordinates [       1.25        1.25]\n",
            "\u001b[34m\u001b[1mval: \u001b[0mWARNING ⚠️ /content/datasets/my_custom_dataset/test/images/5938c04b-23d2-11e8-a6a3-ec086b02610b.jpg: ignoring corrupt image/label: non-normalized or out of bounds coordinates [       1.25        1.25]\n",
            "\u001b[34m\u001b[1mval: \u001b[0mWARNING ⚠️ /content/datasets/my_custom_dataset/test/images/5938c1a2-23d2-11e8-a6a3-ec086b02610b.jpg: ignoring corrupt image/label: non-normalized or out of bounds coordinates [       1.25        1.25]\n",
            "\u001b[34m\u001b[1mval: \u001b[0mWARNING ⚠️ /content/datasets/my_custom_dataset/test/images/5938c1d8-23d2-11e8-a6a3-ec086b02610b.jpg: ignoring corrupt image/label: non-normalized or out of bounds coordinates [       1.25        1.25]\n",
            "\u001b[34m\u001b[1mval: \u001b[0mWARNING ⚠️ /content/datasets/my_custom_dataset/test/images/5938c2ff-23d2-11e8-a6a3-ec086b02610b.jpg: ignoring corrupt image/label: non-normalized or out of bounds coordinates [       1.25        1.25]\n",
            "\u001b[34m\u001b[1mval: \u001b[0mWARNING ⚠️ /content/datasets/my_custom_dataset/test/images/5949cfca-23d2-11e8-a6a3-ec086b02610b.jpg: ignoring corrupt image/label: non-normalized or out of bounds coordinates [       1.25        1.25]\n",
            "\u001b[34m\u001b[1mval: \u001b[0mWARNING ⚠️ /content/datasets/my_custom_dataset/test/images/597feed1-23d2-11e8-a6a3-ec086b02610b.jpg: ignoring corrupt image/label: non-normalized or out of bounds coordinates [     1.0459]\n",
            "\u001b[34m\u001b[1mval: \u001b[0mWARNING ⚠️ /content/datasets/my_custom_dataset/test/images/598ad10d-23d2-11e8-a6a3-ec086b02610b.jpg: ignoring corrupt image/label: non-normalized or out of bounds coordinates [       1.25        1.25]\n",
            "\u001b[34m\u001b[1mval: \u001b[0mWARNING ⚠️ /content/datasets/my_custom_dataset/test/images/598c5b8e-23d2-11e8-a6a3-ec086b02610b.jpg: ignoring corrupt image/label: non-normalized or out of bounds coordinates [       1.25        1.25]\n",
            "\u001b[34m\u001b[1mval: \u001b[0mWARNING ⚠️ /content/datasets/my_custom_dataset/test/images/598c5c81-23d2-11e8-a6a3-ec086b02610b.jpg: ignoring corrupt image/label: non-normalized or out of bounds coordinates [       1.25        1.25]\n",
            "\u001b[34m\u001b[1mval: \u001b[0mWARNING ⚠️ /content/datasets/my_custom_dataset/test/images/598de9a9-23d2-11e8-a6a3-ec086b02610b.jpg: ignoring corrupt image/label: non-normalized or out of bounds coordinates [       1.25        1.25]\n",
            "\u001b[34m\u001b[1mval: \u001b[0mWARNING ⚠️ /content/datasets/my_custom_dataset/test/images/599a59d5-23d2-11e8-a6a3-ec086b02610b.jpg: ignoring corrupt image/label: non-normalized or out of bounds coordinates [       1.25        1.25]\n",
            "\u001b[34m\u001b[1mval: \u001b[0mWARNING ⚠️ /content/datasets/my_custom_dataset/test/images/599a5a3d-23d2-11e8-a6a3-ec086b02610b.jpg: ignoring corrupt image/label: non-normalized or out of bounds coordinates [       1.25        1.25]\n",
            "\u001b[34m\u001b[1mval: \u001b[0mWARNING ⚠️ /content/datasets/my_custom_dataset/test/images/599a5ade-23d2-11e8-a6a3-ec086b02610b.jpg: ignoring corrupt image/label: non-normalized or out of bounds coordinates [       1.25        1.25]\n",
            "\u001b[34m\u001b[1mval: \u001b[0mWARNING ⚠️ /content/datasets/my_custom_dataset/test/images/599a5b35-23d2-11e8-a6a3-ec086b02610b.jpg: ignoring corrupt image/label: non-normalized or out of bounds coordinates [       1.25        1.25]\n",
            "\u001b[34m\u001b[1mval: \u001b[0mWARNING ⚠️ /content/datasets/my_custom_dataset/test/images/599be8dc-23d2-11e8-a6a3-ec086b02610b.jpg: ignoring corrupt image/label: non-normalized or out of bounds coordinates [       1.25        1.25]\n",
            "\u001b[34m\u001b[1mval: \u001b[0mWARNING ⚠️ /content/datasets/my_custom_dataset/test/images/599d7b79-23d2-11e8-a6a3-ec086b02610b.jpg: ignoring corrupt image/label: non-normalized or out of bounds coordinates [       1.25        1.25]\n",
            "\u001b[34m\u001b[1mval: \u001b[0mWARNING ⚠️ /content/datasets/my_custom_dataset/test/images/599fbdde-23d2-11e8-a6a3-ec086b02610b.jpg: ignoring corrupt image/label: non-normalized or out of bounds coordinates [       1.25        1.25]\n",
            "\u001b[34m\u001b[1mval: \u001b[0mWARNING ⚠️ /content/datasets/my_custom_dataset/test/images/599fbedd-23d2-11e8-a6a3-ec086b02610b.jpg: ignoring corrupt image/label: non-normalized or out of bounds coordinates [       1.25        1.25]\n",
            "\u001b[34m\u001b[1mval: \u001b[0mWARNING ⚠️ /content/datasets/my_custom_dataset/test/images/599fbefc-23d2-11e8-a6a3-ec086b02610b.jpg: ignoring corrupt image/label: non-normalized or out of bounds coordinates [       1.25        1.25]\n"
          ]
        },
        {
          "name": "stderr",
          "output_type": "stream",
          "text": [
            "\n",
            "                 Class     Images  Instances      Box(P          R      mAP50  mAP50-95): 100%|██████████| 161/161 [02:02<00:00,  1.31it/s]\n"
          ]
        },
        {
          "name": "stdout",
          "output_type": "stream",
          "text": [
            "                   all       2572       2683      0.814      0.694       0.76      0.555\n",
            "               opossum          2          2          0          0          0          0\n",
            "               raccoon         59         83       0.81      0.566      0.683      0.466\n",
            "              squirrel        246        255      0.929      0.875      0.914      0.712\n",
            "                bobcat        130        130      0.992          1      0.991      0.892\n",
            "                 skunk        220        225      0.921      0.884      0.916      0.647\n",
            "                   dog        238        255      0.898      0.859      0.903      0.709\n",
            "                coyote          8          8          1        0.5       0.75      0.588\n",
            "                rabbit        135        153      0.899      0.869      0.899      0.678\n",
            "                   cat          1          1          0          0          0          0\n",
            "                badger        641        645      0.973      0.947      0.969      0.597\n",
            "                 empty        251        259      0.965      0.857      0.909       0.65\n",
            "                   car        436        456      0.934      0.965      0.955      0.709\n",
            "                  deer         25         25          1       0.56       0.78       0.47\n",
            "                   fox         43         44      0.946      0.795      0.879      0.644\n",
            "                rodent        142        142      0.937      0.732      0.847      0.565\n",
            "Speed: 0.8ms preprocess, 43.1ms inference, 0.0ms loss, 0.7ms postprocess per image\n",
            "Results saved to \u001b[1mruns/detect/val15\u001b[0m\n",
            "Ultralytics YOLOv8.2.103 🚀 Python-3.11.11 torch-2.5.1+cu124 CUDA:0 (Tesla T4, 15095MiB)\n"
          ]
        },
        {
          "name": "stderr",
          "output_type": "stream",
          "text": [
            "\u001b[34m\u001b[1mval: \u001b[0mScanning /content/datasets/my_custom_dataset/test/labels.cache... 2611 images, 0 backgrounds, 39 corrupt: 100%|██████████| 2611/2611 [00:00<?, ?it/s]"
          ]
        },
        {
          "name": "stdout",
          "output_type": "stream",
          "text": [
            "\u001b[34m\u001b[1mval: \u001b[0mWARNING ⚠️ /content/datasets/my_custom_dataset/test/images/5858bfcd-23d2-11e8-a6a3-ec086b02610b.jpg: ignoring corrupt image/label: non-normalized or out of bounds coordinates [       1.25        1.25]\n",
            "\u001b[34m\u001b[1mval: \u001b[0mWARNING ⚠️ /content/datasets/my_custom_dataset/test/images/5858c28b-23d2-11e8-a6a3-ec086b02610b.jpg: ignoring corrupt image/label: non-normalized or out of bounds coordinates [       1.25        1.25]\n",
            "\u001b[34m\u001b[1mval: \u001b[0mWARNING ⚠️ /content/datasets/my_custom_dataset/test/images/5860ef5d-23d2-11e8-a6a3-ec086b02610b.jpg: ignoring corrupt image/label: non-normalized or out of bounds coordinates [     1.1159]\n",
            "\u001b[34m\u001b[1mval: \u001b[0mWARNING ⚠️ /content/datasets/my_custom_dataset/test/images/5874d3b4-23d2-11e8-a6a3-ec086b02610b.jpg: ignoring corrupt image/label: non-normalized or out of bounds coordinates [     1.0885]\n",
            "\u001b[34m\u001b[1mval: \u001b[0mWARNING ⚠️ /content/datasets/my_custom_dataset/test/images/5874d409-23d2-11e8-a6a3-ec086b02610b.jpg: ignoring corrupt image/label: non-normalized or out of bounds coordinates [       1.25        1.25]\n",
            "\u001b[34m\u001b[1mval: \u001b[0mWARNING ⚠️ /content/datasets/my_custom_dataset/test/images/5874d6a8-23d2-11e8-a6a3-ec086b02610b.jpg: ignoring corrupt image/label: non-normalized or out of bounds coordinates [     1.1138]\n",
            "\u001b[34m\u001b[1mval: \u001b[0mWARNING ⚠️ /content/datasets/my_custom_dataset/test/images/5874d737-23d2-11e8-a6a3-ec086b02610b.jpg: ignoring corrupt image/label: non-normalized or out of bounds coordinates [       1.25        1.25]\n",
            "\u001b[34m\u001b[1mval: \u001b[0mWARNING ⚠️ /content/datasets/my_custom_dataset/test/images/5883e70e-23d2-11e8-a6a3-ec086b02610b.jpg: ignoring corrupt image/label: non-normalized or out of bounds coordinates [     1.1294]\n",
            "\u001b[34m\u001b[1mval: \u001b[0mWARNING ⚠️ /content/datasets/my_custom_dataset/test/images/5883e9df-23d2-11e8-a6a3-ec086b02610b.jpg: ignoring corrupt image/label: non-normalized or out of bounds coordinates [     1.1826]\n",
            "\u001b[34m\u001b[1mval: \u001b[0mWARNING ⚠️ /content/datasets/my_custom_dataset/test/images/5888bda6-23d2-11e8-a6a3-ec086b02610b.jpg: ignoring corrupt image/label: non-normalized or out of bounds coordinates [       1.25        1.25]\n",
            "\u001b[34m\u001b[1mval: \u001b[0mWARNING ⚠️ /content/datasets/my_custom_dataset/test/images/5888be64-23d2-11e8-a6a3-ec086b02610b.jpg: ignoring corrupt image/label: non-normalized or out of bounds coordinates [     1.0137]\n",
            "\u001b[34m\u001b[1mval: \u001b[0mWARNING ⚠️ /content/datasets/my_custom_dataset/test/images/5892b43c-23d2-11e8-a6a3-ec086b02610b.jpg: ignoring corrupt image/label: non-normalized or out of bounds coordinates [      1.104]\n",
            "\u001b[34m\u001b[1mval: \u001b[0mWARNING ⚠️ /content/datasets/my_custom_dataset/test/images/5900a253-23d2-11e8-a6a3-ec086b02610b.jpg: ignoring corrupt image/label: non-normalized or out of bounds coordinates [       1.25        1.25]\n",
            "\u001b[34m\u001b[1mval: \u001b[0mWARNING ⚠️ /content/datasets/my_custom_dataset/test/images/5903cc86-23d2-11e8-a6a3-ec086b02610b.jpg: ignoring corrupt image/label: non-normalized or out of bounds coordinates [     1.1372]\n",
            "\u001b[34m\u001b[1mval: \u001b[0mWARNING ⚠️ /content/datasets/my_custom_dataset/test/images/5906efd3-23d2-11e8-a6a3-ec086b02610b.jpg: ignoring corrupt image/label: non-normalized or out of bounds coordinates [       1.25        1.25]\n",
            "\u001b[34m\u001b[1mval: \u001b[0mWARNING ⚠️ /content/datasets/my_custom_dataset/test/images/5906f195-23d2-11e8-a6a3-ec086b02610b.jpg: ignoring corrupt image/label: non-normalized or out of bounds coordinates [       1.25        1.25]\n",
            "\u001b[34m\u001b[1mval: \u001b[0mWARNING ⚠️ /content/datasets/my_custom_dataset/test/images/5914ee02-23d2-11e8-a6a3-ec086b02610b.jpg: ignoring corrupt image/label: non-normalized or out of bounds coordinates [     1.1484]\n",
            "\u001b[34m\u001b[1mval: \u001b[0mWARNING ⚠️ /content/datasets/my_custom_dataset/test/images/5914ee4d-23d2-11e8-a6a3-ec086b02610b.jpg: ignoring corrupt image/label: non-normalized or out of bounds coordinates [       1.25        1.25]\n",
            "\u001b[34m\u001b[1mval: \u001b[0mWARNING ⚠️ /content/datasets/my_custom_dataset/test/images/5922ecf4-23d2-11e8-a6a3-ec086b02610b.jpg: ignoring corrupt image/label: non-normalized or out of bounds coordinates [     1.0103]\n",
            "\u001b[34m\u001b[1mval: \u001b[0mWARNING ⚠️ /content/datasets/my_custom_dataset/test/images/5922edad-23d2-11e8-a6a3-ec086b02610b.jpg: ignoring corrupt image/label: non-normalized or out of bounds coordinates [       1.25        1.25]\n",
            "\u001b[34m\u001b[1mval: \u001b[0mWARNING ⚠️ /content/datasets/my_custom_dataset/test/images/5938c04b-23d2-11e8-a6a3-ec086b02610b.jpg: ignoring corrupt image/label: non-normalized or out of bounds coordinates [       1.25        1.25]\n",
            "\u001b[34m\u001b[1mval: \u001b[0mWARNING ⚠️ /content/datasets/my_custom_dataset/test/images/5938c1a2-23d2-11e8-a6a3-ec086b02610b.jpg: ignoring corrupt image/label: non-normalized or out of bounds coordinates [       1.25        1.25]\n",
            "\u001b[34m\u001b[1mval: \u001b[0mWARNING ⚠️ /content/datasets/my_custom_dataset/test/images/5938c1d8-23d2-11e8-a6a3-ec086b02610b.jpg: ignoring corrupt image/label: non-normalized or out of bounds coordinates [       1.25        1.25]\n",
            "\u001b[34m\u001b[1mval: \u001b[0mWARNING ⚠️ /content/datasets/my_custom_dataset/test/images/5938c2ff-23d2-11e8-a6a3-ec086b02610b.jpg: ignoring corrupt image/label: non-normalized or out of bounds coordinates [       1.25        1.25]\n",
            "\u001b[34m\u001b[1mval: \u001b[0mWARNING ⚠️ /content/datasets/my_custom_dataset/test/images/5949cfca-23d2-11e8-a6a3-ec086b02610b.jpg: ignoring corrupt image/label: non-normalized or out of bounds coordinates [       1.25        1.25]\n",
            "\u001b[34m\u001b[1mval: \u001b[0mWARNING ⚠️ /content/datasets/my_custom_dataset/test/images/597feed1-23d2-11e8-a6a3-ec086b02610b.jpg: ignoring corrupt image/label: non-normalized or out of bounds coordinates [     1.0459]\n",
            "\u001b[34m\u001b[1mval: \u001b[0mWARNING ⚠️ /content/datasets/my_custom_dataset/test/images/598ad10d-23d2-11e8-a6a3-ec086b02610b.jpg: ignoring corrupt image/label: non-normalized or out of bounds coordinates [       1.25        1.25]\n",
            "\u001b[34m\u001b[1mval: \u001b[0mWARNING ⚠️ /content/datasets/my_custom_dataset/test/images/598c5b8e-23d2-11e8-a6a3-ec086b02610b.jpg: ignoring corrupt image/label: non-normalized or out of bounds coordinates [       1.25        1.25]\n",
            "\u001b[34m\u001b[1mval: \u001b[0mWARNING ⚠️ /content/datasets/my_custom_dataset/test/images/598c5c81-23d2-11e8-a6a3-ec086b02610b.jpg: ignoring corrupt image/label: non-normalized or out of bounds coordinates [       1.25        1.25]\n",
            "\u001b[34m\u001b[1mval: \u001b[0mWARNING ⚠️ /content/datasets/my_custom_dataset/test/images/598de9a9-23d2-11e8-a6a3-ec086b02610b.jpg: ignoring corrupt image/label: non-normalized or out of bounds coordinates [       1.25        1.25]\n",
            "\u001b[34m\u001b[1mval: \u001b[0mWARNING ⚠️ /content/datasets/my_custom_dataset/test/images/599a59d5-23d2-11e8-a6a3-ec086b02610b.jpg: ignoring corrupt image/label: non-normalized or out of bounds coordinates [       1.25        1.25]\n",
            "\u001b[34m\u001b[1mval: \u001b[0mWARNING ⚠️ /content/datasets/my_custom_dataset/test/images/599a5a3d-23d2-11e8-a6a3-ec086b02610b.jpg: ignoring corrupt image/label: non-normalized or out of bounds coordinates [       1.25        1.25]\n",
            "\u001b[34m\u001b[1mval: \u001b[0mWARNING ⚠️ /content/datasets/my_custom_dataset/test/images/599a5ade-23d2-11e8-a6a3-ec086b02610b.jpg: ignoring corrupt image/label: non-normalized or out of bounds coordinates [       1.25        1.25]\n",
            "\u001b[34m\u001b[1mval: \u001b[0mWARNING ⚠️ /content/datasets/my_custom_dataset/test/images/599a5b35-23d2-11e8-a6a3-ec086b02610b.jpg: ignoring corrupt image/label: non-normalized or out of bounds coordinates [       1.25        1.25]\n",
            "\u001b[34m\u001b[1mval: \u001b[0mWARNING ⚠️ /content/datasets/my_custom_dataset/test/images/599be8dc-23d2-11e8-a6a3-ec086b02610b.jpg: ignoring corrupt image/label: non-normalized or out of bounds coordinates [       1.25        1.25]\n",
            "\u001b[34m\u001b[1mval: \u001b[0mWARNING ⚠️ /content/datasets/my_custom_dataset/test/images/599d7b79-23d2-11e8-a6a3-ec086b02610b.jpg: ignoring corrupt image/label: non-normalized or out of bounds coordinates [       1.25        1.25]\n",
            "\u001b[34m\u001b[1mval: \u001b[0mWARNING ⚠️ /content/datasets/my_custom_dataset/test/images/599fbdde-23d2-11e8-a6a3-ec086b02610b.jpg: ignoring corrupt image/label: non-normalized or out of bounds coordinates [       1.25        1.25]\n",
            "\u001b[34m\u001b[1mval: \u001b[0mWARNING ⚠️ /content/datasets/my_custom_dataset/test/images/599fbedd-23d2-11e8-a6a3-ec086b02610b.jpg: ignoring corrupt image/label: non-normalized or out of bounds coordinates [       1.25        1.25]\n",
            "\u001b[34m\u001b[1mval: \u001b[0mWARNING ⚠️ /content/datasets/my_custom_dataset/test/images/599fbefc-23d2-11e8-a6a3-ec086b02610b.jpg: ignoring corrupt image/label: non-normalized or out of bounds coordinates [       1.25        1.25]\n"
          ]
        },
        {
          "name": "stderr",
          "output_type": "stream",
          "text": [
            "\n",
            "                 Class     Images  Instances      Box(P          R      mAP50  mAP50-95): 100%|██████████| 161/161 [02:02<00:00,  1.31it/s]\n"
          ]
        },
        {
          "name": "stdout",
          "output_type": "stream",
          "text": [
            "                   all       2572       2683       0.82      0.681      0.754      0.553\n",
            "               opossum          2          2          0          0          0          0\n",
            "               raccoon         59         83       0.83       0.53      0.673      0.462\n",
            "              squirrel        246        255      0.933      0.871      0.913      0.711\n",
            "                bobcat        130        130      0.992      0.992      0.991      0.892\n",
            "                 skunk        220        225      0.932      0.853      0.903      0.641\n",
            "                   dog        238        255      0.916      0.855      0.902      0.709\n",
            "                coyote          8          8          1        0.5       0.75      0.588\n",
            "                rabbit        135        153      0.903      0.856      0.894      0.675\n",
            "                   cat          1          1          0          0          0          0\n",
            "                badger        641        645      0.978      0.944      0.968      0.597\n",
            "                 empty        251        259      0.965      0.849      0.905      0.647\n",
            "                   car        436        456      0.938      0.961      0.954      0.708\n",
            "                  deer         25         25          1       0.52       0.76      0.463\n",
            "                   fox         43         44      0.944      0.773      0.868      0.637\n",
            "                rodent        142        142      0.962      0.704      0.838      0.565\n",
            "Speed: 0.4ms preprocess, 43.7ms inference, 0.0ms loss, 0.7ms postprocess per image\n",
            "Results saved to \u001b[1mruns/detect/val16\u001b[0m\n",
            "Ultralytics YOLOv8.2.103 🚀 Python-3.11.11 torch-2.5.1+cu124 CUDA:0 (Tesla T4, 15095MiB)\n"
          ]
        },
        {
          "name": "stderr",
          "output_type": "stream",
          "text": [
            "\u001b[34m\u001b[1mval: \u001b[0mScanning /content/datasets/my_custom_dataset/test/labels.cache... 2611 images, 0 backgrounds, 39 corrupt: 100%|██████████| 2611/2611 [00:00<?, ?it/s]"
          ]
        },
        {
          "name": "stdout",
          "output_type": "stream",
          "text": [
            "\u001b[34m\u001b[1mval: \u001b[0mWARNING ⚠️ /content/datasets/my_custom_dataset/test/images/5858bfcd-23d2-11e8-a6a3-ec086b02610b.jpg: ignoring corrupt image/label: non-normalized or out of bounds coordinates [       1.25        1.25]\n",
            "\u001b[34m\u001b[1mval: \u001b[0mWARNING ⚠️ /content/datasets/my_custom_dataset/test/images/5858c28b-23d2-11e8-a6a3-ec086b02610b.jpg: ignoring corrupt image/label: non-normalized or out of bounds coordinates [       1.25        1.25]\n",
            "\u001b[34m\u001b[1mval: \u001b[0mWARNING ⚠️ /content/datasets/my_custom_dataset/test/images/5860ef5d-23d2-11e8-a6a3-ec086b02610b.jpg: ignoring corrupt image/label: non-normalized or out of bounds coordinates [     1.1159]\n",
            "\u001b[34m\u001b[1mval: \u001b[0mWARNING ⚠️ /content/datasets/my_custom_dataset/test/images/5874d3b4-23d2-11e8-a6a3-ec086b02610b.jpg: ignoring corrupt image/label: non-normalized or out of bounds coordinates [     1.0885]\n",
            "\u001b[34m\u001b[1mval: \u001b[0mWARNING ⚠️ /content/datasets/my_custom_dataset/test/images/5874d409-23d2-11e8-a6a3-ec086b02610b.jpg: ignoring corrupt image/label: non-normalized or out of bounds coordinates [       1.25        1.25]\n",
            "\u001b[34m\u001b[1mval: \u001b[0mWARNING ⚠️ /content/datasets/my_custom_dataset/test/images/5874d6a8-23d2-11e8-a6a3-ec086b02610b.jpg: ignoring corrupt image/label: non-normalized or out of bounds coordinates [     1.1138]\n",
            "\u001b[34m\u001b[1mval: \u001b[0mWARNING ⚠️ /content/datasets/my_custom_dataset/test/images/5874d737-23d2-11e8-a6a3-ec086b02610b.jpg: ignoring corrupt image/label: non-normalized or out of bounds coordinates [       1.25        1.25]\n",
            "\u001b[34m\u001b[1mval: \u001b[0mWARNING ⚠️ /content/datasets/my_custom_dataset/test/images/5883e70e-23d2-11e8-a6a3-ec086b02610b.jpg: ignoring corrupt image/label: non-normalized or out of bounds coordinates [     1.1294]\n",
            "\u001b[34m\u001b[1mval: \u001b[0mWARNING ⚠️ /content/datasets/my_custom_dataset/test/images/5883e9df-23d2-11e8-a6a3-ec086b02610b.jpg: ignoring corrupt image/label: non-normalized or out of bounds coordinates [     1.1826]\n",
            "\u001b[34m\u001b[1mval: \u001b[0mWARNING ⚠️ /content/datasets/my_custom_dataset/test/images/5888bda6-23d2-11e8-a6a3-ec086b02610b.jpg: ignoring corrupt image/label: non-normalized or out of bounds coordinates [       1.25        1.25]\n",
            "\u001b[34m\u001b[1mval: \u001b[0mWARNING ⚠️ /content/datasets/my_custom_dataset/test/images/5888be64-23d2-11e8-a6a3-ec086b02610b.jpg: ignoring corrupt image/label: non-normalized or out of bounds coordinates [     1.0137]\n",
            "\u001b[34m\u001b[1mval: \u001b[0mWARNING ⚠️ /content/datasets/my_custom_dataset/test/images/5892b43c-23d2-11e8-a6a3-ec086b02610b.jpg: ignoring corrupt image/label: non-normalized or out of bounds coordinates [      1.104]\n",
            "\u001b[34m\u001b[1mval: \u001b[0mWARNING ⚠️ /content/datasets/my_custom_dataset/test/images/5900a253-23d2-11e8-a6a3-ec086b02610b.jpg: ignoring corrupt image/label: non-normalized or out of bounds coordinates [       1.25        1.25]\n",
            "\u001b[34m\u001b[1mval: \u001b[0mWARNING ⚠️ /content/datasets/my_custom_dataset/test/images/5903cc86-23d2-11e8-a6a3-ec086b02610b.jpg: ignoring corrupt image/label: non-normalized or out of bounds coordinates [     1.1372]\n",
            "\u001b[34m\u001b[1mval: \u001b[0mWARNING ⚠️ /content/datasets/my_custom_dataset/test/images/5906efd3-23d2-11e8-a6a3-ec086b02610b.jpg: ignoring corrupt image/label: non-normalized or out of bounds coordinates [       1.25        1.25]\n",
            "\u001b[34m\u001b[1mval: \u001b[0mWARNING ⚠️ /content/datasets/my_custom_dataset/test/images/5906f195-23d2-11e8-a6a3-ec086b02610b.jpg: ignoring corrupt image/label: non-normalized or out of bounds coordinates [       1.25        1.25]\n",
            "\u001b[34m\u001b[1mval: \u001b[0mWARNING ⚠️ /content/datasets/my_custom_dataset/test/images/5914ee02-23d2-11e8-a6a3-ec086b02610b.jpg: ignoring corrupt image/label: non-normalized or out of bounds coordinates [     1.1484]\n",
            "\u001b[34m\u001b[1mval: \u001b[0mWARNING ⚠️ /content/datasets/my_custom_dataset/test/images/5914ee4d-23d2-11e8-a6a3-ec086b02610b.jpg: ignoring corrupt image/label: non-normalized or out of bounds coordinates [       1.25        1.25]\n",
            "\u001b[34m\u001b[1mval: \u001b[0mWARNING ⚠️ /content/datasets/my_custom_dataset/test/images/5922ecf4-23d2-11e8-a6a3-ec086b02610b.jpg: ignoring corrupt image/label: non-normalized or out of bounds coordinates [     1.0103]\n",
            "\u001b[34m\u001b[1mval: \u001b[0mWARNING ⚠️ /content/datasets/my_custom_dataset/test/images/5922edad-23d2-11e8-a6a3-ec086b02610b.jpg: ignoring corrupt image/label: non-normalized or out of bounds coordinates [       1.25        1.25]\n",
            "\u001b[34m\u001b[1mval: \u001b[0mWARNING ⚠️ /content/datasets/my_custom_dataset/test/images/5938c04b-23d2-11e8-a6a3-ec086b02610b.jpg: ignoring corrupt image/label: non-normalized or out of bounds coordinates [       1.25        1.25]\n",
            "\u001b[34m\u001b[1mval: \u001b[0mWARNING ⚠️ /content/datasets/my_custom_dataset/test/images/5938c1a2-23d2-11e8-a6a3-ec086b02610b.jpg: ignoring corrupt image/label: non-normalized or out of bounds coordinates [       1.25        1.25]\n",
            "\u001b[34m\u001b[1mval: \u001b[0mWARNING ⚠️ /content/datasets/my_custom_dataset/test/images/5938c1d8-23d2-11e8-a6a3-ec086b02610b.jpg: ignoring corrupt image/label: non-normalized or out of bounds coordinates [       1.25        1.25]\n",
            "\u001b[34m\u001b[1mval: \u001b[0mWARNING ⚠️ /content/datasets/my_custom_dataset/test/images/5938c2ff-23d2-11e8-a6a3-ec086b02610b.jpg: ignoring corrupt image/label: non-normalized or out of bounds coordinates [       1.25        1.25]\n",
            "\u001b[34m\u001b[1mval: \u001b[0mWARNING ⚠️ /content/datasets/my_custom_dataset/test/images/5949cfca-23d2-11e8-a6a3-ec086b02610b.jpg: ignoring corrupt image/label: non-normalized or out of bounds coordinates [       1.25        1.25]\n",
            "\u001b[34m\u001b[1mval: \u001b[0mWARNING ⚠️ /content/datasets/my_custom_dataset/test/images/597feed1-23d2-11e8-a6a3-ec086b02610b.jpg: ignoring corrupt image/label: non-normalized or out of bounds coordinates [     1.0459]\n",
            "\u001b[34m\u001b[1mval: \u001b[0mWARNING ⚠️ /content/datasets/my_custom_dataset/test/images/598ad10d-23d2-11e8-a6a3-ec086b02610b.jpg: ignoring corrupt image/label: non-normalized or out of bounds coordinates [       1.25        1.25]\n",
            "\u001b[34m\u001b[1mval: \u001b[0mWARNING ⚠️ /content/datasets/my_custom_dataset/test/images/598c5b8e-23d2-11e8-a6a3-ec086b02610b.jpg: ignoring corrupt image/label: non-normalized or out of bounds coordinates [       1.25        1.25]\n",
            "\u001b[34m\u001b[1mval: \u001b[0mWARNING ⚠️ /content/datasets/my_custom_dataset/test/images/598c5c81-23d2-11e8-a6a3-ec086b02610b.jpg: ignoring corrupt image/label: non-normalized or out of bounds coordinates [       1.25        1.25]\n",
            "\u001b[34m\u001b[1mval: \u001b[0mWARNING ⚠️ /content/datasets/my_custom_dataset/test/images/598de9a9-23d2-11e8-a6a3-ec086b02610b.jpg: ignoring corrupt image/label: non-normalized or out of bounds coordinates [       1.25        1.25]\n",
            "\u001b[34m\u001b[1mval: \u001b[0mWARNING ⚠️ /content/datasets/my_custom_dataset/test/images/599a59d5-23d2-11e8-a6a3-ec086b02610b.jpg: ignoring corrupt image/label: non-normalized or out of bounds coordinates [       1.25        1.25]\n",
            "\u001b[34m\u001b[1mval: \u001b[0mWARNING ⚠️ /content/datasets/my_custom_dataset/test/images/599a5a3d-23d2-11e8-a6a3-ec086b02610b.jpg: ignoring corrupt image/label: non-normalized or out of bounds coordinates [       1.25        1.25]\n",
            "\u001b[34m\u001b[1mval: \u001b[0mWARNING ⚠️ /content/datasets/my_custom_dataset/test/images/599a5ade-23d2-11e8-a6a3-ec086b02610b.jpg: ignoring corrupt image/label: non-normalized or out of bounds coordinates [       1.25        1.25]\n",
            "\u001b[34m\u001b[1mval: \u001b[0mWARNING ⚠️ /content/datasets/my_custom_dataset/test/images/599a5b35-23d2-11e8-a6a3-ec086b02610b.jpg: ignoring corrupt image/label: non-normalized or out of bounds coordinates [       1.25        1.25]\n",
            "\u001b[34m\u001b[1mval: \u001b[0mWARNING ⚠️ /content/datasets/my_custom_dataset/test/images/599be8dc-23d2-11e8-a6a3-ec086b02610b.jpg: ignoring corrupt image/label: non-normalized or out of bounds coordinates [       1.25        1.25]\n",
            "\u001b[34m\u001b[1mval: \u001b[0mWARNING ⚠️ /content/datasets/my_custom_dataset/test/images/599d7b79-23d2-11e8-a6a3-ec086b02610b.jpg: ignoring corrupt image/label: non-normalized or out of bounds coordinates [       1.25        1.25]\n",
            "\u001b[34m\u001b[1mval: \u001b[0mWARNING ⚠️ /content/datasets/my_custom_dataset/test/images/599fbdde-23d2-11e8-a6a3-ec086b02610b.jpg: ignoring corrupt image/label: non-normalized or out of bounds coordinates [       1.25        1.25]\n",
            "\u001b[34m\u001b[1mval: \u001b[0mWARNING ⚠️ /content/datasets/my_custom_dataset/test/images/599fbedd-23d2-11e8-a6a3-ec086b02610b.jpg: ignoring corrupt image/label: non-normalized or out of bounds coordinates [       1.25        1.25]\n",
            "\u001b[34m\u001b[1mval: \u001b[0mWARNING ⚠️ /content/datasets/my_custom_dataset/test/images/599fbefc-23d2-11e8-a6a3-ec086b02610b.jpg: ignoring corrupt image/label: non-normalized or out of bounds coordinates [       1.25        1.25]\n"
          ]
        },
        {
          "name": "stderr",
          "output_type": "stream",
          "text": [
            "\n",
            "                 Class     Images  Instances      Box(P          R      mAP50  mAP50-95): 100%|██████████| 161/161 [02:02<00:00,  1.32it/s]\n"
          ]
        },
        {
          "name": "stdout",
          "output_type": "stream",
          "text": [
            "                   all       2572       2683      0.824      0.662      0.746      0.548\n",
            "               opossum          2          2          0          0          0          0\n",
            "               raccoon         59         83      0.854      0.494      0.664      0.458\n",
            "              squirrel        246        255       0.94      0.863       0.91      0.709\n",
            "                bobcat        130        130      0.992      0.992      0.991      0.892\n",
            "                 skunk        220        225      0.936      0.849      0.901      0.639\n",
            "                   dog        238        255      0.918      0.839      0.895      0.706\n",
            "                coyote          8          8          1        0.5       0.75      0.588\n",
            "                rabbit        135        153      0.915       0.85      0.892      0.675\n",
            "                   cat          1          1          0          0          0          0\n",
            "                badger        641        645      0.979       0.93      0.961      0.594\n",
            "                 empty        251        259      0.972      0.819      0.891      0.641\n",
            "                   car        436        456      0.942      0.954       0.95      0.707\n",
            "                  deer         25         25          1        0.4        0.7      0.417\n",
            "                   fox         43         44      0.944      0.773      0.868      0.637\n",
            "                rodent        142        142      0.969      0.669      0.822      0.555\n",
            "Speed: 0.8ms preprocess, 43.1ms inference, 0.0ms loss, 0.7ms postprocess per image\n",
            "Results saved to \u001b[1mruns/detect/val17\u001b[0m\n",
            "Ultralytics YOLOv8.2.103 🚀 Python-3.11.11 torch-2.5.1+cu124 CUDA:0 (Tesla T4, 15095MiB)\n"
          ]
        },
        {
          "name": "stderr",
          "output_type": "stream",
          "text": [
            "\u001b[34m\u001b[1mval: \u001b[0mScanning /content/datasets/my_custom_dataset/test/labels.cache... 2611 images, 0 backgrounds, 39 corrupt: 100%|██████████| 2611/2611 [00:00<?, ?it/s]"
          ]
        },
        {
          "name": "stdout",
          "output_type": "stream",
          "text": [
            "\u001b[34m\u001b[1mval: \u001b[0mWARNING ⚠️ /content/datasets/my_custom_dataset/test/images/5858bfcd-23d2-11e8-a6a3-ec086b02610b.jpg: ignoring corrupt image/label: non-normalized or out of bounds coordinates [       1.25        1.25]\n",
            "\u001b[34m\u001b[1mval: \u001b[0mWARNING ⚠️ /content/datasets/my_custom_dataset/test/images/5858c28b-23d2-11e8-a6a3-ec086b02610b.jpg: ignoring corrupt image/label: non-normalized or out of bounds coordinates [       1.25        1.25]\n",
            "\u001b[34m\u001b[1mval: \u001b[0mWARNING ⚠️ /content/datasets/my_custom_dataset/test/images/5860ef5d-23d2-11e8-a6a3-ec086b02610b.jpg: ignoring corrupt image/label: non-normalized or out of bounds coordinates [     1.1159]\n",
            "\u001b[34m\u001b[1mval: \u001b[0mWARNING ⚠️ /content/datasets/my_custom_dataset/test/images/5874d3b4-23d2-11e8-a6a3-ec086b02610b.jpg: ignoring corrupt image/label: non-normalized or out of bounds coordinates [     1.0885]\n",
            "\u001b[34m\u001b[1mval: \u001b[0mWARNING ⚠️ /content/datasets/my_custom_dataset/test/images/5874d409-23d2-11e8-a6a3-ec086b02610b.jpg: ignoring corrupt image/label: non-normalized or out of bounds coordinates [       1.25        1.25]\n",
            "\u001b[34m\u001b[1mval: \u001b[0mWARNING ⚠️ /content/datasets/my_custom_dataset/test/images/5874d6a8-23d2-11e8-a6a3-ec086b02610b.jpg: ignoring corrupt image/label: non-normalized or out of bounds coordinates [     1.1138]\n",
            "\u001b[34m\u001b[1mval: \u001b[0mWARNING ⚠️ /content/datasets/my_custom_dataset/test/images/5874d737-23d2-11e8-a6a3-ec086b02610b.jpg: ignoring corrupt image/label: non-normalized or out of bounds coordinates [       1.25        1.25]\n",
            "\u001b[34m\u001b[1mval: \u001b[0mWARNING ⚠️ /content/datasets/my_custom_dataset/test/images/5883e70e-23d2-11e8-a6a3-ec086b02610b.jpg: ignoring corrupt image/label: non-normalized or out of bounds coordinates [     1.1294]\n",
            "\u001b[34m\u001b[1mval: \u001b[0mWARNING ⚠️ /content/datasets/my_custom_dataset/test/images/5883e9df-23d2-11e8-a6a3-ec086b02610b.jpg: ignoring corrupt image/label: non-normalized or out of bounds coordinates [     1.1826]\n",
            "\u001b[34m\u001b[1mval: \u001b[0mWARNING ⚠️ /content/datasets/my_custom_dataset/test/images/5888bda6-23d2-11e8-a6a3-ec086b02610b.jpg: ignoring corrupt image/label: non-normalized or out of bounds coordinates [       1.25        1.25]\n",
            "\u001b[34m\u001b[1mval: \u001b[0mWARNING ⚠️ /content/datasets/my_custom_dataset/test/images/5888be64-23d2-11e8-a6a3-ec086b02610b.jpg: ignoring corrupt image/label: non-normalized or out of bounds coordinates [     1.0137]\n",
            "\u001b[34m\u001b[1mval: \u001b[0mWARNING ⚠️ /content/datasets/my_custom_dataset/test/images/5892b43c-23d2-11e8-a6a3-ec086b02610b.jpg: ignoring corrupt image/label: non-normalized or out of bounds coordinates [      1.104]\n",
            "\u001b[34m\u001b[1mval: \u001b[0mWARNING ⚠️ /content/datasets/my_custom_dataset/test/images/5900a253-23d2-11e8-a6a3-ec086b02610b.jpg: ignoring corrupt image/label: non-normalized or out of bounds coordinates [       1.25        1.25]\n",
            "\u001b[34m\u001b[1mval: \u001b[0mWARNING ⚠️ /content/datasets/my_custom_dataset/test/images/5903cc86-23d2-11e8-a6a3-ec086b02610b.jpg: ignoring corrupt image/label: non-normalized or out of bounds coordinates [     1.1372]\n",
            "\u001b[34m\u001b[1mval: \u001b[0mWARNING ⚠️ /content/datasets/my_custom_dataset/test/images/5906efd3-23d2-11e8-a6a3-ec086b02610b.jpg: ignoring corrupt image/label: non-normalized or out of bounds coordinates [       1.25        1.25]\n",
            "\u001b[34m\u001b[1mval: \u001b[0mWARNING ⚠️ /content/datasets/my_custom_dataset/test/images/5906f195-23d2-11e8-a6a3-ec086b02610b.jpg: ignoring corrupt image/label: non-normalized or out of bounds coordinates [       1.25        1.25]\n",
            "\u001b[34m\u001b[1mval: \u001b[0mWARNING ⚠️ /content/datasets/my_custom_dataset/test/images/5914ee02-23d2-11e8-a6a3-ec086b02610b.jpg: ignoring corrupt image/label: non-normalized or out of bounds coordinates [     1.1484]\n",
            "\u001b[34m\u001b[1mval: \u001b[0mWARNING ⚠️ /content/datasets/my_custom_dataset/test/images/5914ee4d-23d2-11e8-a6a3-ec086b02610b.jpg: ignoring corrupt image/label: non-normalized or out of bounds coordinates [       1.25        1.25]\n",
            "\u001b[34m\u001b[1mval: \u001b[0mWARNING ⚠️ /content/datasets/my_custom_dataset/test/images/5922ecf4-23d2-11e8-a6a3-ec086b02610b.jpg: ignoring corrupt image/label: non-normalized or out of bounds coordinates [     1.0103]\n",
            "\u001b[34m\u001b[1mval: \u001b[0mWARNING ⚠️ /content/datasets/my_custom_dataset/test/images/5922edad-23d2-11e8-a6a3-ec086b02610b.jpg: ignoring corrupt image/label: non-normalized or out of bounds coordinates [       1.25        1.25]\n",
            "\u001b[34m\u001b[1mval: \u001b[0mWARNING ⚠️ /content/datasets/my_custom_dataset/test/images/5938c04b-23d2-11e8-a6a3-ec086b02610b.jpg: ignoring corrupt image/label: non-normalized or out of bounds coordinates [       1.25        1.25]\n",
            "\u001b[34m\u001b[1mval: \u001b[0mWARNING ⚠️ /content/datasets/my_custom_dataset/test/images/5938c1a2-23d2-11e8-a6a3-ec086b02610b.jpg: ignoring corrupt image/label: non-normalized or out of bounds coordinates [       1.25        1.25]\n",
            "\u001b[34m\u001b[1mval: \u001b[0mWARNING ⚠️ /content/datasets/my_custom_dataset/test/images/5938c1d8-23d2-11e8-a6a3-ec086b02610b.jpg: ignoring corrupt image/label: non-normalized or out of bounds coordinates [       1.25        1.25]\n",
            "\u001b[34m\u001b[1mval: \u001b[0mWARNING ⚠️ /content/datasets/my_custom_dataset/test/images/5938c2ff-23d2-11e8-a6a3-ec086b02610b.jpg: ignoring corrupt image/label: non-normalized or out of bounds coordinates [       1.25        1.25]\n",
            "\u001b[34m\u001b[1mval: \u001b[0mWARNING ⚠️ /content/datasets/my_custom_dataset/test/images/5949cfca-23d2-11e8-a6a3-ec086b02610b.jpg: ignoring corrupt image/label: non-normalized or out of bounds coordinates [       1.25        1.25]\n",
            "\u001b[34m\u001b[1mval: \u001b[0mWARNING ⚠️ /content/datasets/my_custom_dataset/test/images/597feed1-23d2-11e8-a6a3-ec086b02610b.jpg: ignoring corrupt image/label: non-normalized or out of bounds coordinates [     1.0459]\n",
            "\u001b[34m\u001b[1mval: \u001b[0mWARNING ⚠️ /content/datasets/my_custom_dataset/test/images/598ad10d-23d2-11e8-a6a3-ec086b02610b.jpg: ignoring corrupt image/label: non-normalized or out of bounds coordinates [       1.25        1.25]\n",
            "\u001b[34m\u001b[1mval: \u001b[0mWARNING ⚠️ /content/datasets/my_custom_dataset/test/images/598c5b8e-23d2-11e8-a6a3-ec086b02610b.jpg: ignoring corrupt image/label: non-normalized or out of bounds coordinates [       1.25        1.25]\n",
            "\u001b[34m\u001b[1mval: \u001b[0mWARNING ⚠️ /content/datasets/my_custom_dataset/test/images/598c5c81-23d2-11e8-a6a3-ec086b02610b.jpg: ignoring corrupt image/label: non-normalized or out of bounds coordinates [       1.25        1.25]\n",
            "\u001b[34m\u001b[1mval: \u001b[0mWARNING ⚠️ /content/datasets/my_custom_dataset/test/images/598de9a9-23d2-11e8-a6a3-ec086b02610b.jpg: ignoring corrupt image/label: non-normalized or out of bounds coordinates [       1.25        1.25]\n",
            "\u001b[34m\u001b[1mval: \u001b[0mWARNING ⚠️ /content/datasets/my_custom_dataset/test/images/599a59d5-23d2-11e8-a6a3-ec086b02610b.jpg: ignoring corrupt image/label: non-normalized or out of bounds coordinates [       1.25        1.25]\n",
            "\u001b[34m\u001b[1mval: \u001b[0mWARNING ⚠️ /content/datasets/my_custom_dataset/test/images/599a5a3d-23d2-11e8-a6a3-ec086b02610b.jpg: ignoring corrupt image/label: non-normalized or out of bounds coordinates [       1.25        1.25]\n",
            "\u001b[34m\u001b[1mval: \u001b[0mWARNING ⚠️ /content/datasets/my_custom_dataset/test/images/599a5ade-23d2-11e8-a6a3-ec086b02610b.jpg: ignoring corrupt image/label: non-normalized or out of bounds coordinates [       1.25        1.25]\n",
            "\u001b[34m\u001b[1mval: \u001b[0mWARNING ⚠️ /content/datasets/my_custom_dataset/test/images/599a5b35-23d2-11e8-a6a3-ec086b02610b.jpg: ignoring corrupt image/label: non-normalized or out of bounds coordinates [       1.25        1.25]\n",
            "\u001b[34m\u001b[1mval: \u001b[0mWARNING ⚠️ /content/datasets/my_custom_dataset/test/images/599be8dc-23d2-11e8-a6a3-ec086b02610b.jpg: ignoring corrupt image/label: non-normalized or out of bounds coordinates [       1.25        1.25]\n",
            "\u001b[34m\u001b[1mval: \u001b[0mWARNING ⚠️ /content/datasets/my_custom_dataset/test/images/599d7b79-23d2-11e8-a6a3-ec086b02610b.jpg: ignoring corrupt image/label: non-normalized or out of bounds coordinates [       1.25        1.25]\n",
            "\u001b[34m\u001b[1mval: \u001b[0mWARNING ⚠️ /content/datasets/my_custom_dataset/test/images/599fbdde-23d2-11e8-a6a3-ec086b02610b.jpg: ignoring corrupt image/label: non-normalized or out of bounds coordinates [       1.25        1.25]\n",
            "\u001b[34m\u001b[1mval: \u001b[0mWARNING ⚠️ /content/datasets/my_custom_dataset/test/images/599fbedd-23d2-11e8-a6a3-ec086b02610b.jpg: ignoring corrupt image/label: non-normalized or out of bounds coordinates [       1.25        1.25]\n",
            "\u001b[34m\u001b[1mval: \u001b[0mWARNING ⚠️ /content/datasets/my_custom_dataset/test/images/599fbefc-23d2-11e8-a6a3-ec086b02610b.jpg: ignoring corrupt image/label: non-normalized or out of bounds coordinates [       1.25        1.25]\n"
          ]
        },
        {
          "name": "stderr",
          "output_type": "stream",
          "text": [
            "\n",
            "                 Class     Images  Instances      Box(P          R      mAP50  mAP50-95): 100%|██████████| 161/161 [02:02<00:00,  1.31it/s]\n"
          ]
        },
        {
          "name": "stdout",
          "output_type": "stream",
          "text": [
            "                   all       2572       2683      0.828       0.63      0.731      0.539\n",
            "               opossum          2          2          0          0          0          0\n",
            "               raccoon         59         83      0.864      0.458       0.65      0.454\n",
            "              squirrel        246        255      0.961      0.859      0.909       0.71\n",
            "                bobcat        130        130      0.992      0.992      0.991      0.892\n",
            "                 skunk        220        225      0.943      0.804      0.881      0.632\n",
            "                   dog        238        255      0.926      0.835      0.894      0.705\n",
            "                coyote          8          8          1      0.375      0.687      0.537\n",
            "                rabbit        135        153       0.92       0.83      0.883      0.669\n",
            "                   cat          1          1          0          0          0          0\n",
            "                badger        641        645      0.985       0.91      0.952      0.592\n",
            "                 empty        251        259      0.972      0.799      0.881      0.636\n",
            "                   car        436        456      0.942      0.928      0.938      0.702\n",
            "                  deer         25         25          1       0.32       0.66      0.389\n",
            "                   fox         43         44      0.941      0.727      0.846      0.624\n",
            "                rodent        142        142      0.977      0.606      0.792      0.548\n",
            "Speed: 0.4ms preprocess, 43.7ms inference, 0.0ms loss, 0.6ms postprocess per image\n",
            "Results saved to \u001b[1mruns/detect/val18\u001b[0m\n",
            "Ultralytics YOLOv8.2.103 🚀 Python-3.11.11 torch-2.5.1+cu124 CUDA:0 (Tesla T4, 15095MiB)\n"
          ]
        },
        {
          "name": "stderr",
          "output_type": "stream",
          "text": [
            "\u001b[34m\u001b[1mval: \u001b[0mScanning /content/datasets/my_custom_dataset/test/labels.cache... 2611 images, 0 backgrounds, 39 corrupt: 100%|██████████| 2611/2611 [00:00<?, ?it/s]"
          ]
        },
        {
          "name": "stdout",
          "output_type": "stream",
          "text": [
            "\u001b[34m\u001b[1mval: \u001b[0mWARNING ⚠️ /content/datasets/my_custom_dataset/test/images/5858bfcd-23d2-11e8-a6a3-ec086b02610b.jpg: ignoring corrupt image/label: non-normalized or out of bounds coordinates [       1.25        1.25]\n",
            "\u001b[34m\u001b[1mval: \u001b[0mWARNING ⚠️ /content/datasets/my_custom_dataset/test/images/5858c28b-23d2-11e8-a6a3-ec086b02610b.jpg: ignoring corrupt image/label: non-normalized or out of bounds coordinates [       1.25        1.25]\n",
            "\u001b[34m\u001b[1mval: \u001b[0mWARNING ⚠️ /content/datasets/my_custom_dataset/test/images/5860ef5d-23d2-11e8-a6a3-ec086b02610b.jpg: ignoring corrupt image/label: non-normalized or out of bounds coordinates [     1.1159]\n",
            "\u001b[34m\u001b[1mval: \u001b[0mWARNING ⚠️ /content/datasets/my_custom_dataset/test/images/5874d3b4-23d2-11e8-a6a3-ec086b02610b.jpg: ignoring corrupt image/label: non-normalized or out of bounds coordinates [     1.0885]\n",
            "\u001b[34m\u001b[1mval: \u001b[0mWARNING ⚠️ /content/datasets/my_custom_dataset/test/images/5874d409-23d2-11e8-a6a3-ec086b02610b.jpg: ignoring corrupt image/label: non-normalized or out of bounds coordinates [       1.25        1.25]\n",
            "\u001b[34m\u001b[1mval: \u001b[0mWARNING ⚠️ /content/datasets/my_custom_dataset/test/images/5874d6a8-23d2-11e8-a6a3-ec086b02610b.jpg: ignoring corrupt image/label: non-normalized or out of bounds coordinates [     1.1138]\n",
            "\u001b[34m\u001b[1mval: \u001b[0mWARNING ⚠️ /content/datasets/my_custom_dataset/test/images/5874d737-23d2-11e8-a6a3-ec086b02610b.jpg: ignoring corrupt image/label: non-normalized or out of bounds coordinates [       1.25        1.25]\n",
            "\u001b[34m\u001b[1mval: \u001b[0mWARNING ⚠️ /content/datasets/my_custom_dataset/test/images/5883e70e-23d2-11e8-a6a3-ec086b02610b.jpg: ignoring corrupt image/label: non-normalized or out of bounds coordinates [     1.1294]\n",
            "\u001b[34m\u001b[1mval: \u001b[0mWARNING ⚠️ /content/datasets/my_custom_dataset/test/images/5883e9df-23d2-11e8-a6a3-ec086b02610b.jpg: ignoring corrupt image/label: non-normalized or out of bounds coordinates [     1.1826]\n",
            "\u001b[34m\u001b[1mval: \u001b[0mWARNING ⚠️ /content/datasets/my_custom_dataset/test/images/5888bda6-23d2-11e8-a6a3-ec086b02610b.jpg: ignoring corrupt image/label: non-normalized or out of bounds coordinates [       1.25        1.25]\n",
            "\u001b[34m\u001b[1mval: \u001b[0mWARNING ⚠️ /content/datasets/my_custom_dataset/test/images/5888be64-23d2-11e8-a6a3-ec086b02610b.jpg: ignoring corrupt image/label: non-normalized or out of bounds coordinates [     1.0137]\n",
            "\u001b[34m\u001b[1mval: \u001b[0mWARNING ⚠️ /content/datasets/my_custom_dataset/test/images/5892b43c-23d2-11e8-a6a3-ec086b02610b.jpg: ignoring corrupt image/label: non-normalized or out of bounds coordinates [      1.104]\n",
            "\u001b[34m\u001b[1mval: \u001b[0mWARNING ⚠️ /content/datasets/my_custom_dataset/test/images/5900a253-23d2-11e8-a6a3-ec086b02610b.jpg: ignoring corrupt image/label: non-normalized or out of bounds coordinates [       1.25        1.25]\n",
            "\u001b[34m\u001b[1mval: \u001b[0mWARNING ⚠️ /content/datasets/my_custom_dataset/test/images/5903cc86-23d2-11e8-a6a3-ec086b02610b.jpg: ignoring corrupt image/label: non-normalized or out of bounds coordinates [     1.1372]\n",
            "\u001b[34m\u001b[1mval: \u001b[0mWARNING ⚠️ /content/datasets/my_custom_dataset/test/images/5906efd3-23d2-11e8-a6a3-ec086b02610b.jpg: ignoring corrupt image/label: non-normalized or out of bounds coordinates [       1.25        1.25]\n",
            "\u001b[34m\u001b[1mval: \u001b[0mWARNING ⚠️ /content/datasets/my_custom_dataset/test/images/5906f195-23d2-11e8-a6a3-ec086b02610b.jpg: ignoring corrupt image/label: non-normalized or out of bounds coordinates [       1.25        1.25]\n",
            "\u001b[34m\u001b[1mval: \u001b[0mWARNING ⚠️ /content/datasets/my_custom_dataset/test/images/5914ee02-23d2-11e8-a6a3-ec086b02610b.jpg: ignoring corrupt image/label: non-normalized or out of bounds coordinates [     1.1484]\n",
            "\u001b[34m\u001b[1mval: \u001b[0mWARNING ⚠️ /content/datasets/my_custom_dataset/test/images/5914ee4d-23d2-11e8-a6a3-ec086b02610b.jpg: ignoring corrupt image/label: non-normalized or out of bounds coordinates [       1.25        1.25]\n",
            "\u001b[34m\u001b[1mval: \u001b[0mWARNING ⚠️ /content/datasets/my_custom_dataset/test/images/5922ecf4-23d2-11e8-a6a3-ec086b02610b.jpg: ignoring corrupt image/label: non-normalized or out of bounds coordinates [     1.0103]\n",
            "\u001b[34m\u001b[1mval: \u001b[0mWARNING ⚠️ /content/datasets/my_custom_dataset/test/images/5922edad-23d2-11e8-a6a3-ec086b02610b.jpg: ignoring corrupt image/label: non-normalized or out of bounds coordinates [       1.25        1.25]\n",
            "\u001b[34m\u001b[1mval: \u001b[0mWARNING ⚠️ /content/datasets/my_custom_dataset/test/images/5938c04b-23d2-11e8-a6a3-ec086b02610b.jpg: ignoring corrupt image/label: non-normalized or out of bounds coordinates [       1.25        1.25]\n",
            "\u001b[34m\u001b[1mval: \u001b[0mWARNING ⚠️ /content/datasets/my_custom_dataset/test/images/5938c1a2-23d2-11e8-a6a3-ec086b02610b.jpg: ignoring corrupt image/label: non-normalized or out of bounds coordinates [       1.25        1.25]\n",
            "\u001b[34m\u001b[1mval: \u001b[0mWARNING ⚠️ /content/datasets/my_custom_dataset/test/images/5938c1d8-23d2-11e8-a6a3-ec086b02610b.jpg: ignoring corrupt image/label: non-normalized or out of bounds coordinates [       1.25        1.25]\n",
            "\u001b[34m\u001b[1mval: \u001b[0mWARNING ⚠️ /content/datasets/my_custom_dataset/test/images/5938c2ff-23d2-11e8-a6a3-ec086b02610b.jpg: ignoring corrupt image/label: non-normalized or out of bounds coordinates [       1.25        1.25]\n",
            "\u001b[34m\u001b[1mval: \u001b[0mWARNING ⚠️ /content/datasets/my_custom_dataset/test/images/5949cfca-23d2-11e8-a6a3-ec086b02610b.jpg: ignoring corrupt image/label: non-normalized or out of bounds coordinates [       1.25        1.25]\n",
            "\u001b[34m\u001b[1mval: \u001b[0mWARNING ⚠️ /content/datasets/my_custom_dataset/test/images/597feed1-23d2-11e8-a6a3-ec086b02610b.jpg: ignoring corrupt image/label: non-normalized or out of bounds coordinates [     1.0459]\n",
            "\u001b[34m\u001b[1mval: \u001b[0mWARNING ⚠️ /content/datasets/my_custom_dataset/test/images/598ad10d-23d2-11e8-a6a3-ec086b02610b.jpg: ignoring corrupt image/label: non-normalized or out of bounds coordinates [       1.25        1.25]\n",
            "\u001b[34m\u001b[1mval: \u001b[0mWARNING ⚠️ /content/datasets/my_custom_dataset/test/images/598c5b8e-23d2-11e8-a6a3-ec086b02610b.jpg: ignoring corrupt image/label: non-normalized or out of bounds coordinates [       1.25        1.25]\n",
            "\u001b[34m\u001b[1mval: \u001b[0mWARNING ⚠️ /content/datasets/my_custom_dataset/test/images/598c5c81-23d2-11e8-a6a3-ec086b02610b.jpg: ignoring corrupt image/label: non-normalized or out of bounds coordinates [       1.25        1.25]\n",
            "\u001b[34m\u001b[1mval: \u001b[0mWARNING ⚠️ /content/datasets/my_custom_dataset/test/images/598de9a9-23d2-11e8-a6a3-ec086b02610b.jpg: ignoring corrupt image/label: non-normalized or out of bounds coordinates [       1.25        1.25]\n",
            "\u001b[34m\u001b[1mval: \u001b[0mWARNING ⚠️ /content/datasets/my_custom_dataset/test/images/599a59d5-23d2-11e8-a6a3-ec086b02610b.jpg: ignoring corrupt image/label: non-normalized or out of bounds coordinates [       1.25        1.25]\n",
            "\u001b[34m\u001b[1mval: \u001b[0mWARNING ⚠️ /content/datasets/my_custom_dataset/test/images/599a5a3d-23d2-11e8-a6a3-ec086b02610b.jpg: ignoring corrupt image/label: non-normalized or out of bounds coordinates [       1.25        1.25]\n",
            "\u001b[34m\u001b[1mval: \u001b[0mWARNING ⚠️ /content/datasets/my_custom_dataset/test/images/599a5ade-23d2-11e8-a6a3-ec086b02610b.jpg: ignoring corrupt image/label: non-normalized or out of bounds coordinates [       1.25        1.25]\n",
            "\u001b[34m\u001b[1mval: \u001b[0mWARNING ⚠️ /content/datasets/my_custom_dataset/test/images/599a5b35-23d2-11e8-a6a3-ec086b02610b.jpg: ignoring corrupt image/label: non-normalized or out of bounds coordinates [       1.25        1.25]\n",
            "\u001b[34m\u001b[1mval: \u001b[0mWARNING ⚠️ /content/datasets/my_custom_dataset/test/images/599be8dc-23d2-11e8-a6a3-ec086b02610b.jpg: ignoring corrupt image/label: non-normalized or out of bounds coordinates [       1.25        1.25]\n",
            "\u001b[34m\u001b[1mval: \u001b[0mWARNING ⚠️ /content/datasets/my_custom_dataset/test/images/599d7b79-23d2-11e8-a6a3-ec086b02610b.jpg: ignoring corrupt image/label: non-normalized or out of bounds coordinates [       1.25        1.25]\n",
            "\u001b[34m\u001b[1mval: \u001b[0mWARNING ⚠️ /content/datasets/my_custom_dataset/test/images/599fbdde-23d2-11e8-a6a3-ec086b02610b.jpg: ignoring corrupt image/label: non-normalized or out of bounds coordinates [       1.25        1.25]\n",
            "\u001b[34m\u001b[1mval: \u001b[0mWARNING ⚠️ /content/datasets/my_custom_dataset/test/images/599fbedd-23d2-11e8-a6a3-ec086b02610b.jpg: ignoring corrupt image/label: non-normalized or out of bounds coordinates [       1.25        1.25]\n",
            "\u001b[34m\u001b[1mval: \u001b[0mWARNING ⚠️ /content/datasets/my_custom_dataset/test/images/599fbefc-23d2-11e8-a6a3-ec086b02610b.jpg: ignoring corrupt image/label: non-normalized or out of bounds coordinates [       1.25        1.25]\n"
          ]
        },
        {
          "name": "stderr",
          "output_type": "stream",
          "text": [
            "\n",
            "                 Class     Images  Instances      Box(P          R      mAP50  mAP50-95): 100%|██████████| 161/161 [02:04<00:00,  1.29it/s]\n"
          ]
        },
        {
          "name": "stdout",
          "output_type": "stream",
          "text": [
            "                   all       2572       2683      0.834      0.595      0.715      0.531\n",
            "               opossum          2          2          0          0          0          0\n",
            "               raccoon         59         83      0.853      0.349      0.599      0.422\n",
            "              squirrel        246        255      0.964      0.843      0.902      0.706\n",
            "                bobcat        130        130      0.992      0.992      0.991      0.892\n",
            "                 skunk        220        225      0.949      0.742      0.852      0.618\n",
            "                   dog        238        255       0.95      0.812      0.885      0.701\n",
            "                coyote          8          8          1      0.375      0.687      0.537\n",
            "                rabbit        135        153      0.933      0.817      0.878      0.665\n",
            "                   cat          1          1          0          0          0          0\n",
            "                badger        641        645      0.989      0.854      0.924       0.58\n",
            "                 empty        251        259      0.974      0.726      0.845      0.616\n",
            "                   car        436        456      0.947      0.908      0.929      0.697\n",
            "                  deer         25         25          1       0.24       0.62      0.367\n",
            "                   fox         43         44       0.97      0.727       0.85      0.627\n",
            "                rodent        142        142      0.987      0.535      0.759      0.537\n",
            "Speed: 1.0ms preprocess, 43.2ms inference, 0.0ms loss, 0.7ms postprocess per image\n",
            "Results saved to \u001b[1mruns/detect/val19\u001b[0m\n",
            "Ultralytics YOLOv8.2.103 🚀 Python-3.11.11 torch-2.5.1+cu124 CUDA:0 (Tesla T4, 15095MiB)\n"
          ]
        },
        {
          "name": "stderr",
          "output_type": "stream",
          "text": [
            "\u001b[34m\u001b[1mval: \u001b[0mScanning /content/datasets/my_custom_dataset/test/labels.cache... 2611 images, 0 backgrounds, 39 corrupt: 100%|██████████| 2611/2611 [00:00<?, ?it/s]"
          ]
        },
        {
          "name": "stdout",
          "output_type": "stream",
          "text": [
            "\u001b[34m\u001b[1mval: \u001b[0mWARNING ⚠️ /content/datasets/my_custom_dataset/test/images/5858bfcd-23d2-11e8-a6a3-ec086b02610b.jpg: ignoring corrupt image/label: non-normalized or out of bounds coordinates [       1.25        1.25]\n",
            "\u001b[34m\u001b[1mval: \u001b[0mWARNING ⚠️ /content/datasets/my_custom_dataset/test/images/5858c28b-23d2-11e8-a6a3-ec086b02610b.jpg: ignoring corrupt image/label: non-normalized or out of bounds coordinates [       1.25        1.25]\n",
            "\u001b[34m\u001b[1mval: \u001b[0mWARNING ⚠️ /content/datasets/my_custom_dataset/test/images/5860ef5d-23d2-11e8-a6a3-ec086b02610b.jpg: ignoring corrupt image/label: non-normalized or out of bounds coordinates [     1.1159]\n",
            "\u001b[34m\u001b[1mval: \u001b[0mWARNING ⚠️ /content/datasets/my_custom_dataset/test/images/5874d3b4-23d2-11e8-a6a3-ec086b02610b.jpg: ignoring corrupt image/label: non-normalized or out of bounds coordinates [     1.0885]\n",
            "\u001b[34m\u001b[1mval: \u001b[0mWARNING ⚠️ /content/datasets/my_custom_dataset/test/images/5874d409-23d2-11e8-a6a3-ec086b02610b.jpg: ignoring corrupt image/label: non-normalized or out of bounds coordinates [       1.25        1.25]\n",
            "\u001b[34m\u001b[1mval: \u001b[0mWARNING ⚠️ /content/datasets/my_custom_dataset/test/images/5874d6a8-23d2-11e8-a6a3-ec086b02610b.jpg: ignoring corrupt image/label: non-normalized or out of bounds coordinates [     1.1138]\n",
            "\u001b[34m\u001b[1mval: \u001b[0mWARNING ⚠️ /content/datasets/my_custom_dataset/test/images/5874d737-23d2-11e8-a6a3-ec086b02610b.jpg: ignoring corrupt image/label: non-normalized or out of bounds coordinates [       1.25        1.25]\n",
            "\u001b[34m\u001b[1mval: \u001b[0mWARNING ⚠️ /content/datasets/my_custom_dataset/test/images/5883e70e-23d2-11e8-a6a3-ec086b02610b.jpg: ignoring corrupt image/label: non-normalized or out of bounds coordinates [     1.1294]\n",
            "\u001b[34m\u001b[1mval: \u001b[0mWARNING ⚠️ /content/datasets/my_custom_dataset/test/images/5883e9df-23d2-11e8-a6a3-ec086b02610b.jpg: ignoring corrupt image/label: non-normalized or out of bounds coordinates [     1.1826]\n",
            "\u001b[34m\u001b[1mval: \u001b[0mWARNING ⚠️ /content/datasets/my_custom_dataset/test/images/5888bda6-23d2-11e8-a6a3-ec086b02610b.jpg: ignoring corrupt image/label: non-normalized or out of bounds coordinates [       1.25        1.25]\n",
            "\u001b[34m\u001b[1mval: \u001b[0mWARNING ⚠️ /content/datasets/my_custom_dataset/test/images/5888be64-23d2-11e8-a6a3-ec086b02610b.jpg: ignoring corrupt image/label: non-normalized or out of bounds coordinates [     1.0137]\n",
            "\u001b[34m\u001b[1mval: \u001b[0mWARNING ⚠️ /content/datasets/my_custom_dataset/test/images/5892b43c-23d2-11e8-a6a3-ec086b02610b.jpg: ignoring corrupt image/label: non-normalized or out of bounds coordinates [      1.104]\n",
            "\u001b[34m\u001b[1mval: \u001b[0mWARNING ⚠️ /content/datasets/my_custom_dataset/test/images/5900a253-23d2-11e8-a6a3-ec086b02610b.jpg: ignoring corrupt image/label: non-normalized or out of bounds coordinates [       1.25        1.25]\n",
            "\u001b[34m\u001b[1mval: \u001b[0mWARNING ⚠️ /content/datasets/my_custom_dataset/test/images/5903cc86-23d2-11e8-a6a3-ec086b02610b.jpg: ignoring corrupt image/label: non-normalized or out of bounds coordinates [     1.1372]\n",
            "\u001b[34m\u001b[1mval: \u001b[0mWARNING ⚠️ /content/datasets/my_custom_dataset/test/images/5906efd3-23d2-11e8-a6a3-ec086b02610b.jpg: ignoring corrupt image/label: non-normalized or out of bounds coordinates [       1.25        1.25]\n",
            "\u001b[34m\u001b[1mval: \u001b[0mWARNING ⚠️ /content/datasets/my_custom_dataset/test/images/5906f195-23d2-11e8-a6a3-ec086b02610b.jpg: ignoring corrupt image/label: non-normalized or out of bounds coordinates [       1.25        1.25]\n",
            "\u001b[34m\u001b[1mval: \u001b[0mWARNING ⚠️ /content/datasets/my_custom_dataset/test/images/5914ee02-23d2-11e8-a6a3-ec086b02610b.jpg: ignoring corrupt image/label: non-normalized or out of bounds coordinates [     1.1484]\n",
            "\u001b[34m\u001b[1mval: \u001b[0mWARNING ⚠️ /content/datasets/my_custom_dataset/test/images/5914ee4d-23d2-11e8-a6a3-ec086b02610b.jpg: ignoring corrupt image/label: non-normalized or out of bounds coordinates [       1.25        1.25]\n",
            "\u001b[34m\u001b[1mval: \u001b[0mWARNING ⚠️ /content/datasets/my_custom_dataset/test/images/5922ecf4-23d2-11e8-a6a3-ec086b02610b.jpg: ignoring corrupt image/label: non-normalized or out of bounds coordinates [     1.0103]\n",
            "\u001b[34m\u001b[1mval: \u001b[0mWARNING ⚠️ /content/datasets/my_custom_dataset/test/images/5922edad-23d2-11e8-a6a3-ec086b02610b.jpg: ignoring corrupt image/label: non-normalized or out of bounds coordinates [       1.25        1.25]\n",
            "\u001b[34m\u001b[1mval: \u001b[0mWARNING ⚠️ /content/datasets/my_custom_dataset/test/images/5938c04b-23d2-11e8-a6a3-ec086b02610b.jpg: ignoring corrupt image/label: non-normalized or out of bounds coordinates [       1.25        1.25]\n",
            "\u001b[34m\u001b[1mval: \u001b[0mWARNING ⚠️ /content/datasets/my_custom_dataset/test/images/5938c1a2-23d2-11e8-a6a3-ec086b02610b.jpg: ignoring corrupt image/label: non-normalized or out of bounds coordinates [       1.25        1.25]\n",
            "\u001b[34m\u001b[1mval: \u001b[0mWARNING ⚠️ /content/datasets/my_custom_dataset/test/images/5938c1d8-23d2-11e8-a6a3-ec086b02610b.jpg: ignoring corrupt image/label: non-normalized or out of bounds coordinates [       1.25        1.25]\n",
            "\u001b[34m\u001b[1mval: \u001b[0mWARNING ⚠️ /content/datasets/my_custom_dataset/test/images/5938c2ff-23d2-11e8-a6a3-ec086b02610b.jpg: ignoring corrupt image/label: non-normalized or out of bounds coordinates [       1.25        1.25]\n",
            "\u001b[34m\u001b[1mval: \u001b[0mWARNING ⚠️ /content/datasets/my_custom_dataset/test/images/5949cfca-23d2-11e8-a6a3-ec086b02610b.jpg: ignoring corrupt image/label: non-normalized or out of bounds coordinates [       1.25        1.25]\n",
            "\u001b[34m\u001b[1mval: \u001b[0mWARNING ⚠️ /content/datasets/my_custom_dataset/test/images/597feed1-23d2-11e8-a6a3-ec086b02610b.jpg: ignoring corrupt image/label: non-normalized or out of bounds coordinates [     1.0459]\n",
            "\u001b[34m\u001b[1mval: \u001b[0mWARNING ⚠️ /content/datasets/my_custom_dataset/test/images/598ad10d-23d2-11e8-a6a3-ec086b02610b.jpg: ignoring corrupt image/label: non-normalized or out of bounds coordinates [       1.25        1.25]\n",
            "\u001b[34m\u001b[1mval: \u001b[0mWARNING ⚠️ /content/datasets/my_custom_dataset/test/images/598c5b8e-23d2-11e8-a6a3-ec086b02610b.jpg: ignoring corrupt image/label: non-normalized or out of bounds coordinates [       1.25        1.25]\n",
            "\u001b[34m\u001b[1mval: \u001b[0mWARNING ⚠️ /content/datasets/my_custom_dataset/test/images/598c5c81-23d2-11e8-a6a3-ec086b02610b.jpg: ignoring corrupt image/label: non-normalized or out of bounds coordinates [       1.25        1.25]\n",
            "\u001b[34m\u001b[1mval: \u001b[0mWARNING ⚠️ /content/datasets/my_custom_dataset/test/images/598de9a9-23d2-11e8-a6a3-ec086b02610b.jpg: ignoring corrupt image/label: non-normalized or out of bounds coordinates [       1.25        1.25]\n",
            "\u001b[34m\u001b[1mval: \u001b[0mWARNING ⚠️ /content/datasets/my_custom_dataset/test/images/599a59d5-23d2-11e8-a6a3-ec086b02610b.jpg: ignoring corrupt image/label: non-normalized or out of bounds coordinates [       1.25        1.25]\n",
            "\u001b[34m\u001b[1mval: \u001b[0mWARNING ⚠️ /content/datasets/my_custom_dataset/test/images/599a5a3d-23d2-11e8-a6a3-ec086b02610b.jpg: ignoring corrupt image/label: non-normalized or out of bounds coordinates [       1.25        1.25]\n",
            "\u001b[34m\u001b[1mval: \u001b[0mWARNING ⚠️ /content/datasets/my_custom_dataset/test/images/599a5ade-23d2-11e8-a6a3-ec086b02610b.jpg: ignoring corrupt image/label: non-normalized or out of bounds coordinates [       1.25        1.25]\n",
            "\u001b[34m\u001b[1mval: \u001b[0mWARNING ⚠️ /content/datasets/my_custom_dataset/test/images/599a5b35-23d2-11e8-a6a3-ec086b02610b.jpg: ignoring corrupt image/label: non-normalized or out of bounds coordinates [       1.25        1.25]\n",
            "\u001b[34m\u001b[1mval: \u001b[0mWARNING ⚠️ /content/datasets/my_custom_dataset/test/images/599be8dc-23d2-11e8-a6a3-ec086b02610b.jpg: ignoring corrupt image/label: non-normalized or out of bounds coordinates [       1.25        1.25]\n",
            "\u001b[34m\u001b[1mval: \u001b[0mWARNING ⚠️ /content/datasets/my_custom_dataset/test/images/599d7b79-23d2-11e8-a6a3-ec086b02610b.jpg: ignoring corrupt image/label: non-normalized or out of bounds coordinates [       1.25        1.25]\n",
            "\u001b[34m\u001b[1mval: \u001b[0mWARNING ⚠️ /content/datasets/my_custom_dataset/test/images/599fbdde-23d2-11e8-a6a3-ec086b02610b.jpg: ignoring corrupt image/label: non-normalized or out of bounds coordinates [       1.25        1.25]\n",
            "\u001b[34m\u001b[1mval: \u001b[0mWARNING ⚠️ /content/datasets/my_custom_dataset/test/images/599fbedd-23d2-11e8-a6a3-ec086b02610b.jpg: ignoring corrupt image/label: non-normalized or out of bounds coordinates [       1.25        1.25]\n",
            "\u001b[34m\u001b[1mval: \u001b[0mWARNING ⚠️ /content/datasets/my_custom_dataset/test/images/599fbefc-23d2-11e8-a6a3-ec086b02610b.jpg: ignoring corrupt image/label: non-normalized or out of bounds coordinates [       1.25        1.25]\n"
          ]
        },
        {
          "name": "stderr",
          "output_type": "stream",
          "text": [
            "\n",
            "                 Class     Images  Instances      Box(P          R      mAP50  mAP50-95): 100%|██████████| 161/161 [02:01<00:00,  1.33it/s]\n"
          ]
        },
        {
          "name": "stdout",
          "output_type": "stream",
          "text": [
            "                   all       2572       2683       0.84      0.532      0.686      0.519\n",
            "               opossum          2          2          0          0          0          0\n",
            "               raccoon         59         83      0.893      0.301      0.592      0.436\n",
            "              squirrel        246        255      0.972      0.808      0.885      0.699\n",
            "                bobcat        130        130      0.992      0.992      0.991      0.892\n",
            "                 skunk        220        225      0.974      0.676      0.824      0.607\n",
            "                   dog        238        255      0.956      0.761      0.862      0.687\n",
            "                coyote          8          8          1      0.375      0.687      0.537\n",
            "                rabbit        135        153      0.935      0.758      0.851      0.651\n",
            "                   cat          1          1          0          0          0          0\n",
            "                badger        641        645      0.995      0.682      0.839       0.54\n",
            "                 empty        251        259      0.972      0.544      0.756      0.565\n",
            "                   car        436        456      0.956      0.851      0.902      0.684\n",
            "                  deer         25         25          1       0.16       0.58       0.38\n",
            "                   fox         43         44      0.967      0.659      0.815      0.608\n",
            "                rodent        142        142      0.983      0.415      0.698      0.495\n",
            "Speed: 0.8ms preprocess, 43.2ms inference, 0.0ms loss, 0.6ms postprocess per image\n",
            "Results saved to \u001b[1mruns/detect/val20\u001b[0m\n",
            "Ultralytics YOLOv8.2.103 🚀 Python-3.11.11 torch-2.5.1+cu124 CUDA:0 (Tesla T4, 15095MiB)\n"
          ]
        },
        {
          "name": "stderr",
          "output_type": "stream",
          "text": [
            "\u001b[34m\u001b[1mval: \u001b[0mScanning /content/datasets/my_custom_dataset/test/labels.cache... 2611 images, 0 backgrounds, 39 corrupt: 100%|██████████| 2611/2611 [00:00<?, ?it/s]"
          ]
        },
        {
          "name": "stdout",
          "output_type": "stream",
          "text": [
            "\u001b[34m\u001b[1mval: \u001b[0mWARNING ⚠️ /content/datasets/my_custom_dataset/test/images/5858bfcd-23d2-11e8-a6a3-ec086b02610b.jpg: ignoring corrupt image/label: non-normalized or out of bounds coordinates [       1.25        1.25]\n",
            "\u001b[34m\u001b[1mval: \u001b[0mWARNING ⚠️ /content/datasets/my_custom_dataset/test/images/5858c28b-23d2-11e8-a6a3-ec086b02610b.jpg: ignoring corrupt image/label: non-normalized or out of bounds coordinates [       1.25        1.25]\n",
            "\u001b[34m\u001b[1mval: \u001b[0mWARNING ⚠️ /content/datasets/my_custom_dataset/test/images/5860ef5d-23d2-11e8-a6a3-ec086b02610b.jpg: ignoring corrupt image/label: non-normalized or out of bounds coordinates [     1.1159]\n",
            "\u001b[34m\u001b[1mval: \u001b[0mWARNING ⚠️ /content/datasets/my_custom_dataset/test/images/5874d3b4-23d2-11e8-a6a3-ec086b02610b.jpg: ignoring corrupt image/label: non-normalized or out of bounds coordinates [     1.0885]\n",
            "\u001b[34m\u001b[1mval: \u001b[0mWARNING ⚠️ /content/datasets/my_custom_dataset/test/images/5874d409-23d2-11e8-a6a3-ec086b02610b.jpg: ignoring corrupt image/label: non-normalized or out of bounds coordinates [       1.25        1.25]\n",
            "\u001b[34m\u001b[1mval: \u001b[0mWARNING ⚠️ /content/datasets/my_custom_dataset/test/images/5874d6a8-23d2-11e8-a6a3-ec086b02610b.jpg: ignoring corrupt image/label: non-normalized or out of bounds coordinates [     1.1138]\n",
            "\u001b[34m\u001b[1mval: \u001b[0mWARNING ⚠️ /content/datasets/my_custom_dataset/test/images/5874d737-23d2-11e8-a6a3-ec086b02610b.jpg: ignoring corrupt image/label: non-normalized or out of bounds coordinates [       1.25        1.25]\n",
            "\u001b[34m\u001b[1mval: \u001b[0mWARNING ⚠️ /content/datasets/my_custom_dataset/test/images/5883e70e-23d2-11e8-a6a3-ec086b02610b.jpg: ignoring corrupt image/label: non-normalized or out of bounds coordinates [     1.1294]\n",
            "\u001b[34m\u001b[1mval: \u001b[0mWARNING ⚠️ /content/datasets/my_custom_dataset/test/images/5883e9df-23d2-11e8-a6a3-ec086b02610b.jpg: ignoring corrupt image/label: non-normalized or out of bounds coordinates [     1.1826]\n",
            "\u001b[34m\u001b[1mval: \u001b[0mWARNING ⚠️ /content/datasets/my_custom_dataset/test/images/5888bda6-23d2-11e8-a6a3-ec086b02610b.jpg: ignoring corrupt image/label: non-normalized or out of bounds coordinates [       1.25        1.25]\n",
            "\u001b[34m\u001b[1mval: \u001b[0mWARNING ⚠️ /content/datasets/my_custom_dataset/test/images/5888be64-23d2-11e8-a6a3-ec086b02610b.jpg: ignoring corrupt image/label: non-normalized or out of bounds coordinates [     1.0137]\n",
            "\u001b[34m\u001b[1mval: \u001b[0mWARNING ⚠️ /content/datasets/my_custom_dataset/test/images/5892b43c-23d2-11e8-a6a3-ec086b02610b.jpg: ignoring corrupt image/label: non-normalized or out of bounds coordinates [      1.104]\n",
            "\u001b[34m\u001b[1mval: \u001b[0mWARNING ⚠️ /content/datasets/my_custom_dataset/test/images/5900a253-23d2-11e8-a6a3-ec086b02610b.jpg: ignoring corrupt image/label: non-normalized or out of bounds coordinates [       1.25        1.25]\n",
            "\u001b[34m\u001b[1mval: \u001b[0mWARNING ⚠️ /content/datasets/my_custom_dataset/test/images/5903cc86-23d2-11e8-a6a3-ec086b02610b.jpg: ignoring corrupt image/label: non-normalized or out of bounds coordinates [     1.1372]\n",
            "\u001b[34m\u001b[1mval: \u001b[0mWARNING ⚠️ /content/datasets/my_custom_dataset/test/images/5906efd3-23d2-11e8-a6a3-ec086b02610b.jpg: ignoring corrupt image/label: non-normalized or out of bounds coordinates [       1.25        1.25]\n",
            "\u001b[34m\u001b[1mval: \u001b[0mWARNING ⚠️ /content/datasets/my_custom_dataset/test/images/5906f195-23d2-11e8-a6a3-ec086b02610b.jpg: ignoring corrupt image/label: non-normalized or out of bounds coordinates [       1.25        1.25]\n",
            "\u001b[34m\u001b[1mval: \u001b[0mWARNING ⚠️ /content/datasets/my_custom_dataset/test/images/5914ee02-23d2-11e8-a6a3-ec086b02610b.jpg: ignoring corrupt image/label: non-normalized or out of bounds coordinates [     1.1484]\n",
            "\u001b[34m\u001b[1mval: \u001b[0mWARNING ⚠️ /content/datasets/my_custom_dataset/test/images/5914ee4d-23d2-11e8-a6a3-ec086b02610b.jpg: ignoring corrupt image/label: non-normalized or out of bounds coordinates [       1.25        1.25]\n",
            "\u001b[34m\u001b[1mval: \u001b[0mWARNING ⚠️ /content/datasets/my_custom_dataset/test/images/5922ecf4-23d2-11e8-a6a3-ec086b02610b.jpg: ignoring corrupt image/label: non-normalized or out of bounds coordinates [     1.0103]\n",
            "\u001b[34m\u001b[1mval: \u001b[0mWARNING ⚠️ /content/datasets/my_custom_dataset/test/images/5922edad-23d2-11e8-a6a3-ec086b02610b.jpg: ignoring corrupt image/label: non-normalized or out of bounds coordinates [       1.25        1.25]\n",
            "\u001b[34m\u001b[1mval: \u001b[0mWARNING ⚠️ /content/datasets/my_custom_dataset/test/images/5938c04b-23d2-11e8-a6a3-ec086b02610b.jpg: ignoring corrupt image/label: non-normalized or out of bounds coordinates [       1.25        1.25]\n",
            "\u001b[34m\u001b[1mval: \u001b[0mWARNING ⚠️ /content/datasets/my_custom_dataset/test/images/5938c1a2-23d2-11e8-a6a3-ec086b02610b.jpg: ignoring corrupt image/label: non-normalized or out of bounds coordinates [       1.25        1.25]\n",
            "\u001b[34m\u001b[1mval: \u001b[0mWARNING ⚠️ /content/datasets/my_custom_dataset/test/images/5938c1d8-23d2-11e8-a6a3-ec086b02610b.jpg: ignoring corrupt image/label: non-normalized or out of bounds coordinates [       1.25        1.25]\n",
            "\u001b[34m\u001b[1mval: \u001b[0mWARNING ⚠️ /content/datasets/my_custom_dataset/test/images/5938c2ff-23d2-11e8-a6a3-ec086b02610b.jpg: ignoring corrupt image/label: non-normalized or out of bounds coordinates [       1.25        1.25]\n",
            "\u001b[34m\u001b[1mval: \u001b[0mWARNING ⚠️ /content/datasets/my_custom_dataset/test/images/5949cfca-23d2-11e8-a6a3-ec086b02610b.jpg: ignoring corrupt image/label: non-normalized or out of bounds coordinates [       1.25        1.25]\n",
            "\u001b[34m\u001b[1mval: \u001b[0mWARNING ⚠️ /content/datasets/my_custom_dataset/test/images/597feed1-23d2-11e8-a6a3-ec086b02610b.jpg: ignoring corrupt image/label: non-normalized or out of bounds coordinates [     1.0459]\n",
            "\u001b[34m\u001b[1mval: \u001b[0mWARNING ⚠️ /content/datasets/my_custom_dataset/test/images/598ad10d-23d2-11e8-a6a3-ec086b02610b.jpg: ignoring corrupt image/label: non-normalized or out of bounds coordinates [       1.25        1.25]\n",
            "\u001b[34m\u001b[1mval: \u001b[0mWARNING ⚠️ /content/datasets/my_custom_dataset/test/images/598c5b8e-23d2-11e8-a6a3-ec086b02610b.jpg: ignoring corrupt image/label: non-normalized or out of bounds coordinates [       1.25        1.25]\n",
            "\u001b[34m\u001b[1mval: \u001b[0mWARNING ⚠️ /content/datasets/my_custom_dataset/test/images/598c5c81-23d2-11e8-a6a3-ec086b02610b.jpg: ignoring corrupt image/label: non-normalized or out of bounds coordinates [       1.25        1.25]\n",
            "\u001b[34m\u001b[1mval: \u001b[0mWARNING ⚠️ /content/datasets/my_custom_dataset/test/images/598de9a9-23d2-11e8-a6a3-ec086b02610b.jpg: ignoring corrupt image/label: non-normalized or out of bounds coordinates [       1.25        1.25]\n",
            "\u001b[34m\u001b[1mval: \u001b[0mWARNING ⚠️ /content/datasets/my_custom_dataset/test/images/599a59d5-23d2-11e8-a6a3-ec086b02610b.jpg: ignoring corrupt image/label: non-normalized or out of bounds coordinates [       1.25        1.25]\n",
            "\u001b[34m\u001b[1mval: \u001b[0mWARNING ⚠️ /content/datasets/my_custom_dataset/test/images/599a5a3d-23d2-11e8-a6a3-ec086b02610b.jpg: ignoring corrupt image/label: non-normalized or out of bounds coordinates [       1.25        1.25]\n",
            "\u001b[34m\u001b[1mval: \u001b[0mWARNING ⚠️ /content/datasets/my_custom_dataset/test/images/599a5ade-23d2-11e8-a6a3-ec086b02610b.jpg: ignoring corrupt image/label: non-normalized or out of bounds coordinates [       1.25        1.25]\n",
            "\u001b[34m\u001b[1mval: \u001b[0mWARNING ⚠️ /content/datasets/my_custom_dataset/test/images/599a5b35-23d2-11e8-a6a3-ec086b02610b.jpg: ignoring corrupt image/label: non-normalized or out of bounds coordinates [       1.25        1.25]\n",
            "\u001b[34m\u001b[1mval: \u001b[0mWARNING ⚠️ /content/datasets/my_custom_dataset/test/images/599be8dc-23d2-11e8-a6a3-ec086b02610b.jpg: ignoring corrupt image/label: non-normalized or out of bounds coordinates [       1.25        1.25]\n",
            "\u001b[34m\u001b[1mval: \u001b[0mWARNING ⚠️ /content/datasets/my_custom_dataset/test/images/599d7b79-23d2-11e8-a6a3-ec086b02610b.jpg: ignoring corrupt image/label: non-normalized or out of bounds coordinates [       1.25        1.25]\n",
            "\u001b[34m\u001b[1mval: \u001b[0mWARNING ⚠️ /content/datasets/my_custom_dataset/test/images/599fbdde-23d2-11e8-a6a3-ec086b02610b.jpg: ignoring corrupt image/label: non-normalized or out of bounds coordinates [       1.25        1.25]\n",
            "\u001b[34m\u001b[1mval: \u001b[0mWARNING ⚠️ /content/datasets/my_custom_dataset/test/images/599fbedd-23d2-11e8-a6a3-ec086b02610b.jpg: ignoring corrupt image/label: non-normalized or out of bounds coordinates [       1.25        1.25]\n",
            "\u001b[34m\u001b[1mval: \u001b[0mWARNING ⚠️ /content/datasets/my_custom_dataset/test/images/599fbefc-23d2-11e8-a6a3-ec086b02610b.jpg: ignoring corrupt image/label: non-normalized or out of bounds coordinates [       1.25        1.25]\n"
          ]
        },
        {
          "name": "stderr",
          "output_type": "stream",
          "text": [
            "\n",
            "                 Class     Images  Instances      Box(P          R      mAP50  mAP50-95): 100%|██████████| 161/161 [02:03<00:00,  1.31it/s]\n"
          ]
        },
        {
          "name": "stdout",
          "output_type": "stream",
          "text": [
            "                   all       2572       2683      0.844      0.416       0.63       0.49\n",
            "               opossum          2          2          0          0          0          0\n",
            "               raccoon         59         83      0.933      0.169      0.548      0.384\n",
            "              squirrel        246        255      0.978      0.686      0.825      0.659\n",
            "                bobcat        130        130      0.992      0.985      0.988      0.889\n",
            "                 skunk        220        225      0.977       0.56      0.767      0.572\n",
            "                   dog        238        255      0.972      0.678      0.824      0.665\n",
            "                coyote          8          8          1      0.375      0.687      0.537\n",
            "                rabbit        135        153      0.943      0.647      0.799      0.613\n",
            "                   cat          1          1          0          0          0          0\n",
            "                badger        641        645          1      0.309      0.654      0.439\n",
            "                 empty        251        259      0.962      0.293      0.629      0.499\n",
            "                   car        436        456       0.97      0.647      0.806      0.626\n",
            "                  deer         25         25          1       0.12       0.56      0.427\n",
            "                   fox         43         44      0.963      0.591      0.781      0.593\n",
            "                rodent        142        142      0.963      0.183      0.575      0.444\n",
            "Speed: 0.9ms preprocess, 43.6ms inference, 0.0ms loss, 0.5ms postprocess per image\n",
            "Results saved to \u001b[1mruns/detect/val21\u001b[0m\n",
            "Ultralytics YOLOv8.2.103 🚀 Python-3.11.11 torch-2.5.1+cu124 CUDA:0 (Tesla T4, 15095MiB)\n"
          ]
        },
        {
          "name": "stderr",
          "output_type": "stream",
          "text": [
            "\u001b[34m\u001b[1mval: \u001b[0mScanning /content/datasets/my_custom_dataset/test/labels.cache... 2611 images, 0 backgrounds, 39 corrupt: 100%|██████████| 2611/2611 [00:00<?, ?it/s]"
          ]
        },
        {
          "name": "stdout",
          "output_type": "stream",
          "text": [
            "\u001b[34m\u001b[1mval: \u001b[0mWARNING ⚠️ /content/datasets/my_custom_dataset/test/images/5858bfcd-23d2-11e8-a6a3-ec086b02610b.jpg: ignoring corrupt image/label: non-normalized or out of bounds coordinates [       1.25        1.25]\n",
            "\u001b[34m\u001b[1mval: \u001b[0mWARNING ⚠️ /content/datasets/my_custom_dataset/test/images/5858c28b-23d2-11e8-a6a3-ec086b02610b.jpg: ignoring corrupt image/label: non-normalized or out of bounds coordinates [       1.25        1.25]\n",
            "\u001b[34m\u001b[1mval: \u001b[0mWARNING ⚠️ /content/datasets/my_custom_dataset/test/images/5860ef5d-23d2-11e8-a6a3-ec086b02610b.jpg: ignoring corrupt image/label: non-normalized or out of bounds coordinates [     1.1159]\n",
            "\u001b[34m\u001b[1mval: \u001b[0mWARNING ⚠️ /content/datasets/my_custom_dataset/test/images/5874d3b4-23d2-11e8-a6a3-ec086b02610b.jpg: ignoring corrupt image/label: non-normalized or out of bounds coordinates [     1.0885]\n",
            "\u001b[34m\u001b[1mval: \u001b[0mWARNING ⚠️ /content/datasets/my_custom_dataset/test/images/5874d409-23d2-11e8-a6a3-ec086b02610b.jpg: ignoring corrupt image/label: non-normalized or out of bounds coordinates [       1.25        1.25]\n",
            "\u001b[34m\u001b[1mval: \u001b[0mWARNING ⚠️ /content/datasets/my_custom_dataset/test/images/5874d6a8-23d2-11e8-a6a3-ec086b02610b.jpg: ignoring corrupt image/label: non-normalized or out of bounds coordinates [     1.1138]\n",
            "\u001b[34m\u001b[1mval: \u001b[0mWARNING ⚠️ /content/datasets/my_custom_dataset/test/images/5874d737-23d2-11e8-a6a3-ec086b02610b.jpg: ignoring corrupt image/label: non-normalized or out of bounds coordinates [       1.25        1.25]\n",
            "\u001b[34m\u001b[1mval: \u001b[0mWARNING ⚠️ /content/datasets/my_custom_dataset/test/images/5883e70e-23d2-11e8-a6a3-ec086b02610b.jpg: ignoring corrupt image/label: non-normalized or out of bounds coordinates [     1.1294]\n",
            "\u001b[34m\u001b[1mval: \u001b[0mWARNING ⚠️ /content/datasets/my_custom_dataset/test/images/5883e9df-23d2-11e8-a6a3-ec086b02610b.jpg: ignoring corrupt image/label: non-normalized or out of bounds coordinates [     1.1826]\n",
            "\u001b[34m\u001b[1mval: \u001b[0mWARNING ⚠️ /content/datasets/my_custom_dataset/test/images/5888bda6-23d2-11e8-a6a3-ec086b02610b.jpg: ignoring corrupt image/label: non-normalized or out of bounds coordinates [       1.25        1.25]\n",
            "\u001b[34m\u001b[1mval: \u001b[0mWARNING ⚠️ /content/datasets/my_custom_dataset/test/images/5888be64-23d2-11e8-a6a3-ec086b02610b.jpg: ignoring corrupt image/label: non-normalized or out of bounds coordinates [     1.0137]\n",
            "\u001b[34m\u001b[1mval: \u001b[0mWARNING ⚠️ /content/datasets/my_custom_dataset/test/images/5892b43c-23d2-11e8-a6a3-ec086b02610b.jpg: ignoring corrupt image/label: non-normalized or out of bounds coordinates [      1.104]\n",
            "\u001b[34m\u001b[1mval: \u001b[0mWARNING ⚠️ /content/datasets/my_custom_dataset/test/images/5900a253-23d2-11e8-a6a3-ec086b02610b.jpg: ignoring corrupt image/label: non-normalized or out of bounds coordinates [       1.25        1.25]\n",
            "\u001b[34m\u001b[1mval: \u001b[0mWARNING ⚠️ /content/datasets/my_custom_dataset/test/images/5903cc86-23d2-11e8-a6a3-ec086b02610b.jpg: ignoring corrupt image/label: non-normalized or out of bounds coordinates [     1.1372]\n",
            "\u001b[34m\u001b[1mval: \u001b[0mWARNING ⚠️ /content/datasets/my_custom_dataset/test/images/5906efd3-23d2-11e8-a6a3-ec086b02610b.jpg: ignoring corrupt image/label: non-normalized or out of bounds coordinates [       1.25        1.25]\n",
            "\u001b[34m\u001b[1mval: \u001b[0mWARNING ⚠️ /content/datasets/my_custom_dataset/test/images/5906f195-23d2-11e8-a6a3-ec086b02610b.jpg: ignoring corrupt image/label: non-normalized or out of bounds coordinates [       1.25        1.25]\n",
            "\u001b[34m\u001b[1mval: \u001b[0mWARNING ⚠️ /content/datasets/my_custom_dataset/test/images/5914ee02-23d2-11e8-a6a3-ec086b02610b.jpg: ignoring corrupt image/label: non-normalized or out of bounds coordinates [     1.1484]\n",
            "\u001b[34m\u001b[1mval: \u001b[0mWARNING ⚠️ /content/datasets/my_custom_dataset/test/images/5914ee4d-23d2-11e8-a6a3-ec086b02610b.jpg: ignoring corrupt image/label: non-normalized or out of bounds coordinates [       1.25        1.25]\n",
            "\u001b[34m\u001b[1mval: \u001b[0mWARNING ⚠️ /content/datasets/my_custom_dataset/test/images/5922ecf4-23d2-11e8-a6a3-ec086b02610b.jpg: ignoring corrupt image/label: non-normalized or out of bounds coordinates [     1.0103]\n",
            "\u001b[34m\u001b[1mval: \u001b[0mWARNING ⚠️ /content/datasets/my_custom_dataset/test/images/5922edad-23d2-11e8-a6a3-ec086b02610b.jpg: ignoring corrupt image/label: non-normalized or out of bounds coordinates [       1.25        1.25]\n",
            "\u001b[34m\u001b[1mval: \u001b[0mWARNING ⚠️ /content/datasets/my_custom_dataset/test/images/5938c04b-23d2-11e8-a6a3-ec086b02610b.jpg: ignoring corrupt image/label: non-normalized or out of bounds coordinates [       1.25        1.25]\n",
            "\u001b[34m\u001b[1mval: \u001b[0mWARNING ⚠️ /content/datasets/my_custom_dataset/test/images/5938c1a2-23d2-11e8-a6a3-ec086b02610b.jpg: ignoring corrupt image/label: non-normalized or out of bounds coordinates [       1.25        1.25]\n",
            "\u001b[34m\u001b[1mval: \u001b[0mWARNING ⚠️ /content/datasets/my_custom_dataset/test/images/5938c1d8-23d2-11e8-a6a3-ec086b02610b.jpg: ignoring corrupt image/label: non-normalized or out of bounds coordinates [       1.25        1.25]\n",
            "\u001b[34m\u001b[1mval: \u001b[0mWARNING ⚠️ /content/datasets/my_custom_dataset/test/images/5938c2ff-23d2-11e8-a6a3-ec086b02610b.jpg: ignoring corrupt image/label: non-normalized or out of bounds coordinates [       1.25        1.25]\n",
            "\u001b[34m\u001b[1mval: \u001b[0mWARNING ⚠️ /content/datasets/my_custom_dataset/test/images/5949cfca-23d2-11e8-a6a3-ec086b02610b.jpg: ignoring corrupt image/label: non-normalized or out of bounds coordinates [       1.25        1.25]\n",
            "\u001b[34m\u001b[1mval: \u001b[0mWARNING ⚠️ /content/datasets/my_custom_dataset/test/images/597feed1-23d2-11e8-a6a3-ec086b02610b.jpg: ignoring corrupt image/label: non-normalized or out of bounds coordinates [     1.0459]\n",
            "\u001b[34m\u001b[1mval: \u001b[0mWARNING ⚠️ /content/datasets/my_custom_dataset/test/images/598ad10d-23d2-11e8-a6a3-ec086b02610b.jpg: ignoring corrupt image/label: non-normalized or out of bounds coordinates [       1.25        1.25]\n",
            "\u001b[34m\u001b[1mval: \u001b[0mWARNING ⚠️ /content/datasets/my_custom_dataset/test/images/598c5b8e-23d2-11e8-a6a3-ec086b02610b.jpg: ignoring corrupt image/label: non-normalized or out of bounds coordinates [       1.25        1.25]\n",
            "\u001b[34m\u001b[1mval: \u001b[0mWARNING ⚠️ /content/datasets/my_custom_dataset/test/images/598c5c81-23d2-11e8-a6a3-ec086b02610b.jpg: ignoring corrupt image/label: non-normalized or out of bounds coordinates [       1.25        1.25]\n",
            "\u001b[34m\u001b[1mval: \u001b[0mWARNING ⚠️ /content/datasets/my_custom_dataset/test/images/598de9a9-23d2-11e8-a6a3-ec086b02610b.jpg: ignoring corrupt image/label: non-normalized or out of bounds coordinates [       1.25        1.25]\n",
            "\u001b[34m\u001b[1mval: \u001b[0mWARNING ⚠️ /content/datasets/my_custom_dataset/test/images/599a59d5-23d2-11e8-a6a3-ec086b02610b.jpg: ignoring corrupt image/label: non-normalized or out of bounds coordinates [       1.25        1.25]\n",
            "\u001b[34m\u001b[1mval: \u001b[0mWARNING ⚠️ /content/datasets/my_custom_dataset/test/images/599a5a3d-23d2-11e8-a6a3-ec086b02610b.jpg: ignoring corrupt image/label: non-normalized or out of bounds coordinates [       1.25        1.25]\n",
            "\u001b[34m\u001b[1mval: \u001b[0mWARNING ⚠️ /content/datasets/my_custom_dataset/test/images/599a5ade-23d2-11e8-a6a3-ec086b02610b.jpg: ignoring corrupt image/label: non-normalized or out of bounds coordinates [       1.25        1.25]\n",
            "\u001b[34m\u001b[1mval: \u001b[0mWARNING ⚠️ /content/datasets/my_custom_dataset/test/images/599a5b35-23d2-11e8-a6a3-ec086b02610b.jpg: ignoring corrupt image/label: non-normalized or out of bounds coordinates [       1.25        1.25]\n",
            "\u001b[34m\u001b[1mval: \u001b[0mWARNING ⚠️ /content/datasets/my_custom_dataset/test/images/599be8dc-23d2-11e8-a6a3-ec086b02610b.jpg: ignoring corrupt image/label: non-normalized or out of bounds coordinates [       1.25        1.25]\n",
            "\u001b[34m\u001b[1mval: \u001b[0mWARNING ⚠️ /content/datasets/my_custom_dataset/test/images/599d7b79-23d2-11e8-a6a3-ec086b02610b.jpg: ignoring corrupt image/label: non-normalized or out of bounds coordinates [       1.25        1.25]\n",
            "\u001b[34m\u001b[1mval: \u001b[0mWARNING ⚠️ /content/datasets/my_custom_dataset/test/images/599fbdde-23d2-11e8-a6a3-ec086b02610b.jpg: ignoring corrupt image/label: non-normalized or out of bounds coordinates [       1.25        1.25]\n",
            "\u001b[34m\u001b[1mval: \u001b[0mWARNING ⚠️ /content/datasets/my_custom_dataset/test/images/599fbedd-23d2-11e8-a6a3-ec086b02610b.jpg: ignoring corrupt image/label: non-normalized or out of bounds coordinates [       1.25        1.25]\n",
            "\u001b[34m\u001b[1mval: \u001b[0mWARNING ⚠️ /content/datasets/my_custom_dataset/test/images/599fbefc-23d2-11e8-a6a3-ec086b02610b.jpg: ignoring corrupt image/label: non-normalized or out of bounds coordinates [       1.25        1.25]\n"
          ]
        },
        {
          "name": "stderr",
          "output_type": "stream",
          "text": [
            "\n",
            "                 Class     Images  Instances      Box(P          R      mAP50  mAP50-95): 100%|██████████| 161/161 [01:59<00:00,  1.35it/s]\n"
          ]
        },
        {
          "name": "stdout",
          "output_type": "stream",
          "text": [
            "                   all       2572       2683      0.851      0.207      0.529      0.424\n",
            "               opossum          2          2          0          0          0          0\n",
            "               raccoon         59         83          1     0.0241      0.512      0.358\n",
            "              squirrel        246        255      0.957      0.176      0.567      0.484\n",
            "                bobcat        130        130      0.992      0.969      0.981      0.883\n",
            "                 skunk        220        225       0.97      0.142      0.555      0.418\n",
            "                   dog        238        255      0.972      0.404      0.685      0.572\n",
            "                coyote          8          8          1      0.375      0.687      0.537\n",
            "                rabbit        135        153      0.957      0.438      0.701      0.537\n",
            "                   cat          1          1          0          0          0          0\n",
            "                badger        641        645          1     0.0109      0.505      0.383\n",
            "                 empty        251        259      0.952     0.0772      0.515      0.432\n",
            "                   car        436        456      0.969      0.208      0.589      0.474\n",
            "                  deer         25         25          1       0.08       0.54      0.378\n",
            "                   fox         43         44          1      0.114      0.557      0.443\n",
            "                rodent        142        142          1     0.0845      0.542      0.466\n",
            "Speed: 0.7ms preprocess, 43.4ms inference, 0.0ms loss, 0.3ms postprocess per image\n",
            "Results saved to \u001b[1mruns/detect/val22\u001b[0m\n",
            "Ultralytics YOLOv8.2.103 🚀 Python-3.11.11 torch-2.5.1+cu124 CUDA:0 (Tesla T4, 15095MiB)\n"
          ]
        },
        {
          "name": "stderr",
          "output_type": "stream",
          "text": [
            "\u001b[34m\u001b[1mval: \u001b[0mScanning /content/datasets/my_custom_dataset/test/labels.cache... 2611 images, 0 backgrounds, 39 corrupt: 100%|██████████| 2611/2611 [00:00<?, ?it/s]"
          ]
        },
        {
          "name": "stdout",
          "output_type": "stream",
          "text": [
            "\u001b[34m\u001b[1mval: \u001b[0mWARNING ⚠️ /content/datasets/my_custom_dataset/test/images/5858bfcd-23d2-11e8-a6a3-ec086b02610b.jpg: ignoring corrupt image/label: non-normalized or out of bounds coordinates [       1.25        1.25]\n",
            "\u001b[34m\u001b[1mval: \u001b[0mWARNING ⚠️ /content/datasets/my_custom_dataset/test/images/5858c28b-23d2-11e8-a6a3-ec086b02610b.jpg: ignoring corrupt image/label: non-normalized or out of bounds coordinates [       1.25        1.25]\n",
            "\u001b[34m\u001b[1mval: \u001b[0mWARNING ⚠️ /content/datasets/my_custom_dataset/test/images/5860ef5d-23d2-11e8-a6a3-ec086b02610b.jpg: ignoring corrupt image/label: non-normalized or out of bounds coordinates [     1.1159]\n",
            "\u001b[34m\u001b[1mval: \u001b[0mWARNING ⚠️ /content/datasets/my_custom_dataset/test/images/5874d3b4-23d2-11e8-a6a3-ec086b02610b.jpg: ignoring corrupt image/label: non-normalized or out of bounds coordinates [     1.0885]\n",
            "\u001b[34m\u001b[1mval: \u001b[0mWARNING ⚠️ /content/datasets/my_custom_dataset/test/images/5874d409-23d2-11e8-a6a3-ec086b02610b.jpg: ignoring corrupt image/label: non-normalized or out of bounds coordinates [       1.25        1.25]\n",
            "\u001b[34m\u001b[1mval: \u001b[0mWARNING ⚠️ /content/datasets/my_custom_dataset/test/images/5874d6a8-23d2-11e8-a6a3-ec086b02610b.jpg: ignoring corrupt image/label: non-normalized or out of bounds coordinates [     1.1138]\n",
            "\u001b[34m\u001b[1mval: \u001b[0mWARNING ⚠️ /content/datasets/my_custom_dataset/test/images/5874d737-23d2-11e8-a6a3-ec086b02610b.jpg: ignoring corrupt image/label: non-normalized or out of bounds coordinates [       1.25        1.25]\n",
            "\u001b[34m\u001b[1mval: \u001b[0mWARNING ⚠️ /content/datasets/my_custom_dataset/test/images/5883e70e-23d2-11e8-a6a3-ec086b02610b.jpg: ignoring corrupt image/label: non-normalized or out of bounds coordinates [     1.1294]\n",
            "\u001b[34m\u001b[1mval: \u001b[0mWARNING ⚠️ /content/datasets/my_custom_dataset/test/images/5883e9df-23d2-11e8-a6a3-ec086b02610b.jpg: ignoring corrupt image/label: non-normalized or out of bounds coordinates [     1.1826]\n",
            "\u001b[34m\u001b[1mval: \u001b[0mWARNING ⚠️ /content/datasets/my_custom_dataset/test/images/5888bda6-23d2-11e8-a6a3-ec086b02610b.jpg: ignoring corrupt image/label: non-normalized or out of bounds coordinates [       1.25        1.25]\n",
            "\u001b[34m\u001b[1mval: \u001b[0mWARNING ⚠️ /content/datasets/my_custom_dataset/test/images/5888be64-23d2-11e8-a6a3-ec086b02610b.jpg: ignoring corrupt image/label: non-normalized or out of bounds coordinates [     1.0137]\n",
            "\u001b[34m\u001b[1mval: \u001b[0mWARNING ⚠️ /content/datasets/my_custom_dataset/test/images/5892b43c-23d2-11e8-a6a3-ec086b02610b.jpg: ignoring corrupt image/label: non-normalized or out of bounds coordinates [      1.104]\n",
            "\u001b[34m\u001b[1mval: \u001b[0mWARNING ⚠️ /content/datasets/my_custom_dataset/test/images/5900a253-23d2-11e8-a6a3-ec086b02610b.jpg: ignoring corrupt image/label: non-normalized or out of bounds coordinates [       1.25        1.25]\n",
            "\u001b[34m\u001b[1mval: \u001b[0mWARNING ⚠️ /content/datasets/my_custom_dataset/test/images/5903cc86-23d2-11e8-a6a3-ec086b02610b.jpg: ignoring corrupt image/label: non-normalized or out of bounds coordinates [     1.1372]\n",
            "\u001b[34m\u001b[1mval: \u001b[0mWARNING ⚠️ /content/datasets/my_custom_dataset/test/images/5906efd3-23d2-11e8-a6a3-ec086b02610b.jpg: ignoring corrupt image/label: non-normalized or out of bounds coordinates [       1.25        1.25]\n",
            "\u001b[34m\u001b[1mval: \u001b[0mWARNING ⚠️ /content/datasets/my_custom_dataset/test/images/5906f195-23d2-11e8-a6a3-ec086b02610b.jpg: ignoring corrupt image/label: non-normalized or out of bounds coordinates [       1.25        1.25]\n",
            "\u001b[34m\u001b[1mval: \u001b[0mWARNING ⚠️ /content/datasets/my_custom_dataset/test/images/5914ee02-23d2-11e8-a6a3-ec086b02610b.jpg: ignoring corrupt image/label: non-normalized or out of bounds coordinates [     1.1484]\n",
            "\u001b[34m\u001b[1mval: \u001b[0mWARNING ⚠️ /content/datasets/my_custom_dataset/test/images/5914ee4d-23d2-11e8-a6a3-ec086b02610b.jpg: ignoring corrupt image/label: non-normalized or out of bounds coordinates [       1.25        1.25]\n",
            "\u001b[34m\u001b[1mval: \u001b[0mWARNING ⚠️ /content/datasets/my_custom_dataset/test/images/5922ecf4-23d2-11e8-a6a3-ec086b02610b.jpg: ignoring corrupt image/label: non-normalized or out of bounds coordinates [     1.0103]\n",
            "\u001b[34m\u001b[1mval: \u001b[0mWARNING ⚠️ /content/datasets/my_custom_dataset/test/images/5922edad-23d2-11e8-a6a3-ec086b02610b.jpg: ignoring corrupt image/label: non-normalized or out of bounds coordinates [       1.25        1.25]\n",
            "\u001b[34m\u001b[1mval: \u001b[0mWARNING ⚠️ /content/datasets/my_custom_dataset/test/images/5938c04b-23d2-11e8-a6a3-ec086b02610b.jpg: ignoring corrupt image/label: non-normalized or out of bounds coordinates [       1.25        1.25]\n",
            "\u001b[34m\u001b[1mval: \u001b[0mWARNING ⚠️ /content/datasets/my_custom_dataset/test/images/5938c1a2-23d2-11e8-a6a3-ec086b02610b.jpg: ignoring corrupt image/label: non-normalized or out of bounds coordinates [       1.25        1.25]\n",
            "\u001b[34m\u001b[1mval: \u001b[0mWARNING ⚠️ /content/datasets/my_custom_dataset/test/images/5938c1d8-23d2-11e8-a6a3-ec086b02610b.jpg: ignoring corrupt image/label: non-normalized or out of bounds coordinates [       1.25        1.25]\n",
            "\u001b[34m\u001b[1mval: \u001b[0mWARNING ⚠️ /content/datasets/my_custom_dataset/test/images/5938c2ff-23d2-11e8-a6a3-ec086b02610b.jpg: ignoring corrupt image/label: non-normalized or out of bounds coordinates [       1.25        1.25]\n",
            "\u001b[34m\u001b[1mval: \u001b[0mWARNING ⚠️ /content/datasets/my_custom_dataset/test/images/5949cfca-23d2-11e8-a6a3-ec086b02610b.jpg: ignoring corrupt image/label: non-normalized or out of bounds coordinates [       1.25        1.25]\n",
            "\u001b[34m\u001b[1mval: \u001b[0mWARNING ⚠️ /content/datasets/my_custom_dataset/test/images/597feed1-23d2-11e8-a6a3-ec086b02610b.jpg: ignoring corrupt image/label: non-normalized or out of bounds coordinates [     1.0459]\n",
            "\u001b[34m\u001b[1mval: \u001b[0mWARNING ⚠️ /content/datasets/my_custom_dataset/test/images/598ad10d-23d2-11e8-a6a3-ec086b02610b.jpg: ignoring corrupt image/label: non-normalized or out of bounds coordinates [       1.25        1.25]\n",
            "\u001b[34m\u001b[1mval: \u001b[0mWARNING ⚠️ /content/datasets/my_custom_dataset/test/images/598c5b8e-23d2-11e8-a6a3-ec086b02610b.jpg: ignoring corrupt image/label: non-normalized or out of bounds coordinates [       1.25        1.25]\n",
            "\u001b[34m\u001b[1mval: \u001b[0mWARNING ⚠️ /content/datasets/my_custom_dataset/test/images/598c5c81-23d2-11e8-a6a3-ec086b02610b.jpg: ignoring corrupt image/label: non-normalized or out of bounds coordinates [       1.25        1.25]\n",
            "\u001b[34m\u001b[1mval: \u001b[0mWARNING ⚠️ /content/datasets/my_custom_dataset/test/images/598de9a9-23d2-11e8-a6a3-ec086b02610b.jpg: ignoring corrupt image/label: non-normalized or out of bounds coordinates [       1.25        1.25]\n",
            "\u001b[34m\u001b[1mval: \u001b[0mWARNING ⚠️ /content/datasets/my_custom_dataset/test/images/599a59d5-23d2-11e8-a6a3-ec086b02610b.jpg: ignoring corrupt image/label: non-normalized or out of bounds coordinates [       1.25        1.25]\n",
            "\u001b[34m\u001b[1mval: \u001b[0mWARNING ⚠️ /content/datasets/my_custom_dataset/test/images/599a5a3d-23d2-11e8-a6a3-ec086b02610b.jpg: ignoring corrupt image/label: non-normalized or out of bounds coordinates [       1.25        1.25]\n",
            "\u001b[34m\u001b[1mval: \u001b[0mWARNING ⚠️ /content/datasets/my_custom_dataset/test/images/599a5ade-23d2-11e8-a6a3-ec086b02610b.jpg: ignoring corrupt image/label: non-normalized or out of bounds coordinates [       1.25        1.25]\n",
            "\u001b[34m\u001b[1mval: \u001b[0mWARNING ⚠️ /content/datasets/my_custom_dataset/test/images/599a5b35-23d2-11e8-a6a3-ec086b02610b.jpg: ignoring corrupt image/label: non-normalized or out of bounds coordinates [       1.25        1.25]\n",
            "\u001b[34m\u001b[1mval: \u001b[0mWARNING ⚠️ /content/datasets/my_custom_dataset/test/images/599be8dc-23d2-11e8-a6a3-ec086b02610b.jpg: ignoring corrupt image/label: non-normalized or out of bounds coordinates [       1.25        1.25]\n",
            "\u001b[34m\u001b[1mval: \u001b[0mWARNING ⚠️ /content/datasets/my_custom_dataset/test/images/599d7b79-23d2-11e8-a6a3-ec086b02610b.jpg: ignoring corrupt image/label: non-normalized or out of bounds coordinates [       1.25        1.25]\n",
            "\u001b[34m\u001b[1mval: \u001b[0mWARNING ⚠️ /content/datasets/my_custom_dataset/test/images/599fbdde-23d2-11e8-a6a3-ec086b02610b.jpg: ignoring corrupt image/label: non-normalized or out of bounds coordinates [       1.25        1.25]\n",
            "\u001b[34m\u001b[1mval: \u001b[0mWARNING ⚠️ /content/datasets/my_custom_dataset/test/images/599fbedd-23d2-11e8-a6a3-ec086b02610b.jpg: ignoring corrupt image/label: non-normalized or out of bounds coordinates [       1.25        1.25]\n",
            "\u001b[34m\u001b[1mval: \u001b[0mWARNING ⚠️ /content/datasets/my_custom_dataset/test/images/599fbefc-23d2-11e8-a6a3-ec086b02610b.jpg: ignoring corrupt image/label: non-normalized or out of bounds coordinates [       1.25        1.25]\n"
          ]
        },
        {
          "name": "stderr",
          "output_type": "stream",
          "text": [
            "\n",
            "                 Class     Images  Instances      Box(P          R      mAP50  mAP50-95): 100%|██████████| 161/161 [01:58<00:00,  1.36it/s]\n"
          ]
        },
        {
          "name": "stdout",
          "output_type": "stream",
          "text": [
            "                   all       2572       2683      0.733      0.094      0.413      0.331\n",
            "               opossum          2          2          0          0          0          0\n",
            "               raccoon         59         83          1      0.012      0.506      0.354\n",
            "              squirrel        246        255          1     0.0118      0.506      0.455\n",
            "                bobcat        130        130      0.992      0.946      0.969      0.872\n",
            "                 skunk        220        225          0          0          0          0\n",
            "                   dog        238        255          1    0.00392      0.502      0.502\n",
            "                coyote          8          8          1      0.125      0.562      0.337\n",
            "                rabbit        135        153          1      0.144      0.572      0.452\n",
            "                   cat          1          1          0          0          0          0\n",
            "                badger        641        645          0          0          0          0\n",
            "                 empty        251        259          1    0.00772      0.504      0.428\n",
            "                   car        436        456          1    0.00439      0.502      0.402\n",
            "                  deer         25         25          1       0.04       0.52      0.364\n",
            "                   fox         43         44          1     0.0455      0.523      0.342\n",
            "                rodent        142        142          1     0.0704      0.535      0.461\n",
            "Speed: 0.8ms preprocess, 43.5ms inference, 0.0ms loss, 0.2ms postprocess per image\n",
            "Results saved to \u001b[1mruns/detect/val23\u001b[0m\n",
            "Ultralytics YOLOv8.2.103 🚀 Python-3.11.11 torch-2.5.1+cu124 CUDA:0 (Tesla T4, 15095MiB)\n"
          ]
        },
        {
          "name": "stderr",
          "output_type": "stream",
          "text": [
            "\u001b[34m\u001b[1mval: \u001b[0mScanning /content/datasets/my_custom_dataset/test/labels.cache... 2611 images, 0 backgrounds, 39 corrupt: 100%|██████████| 2611/2611 [00:00<?, ?it/s]"
          ]
        },
        {
          "name": "stdout",
          "output_type": "stream",
          "text": [
            "\u001b[34m\u001b[1mval: \u001b[0mWARNING ⚠️ /content/datasets/my_custom_dataset/test/images/5858bfcd-23d2-11e8-a6a3-ec086b02610b.jpg: ignoring corrupt image/label: non-normalized or out of bounds coordinates [       1.25        1.25]\n",
            "\u001b[34m\u001b[1mval: \u001b[0mWARNING ⚠️ /content/datasets/my_custom_dataset/test/images/5858c28b-23d2-11e8-a6a3-ec086b02610b.jpg: ignoring corrupt image/label: non-normalized or out of bounds coordinates [       1.25        1.25]\n",
            "\u001b[34m\u001b[1mval: \u001b[0mWARNING ⚠️ /content/datasets/my_custom_dataset/test/images/5860ef5d-23d2-11e8-a6a3-ec086b02610b.jpg: ignoring corrupt image/label: non-normalized or out of bounds coordinates [     1.1159]\n",
            "\u001b[34m\u001b[1mval: \u001b[0mWARNING ⚠️ /content/datasets/my_custom_dataset/test/images/5874d3b4-23d2-11e8-a6a3-ec086b02610b.jpg: ignoring corrupt image/label: non-normalized or out of bounds coordinates [     1.0885]\n",
            "\u001b[34m\u001b[1mval: \u001b[0mWARNING ⚠️ /content/datasets/my_custom_dataset/test/images/5874d409-23d2-11e8-a6a3-ec086b02610b.jpg: ignoring corrupt image/label: non-normalized or out of bounds coordinates [       1.25        1.25]\n",
            "\u001b[34m\u001b[1mval: \u001b[0mWARNING ⚠️ /content/datasets/my_custom_dataset/test/images/5874d6a8-23d2-11e8-a6a3-ec086b02610b.jpg: ignoring corrupt image/label: non-normalized or out of bounds coordinates [     1.1138]\n",
            "\u001b[34m\u001b[1mval: \u001b[0mWARNING ⚠️ /content/datasets/my_custom_dataset/test/images/5874d737-23d2-11e8-a6a3-ec086b02610b.jpg: ignoring corrupt image/label: non-normalized or out of bounds coordinates [       1.25        1.25]\n",
            "\u001b[34m\u001b[1mval: \u001b[0mWARNING ⚠️ /content/datasets/my_custom_dataset/test/images/5883e70e-23d2-11e8-a6a3-ec086b02610b.jpg: ignoring corrupt image/label: non-normalized or out of bounds coordinates [     1.1294]\n",
            "\u001b[34m\u001b[1mval: \u001b[0mWARNING ⚠️ /content/datasets/my_custom_dataset/test/images/5883e9df-23d2-11e8-a6a3-ec086b02610b.jpg: ignoring corrupt image/label: non-normalized or out of bounds coordinates [     1.1826]\n",
            "\u001b[34m\u001b[1mval: \u001b[0mWARNING ⚠️ /content/datasets/my_custom_dataset/test/images/5888bda6-23d2-11e8-a6a3-ec086b02610b.jpg: ignoring corrupt image/label: non-normalized or out of bounds coordinates [       1.25        1.25]\n",
            "\u001b[34m\u001b[1mval: \u001b[0mWARNING ⚠️ /content/datasets/my_custom_dataset/test/images/5888be64-23d2-11e8-a6a3-ec086b02610b.jpg: ignoring corrupt image/label: non-normalized or out of bounds coordinates [     1.0137]\n",
            "\u001b[34m\u001b[1mval: \u001b[0mWARNING ⚠️ /content/datasets/my_custom_dataset/test/images/5892b43c-23d2-11e8-a6a3-ec086b02610b.jpg: ignoring corrupt image/label: non-normalized or out of bounds coordinates [      1.104]\n",
            "\u001b[34m\u001b[1mval: \u001b[0mWARNING ⚠️ /content/datasets/my_custom_dataset/test/images/5900a253-23d2-11e8-a6a3-ec086b02610b.jpg: ignoring corrupt image/label: non-normalized or out of bounds coordinates [       1.25        1.25]\n",
            "\u001b[34m\u001b[1mval: \u001b[0mWARNING ⚠️ /content/datasets/my_custom_dataset/test/images/5903cc86-23d2-11e8-a6a3-ec086b02610b.jpg: ignoring corrupt image/label: non-normalized or out of bounds coordinates [     1.1372]\n",
            "\u001b[34m\u001b[1mval: \u001b[0mWARNING ⚠️ /content/datasets/my_custom_dataset/test/images/5906efd3-23d2-11e8-a6a3-ec086b02610b.jpg: ignoring corrupt image/label: non-normalized or out of bounds coordinates [       1.25        1.25]\n",
            "\u001b[34m\u001b[1mval: \u001b[0mWARNING ⚠️ /content/datasets/my_custom_dataset/test/images/5906f195-23d2-11e8-a6a3-ec086b02610b.jpg: ignoring corrupt image/label: non-normalized or out of bounds coordinates [       1.25        1.25]\n",
            "\u001b[34m\u001b[1mval: \u001b[0mWARNING ⚠️ /content/datasets/my_custom_dataset/test/images/5914ee02-23d2-11e8-a6a3-ec086b02610b.jpg: ignoring corrupt image/label: non-normalized or out of bounds coordinates [     1.1484]\n",
            "\u001b[34m\u001b[1mval: \u001b[0mWARNING ⚠️ /content/datasets/my_custom_dataset/test/images/5914ee4d-23d2-11e8-a6a3-ec086b02610b.jpg: ignoring corrupt image/label: non-normalized or out of bounds coordinates [       1.25        1.25]\n",
            "\u001b[34m\u001b[1mval: \u001b[0mWARNING ⚠️ /content/datasets/my_custom_dataset/test/images/5922ecf4-23d2-11e8-a6a3-ec086b02610b.jpg: ignoring corrupt image/label: non-normalized or out of bounds coordinates [     1.0103]\n",
            "\u001b[34m\u001b[1mval: \u001b[0mWARNING ⚠️ /content/datasets/my_custom_dataset/test/images/5922edad-23d2-11e8-a6a3-ec086b02610b.jpg: ignoring corrupt image/label: non-normalized or out of bounds coordinates [       1.25        1.25]\n",
            "\u001b[34m\u001b[1mval: \u001b[0mWARNING ⚠️ /content/datasets/my_custom_dataset/test/images/5938c04b-23d2-11e8-a6a3-ec086b02610b.jpg: ignoring corrupt image/label: non-normalized or out of bounds coordinates [       1.25        1.25]\n",
            "\u001b[34m\u001b[1mval: \u001b[0mWARNING ⚠️ /content/datasets/my_custom_dataset/test/images/5938c1a2-23d2-11e8-a6a3-ec086b02610b.jpg: ignoring corrupt image/label: non-normalized or out of bounds coordinates [       1.25        1.25]\n",
            "\u001b[34m\u001b[1mval: \u001b[0mWARNING ⚠️ /content/datasets/my_custom_dataset/test/images/5938c1d8-23d2-11e8-a6a3-ec086b02610b.jpg: ignoring corrupt image/label: non-normalized or out of bounds coordinates [       1.25        1.25]\n",
            "\u001b[34m\u001b[1mval: \u001b[0mWARNING ⚠️ /content/datasets/my_custom_dataset/test/images/5938c2ff-23d2-11e8-a6a3-ec086b02610b.jpg: ignoring corrupt image/label: non-normalized or out of bounds coordinates [       1.25        1.25]\n",
            "\u001b[34m\u001b[1mval: \u001b[0mWARNING ⚠️ /content/datasets/my_custom_dataset/test/images/5949cfca-23d2-11e8-a6a3-ec086b02610b.jpg: ignoring corrupt image/label: non-normalized or out of bounds coordinates [       1.25        1.25]\n",
            "\u001b[34m\u001b[1mval: \u001b[0mWARNING ⚠️ /content/datasets/my_custom_dataset/test/images/597feed1-23d2-11e8-a6a3-ec086b02610b.jpg: ignoring corrupt image/label: non-normalized or out of bounds coordinates [     1.0459]\n",
            "\u001b[34m\u001b[1mval: \u001b[0mWARNING ⚠️ /content/datasets/my_custom_dataset/test/images/598ad10d-23d2-11e8-a6a3-ec086b02610b.jpg: ignoring corrupt image/label: non-normalized or out of bounds coordinates [       1.25        1.25]\n",
            "\u001b[34m\u001b[1mval: \u001b[0mWARNING ⚠️ /content/datasets/my_custom_dataset/test/images/598c5b8e-23d2-11e8-a6a3-ec086b02610b.jpg: ignoring corrupt image/label: non-normalized or out of bounds coordinates [       1.25        1.25]\n",
            "\u001b[34m\u001b[1mval: \u001b[0mWARNING ⚠️ /content/datasets/my_custom_dataset/test/images/598c5c81-23d2-11e8-a6a3-ec086b02610b.jpg: ignoring corrupt image/label: non-normalized or out of bounds coordinates [       1.25        1.25]\n",
            "\u001b[34m\u001b[1mval: \u001b[0mWARNING ⚠️ /content/datasets/my_custom_dataset/test/images/598de9a9-23d2-11e8-a6a3-ec086b02610b.jpg: ignoring corrupt image/label: non-normalized or out of bounds coordinates [       1.25        1.25]\n",
            "\u001b[34m\u001b[1mval: \u001b[0mWARNING ⚠️ /content/datasets/my_custom_dataset/test/images/599a59d5-23d2-11e8-a6a3-ec086b02610b.jpg: ignoring corrupt image/label: non-normalized or out of bounds coordinates [       1.25        1.25]\n",
            "\u001b[34m\u001b[1mval: \u001b[0mWARNING ⚠️ /content/datasets/my_custom_dataset/test/images/599a5a3d-23d2-11e8-a6a3-ec086b02610b.jpg: ignoring corrupt image/label: non-normalized or out of bounds coordinates [       1.25        1.25]\n",
            "\u001b[34m\u001b[1mval: \u001b[0mWARNING ⚠️ /content/datasets/my_custom_dataset/test/images/599a5ade-23d2-11e8-a6a3-ec086b02610b.jpg: ignoring corrupt image/label: non-normalized or out of bounds coordinates [       1.25        1.25]\n",
            "\u001b[34m\u001b[1mval: \u001b[0mWARNING ⚠️ /content/datasets/my_custom_dataset/test/images/599a5b35-23d2-11e8-a6a3-ec086b02610b.jpg: ignoring corrupt image/label: non-normalized or out of bounds coordinates [       1.25        1.25]\n",
            "\u001b[34m\u001b[1mval: \u001b[0mWARNING ⚠️ /content/datasets/my_custom_dataset/test/images/599be8dc-23d2-11e8-a6a3-ec086b02610b.jpg: ignoring corrupt image/label: non-normalized or out of bounds coordinates [       1.25        1.25]\n",
            "\u001b[34m\u001b[1mval: \u001b[0mWARNING ⚠️ /content/datasets/my_custom_dataset/test/images/599d7b79-23d2-11e8-a6a3-ec086b02610b.jpg: ignoring corrupt image/label: non-normalized or out of bounds coordinates [       1.25        1.25]\n",
            "\u001b[34m\u001b[1mval: \u001b[0mWARNING ⚠️ /content/datasets/my_custom_dataset/test/images/599fbdde-23d2-11e8-a6a3-ec086b02610b.jpg: ignoring corrupt image/label: non-normalized or out of bounds coordinates [       1.25        1.25]\n",
            "\u001b[34m\u001b[1mval: \u001b[0mWARNING ⚠️ /content/datasets/my_custom_dataset/test/images/599fbedd-23d2-11e8-a6a3-ec086b02610b.jpg: ignoring corrupt image/label: non-normalized or out of bounds coordinates [       1.25        1.25]\n",
            "\u001b[34m\u001b[1mval: \u001b[0mWARNING ⚠️ /content/datasets/my_custom_dataset/test/images/599fbefc-23d2-11e8-a6a3-ec086b02610b.jpg: ignoring corrupt image/label: non-normalized or out of bounds coordinates [       1.25        1.25]\n"
          ]
        },
        {
          "name": "stderr",
          "output_type": "stream",
          "text": [
            "\n",
            "                 Class     Images  Instances      Box(P          R      mAP50  mAP50-95): 100%|██████████| 161/161 [01:59<00:00,  1.34it/s]\n"
          ]
        },
        {
          "name": "stdout",
          "output_type": "stream",
          "text": [
            "                   all       2572       2683        0.2     0.0137      0.107     0.0764\n",
            "               opossum          2          2          0          0          0          0\n",
            "               raccoon         59         83          0          0          0          0\n",
            "              squirrel        246        255          0          0          0          0\n",
            "                bobcat        130        130          0          0          0          0\n",
            "                 skunk        220        225          0          0          0          0\n",
            "                   dog        238        255          0          0          0          0\n",
            "                coyote          8          8          1      0.125      0.562      0.337\n",
            "                rabbit        135        153          0          0          0          0\n",
            "                   cat          1          1          0          0          0          0\n",
            "                badger        641        645          0          0          0          0\n",
            "                 empty        251        259          0          0          0          0\n",
            "                   car        436        456          0          0          0          0\n",
            "                  deer         25         25          0          0          0          0\n",
            "                   fox         43         44          1     0.0455      0.523      0.342\n",
            "                rodent        142        142          1     0.0352      0.518      0.467\n",
            "Speed: 1.1ms preprocess, 43.8ms inference, 0.0ms loss, 0.1ms postprocess per image\n",
            "Results saved to \u001b[1mruns/detect/val24\u001b[0m\n",
            "Ultralytics YOLOv8.2.103 🚀 Python-3.11.11 torch-2.5.1+cu124 CUDA:0 (Tesla T4, 15095MiB)\n"
          ]
        },
        {
          "name": "stderr",
          "output_type": "stream",
          "text": [
            "\u001b[34m\u001b[1mval: \u001b[0mScanning /content/datasets/my_custom_dataset/test/labels.cache... 2611 images, 0 backgrounds, 39 corrupt: 100%|██████████| 2611/2611 [00:00<?, ?it/s]"
          ]
        },
        {
          "name": "stdout",
          "output_type": "stream",
          "text": [
            "\u001b[34m\u001b[1mval: \u001b[0mWARNING ⚠️ /content/datasets/my_custom_dataset/test/images/5858bfcd-23d2-11e8-a6a3-ec086b02610b.jpg: ignoring corrupt image/label: non-normalized or out of bounds coordinates [       1.25        1.25]\n",
            "\u001b[34m\u001b[1mval: \u001b[0mWARNING ⚠️ /content/datasets/my_custom_dataset/test/images/5858c28b-23d2-11e8-a6a3-ec086b02610b.jpg: ignoring corrupt image/label: non-normalized or out of bounds coordinates [       1.25        1.25]\n",
            "\u001b[34m\u001b[1mval: \u001b[0mWARNING ⚠️ /content/datasets/my_custom_dataset/test/images/5860ef5d-23d2-11e8-a6a3-ec086b02610b.jpg: ignoring corrupt image/label: non-normalized or out of bounds coordinates [     1.1159]\n",
            "\u001b[34m\u001b[1mval: \u001b[0mWARNING ⚠️ /content/datasets/my_custom_dataset/test/images/5874d3b4-23d2-11e8-a6a3-ec086b02610b.jpg: ignoring corrupt image/label: non-normalized or out of bounds coordinates [     1.0885]\n",
            "\u001b[34m\u001b[1mval: \u001b[0mWARNING ⚠️ /content/datasets/my_custom_dataset/test/images/5874d409-23d2-11e8-a6a3-ec086b02610b.jpg: ignoring corrupt image/label: non-normalized or out of bounds coordinates [       1.25        1.25]\n",
            "\u001b[34m\u001b[1mval: \u001b[0mWARNING ⚠️ /content/datasets/my_custom_dataset/test/images/5874d6a8-23d2-11e8-a6a3-ec086b02610b.jpg: ignoring corrupt image/label: non-normalized or out of bounds coordinates [     1.1138]\n",
            "\u001b[34m\u001b[1mval: \u001b[0mWARNING ⚠️ /content/datasets/my_custom_dataset/test/images/5874d737-23d2-11e8-a6a3-ec086b02610b.jpg: ignoring corrupt image/label: non-normalized or out of bounds coordinates [       1.25        1.25]\n",
            "\u001b[34m\u001b[1mval: \u001b[0mWARNING ⚠️ /content/datasets/my_custom_dataset/test/images/5883e70e-23d2-11e8-a6a3-ec086b02610b.jpg: ignoring corrupt image/label: non-normalized or out of bounds coordinates [     1.1294]\n",
            "\u001b[34m\u001b[1mval: \u001b[0mWARNING ⚠️ /content/datasets/my_custom_dataset/test/images/5883e9df-23d2-11e8-a6a3-ec086b02610b.jpg: ignoring corrupt image/label: non-normalized or out of bounds coordinates [     1.1826]\n",
            "\u001b[34m\u001b[1mval: \u001b[0mWARNING ⚠️ /content/datasets/my_custom_dataset/test/images/5888bda6-23d2-11e8-a6a3-ec086b02610b.jpg: ignoring corrupt image/label: non-normalized or out of bounds coordinates [       1.25        1.25]\n",
            "\u001b[34m\u001b[1mval: \u001b[0mWARNING ⚠️ /content/datasets/my_custom_dataset/test/images/5888be64-23d2-11e8-a6a3-ec086b02610b.jpg: ignoring corrupt image/label: non-normalized or out of bounds coordinates [     1.0137]\n",
            "\u001b[34m\u001b[1mval: \u001b[0mWARNING ⚠️ /content/datasets/my_custom_dataset/test/images/5892b43c-23d2-11e8-a6a3-ec086b02610b.jpg: ignoring corrupt image/label: non-normalized or out of bounds coordinates [      1.104]\n",
            "\u001b[34m\u001b[1mval: \u001b[0mWARNING ⚠️ /content/datasets/my_custom_dataset/test/images/5900a253-23d2-11e8-a6a3-ec086b02610b.jpg: ignoring corrupt image/label: non-normalized or out of bounds coordinates [       1.25        1.25]\n",
            "\u001b[34m\u001b[1mval: \u001b[0mWARNING ⚠️ /content/datasets/my_custom_dataset/test/images/5903cc86-23d2-11e8-a6a3-ec086b02610b.jpg: ignoring corrupt image/label: non-normalized or out of bounds coordinates [     1.1372]\n",
            "\u001b[34m\u001b[1mval: \u001b[0mWARNING ⚠️ /content/datasets/my_custom_dataset/test/images/5906efd3-23d2-11e8-a6a3-ec086b02610b.jpg: ignoring corrupt image/label: non-normalized or out of bounds coordinates [       1.25        1.25]\n",
            "\u001b[34m\u001b[1mval: \u001b[0mWARNING ⚠️ /content/datasets/my_custom_dataset/test/images/5906f195-23d2-11e8-a6a3-ec086b02610b.jpg: ignoring corrupt image/label: non-normalized or out of bounds coordinates [       1.25        1.25]\n",
            "\u001b[34m\u001b[1mval: \u001b[0mWARNING ⚠️ /content/datasets/my_custom_dataset/test/images/5914ee02-23d2-11e8-a6a3-ec086b02610b.jpg: ignoring corrupt image/label: non-normalized or out of bounds coordinates [     1.1484]\n",
            "\u001b[34m\u001b[1mval: \u001b[0mWARNING ⚠️ /content/datasets/my_custom_dataset/test/images/5914ee4d-23d2-11e8-a6a3-ec086b02610b.jpg: ignoring corrupt image/label: non-normalized or out of bounds coordinates [       1.25        1.25]\n",
            "\u001b[34m\u001b[1mval: \u001b[0mWARNING ⚠️ /content/datasets/my_custom_dataset/test/images/5922ecf4-23d2-11e8-a6a3-ec086b02610b.jpg: ignoring corrupt image/label: non-normalized or out of bounds coordinates [     1.0103]\n",
            "\u001b[34m\u001b[1mval: \u001b[0mWARNING ⚠️ /content/datasets/my_custom_dataset/test/images/5922edad-23d2-11e8-a6a3-ec086b02610b.jpg: ignoring corrupt image/label: non-normalized or out of bounds coordinates [       1.25        1.25]\n",
            "\u001b[34m\u001b[1mval: \u001b[0mWARNING ⚠️ /content/datasets/my_custom_dataset/test/images/5938c04b-23d2-11e8-a6a3-ec086b02610b.jpg: ignoring corrupt image/label: non-normalized or out of bounds coordinates [       1.25        1.25]\n",
            "\u001b[34m\u001b[1mval: \u001b[0mWARNING ⚠️ /content/datasets/my_custom_dataset/test/images/5938c1a2-23d2-11e8-a6a3-ec086b02610b.jpg: ignoring corrupt image/label: non-normalized or out of bounds coordinates [       1.25        1.25]\n",
            "\u001b[34m\u001b[1mval: \u001b[0mWARNING ⚠️ /content/datasets/my_custom_dataset/test/images/5938c1d8-23d2-11e8-a6a3-ec086b02610b.jpg: ignoring corrupt image/label: non-normalized or out of bounds coordinates [       1.25        1.25]\n",
            "\u001b[34m\u001b[1mval: \u001b[0mWARNING ⚠️ /content/datasets/my_custom_dataset/test/images/5938c2ff-23d2-11e8-a6a3-ec086b02610b.jpg: ignoring corrupt image/label: non-normalized or out of bounds coordinates [       1.25        1.25]\n",
            "\u001b[34m\u001b[1mval: \u001b[0mWARNING ⚠️ /content/datasets/my_custom_dataset/test/images/5949cfca-23d2-11e8-a6a3-ec086b02610b.jpg: ignoring corrupt image/label: non-normalized or out of bounds coordinates [       1.25        1.25]\n",
            "\u001b[34m\u001b[1mval: \u001b[0mWARNING ⚠️ /content/datasets/my_custom_dataset/test/images/597feed1-23d2-11e8-a6a3-ec086b02610b.jpg: ignoring corrupt image/label: non-normalized or out of bounds coordinates [     1.0459]\n",
            "\u001b[34m\u001b[1mval: \u001b[0mWARNING ⚠️ /content/datasets/my_custom_dataset/test/images/598ad10d-23d2-11e8-a6a3-ec086b02610b.jpg: ignoring corrupt image/label: non-normalized or out of bounds coordinates [       1.25        1.25]\n",
            "\u001b[34m\u001b[1mval: \u001b[0mWARNING ⚠️ /content/datasets/my_custom_dataset/test/images/598c5b8e-23d2-11e8-a6a3-ec086b02610b.jpg: ignoring corrupt image/label: non-normalized or out of bounds coordinates [       1.25        1.25]\n",
            "\u001b[34m\u001b[1mval: \u001b[0mWARNING ⚠️ /content/datasets/my_custom_dataset/test/images/598c5c81-23d2-11e8-a6a3-ec086b02610b.jpg: ignoring corrupt image/label: non-normalized or out of bounds coordinates [       1.25        1.25]\n",
            "\u001b[34m\u001b[1mval: \u001b[0mWARNING ⚠️ /content/datasets/my_custom_dataset/test/images/598de9a9-23d2-11e8-a6a3-ec086b02610b.jpg: ignoring corrupt image/label: non-normalized or out of bounds coordinates [       1.25        1.25]\n",
            "\u001b[34m\u001b[1mval: \u001b[0mWARNING ⚠️ /content/datasets/my_custom_dataset/test/images/599a59d5-23d2-11e8-a6a3-ec086b02610b.jpg: ignoring corrupt image/label: non-normalized or out of bounds coordinates [       1.25        1.25]\n",
            "\u001b[34m\u001b[1mval: \u001b[0mWARNING ⚠️ /content/datasets/my_custom_dataset/test/images/599a5a3d-23d2-11e8-a6a3-ec086b02610b.jpg: ignoring corrupt image/label: non-normalized or out of bounds coordinates [       1.25        1.25]\n",
            "\u001b[34m\u001b[1mval: \u001b[0mWARNING ⚠️ /content/datasets/my_custom_dataset/test/images/599a5ade-23d2-11e8-a6a3-ec086b02610b.jpg: ignoring corrupt image/label: non-normalized or out of bounds coordinates [       1.25        1.25]\n",
            "\u001b[34m\u001b[1mval: \u001b[0mWARNING ⚠️ /content/datasets/my_custom_dataset/test/images/599a5b35-23d2-11e8-a6a3-ec086b02610b.jpg: ignoring corrupt image/label: non-normalized or out of bounds coordinates [       1.25        1.25]\n",
            "\u001b[34m\u001b[1mval: \u001b[0mWARNING ⚠️ /content/datasets/my_custom_dataset/test/images/599be8dc-23d2-11e8-a6a3-ec086b02610b.jpg: ignoring corrupt image/label: non-normalized or out of bounds coordinates [       1.25        1.25]\n",
            "\u001b[34m\u001b[1mval: \u001b[0mWARNING ⚠️ /content/datasets/my_custom_dataset/test/images/599d7b79-23d2-11e8-a6a3-ec086b02610b.jpg: ignoring corrupt image/label: non-normalized or out of bounds coordinates [       1.25        1.25]\n",
            "\u001b[34m\u001b[1mval: \u001b[0mWARNING ⚠️ /content/datasets/my_custom_dataset/test/images/599fbdde-23d2-11e8-a6a3-ec086b02610b.jpg: ignoring corrupt image/label: non-normalized or out of bounds coordinates [       1.25        1.25]\n",
            "\u001b[34m\u001b[1mval: \u001b[0mWARNING ⚠️ /content/datasets/my_custom_dataset/test/images/599fbedd-23d2-11e8-a6a3-ec086b02610b.jpg: ignoring corrupt image/label: non-normalized or out of bounds coordinates [       1.25        1.25]\n",
            "\u001b[34m\u001b[1mval: \u001b[0mWARNING ⚠️ /content/datasets/my_custom_dataset/test/images/599fbefc-23d2-11e8-a6a3-ec086b02610b.jpg: ignoring corrupt image/label: non-normalized or out of bounds coordinates [       1.25        1.25]\n"
          ]
        },
        {
          "name": "stderr",
          "output_type": "stream",
          "text": [
            "\n",
            "                 Class     Images  Instances      Box(P          R      mAP50  mAP50-95): 100%|██████████| 161/161 [01:59<00:00,  1.34it/s]"
          ]
        },
        {
          "name": "stdout",
          "output_type": "stream",
          "text": [
            "                   all       2572       2683          0          0          0          0\n"
          ]
        },
        {
          "name": "stderr",
          "output_type": "stream",
          "text": [
            "\n"
          ]
        },
        {
          "name": "stdout",
          "output_type": "stream",
          "text": [
            "Speed: 1.4ms preprocess, 43.6ms inference, 0.0ms loss, 0.1ms postprocess per image\n",
            "Results saved to \u001b[1mruns/detect/val25\u001b[0m\n"
          ]
        },
        {
          "data": {
            "image/png": "[encoded data removed]",
            "text/plain": [
              "<Figure size 640x480 with 1 Axes>"
            ]
          },
          "metadata": {},
          "output_type": "display_data"
        },
        {
          "name": "stdout",
          "output_type": "stream",
          "text": [
            "[0.9215911071043157, 0.8550007350732225, 0.8550873132715, 0.8553522133246031, 0.7924703270756612, 0.7901575585253383, 0.7964700176142413, 0.8071237697015267, 0.8113393513121657, 0.813638442382975, 0.8195365169110971, 0.8242352153219399, 0.8281885713666169, 0.8338676546781231, 0.8397283166123869, 0.8435394964747125, 0.8513252960195317, 0.7327956989247312, 0.2, 0.0]\n",
            "[0.7561846067598521, 0.756983917698698, 0.756983917698698, 0.7576775894348116, 0.7514829567921365, 0.7536223252098463, 0.7426970478405213, 0.7298364801628789, 0.7058378993611165, 0.6940343169981429, 0.6805697793690577, 0.6620840382711244, 0.629573993082262, 0.5947555968805751, 0.5321932399745546, 0.41619704810212993, 0.20689330401410144, 0.09404428109386923, 0.013711054204011952, 0.0]\n"
          ]
        }
      ],
      "source": [
        "model = YOLO(r\"/content/drive/My Drive/cct20/cct20/my_yolo_project/train22/weights/best.pt\")\n",
        "\n",
        "conf_values = np.linspace(0,1,20)\n",
        "precisions = []\n",
        "recalls = []\n",
        "\n",
        "for conf in conf_values:\n",
        "    # Run validation with specified confidence threshold and IoU\n",
        "    metrics = model.val(split=\"test\", conf=conf, iou=0.3)\n",
        "\n",
        "    results = metrics.box.mean_results()\n",
        "    precision = results[0]\n",
        "    recall = results[1]\n",
        "\n",
        "    precisions.append(precision)\n",
        "    recalls.append(recall)\n",
        "\n",
        "plt.plot(recalls, precisions)\n",
        "plt.xlabel(\"Recall\")\n",
        "plt.ylabel(\"Precision\")\n",
        "plt.title(\"Precision-Recall Curve\")\n",
        "plt.show()\n",
        "\n",
        "print(precisions)\n",
        "print(recalls)\n"
      ]
    },
    {
      "cell_type": "markdown",
      "metadata": {},
      "source": [
        "### Drawing BBoxes"
      ]
    },
    {
      "cell_type": "code",
      "execution_count": null,
      "metadata": {
        "id": "PP8FJgr6P8CE"
      },
      "outputs": [],
      "source": [
        "model = YOLO(r\"/content/drive/My Drive/cct20/cct20/my_yolo_project/train22/weights/best.pt\")\n",
        "\n",
        "test_images = [f for f in os.listdir(test_image_dir) if os.path.isfile(os.path.join(test_image_dir, f))]\n",
        "\n",
        "if not test_images:\n",
        "    raise FileNotFoundError(\"No images found in the test directory.\")\n",
        "\n",
        "random_image_filename = random.choice(test_images)\n",
        "random_image_path = os.path.join(test_image_dir, random_image_filename)\n",
        "\n",
        "try:\n",
        "    img = Image.open(random_image_path)\n",
        "except FileNotFoundError:\n",
        "    raise FileNotFoundError(f\"Image not found: {random_image_path}\")\n",
        "\n",
        "# Get Ground Truth Bounding Boxes\n",
        "label_file = os.path.join(test_label_dir,\n",
        "                          os.path.splitext(random_image_filename)[0] + \".txt\")\n",
        "\n",
        "ground_truth_boxes = []\n",
        "try:\n",
        "    with open(label_file, \"r\") as f:\n",
        "        for line in f:\n",
        "            parts = line.strip().split()\n",
        "            class_id, x_center, y_center, width, height = map(float, parts)\n",
        "            # Convert from normalized YOLO format to pixel coordinates\n",
        "            img_width, img_height = img.size\n",
        "            x_min = int((x_center - width / 2) * img_width)\n",
        "            y_min = int((y_center - height / 2) * img_height)\n",
        "            w = int(width * img_width)\n",
        "            h = int(height * img_height)\n",
        "            ground_truth_boxes.append((x_min, y_min, w, h))\n",
        "except FileNotFoundError:\n",
        "    print(f\"WARNING: No label file found for {random_image_filename}.  Only showing predictions.\")\n",
        "    ground_truth_boxes = []\n",
        "\n",
        "\n",
        "# Get Predicted Bounding Boxes\n",
        "results = model.predict(source=random_image_path, conf=0.3)  # Run inference\n",
        "predicted_boxes = []\n",
        "\n",
        "if results:\n",
        "    for result in results:\n",
        "        for *xyxy, conf, cls in result.boxes.data:  # Iterate over each bounding box\n",
        "            x1, y1, x2, y2 = map(int, xyxy)\n",
        "            predicted_boxes.append((x1, y1, x2 - x1, y2 - y1, conf.item()))  # Store as (x_min, y_min, width, height, confidence)\n",
        "else:\n",
        "    print(\"No detections for this image.\")\n",
        "\n",
        "\n",
        "fig, ax = plt.subplots(1)\n",
        "ax.imshow(img)\n",
        "\n",
        "# Draw ground truth boxes (green)\n",
        "for x_min, y_min, w, h in ground_truth_boxes:\n",
        "    rect = patches.Rectangle((x_min, y_min), w, h, linewidth=2, edgecolor='g', facecolor='none', label='Ground Truth')\n",
        "    ax.add_patch(rect)\n",
        "\n",
        "# Draw predicted boxes (red)\n",
        "for x_min, y_min, w, h, conf in predicted_boxes:\n",
        "    rect = patches.Rectangle((x_min, y_min), w, h, linewidth=2, edgecolor='r', facecolor='none', label=f'Prediction ({conf:.2f})')\n",
        "    ax.add_patch(rect)\n",
        "\n",
        "# Adds label to distinguish ground truth and predictions\n",
        "handles, labels = ax.get_legend_handles_labels()\n",
        "by_label = dict(zip(labels, handles))\n",
        "plt.legend(by_label.values(), by_label.keys(), loc='upper right')\n",
        "\n",
        "plt.title(f\"Predictions vs. Ground Truth for {random_image_filename}\")\n",
        "plt.show()"
      ]
    }
  ],
  "metadata": {
    "accelerator": "GPU",
    "colab": {
      "gpuType": "T4",
      "provenance": []
    },
    "kernelspec": {
      "display_name": ".venv",
      "language": "python",
      "name": "python3"
    },
    "language_info": {
      "name": "python",
      "version": "3.12.8"
    }
  },
  "nbformat": 4,
  "nbformat_minor": 0
}
