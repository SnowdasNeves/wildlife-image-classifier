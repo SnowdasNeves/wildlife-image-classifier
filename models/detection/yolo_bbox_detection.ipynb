{
  "cells": [
    {
      "cell_type": "markdown",
      "metadata": {},
      "source": [
        "# Bounding Box Detection Training with YOLO\n",
        "\n",
        "This file was created and ran with Google Colab. Some issues may arise if attempted to run locally."
      ]
    },
    {
      "cell_type": "markdown",
      "metadata": {},
      "source": [
        "### Imports"
      ]
    },
    {
      "cell_type": "code",
      "execution_count": null,
      "metadata": {
        "colab": {
          "base_uri": "https://localhost:8080/"
        },
        "id": "3fSFl9yRVJDh",
        "outputId": "fc65ef1b-489a-4aff-c2c0-47debf32fefb"
      },
      "outputs": [
        {
          "name": "stdout",
          "output_type": "stream",
          "text": [
            "Ultralytics YOLOv8.2.103 🚀 Python-3.11.11 torch-2.5.1+cu124 CUDA:0 (Tesla T4, 15095MiB)\n",
            "Setup complete ✅ (2 CPUs, 12.7 GB RAM, 35.0/112.6 GB disk)\n"
          ]
        }
      ],
      "source": [
        "import os\n",
        "import json\n",
        "import random\n",
        "import numpy as np\n",
        "import pandas as pd\n",
        "import matplotlib.pyplot as plt\n",
        "import matplotlib.patches as patches\n",
        "from IPython import display\n",
        "\n",
        "import torch\n",
        "import ultralytics\n",
        "from ultralytics import YOLO\n",
        "from sklearn.model_selection import train_test_split\n",
        "from sklearn.metrics import precision_recall_curve, auc\n",
        "from scipy.interpolate import make_interp_spline\n",
        "import shutil\n",
        "from pathlib import Path\n",
        "from PIL import Image\n",
        "\n",
        "import albumentations as A\n",
        "from albumentations.pytorch import ToTensorV2\n",
        "\n",
        "from google.colab import drive\n",
        "\n",
        "HOME = os.getcwd()\n",
        "display.clear_output()\n",
        "ultralytics.checks()"
      ]
    },
    {
      "cell_type": "code",
      "execution_count": null,
      "metadata": {
        "colab": {
          "base_uri": "https://localhost:8080/"
        },
        "id": "8wK9mq5cVMqW",
        "outputId": "8347d459-02aa-48c7-8fac-701a4c4c4597"
      },
      "outputs": [
        {
          "name": "stdout",
          "output_type": "stream",
          "text": [
            "Drive already mounted at /content/drive; to attempt to forcibly remount, call drive.mount(\"/content/drive\", force_remount=True).\n"
          ]
        }
      ],
      "source": [
        "drive.mount('/content/drive')\n",
        "annotations_folder = r\"/content/drive/My Drive/cct20/cct20/annotations\"  # Correct path\n",
        "image_folder=r\"/content/drive/My Drive/cct20/cct20/Unseen_images_2\""
      ]
    },
    {
      "cell_type": "markdown",
      "metadata": {},
      "source": [
        "### Loading and Treating CCT20"
      ]
    },
    {
      "cell_type": "code",
      "execution_count": null,
      "metadata": {
        "id": "BKMXsLLYVQOQ"
      },
      "outputs": [],
      "source": [
        "json_files = [f for f in os.listdir(annotations_folder) if f.endswith('.json')]\n",
        "all_data = []\n",
        "category_mapping = {}\n",
        "\n",
        "for file in json_files:\n",
        "    file_path = os.path.join(annotations_folder, file)\n",
        "    with open(file_path, 'r') as f:\n",
        "        data = json.load(f)\n",
        "\n",
        "        for category in data['categories']:\n",
        "            category_mapping[category['id']] = category['name']\n",
        "\n",
        "        image_id_to_info = {}\n",
        "        for img in data['images']:\n",
        "            image_id_to_info[img['id']] = {\n",
        "                'file_name': img['file_name'],\n",
        "                'width': int(img['width'] / 2),\n",
        "                'height': int(img['height'] / 2)\n",
        "            }\n",
        "\n",
        "        for ann in data['annotations']:\n",
        "            if ann['image_id'] in image_id_to_info:\n",
        "                image_info = image_id_to_info[ann['image_id']]\n",
        "                # if ann['category_id'] != 30:\n",
        "                all_data.append({\n",
        "                    'annotation_id': ann['id'],\n",
        "                    'image_id': image_info['file_name'],\n",
        "                    'category_id': ann['category_id'],\n",
        "                    'category_name': category_mapping[ann['category_id']],\n",
        "                    'bbox': ann.get('bbox', None),\n",
        "                    'image_width': image_info['width'],\n",
        "                    'image_height': image_info['height']\n",
        "                })\n",
        "\n",
        "dataset_df = pd.DataFrame(all_data).set_index('annotation_id')"
      ]
    },
    {
      "cell_type": "code",
      "execution_count": 26,
      "metadata": {
        "id": "JiJ0-bd2VUOE"
      },
      "outputs": [],
      "source": [
        "dataset_df = dataset_df.query('bbox.notna()')"
      ]
    },
    {
      "cell_type": "code",
      "execution_count": null,
      "metadata": {
        "id": "bRlu2NGPVVRZ"
      },
      "outputs": [],
      "source": [
        "def scale_bbox(bbox):\n",
        "    \"\"\"Scales bounding box coordinates by a factor of 0.5 in both dimensions.\"\"\"\n",
        "    x_min, y_min, w, h = bbox\n",
        "\n",
        "    # Scale coordinates to match downsized images\n",
        "    x_min_scaled = int(x_min / 2)\n",
        "    y_min_scaled = int(y_min / 2)\n",
        "    w_scaled = int(w / 2)\n",
        "    h_scaled = int(h / 2)\n",
        "\n",
        "    return [x_min_scaled, y_min_scaled, w_scaled, h_scaled]"
      ]
    },
    {
      "cell_type": "code",
      "execution_count": 28,
      "metadata": {
        "id": "xDuxoevTVWK9"
      },
      "outputs": [],
      "source": [
        "dataset_df['bbox']= dataset_df['bbox'].apply(scale_bbox)"
      ]
    },
    {
      "cell_type": "code",
      "execution_count": 29,
      "metadata": {
        "colab": {
          "base_uri": "https://localhost:8080/"
        },
        "id": "2HMZMB7OVXQS",
        "outputId": "a0055786-d703-4a66-d8b5-5e2089f454fd"
      },
      "outputs": [
        {
          "name": "stdout",
          "output_type": "stream",
          "text": [
            "                                               image_id  category_id  \\\n",
            "annotation_id                                                          \n",
            "19688          5a197af2-23d2-11e8-a6a3-ec086b02610b.jpg           10   \n",
            "43259          59fc7e52-23d2-11e8-a6a3-ec086b02610b.jpg           16   \n",
            "10268          5a2e130d-23d2-11e8-a6a3-ec086b02610b.jpg           10   \n",
            "2721           598ad0cf-23d2-11e8-a6a3-ec086b02610b.jpg            8   \n",
            "2722           598ad0cf-23d2-11e8-a6a3-ec086b02610b.jpg            8   \n",
            "...                                                 ...          ...   \n",
            "15651          59452d91-23d2-11e8-a6a3-ec086b02610b.jpg            1   \n",
            "10825          59167c07-23d2-11e8-a6a3-ec086b02610b.jpg            1   \n",
            "35002          586adf11-23d2-11e8-a6a3-ec086b02610b.jpg            1   \n",
            "14109          58643501-23d2-11e8-a6a3-ec086b02610b.jpg            9   \n",
            "36538          586fdd2d-23d2-11e8-a6a3-ec086b02610b.jpg            1   \n",
            "\n",
            "              category_name                  bbox  image_width  image_height  \n",
            "annotation_id                                                                 \n",
            "19688                rabbit  [158, 373, 130, 142]         1024           747  \n",
            "43259                   cat    [0, 330, 190, 136]         1024           747  \n",
            "10268                rabbit    [698, 229, 96, 96]         1024           747  \n",
            "2721                    dog  [494, 379, 131, 195]         1024           747  \n",
            "2722                    dog   [16, 559, 291, 187]         1024           747  \n",
            "...                     ...                   ...          ...           ...  \n",
            "15651               opossum  [506, 485, 153, 163]         1024           747  \n",
            "10825               opossum  [601, 400, 138, 140]         1024           747  \n",
            "35002               opossum   [897, 136, 85, 119]         1024           747  \n",
            "14109                coyote  [516, 108, 258, 208]         1024           747  \n",
            "36538               opossum  [355, 465, 140, 213]         1024           747  \n",
            "\n",
            "[48088 rows x 6 columns]\n"
          ]
        }
      ],
      "source": [
        "print(dataset_df.head(-15))"
      ]
    },
    {
      "cell_type": "code",
      "execution_count": null,
      "metadata": {
        "colab": {
          "base_uri": "https://localhost:8080/"
        },
        "id": "7gCjNyewVYcY",
        "outputId": "b8c61edd-be92-472f-be80-7b966d279b2f"
      },
      "outputs": [
        {
          "name": "stdout",
          "output_type": "stream",
          "text": [
            "image_height\n",
            "747    43172\n",
            "768     3530\n",
            "960     1401\n",
            "Name: count, dtype: int64\n",
            "image_width\n",
            "1024    46702\n",
            "1280     1401\n",
            "Name: count, dtype: int64\n",
            "category_id\n",
            "1     11970\n",
            "3      7076\n",
            "10     4995\n",
            "9      4700\n",
            "6      4320\n",
            "16     4303\n",
            "8      2641\n",
            "33     2613\n",
            "5      2479\n",
            "11     1579\n",
            "7       722\n",
            "99      482\n",
            "34      186\n",
            "21       29\n",
            "51        8\n",
            "Name: count, dtype: int64\n"
          ]
        }
      ],
      "source": [
        "print(dataset_df['image_height'].value_counts())\n",
        "print(dataset_df['image_width'].value_counts())\n",
        "print(dataset_df['category_id'].value_counts())"
      ]
    },
    {
      "cell_type": "code",
      "execution_count": 31,
      "metadata": {
        "colab": {
          "base_uri": "https://localhost:8080/"
        },
        "id": "jnE2ry8HQ7k-",
        "outputId": "5271cbd7-8e5c-4780-a92b-c5e667b71d7a"
      },
      "outputs": [
        {
          "name": "stdout",
          "output_type": "stream",
          "text": [
            "['rabbit' 'cat' 'dog' 'opossum' 'squirrel' 'raccoon' 'coyote' 'rodent' 'bird' 'bobcat' 'skunk' 'badger' 'car' 'fox' 'deer']\n"
          ]
        }
      ],
      "source": [
        "print(dataset_df['category_name'].unique())"
      ]
    },
    {
      "cell_type": "code",
      "execution_count": null,
      "metadata": {
        "colab": {
          "base_uri": "https://localhost:8080/"
        },
        "id": "yGLkmlPcVabx",
        "outputId": "e26aa247-cbf6-4db4-b1c7-0b302ace659a"
      },
      "outputs": [
        {
          "name": "stdout",
          "output_type": "stream",
          "text": [
            "Train set size: 36040\n",
            "Validation set size: 12014\n",
            "Test set size: 49\n"
          ]
        }
      ],
      "source": [
        "train_df, test_df = train_test_split(dataset_df, test_size=0.001, stratify=dataset_df['category_name'], random_state=31)\n",
        "train_df, val_df = train_test_split(train_df, test_size=0.25, stratify=train_df['category_name'], random_state=37)\n",
        "\n",
        "# Save train and test splits\n",
        "train_df.to_csv(\"train_annotations.csv\", index=False)\n",
        "val_df.to_csv(\"val_annotations.csv\", index=False)\n",
        "test_df.to_csv(\"test_annotations.csv\", index=False)\n",
        "\n",
        "print(\"Train set size:\", train_df.shape[0])\n",
        "print(\"Validation set size:\", val_df.shape[0])\n",
        "print(\"Test set size:\", test_df.shape[0])"
      ]
    },
    {
      "cell_type": "code",
      "execution_count": null,
      "metadata": {
        "colab": {
          "base_uri": "https://localhost:8080/",
          "height": 564
        },
        "id": "or7kSyXSP7My",
        "outputId": "bd3dc2f5-a412-46ca-8505-80ad3dbaf82c"
      },
      "outputs": [
        {
          "data": {
            "image/png": "[encoded data removed]",
            "text/plain": [
              "<Figure size 1000x600 with 1 Axes>"
            ]
          },
          "metadata": {},
          "output_type": "display_data"
        }
      ],
      "source": [
        "def plot_bbox_distribution(df, title):\n",
        "    \"\"\"\n",
        "    Plots the distribution of the number of bounding boxes per image.\n",
        "\n",
        "    Args:\n",
        "        df: DataFrame containing the annotations.  Must have an 'image_id' column.\n",
        "        title: Title for the plot.\n",
        "    \"\"\"\n",
        "\n",
        "    # Count the number of bounding boxes per image\n",
        "    bbox_counts = train_df.groupby('image_id').size().reset_index(name='bbox')\n",
        "    bbox_distribution = bbox_counts['bbox'].value_counts()\n",
        "\n",
        "    plt.figure(figsize=(10, 6))\n",
        "    plt.bar(bbox_distribution.index, bbox_distribution.values)\n",
        "    plt.xlabel('Number of Bounding Boxes per Image')\n",
        "    plt.ylabel('Number of Images')\n",
        "    plt.title(title)\n",
        "    plt.xticks(bbox_distribution.index)\n",
        "    plt.grid(axis='y', alpha=0.75)\n",
        "    plt.show()\n",
        "\n",
        "plot_bbox_distribution(train_df, \"Bounding Box Distribution (Training Set)\")"
      ]
    },
    {
      "cell_type": "code",
      "execution_count": null,
      "metadata": {
        "colab": {
          "base_uri": "https://localhost:8080/"
        },
        "id": "RypjWuL3wxe4",
        "outputId": "4cfa45e4-1bba-48d6-f79c-295e7f3b4cbd"
      },
      "outputs": [
        {
          "name": "stdout",
          "output_type": "stream",
          "text": [
            "\n",
            "Filtered Train set size: 9849\n",
            "Filtered Validation set size: 3341\n",
            "Filtered Test set size: 14\n",
            "\n",
            "Checking for duplicate image_ids:\n",
            "Duplicates in train_df: 323\n",
            "Duplicates in val_df: 58\n",
            "Duplicates in test_df: 0\n"
          ]
        }
      ],
      "source": [
        "available_image_filenames = set(os.listdir(image_folder))\n",
        "train_df = train_df[train_df['image_id'].isin(available_image_filenames)]\n",
        "test_df = test_df[test_df['image_id'].isin(available_image_filenames)]\n",
        "val_df = val_df[val_df['image_id'].isin(available_image_filenames)]\n",
        "\n",
        "print(\"\\nFiltered Train set size:\", train_df.shape[0])\n",
        "print(\"Filtered Validation set size:\", val_df.shape[0])\n",
        "print(\"Filtered Test set size:\", test_df.shape[0])\n",
        "\n",
        "print(\"\\nChecking for duplicate image_ids:\")\n",
        "print(f\"Images with more than 1 bbox in train_df: {train_df.duplicated(subset=['image_id']).sum()}\")\n",
        "print(f\"Images with more than 1 in val_df: {val_df.duplicated(subset=['image_id']).sum()}\")\n",
        "print(f\"Images with more than 1 in test_df: {test_df.duplicated(subset=['image_id']).sum()}\")\n",
        "\n",
        "missing_train = [img_id for img_id in train_df['image_id'].unique() if img_id not in available_image_filenames]\n",
        "missing_val = [img_id for img_id in val_df['image_id'].unique() if img_id not in available_image_filenames]\n",
        "missing_test = [img_id for img_id in test_df['image_id'].unique() if img_id not in available_image_filenames]\n",
        "\n",
        "if missing_train or missing_val or missing_test:\n",
        "    print(\"WARNING: Missing images after filtering:\")\n",
        "    if missing_train:\n",
        "        print(f\"  {len(missing_train)} image_ids in train_df are missing.\")\n",
        "    if missing_val:\n",
        "        print(f\"  {len(missing_val)} image_ids in val_df are missing.\")\n",
        "    if missing_test:\n",
        "        print(f\"  {len(missing_test)} image_ids in test_df are missing.\")\n",
        "    raise FileNotFoundError(\"Missing images after filtering. Check data and filtering logic.\")\n"
      ]
    },
    {
      "cell_type": "markdown",
      "metadata": {},
      "source": [
        "### Preparing Dataset for YOLO"
      ]
    },
    {
      "cell_type": "code",
      "execution_count": null,
      "metadata": {
        "id": "mzmpojUbVeVY"
      },
      "outputs": [],
      "source": [
        "# YOLO Label Creation\n",
        "def create_yolo_labels(df, output_dir, image_dir, category_mapping):\n",
        "    os.makedirs(output_dir, exist_ok=True)\n",
        "\n",
        "    name_to_id = {name: i for i, name in enumerate(sorted(category_mapping.values()))}\n",
        "    print(\"YOLO Class Mapping:\", name_to_id)\n",
        "\n",
        "    for image_filename, group in df.groupby('image_id'):\n",
        "        image_path = os.path.join(image_dir, image_filename)\n",
        "        try:\n",
        "            with Image.open(image_path) as img:\n",
        "                img_width, img_height = img.size\n",
        "        except (FileNotFoundError, OSError) as e:\n",
        "            print(f\"Error processing image {image_path}: {e}\")\n",
        "            continue\n",
        "\n",
        "        label_filepath = os.path.join(output_dir, f\"{os.path.splitext(image_filename)[0]}.txt\")\n",
        "        with open(label_filepath, 'w') as f:\n",
        "            for _, row in group.iterrows():\n",
        "                # Get the YOLO class ID\n",
        "                yolo_class_id = name_to_id[row['category_name']]\n",
        "\n",
        "                x_min, y_min, w, h = row['bbox']\n",
        "                x_center = (x_min + w / 2) / img_width\n",
        "                y_center = (y_min + h / 2) / img_height\n",
        "                width = w / img_width\n",
        "                height = h / img_height\n",
        "                f.write(f\"{yolo_class_id} {x_center} {y_center} {width} {height}\\n\")"
      ]
    },
    {
      "cell_type": "code",
      "execution_count": null,
      "metadata": {
        "id": "Bkl4ErTjz-bd"
      },
      "outputs": [],
      "source": [
        "dataset_root = \"/content/datasets/my_custom_dataset\"\n",
        "os.makedirs(dataset_root, exist_ok=True)\n",
        "\n",
        "train_dir = os.path.join(dataset_root, \"train\")\n",
        "val_dir= os.path.join(dataset_root, \"val\")\n",
        "test_dir = os.path.join(dataset_root, \"test\")\n",
        "train_label_dir = os.path.join(train_dir, \"labels\")\n",
        "val_label_dir = os.path.join(val_dir, \"labels\")\n",
        "test_label_dir = os.path.join(test_dir, \"labels\")\n",
        "train_image_dir = os.path.join(train_dir, \"images\")\n",
        "val_image_dir = os.path.join(val_dir, \"images\")\n",
        "test_image_dir = os.path.join(test_dir, \"images\")"
      ]
    },
    {
      "cell_type": "code",
      "execution_count": 37,
      "metadata": {
        "id": "xNDYJvnh0DCE"
      },
      "outputs": [],
      "source": [
        "os.makedirs(train_label_dir, exist_ok=True)\n",
        "os.makedirs(val_label_dir, exist_ok=True)\n",
        "os.makedirs(test_label_dir, exist_ok=True)\n",
        "os.makedirs(train_image_dir, exist_ok=True)\n",
        "os.makedirs(val_image_dir, exist_ok=True)\n",
        "os.makedirs(test_image_dir, exist_ok=True)"
      ]
    },
    {
      "cell_type": "code",
      "execution_count": null,
      "metadata": {
        "colab": {
          "base_uri": "https://localhost:8080/"
        },
        "id": "EzJhFQ8j0E1U",
        "outputId": "ea18e40b-5d2a-4ecf-c5de-2f3a0d3ba126"
      },
      "outputs": [
        {
          "name": "stdout",
          "output_type": "stream",
          "text": [
            "YOLO Class Mapping: {'badger': 0, 'bird': 1, 'bobcat': 2, 'car': 3, 'cat': 4, 'coyote': 5, 'deer': 6, 'dog': 7, 'empty': 8, 'fox': 9, 'opossum': 10, 'rabbit': 11, 'raccoon': 12, 'rodent': 13, 'skunk': 14, 'squirrel': 15}\n",
            "YOLO Class Mapping: {'badger': 0, 'bird': 1, 'bobcat': 2, 'car': 3, 'cat': 4, 'coyote': 5, 'deer': 6, 'dog': 7, 'empty': 8, 'fox': 9, 'opossum': 10, 'rabbit': 11, 'raccoon': 12, 'rodent': 13, 'skunk': 14, 'squirrel': 15}\n",
            "YOLO Class Mapping: {'badger': 0, 'bird': 1, 'bobcat': 2, 'car': 3, 'cat': 4, 'coyote': 5, 'deer': 6, 'dog': 7, 'empty': 8, 'fox': 9, 'opossum': 10, 'rabbit': 11, 'raccoon': 12, 'rodent': 13, 'skunk': 14, 'squirrel': 15}\n"
          ]
        }
      ],
      "source": [
        "# Create Yolo Variables\n",
        "create_yolo_labels(train_df, train_label_dir, image_folder, category_mapping)\n",
        "create_yolo_labels(val_df, val_label_dir, image_folder, category_mapping)\n",
        "create_yolo_labels(test_df, test_label_dir, image_folder, category_mapping)"
      ]
    },
    {
      "cell_type": "code",
      "execution_count": null,
      "metadata": {
        "id": "b6qBBA3WVtTZ"
      },
      "outputs": [],
      "source": [
        "# Move images\n",
        "train_count = 0\n",
        "val_count = 0\n",
        "test_count = 0\n",
        "for filename in train_df['image_id'].unique():\n",
        "    src_path = os.path.join(image_folder, filename)\n",
        "    dst_path = os.path.join(train_image_dir, filename)\n",
        "    try:\n",
        "        shutil.copy(src_path, dst_path)\n",
        "        train_count += 1\n",
        "    except (FileNotFoundError, Exception) as e:\n",
        "        print(f\"Error copying image {filename}: {e}\")\n",
        "\n",
        "for filename in val_df['image_id'].unique():\n",
        "    src_path = os.path.join(image_folder, filename)\n",
        "    dst_path = os.path.join(val_image_dir, filename)\n",
        "    try:\n",
        "        shutil.copy(src_path, dst_path)\n",
        "        val_count += 1\n",
        "    except (FileNotFoundError, Exception) as e:\n",
        "        print(f\"Error copying image {filename}: {e}\")\n",
        "\n",
        "for filename in test_df['image_id'].unique():\n",
        "    src_path = os.path.join(image_folder, filename)\n",
        "    dst_path = os.path.join(test_image_dir, filename)\n",
        "    try:\n",
        "        shutil.copy(src_path, dst_path)\n",
        "        test_count += 1\n",
        "    except (FileNotFoundError, Exception) as e:\n",
        "        print(f\"Error copying image {filename}: {e}\")\n"
      ]
    },
    {
      "cell_type": "code",
      "execution_count": null,
      "metadata": {
        "colab": {
          "base_uri": "https://localhost:8080/"
        },
        "id": "jaNk6_ltUYnd",
        "outputId": "2492d39f-38c9-408e-e509-3eb58e67dc19"
      },
      "outputs": [
        {
          "name": "stdout",
          "output_type": "stream",
          "text": [
            "\n",
            "Image Copying Verification:\n",
            "Successfully copied 9526 images to the training set.\n",
            "Successfully copied 3283 images to the validation set.\n",
            "Successfully copied 14 images to the test set.\n",
            "Total images copied: 12823\n"
          ]
        }
      ],
      "source": [
        "print(\"\\nImage Copying Verification:\")\n",
        "print(f\"Successfully copied {train_count} images to the training set.\")\n",
        "print(f\"Successfully copied {val_count} images to the validation set.\")\n",
        "print(f\"Successfully copied {test_count} images to the test set.\")\n",
        "total_copied = train_count + val_count + test_count\n",
        "print(f\"Total images copied: {total_copied}\")"
      ]
    },
    {
      "cell_type": "code",
      "execution_count": null,
      "metadata": {
        "id": "zuISOKznV0DO"
      },
      "outputs": [],
      "source": [
        "# Create data.yaml\n",
        "class_names = [name for _, name in sorted(category_mapping.items())]\n",
        "data_yaml_content = f\"\"\"\n",
        "train: {train_image_dir}\n",
        "val: {val_image_dir}\n",
        "test: {test_image_dir}\n",
        "nc: {len(class_names)}\n",
        "names: {class_names}\n",
        "\"\"\"\n",
        "with open(\"data.yaml\", 'w') as f:\n",
        "    f.write(data_yaml_content)"
      ]
    },
    {
      "cell_type": "code",
      "execution_count": null,
      "metadata": {
        "colab": {
          "base_uri": "https://localhost:8080/"
        },
        "id": "3oirNy46ZWAc",
        "outputId": "d6a7ae17-ee03-4ead-bb61-0c1441d934ce"
      },
      "outputs": [
        {
          "name": "stderr",
          "output_type": "stream",
          "text": [
            "<ipython-input-42-8736502f53d8>:5: UserWarning: Argument(s) 'var_limit, mean' are not valid for transform GaussNoise\n",
            "  A.GaussNoise(var_limit=(10.0, 50.0), mean=0, p=0.2),\n"
          ]
        }
      ],
      "source": [
        "transform = A.Compose([\n",
        "    A.RandomBrightnessContrast(brightness_limit=0.2, contrast_limit=0.2, p=0.5),\n",
        "    A.RandomGamma(gamma_limit=(80, 120), p=0.5),\n",
        "    A.MotionBlur(blur_limit=(3, 7), p=0.2),\n",
        "    A.GaussNoise(var_limit=(10.0, 50.0), mean=0, p=0.2),\n",
        "    A.HorizontalFlip(p=0.5),\n",
        "    A.VerticalFlip(p=0.3),\n",
        "    A.Affine(scale=(0.1, 1.9), translate_percent=(-0.2, 0.2), rotate=(-25, 25), shear=(-16, 16), p=0.7),\n",
        "    ToTensorV2(),\n",
        "], bbox_params=A.BboxParams(format='yolo', label_fields=['class_labels']))"
      ]
    },
    {
      "cell_type": "markdown",
      "metadata": {},
      "source": [
        "### Model Import and Training"
      ]
    },
    {
      "cell_type": "code",
      "execution_count": null,
      "metadata": {
        "colab": {
          "base_uri": "https://localhost:8080/"
        },
        "id": "iUT5G8SMV6c-",
        "outputId": "5215d51c-11f0-483a-cfce-a7028dcafaf8"
      },
      "outputs": [
        {
          "name": "stdout",
          "output_type": "stream",
          "text": [
            "New https://pypi.org/project/ultralytics/8.3.75 available 😃 Update with 'pip install -U ultralytics'\n",
            "Ultralytics YOLOv8.2.103 🚀 Python-3.11.11 torch-2.5.1+cu124 CUDA:0 (Tesla T4, 15095MiB)\n",
            "\u001b[34m\u001b[1mengine/trainer: \u001b[0mtask=detect, mode=train, model=/content/drive/My Drive/cct20/cct20/my_yolo_project/train17/weights/best.pt, data=data.yaml, epochs=20, time=None, patience=100, batch=-1, imgsz=(747, 1024), save=True, save_period=-1, cache=False, device=None, workers=8, project=/content/drive/My Drive/cct20/cct20/my_yolo_project, name=train22, exist_ok=False, pretrained=True, optimizer=auto, verbose=True, seed=0, deterministic=True, single_cls=False, rect=False, cos_lr=False, close_mosaic=10, resume=False, amp=True, fraction=1.0, profile=False, freeze=None, multi_scale=False, overlap_mask=True, mask_ratio=4, dropout=0.0, val=True, split=val, save_json=False, save_hybrid=False, conf=None, iou=0.5, max_det=300, half=False, dnn=False, plots=True, source=None, vid_stride=1, stream_buffer=False, visualize=False, augment=True, agnostic_nms=False, classes=None, retina_masks=False, embed=None, show=False, save_frames=False, save_txt=False, save_conf=False, save_crop=False, show_labels=True, show_conf=True, show_boxes=True, line_width=None, format=torchscript, keras=False, optimize=False, int8=False, dynamic=False, simplify=True, opset=None, workspace=4, nms=False, lr0=0.01, lrf=0.01, momentum=0.937, weight_decay=0.0005, warmup_epochs=3.0, warmup_momentum=0.8, warmup_bias_lr=0.1, box=0.6, cls=0.5, dfl=1.5, pose=12.0, kobj=1.0, label_smoothing=0.0, nbs=64, hsv_h=0.015, hsv_s=0.7, hsv_v=0.4, degrees=0.0, translate=0.1, scale=0.5, shear=0.0, perspective=0.0, flipud=0.0, fliplr=0.5, bgr=0.0, mosaic=0.5, mixup=0.0, copy_paste=0.0, auto_augment=randaugment, erasing=0.4, crop_fraction=1.0, cfg=None, tracker=botsort.yaml, save_dir=/content/drive/My Drive/cct20/cct20/my_yolo_project/train22\n",
            "Downloading https://ultralytics.com/assets/Arial.ttf to '/root/.config/Ultralytics/Arial.ttf'...\n"
          ]
        },
        {
          "name": "stderr",
          "output_type": "stream",
          "text": [
            "100%|██████████| 755k/755k [00:00<00:00, 20.8MB/s]\n"
          ]
        },
        {
          "name": "stdout",
          "output_type": "stream",
          "text": [
            "\n",
            "                   from  n    params  module                                       arguments                     \n",
            "  0                  -1  1      1392  ultralytics.nn.modules.conv.Conv             [3, 48, 3, 2]                 \n",
            "  1                  -1  1     41664  ultralytics.nn.modules.conv.Conv             [48, 96, 3, 2]                \n",
            "  2                  -1  2    111360  ultralytics.nn.modules.block.C2f             [96, 96, 2, True]             \n",
            "  3                  -1  1    166272  ultralytics.nn.modules.conv.Conv             [96, 192, 3, 2]               \n",
            "  4                  -1  4    813312  ultralytics.nn.modules.block.C2f             [192, 192, 4, True]           \n",
            "  5                  -1  1    664320  ultralytics.nn.modules.conv.Conv             [192, 384, 3, 2]              \n",
            "  6                  -1  4   3248640  ultralytics.nn.modules.block.C2f             [384, 384, 4, True]           \n",
            "  7                  -1  1   1991808  ultralytics.nn.modules.conv.Conv             [384, 576, 3, 2]              \n",
            "  8                  -1  2   3985920  ultralytics.nn.modules.block.C2f             [576, 576, 2, True]           \n",
            "  9                  -1  1    831168  ultralytics.nn.modules.block.SPPF            [576, 576, 5]                 \n",
            " 10                  -1  1         0  torch.nn.modules.upsampling.Upsample         [None, 2, 'nearest']          \n",
            " 11             [-1, 6]  1         0  ultralytics.nn.modules.conv.Concat           [1]                           \n",
            " 12                  -1  2   1993728  ultralytics.nn.modules.block.C2f             [960, 384, 2]                 \n",
            " 13                  -1  1         0  torch.nn.modules.upsampling.Upsample         [None, 2, 'nearest']          \n",
            " 14             [-1, 4]  1         0  ultralytics.nn.modules.conv.Concat           [1]                           \n",
            " 15                  -1  2    517632  ultralytics.nn.modules.block.C2f             [576, 192, 2]                 \n",
            " 16                  -1  1    332160  ultralytics.nn.modules.conv.Conv             [192, 192, 3, 2]              \n",
            " 17            [-1, 12]  1         0  ultralytics.nn.modules.conv.Concat           [1]                           \n",
            " 18                  -1  2   1846272  ultralytics.nn.modules.block.C2f             [576, 384, 2]                 \n",
            " 19                  -1  1   1327872  ultralytics.nn.modules.conv.Conv             [384, 384, 3, 2]              \n",
            " 20             [-1, 9]  1         0  ultralytics.nn.modules.conv.Concat           [1]                           \n",
            " 21                  -1  2   4207104  ultralytics.nn.modules.block.C2f             [960, 576, 2]                 \n",
            " 22        [15, 18, 21]  1   3784960  ultralytics.nn.modules.head.Detect           [16, [192, 384, 576]]         \n",
            "Model summary: 295 layers, 25,865,584 parameters, 25,865,568 gradients, 79.1 GFLOPs\n",
            "\n",
            "Transferred 475/475 items from pretrained weights\n",
            "\u001b[34m\u001b[1mTensorBoard: \u001b[0mStart with 'tensorboard --logdir /content/drive/My Drive/cct20/cct20/my_yolo_project/train22', view at http://localhost:6006/\n",
            "Freezing layer 'model.22.dfl.conv.weight'\n",
            "\u001b[34m\u001b[1mAMP: \u001b[0mrunning Automatic Mixed Precision (AMP) checks with YOLOv8n...\n",
            "Downloading https://github.com/ultralytics/assets/releases/download/v8.2.0/yolov8n.pt to 'yolov8n.pt'...\n"
          ]
        },
        {
          "name": "stderr",
          "output_type": "stream",
          "text": [
            "100%|██████████| 6.25M/6.25M [00:00<00:00, 110MB/s]\n"
          ]
        },
        {
          "name": "stdout",
          "output_type": "stream",
          "text": [
            "\u001b[34m\u001b[1mAMP: \u001b[0mchecks passed ✅\n",
            "WARNING ⚠️ updating to 'imgsz=1024'. 'train' and 'val' imgsz must be an integer, while 'predict' and 'export' imgsz may be a [h, w] list or an integer, i.e. 'yolo export imgsz=640,480' or 'yolo export imgsz=640'\n",
            "\u001b[34m\u001b[1mAutoBatch: \u001b[0mComputing optimal batch size for imgsz=1024 at 60.0% CUDA memory utilization.\n",
            "\u001b[34m\u001b[1mAutoBatch: \u001b[0mCUDA:0 (Tesla T4) 14.74G total, 0.26G reserved, 0.24G allocated, 14.24G free\n",
            "      Params      GFLOPs  GPU_mem (GB)  forward (ms) backward (ms)                   input                  output\n",
            "    25865584       202.5         1.244         58.03         98.64      (1, 3, 1024, 1024)                    list\n",
            "    25865584       405.1         2.183         51.16          61.3      (2, 3, 1024, 1024)                    list\n",
            "    25865584       810.1         4.073         98.35         108.9      (4, 3, 1024, 1024)                    list\n",
            "    25865584        1620         7.686           193         213.6      (8, 3, 1024, 1024)                    list\n",
            "    25865584        3241        15.058           383         425.3     (16, 3, 1024, 1024)                    list\n",
            "\u001b[34m\u001b[1mAutoBatch: \u001b[0mUsing batch-size 8 for CUDA:0 8.20G/14.74G (56%) ✅\n"
          ]
        },
        {
          "name": "stderr",
          "output_type": "stream",
          "text": [
            "\u001b[34m\u001b[1mtrain: \u001b[0mScanning /content/datasets/my_custom_dataset/train/labels... 9526 images, 0 backgrounds, 138 corrupt: 100%|██████████| 9526/9526 [00:08<00:00, 1063.82it/s]"
          ]
        },
        {
          "name": "stdout",
          "output_type": "stream",
          "text": [
            "\u001b[34m\u001b[1mtrain: \u001b[0mWARNING ⚠️ /content/datasets/my_custom_dataset/train/images/5858c045-23d2-11e8-a6a3-ec086b02610b.jpg: ignoring corrupt image/label: non-normalized or out of bounds coordinates [       1.25        1.25]\n",
            "\u001b[34m\u001b[1mtrain: \u001b[0mWARNING ⚠️ /content/datasets/my_custom_dataset/train/images/585a650d-23d2-11e8-a6a3-ec086b02610b.jpg: ignoring corrupt image/label: non-normalized or out of bounds coordinates [       1.25        1.25]\n",
            "\u001b[34m\u001b[1mtrain: \u001b[0mWARNING ⚠️ /content/datasets/my_custom_dataset/train/images/585c0351-23d2-11e8-a6a3-ec086b02610b.jpg: ignoring corrupt image/label: non-normalized or out of bounds coordinates [     1.1553]\n",
            "\u001b[34m\u001b[1mtrain: \u001b[0mWARNING ⚠️ /content/datasets/my_custom_dataset/train/images/585c03aa-23d2-11e8-a6a3-ec086b02610b.jpg: ignoring corrupt image/label: non-normalized or out of bounds coordinates [       1.25        1.25]\n",
            "\u001b[34m\u001b[1mtrain: \u001b[0mWARNING ⚠️ /content/datasets/my_custom_dataset/train/images/585da920-23d2-11e8-a6a3-ec086b02610b.jpg: ignoring corrupt image/label: non-normalized or out of bounds coordinates [       1.25        1.25]\n",
            "\u001b[34m\u001b[1mtrain: \u001b[0mWARNING ⚠️ /content/datasets/my_custom_dataset/train/images/585da9f9-23d2-11e8-a6a3-ec086b02610b.jpg: ignoring corrupt image/label: non-normalized or out of bounds coordinates [       1.25        1.25]\n",
            "\u001b[34m\u001b[1mtrain: \u001b[0mWARNING ⚠️ /content/datasets/my_custom_dataset/train/images/585daaa4-23d2-11e8-a6a3-ec086b02610b.jpg: ignoring corrupt image/label: non-normalized or out of bounds coordinates [     1.1694]\n",
            "\u001b[34m\u001b[1mtrain: \u001b[0mWARNING ⚠️ /content/datasets/my_custom_dataset/train/images/585daaac-23d2-11e8-a6a3-ec086b02610b.jpg: ignoring corrupt image/label: non-normalized or out of bounds coordinates [       1.25        1.25]\n",
            "\u001b[34m\u001b[1mtrain: \u001b[0mWARNING ⚠️ /content/datasets/my_custom_dataset/train/images/585dab97-23d2-11e8-a6a3-ec086b02610b.jpg: ignoring corrupt image/label: non-normalized or out of bounds coordinates [       1.25        1.25]\n",
            "\u001b[34m\u001b[1mtrain: \u001b[0mWARNING ⚠️ /content/datasets/my_custom_dataset/train/images/585dabc4-23d2-11e8-a6a3-ec086b02610b.jpg: ignoring corrupt image/label: non-normalized or out of bounds coordinates [       1.25        1.25]\n",
            "\u001b[34m\u001b[1mtrain: \u001b[0mWARNING ⚠️ /content/datasets/my_custom_dataset/train/images/585dac65-23d2-11e8-a6a3-ec086b02610b.jpg: ignoring corrupt image/label: non-normalized or out of bounds coordinates [       1.25        1.25]\n",
            "\u001b[34m\u001b[1mtrain: \u001b[0mWARNING ⚠️ /content/datasets/my_custom_dataset/train/images/585f4f07-23d2-11e8-a6a3-ec086b02610b.jpg: ignoring corrupt image/label: non-normalized or out of bounds coordinates [       1.25        1.25]\n",
            "\u001b[34m\u001b[1mtrain: \u001b[0mWARNING ⚠️ /content/datasets/my_custom_dataset/train/images/585f4f45-23d2-11e8-a6a3-ec086b02610b.jpg: ignoring corrupt image/label: non-normalized or out of bounds coordinates [       1.25        1.25]\n",
            "\u001b[34m\u001b[1mtrain: \u001b[0mWARNING ⚠️ /content/datasets/my_custom_dataset/train/images/5865e28f-23d2-11e8-a6a3-ec086b02610b.jpg: ignoring corrupt image/label: non-normalized or out of bounds coordinates [     1.1807]\n",
            "\u001b[34m\u001b[1mtrain: \u001b[0mWARNING ⚠️ /content/datasets/my_custom_dataset/train/images/58678bd8-23d2-11e8-a6a3-ec086b02610b.jpg: ignoring corrupt image/label: non-normalized or out of bounds coordinates [       1.25        1.25]\n",
            "\u001b[34m\u001b[1mtrain: \u001b[0mWARNING ⚠️ /content/datasets/my_custom_dataset/train/images/586adf26-23d2-11e8-a6a3-ec086b02610b.jpg: ignoring corrupt image/label: non-normalized or out of bounds coordinates [     1.0898]\n",
            "\u001b[34m\u001b[1mtrain: \u001b[0mWARNING ⚠️ /content/datasets/my_custom_dataset/train/images/586c8705-23d2-11e8-a6a3-ec086b02610b.jpg: ignoring corrupt image/label: non-normalized or out of bounds coordinates [       1.25        1.25]\n",
            "\u001b[34m\u001b[1mtrain: \u001b[0mWARNING ⚠️ /content/datasets/my_custom_dataset/train/images/586c884c-23d2-11e8-a6a3-ec086b02610b.jpg: ignoring corrupt image/label: non-normalized or out of bounds coordinates [     1.1968]\n",
            "\u001b[34m\u001b[1mtrain: \u001b[0mWARNING ⚠️ /content/datasets/my_custom_dataset/train/images/586e2dd7-23d2-11e8-a6a3-ec086b02610b.jpg: ignoring corrupt image/label: non-normalized or out of bounds coordinates [       1.25        1.25]\n",
            "\u001b[34m\u001b[1mtrain: \u001b[0mWARNING ⚠️ /content/datasets/my_custom_dataset/train/images/586e2fa7-23d2-11e8-a6a3-ec086b02610b.jpg: ignoring corrupt image/label: non-normalized or out of bounds coordinates [       1.25        1.25]\n",
            "\u001b[34m\u001b[1mtrain: \u001b[0mWARNING ⚠️ /content/datasets/my_custom_dataset/train/images/586fdcaf-23d2-11e8-a6a3-ec086b02610b.jpg: ignoring corrupt image/label: non-normalized or out of bounds coordinates [     1.1348]\n",
            "\u001b[34m\u001b[1mtrain: \u001b[0mWARNING ⚠️ /content/datasets/my_custom_dataset/train/images/587b7d4d-23d2-11e8-a6a3-ec086b02610b.jpg: ignoring corrupt image/label: non-normalized or out of bounds coordinates [       1.25        1.25]\n",
            "\u001b[34m\u001b[1mtrain: \u001b[0mWARNING ⚠️ /content/datasets/my_custom_dataset/train/images/58823baa-23d2-11e8-a6a3-ec086b02610b.jpg: ignoring corrupt image/label: non-normalized or out of bounds coordinates [     1.1929]\n",
            "\u001b[34m\u001b[1mtrain: \u001b[0mWARNING ⚠️ /content/datasets/my_custom_dataset/train/images/58823ca0-23d2-11e8-a6a3-ec086b02610b.jpg: ignoring corrupt image/label: non-normalized or out of bounds coordinates [       1.25        1.25]\n",
            "\u001b[34m\u001b[1mtrain: \u001b[0mWARNING ⚠️ /content/datasets/my_custom_dataset/train/images/58823e8a-23d2-11e8-a6a3-ec086b02610b.jpg: ignoring corrupt image/label: non-normalized or out of bounds coordinates [       1.25        1.25]\n",
            "\u001b[34m\u001b[1mtrain: \u001b[0mWARNING ⚠️ /content/datasets/my_custom_dataset/train/images/58857dca-23d2-11e8-a6a3-ec086b02610b.jpg: ignoring corrupt image/label: non-normalized or out of bounds coordinates [     1.0479]\n",
            "\u001b[34m\u001b[1mtrain: \u001b[0mWARNING ⚠️ /content/datasets/my_custom_dataset/train/images/5888becd-23d2-11e8-a6a3-ec086b02610b.jpg: ignoring corrupt image/label: non-normalized or out of bounds coordinates [       1.25        1.25]\n",
            "\u001b[34m\u001b[1mtrain: \u001b[0mWARNING ⚠️ /content/datasets/my_custom_dataset/train/images/58910d07-23d2-11e8-a6a3-ec086b02610b.jpg: ignoring corrupt image/label: non-normalized or out of bounds coordinates [       1.25        1.25]\n",
            "\u001b[34m\u001b[1mtrain: \u001b[0mWARNING ⚠️ /content/datasets/my_custom_dataset/train/images/58910eb3-23d2-11e8-a6a3-ec086b02610b.jpg: ignoring corrupt image/label: non-normalized or out of bounds coordinates [       1.25        1.25]\n",
            "\u001b[34m\u001b[1mtrain: \u001b[0mWARNING ⚠️ /content/datasets/my_custom_dataset/train/images/58a6e717-23d2-11e8-a6a3-ec086b02610b.jpg: ignoring corrupt image/label: non-normalized or out of bounds coordinates [       1.25        1.25]\n",
            "\u001b[34m\u001b[1mtrain: \u001b[0mWARNING ⚠️ /content/datasets/my_custom_dataset/train/images/58fd7eb9-23d2-11e8-a6a3-ec086b02610b.jpg: ignoring corrupt image/label: non-normalized or out of bounds coordinates [       1.25        1.25]\n",
            "\u001b[34m\u001b[1mtrain: \u001b[0mWARNING ⚠️ /content/datasets/my_custom_dataset/train/images/58ff0ffc-23d2-11e8-a6a3-ec086b02610b.jpg: ignoring corrupt image/label: non-normalized or out of bounds coordinates [      1.146]\n",
            "\u001b[34m\u001b[1mtrain: \u001b[0mWARNING ⚠️ /content/datasets/my_custom_dataset/train/images/58ff0ffe-23d2-11e8-a6a3-ec086b02610b.jpg: ignoring corrupt image/label: non-normalized or out of bounds coordinates [       1.25        1.25]\n",
            "\u001b[34m\u001b[1mtrain: \u001b[0mWARNING ⚠️ /content/datasets/my_custom_dataset/train/images/59055e5d-23d2-11e8-a6a3-ec086b02610b.jpg: ignoring corrupt image/label: non-normalized or out of bounds coordinates [     1.0151]\n",
            "\u001b[34m\u001b[1mtrain: \u001b[0mWARNING ⚠️ /content/datasets/my_custom_dataset/train/images/59055f59-23d2-11e8-a6a3-ec086b02610b.jpg: ignoring corrupt image/label: non-normalized or out of bounds coordinates [     1.0615]\n",
            "\u001b[34m\u001b[1mtrain: \u001b[0mWARNING ⚠️ /content/datasets/my_custom_dataset/train/images/5906f001-23d2-11e8-a6a3-ec086b02610b.jpg: ignoring corrupt image/label: non-normalized or out of bounds coordinates [       1.25        1.25]\n",
            "\u001b[34m\u001b[1mtrain: \u001b[0mWARNING ⚠️ /content/datasets/my_custom_dataset/train/images/5906f039-23d2-11e8-a6a3-ec086b02610b.jpg: ignoring corrupt image/label: non-normalized or out of bounds coordinates [       1.25        1.25]\n",
            "\u001b[34m\u001b[1mtrain: \u001b[0mWARNING ⚠️ /content/datasets/my_custom_dataset/train/images/59104b93-23d2-11e8-a6a3-ec086b02610b.jpg: ignoring corrupt image/label: non-normalized or out of bounds coordinates [       1.25        1.25]\n",
            "\u001b[34m\u001b[1mtrain: \u001b[0mWARNING ⚠️ /content/datasets/my_custom_dataset/train/images/59104bda-23d2-11e8-a6a3-ec086b02610b.jpg: ignoring corrupt image/label: non-normalized or out of bounds coordinates [       1.25        1.25]\n",
            "\u001b[34m\u001b[1mtrain: \u001b[0mWARNING ⚠️ /content/datasets/my_custom_dataset/train/images/59167b2d-23d2-11e8-a6a3-ec086b02610b.jpg: ignoring corrupt image/label: non-normalized or out of bounds coordinates [       1.25        1.25]\n",
            "\u001b[34m\u001b[1mtrain: \u001b[0mWARNING ⚠️ /content/datasets/my_custom_dataset/train/images/59167bcb-23d2-11e8-a6a3-ec086b02610b.jpg: ignoring corrupt image/label: non-normalized or out of bounds coordinates [       1.25        1.25]\n",
            "\u001b[34m\u001b[1mtrain: \u001b[0mWARNING ⚠️ /content/datasets/my_custom_dataset/train/images/59180b11-23d2-11e8-a6a3-ec086b02610b.jpg: ignoring corrupt image/label: non-normalized or out of bounds coordinates [       1.25        1.25]\n",
            "\u001b[34m\u001b[1mtrain: \u001b[0mWARNING ⚠️ /content/datasets/my_custom_dataset/train/images/59260bf1-23d2-11e8-a6a3-ec086b02610b.jpg: ignoring corrupt image/label: non-normalized or out of bounds coordinates [       1.25        1.25]\n",
            "\u001b[34m\u001b[1mtrain: \u001b[0mWARNING ⚠️ /content/datasets/my_custom_dataset/train/images/59260cdf-23d2-11e8-a6a3-ec086b02610b.jpg: ignoring corrupt image/label: non-normalized or out of bounds coordinates [     1.1279]\n",
            "\u001b[34m\u001b[1mtrain: \u001b[0mWARNING ⚠️ /content/datasets/my_custom_dataset/train/images/59279bb0-23d2-11e8-a6a3-ec086b02610b.jpg: ignoring corrupt image/label: non-normalized or out of bounds coordinates [       1.25        1.25]\n",
            "\u001b[34m\u001b[1mtrain: \u001b[0mWARNING ⚠️ /content/datasets/my_custom_dataset/train/images/59279d4f-23d2-11e8-a6a3-ec086b02610b.jpg: ignoring corrupt image/label: non-normalized or out of bounds coordinates [     1.0283]\n",
            "\u001b[34m\u001b[1mtrain: \u001b[0mWARNING ⚠️ /content/datasets/my_custom_dataset/train/images/59279e06-23d2-11e8-a6a3-ec086b02610b.jpg: ignoring corrupt image/label: non-normalized or out of bounds coordinates [       1.25        1.25]\n",
            "\u001b[34m\u001b[1mtrain: \u001b[0mWARNING ⚠️ /content/datasets/my_custom_dataset/train/images/5930fe1d-23d2-11e8-a6a3-ec086b02610b.jpg: ignoring corrupt image/label: non-normalized or out of bounds coordinates [       1.25        1.25]\n",
            "\u001b[34m\u001b[1mtrain: \u001b[0mWARNING ⚠️ /content/datasets/my_custom_dataset/train/images/59328b13-23d2-11e8-a6a3-ec086b02610b.jpg: ignoring corrupt image/label: non-normalized or out of bounds coordinates [       1.25        1.25]\n",
            "\u001b[34m\u001b[1mtrain: \u001b[0mWARNING ⚠️ /content/datasets/my_custom_dataset/train/images/59328d04-23d2-11e8-a6a3-ec086b02610b.jpg: ignoring corrupt image/label: non-normalized or out of bounds coordinates [       1.25        1.25]\n",
            "\u001b[34m\u001b[1mtrain: \u001b[0mWARNING ⚠️ /content/datasets/my_custom_dataset/train/images/59328d2f-23d2-11e8-a6a3-ec086b02610b.jpg: ignoring corrupt image/label: non-normalized or out of bounds coordinates [     1.1165]\n",
            "\u001b[34m\u001b[1mtrain: \u001b[0mWARNING ⚠️ /content/datasets/my_custom_dataset/train/images/59341a2c-23d2-11e8-a6a3-ec086b02610b.jpg: ignoring corrupt image/label: non-normalized or out of bounds coordinates [       1.25        1.25]\n",
            "\u001b[34m\u001b[1mtrain: \u001b[0mWARNING ⚠️ /content/datasets/my_custom_dataset/train/images/59341ab1-23d2-11e8-a6a3-ec086b02610b.jpg: ignoring corrupt image/label: non-normalized or out of bounds coordinates [       1.25        1.25]\n",
            "\u001b[34m\u001b[1mtrain: \u001b[0mWARNING ⚠️ /content/datasets/my_custom_dataset/train/images/5938c0a0-23d2-11e8-a6a3-ec086b02610b.jpg: ignoring corrupt image/label: non-normalized or out of bounds coordinates [       1.25        1.25]\n",
            "\u001b[34m\u001b[1mtrain: \u001b[0mWARNING ⚠️ /content/datasets/my_custom_dataset/train/images/59452abd-23d2-11e8-a6a3-ec086b02610b.jpg: ignoring corrupt image/label: non-normalized or out of bounds coordinates [       1.25        1.25]\n",
            "\u001b[34m\u001b[1mtrain: \u001b[0mWARNING ⚠️ /content/datasets/my_custom_dataset/train/images/59641ec1-23d2-11e8-a6a3-ec086b02610b.jpg: ignoring corrupt image/label: non-normalized or out of bounds coordinates [     1.1406]\n",
            "\u001b[34m\u001b[1mtrain: \u001b[0mWARNING ⚠️ /content/datasets/my_custom_dataset/train/images/5965a962-23d2-11e8-a6a3-ec086b02610b.jpg: ignoring corrupt image/label: non-normalized or out of bounds coordinates [       1.25        1.25]\n",
            "\u001b[34m\u001b[1mtrain: \u001b[0mWARNING ⚠️ /content/datasets/my_custom_dataset/train/images/5965a9dd-23d2-11e8-a6a3-ec086b02610b.jpg: ignoring corrupt image/label: non-normalized or out of bounds coordinates [       1.25        1.25]\n",
            "\u001b[34m\u001b[1mtrain: \u001b[0mWARNING ⚠️ /content/datasets/my_custom_dataset/train/images/5965aa83-23d2-11e8-a6a3-ec086b02610b.jpg: ignoring corrupt image/label: non-normalized or out of bounds coordinates [       1.25        1.25]\n",
            "\u001b[34m\u001b[1mtrain: \u001b[0mWARNING ⚠️ /content/datasets/my_custom_dataset/train/images/5968c0be-23d2-11e8-a6a3-ec086b02610b.jpg: ignoring corrupt image/label: non-normalized or out of bounds coordinates [       1.25        1.25]\n",
            "\u001b[34m\u001b[1mtrain: \u001b[0mWARNING ⚠️ /content/datasets/my_custom_dataset/train/images/5968c110-23d2-11e8-a6a3-ec086b02610b.jpg: ignoring corrupt image/label: non-normalized or out of bounds coordinates [       1.25        1.25]\n",
            "\u001b[34m\u001b[1mtrain: \u001b[0mWARNING ⚠️ /content/datasets/my_custom_dataset/train/images/5971f809-23d2-11e8-a6a3-ec086b02610b.jpg: ignoring corrupt image/label: non-normalized or out of bounds coordinates [       1.25        1.25]\n",
            "\u001b[34m\u001b[1mtrain: \u001b[0mWARNING ⚠️ /content/datasets/my_custom_dataset/train/images/5971f885-23d2-11e8-a6a3-ec086b02610b.jpg: ignoring corrupt image/label: non-normalized or out of bounds coordinates [       1.25        1.25]\n",
            "\u001b[34m\u001b[1mtrain: \u001b[0mWARNING ⚠️ /content/datasets/my_custom_dataset/train/images/5971f9f9-23d2-11e8-a6a3-ec086b02610b.jpg: ignoring corrupt image/label: non-normalized or out of bounds coordinates [       1.25        1.25]\n",
            "\u001b[34m\u001b[1mtrain: \u001b[0mWARNING ⚠️ /content/datasets/my_custom_dataset/train/images/5971fa99-23d2-11e8-a6a3-ec086b02610b.jpg: ignoring corrupt image/label: non-normalized or out of bounds coordinates [       1.25        1.25]\n",
            "\u001b[34m\u001b[1mtrain: \u001b[0mWARNING ⚠️ /content/datasets/my_custom_dataset/train/images/5971fb4f-23d2-11e8-a6a3-ec086b02610b.jpg: ignoring corrupt image/label: non-normalized or out of bounds coordinates [       1.25        1.25]\n",
            "\u001b[34m\u001b[1mtrain: \u001b[0mWARNING ⚠️ /content/datasets/my_custom_dataset/train/images/5971fbe2-23d2-11e8-a6a3-ec086b02610b.jpg: ignoring corrupt image/label: non-normalized or out of bounds coordinates [       1.25        1.25]\n",
            "\u001b[34m\u001b[1mtrain: \u001b[0mWARNING ⚠️ /content/datasets/my_custom_dataset/train/images/59782f94-23d2-11e8-a6a3-ec086b02610b.jpg: ignoring corrupt image/label: non-normalized or out of bounds coordinates [       1.25        1.25]\n",
            "\u001b[34m\u001b[1mtrain: \u001b[0mWARNING ⚠️ /content/datasets/my_custom_dataset/train/images/59782fa0-23d2-11e8-a6a3-ec086b02610b.jpg: ignoring corrupt image/label: non-normalized or out of bounds coordinates [       1.25        1.25]\n",
            "\u001b[34m\u001b[1mtrain: \u001b[0mWARNING ⚠️ /content/datasets/my_custom_dataset/train/images/5979bb4a-23d2-11e8-a6a3-ec086b02610b.jpg: ignoring corrupt image/label: non-normalized or out of bounds coordinates [       1.25        1.25]\n",
            "\u001b[34m\u001b[1mtrain: \u001b[0mWARNING ⚠️ /content/datasets/my_custom_dataset/train/images/5979bb90-23d2-11e8-a6a3-ec086b02610b.jpg: ignoring corrupt image/label: non-normalized or out of bounds coordinates [       1.25        1.25]\n",
            "\u001b[34m\u001b[1mtrain: \u001b[0mWARNING ⚠️ /content/datasets/my_custom_dataset/train/images/5979bcf2-23d2-11e8-a6a3-ec086b02610b.jpg: ignoring corrupt image/label: non-normalized or out of bounds coordinates [     1.1709]\n",
            "\u001b[34m\u001b[1mtrain: \u001b[0mWARNING ⚠️ /content/datasets/my_custom_dataset/train/images/5979bcf8-23d2-11e8-a6a3-ec086b02610b.jpg: ignoring corrupt image/label: non-normalized or out of bounds coordinates [       1.25        1.25]\n",
            "\u001b[34m\u001b[1mtrain: \u001b[0mWARNING ⚠️ /content/datasets/my_custom_dataset/train/images/597b4764-23d2-11e8-a6a3-ec086b02610b.jpg: ignoring corrupt image/label: non-normalized or out of bounds coordinates [     1.2041]\n",
            "\u001b[34m\u001b[1mtrain: \u001b[0mWARNING ⚠️ /content/datasets/my_custom_dataset/train/images/597b49d1-23d2-11e8-a6a3-ec086b02610b.jpg: ignoring corrupt image/label: non-normalized or out of bounds coordinates [     1.2007]\n",
            "\u001b[34m\u001b[1mtrain: \u001b[0mWARNING ⚠️ /content/datasets/my_custom_dataset/train/images/597b4a37-23d2-11e8-a6a3-ec086b02610b.jpg: ignoring corrupt image/label: non-normalized or out of bounds coordinates [       1.25        1.25]\n",
            "\u001b[34m\u001b[1mtrain: \u001b[0mWARNING ⚠️ /content/datasets/my_custom_dataset/train/images/597cd637-23d2-11e8-a6a3-ec086b02610b.jpg: ignoring corrupt image/label: non-normalized or out of bounds coordinates [       1.25        1.25]\n",
            "\u001b[34m\u001b[1mtrain: \u001b[0mWARNING ⚠️ /content/datasets/my_custom_dataset/train/images/597e61c8-23d2-11e8-a6a3-ec086b02610b.jpg: ignoring corrupt image/label: non-normalized or out of bounds coordinates [       1.25        1.25]\n",
            "\u001b[34m\u001b[1mtrain: \u001b[0mWARNING ⚠️ /content/datasets/my_custom_dataset/train/images/597e6241-23d2-11e8-a6a3-ec086b02610b.jpg: ignoring corrupt image/label: non-normalized or out of bounds coordinates [       1.25        1.25]\n",
            "\u001b[34m\u001b[1mtrain: \u001b[0mWARNING ⚠️ /content/datasets/my_custom_dataset/train/images/59817afe-23d2-11e8-a6a3-ec086b02610b.jpg: ignoring corrupt image/label: non-normalized or out of bounds coordinates [       1.25        1.25]\n",
            "\u001b[34m\u001b[1mtrain: \u001b[0mWARNING ⚠️ /content/datasets/my_custom_dataset/train/images/59e101f7-23d2-11e8-a6a3-ec086b02610b.jpg: ignoring corrupt image/label: non-normalized or out of bounds coordinates [       1.25        1.25]\n",
            "\u001b[34m\u001b[1mtrain: \u001b[0mWARNING ⚠️ /content/datasets/my_custom_dataset/train/images/59e10214-23d2-11e8-a6a3-ec086b02610b.jpg: ignoring corrupt image/label: non-normalized or out of bounds coordinates [     1.1201]\n",
            "\u001b[34m\u001b[1mtrain: \u001b[0mWARNING ⚠️ /content/datasets/my_custom_dataset/train/images/59e1024c-23d2-11e8-a6a3-ec086b02610b.jpg: ignoring corrupt image/label: non-normalized or out of bounds coordinates [       1.25        1.25]\n",
            "\u001b[34m\u001b[1mtrain: \u001b[0mWARNING ⚠️ /content/datasets/my_custom_dataset/train/images/59e10302-23d2-11e8-a6a3-ec086b02610b.jpg: ignoring corrupt image/label: non-normalized or out of bounds coordinates [       1.25        1.25]\n",
            "\u001b[34m\u001b[1mtrain: \u001b[0mWARNING ⚠️ /content/datasets/my_custom_dataset/train/images/59e1038d-23d2-11e8-a6a3-ec086b02610b.jpg: ignoring corrupt image/label: non-normalized or out of bounds coordinates [       1.25        1.25]\n",
            "\u001b[34m\u001b[1mtrain: \u001b[0mWARNING ⚠️ /content/datasets/my_custom_dataset/train/images/59e10553-23d2-11e8-a6a3-ec086b02610b.jpg: ignoring corrupt image/label: non-normalized or out of bounds coordinates [       1.25        1.25]\n",
            "\u001b[34m\u001b[1mtrain: \u001b[0mWARNING ⚠️ /content/datasets/my_custom_dataset/train/images/59e2a53d-23d2-11e8-a6a3-ec086b02610b.jpg: ignoring corrupt image/label: non-normalized or out of bounds coordinates [       1.25        1.25]\n",
            "\u001b[34m\u001b[1mtrain: \u001b[0mWARNING ⚠️ /content/datasets/my_custom_dataset/train/images/59e2a58e-23d2-11e8-a6a3-ec086b02610b.jpg: ignoring corrupt image/label: non-normalized or out of bounds coordinates [       1.25        1.25]\n",
            "\u001b[34m\u001b[1mtrain: \u001b[0mWARNING ⚠️ /content/datasets/my_custom_dataset/train/images/59e44144-23d2-11e8-a6a3-ec086b02610b.jpg: ignoring corrupt image/label: non-normalized or out of bounds coordinates [       1.25        1.25]\n",
            "\u001b[34m\u001b[1mtrain: \u001b[0mWARNING ⚠️ /content/datasets/my_custom_dataset/train/images/59e5e1a8-23d2-11e8-a6a3-ec086b02610b.jpg: ignoring corrupt image/label: non-normalized or out of bounds coordinates [       1.25        1.25]\n",
            "\u001b[34m\u001b[1mtrain: \u001b[0mWARNING ⚠️ /content/datasets/my_custom_dataset/train/images/59eab7c9-23d2-11e8-a6a3-ec086b02610b.jpg: ignoring corrupt image/label: non-normalized or out of bounds coordinates [       1.25        1.25]\n",
            "\u001b[34m\u001b[1mtrain: \u001b[0mWARNING ⚠️ /content/datasets/my_custom_dataset/train/images/59eab90f-23d2-11e8-a6a3-ec086b02610b.jpg: ignoring corrupt image/label: non-normalized or out of bounds coordinates [       1.25        1.25]\n",
            "\u001b[34m\u001b[1mtrain: \u001b[0mWARNING ⚠️ /content/datasets/my_custom_dataset/train/images/59eab961-23d2-11e8-a6a3-ec086b02610b.jpg: ignoring corrupt image/label: non-normalized or out of bounds coordinates [       1.25        1.25]\n",
            "\u001b[34m\u001b[1mtrain: \u001b[0mWARNING ⚠️ /content/datasets/my_custom_dataset/train/images/59eab99b-23d2-11e8-a6a3-ec086b02610b.jpg: ignoring corrupt image/label: non-normalized or out of bounds coordinates [       1.25        1.25]\n",
            "\u001b[34m\u001b[1mtrain: \u001b[0mWARNING ⚠️ /content/datasets/my_custom_dataset/train/images/59ec52d5-23d2-11e8-a6a3-ec086b02610b.jpg: ignoring corrupt image/label: non-normalized or out of bounds coordinates [     1.0273]\n",
            "\u001b[34m\u001b[1mtrain: \u001b[0mWARNING ⚠️ /content/datasets/my_custom_dataset/train/images/59ec5435-23d2-11e8-a6a3-ec086b02610b.jpg: ignoring corrupt image/label: non-normalized or out of bounds coordinates [       1.25        1.25]\n",
            "\u001b[34m\u001b[1mtrain: \u001b[0mWARNING ⚠️ /content/datasets/my_custom_dataset/train/images/59ec54bf-23d2-11e8-a6a3-ec086b02610b.jpg: ignoring corrupt image/label: non-normalized or out of bounds coordinates [     1.1953]\n",
            "\u001b[34m\u001b[1mtrain: \u001b[0mWARNING ⚠️ /content/datasets/my_custom_dataset/train/images/59edf23b-23d2-11e8-a6a3-ec086b02610b.jpg: ignoring corrupt image/label: non-normalized or out of bounds coordinates [       1.25        1.25]\n",
            "\u001b[34m\u001b[1mtrain: \u001b[0mWARNING ⚠️ /content/datasets/my_custom_dataset/train/images/59ef8d26-23d2-11e8-a6a3-ec086b02610b.jpg: ignoring corrupt image/label: non-normalized or out of bounds coordinates [       1.25        1.25]\n",
            "\u001b[34m\u001b[1mtrain: \u001b[0mWARNING ⚠️ /content/datasets/my_custom_dataset/train/images/59ef8e4b-23d2-11e8-a6a3-ec086b02610b.jpg: ignoring corrupt image/label: non-normalized or out of bounds coordinates [       1.25        1.25]\n",
            "\u001b[34m\u001b[1mtrain: \u001b[0mWARNING ⚠️ /content/datasets/my_custom_dataset/train/images/59f128cb-23d2-11e8-a6a3-ec086b02610b.jpg: ignoring corrupt image/label: non-normalized or out of bounds coordinates [       1.25        1.25]\n",
            "\u001b[34m\u001b[1mtrain: \u001b[0mWARNING ⚠️ /content/datasets/my_custom_dataset/train/images/59f1294a-23d2-11e8-a6a3-ec086b02610b.jpg: ignoring corrupt image/label: non-normalized or out of bounds coordinates [       1.25        1.25]\n",
            "\u001b[34m\u001b[1mtrain: \u001b[0mWARNING ⚠️ /content/datasets/my_custom_dataset/train/images/59f129e9-23d2-11e8-a6a3-ec086b02610b.jpg: ignoring corrupt image/label: non-normalized or out of bounds coordinates [       1.25        1.25]\n",
            "\u001b[34m\u001b[1mtrain: \u001b[0mWARNING ⚠️ /content/datasets/my_custom_dataset/train/images/59f2c295-23d2-11e8-a6a3-ec086b02610b.jpg: ignoring corrupt image/label: non-normalized or out of bounds coordinates [       1.25        1.25]\n",
            "\u001b[34m\u001b[1mtrain: \u001b[0mWARNING ⚠️ /content/datasets/my_custom_dataset/train/images/59f2c545-23d2-11e8-a6a3-ec086b02610b.jpg: ignoring corrupt image/label: non-normalized or out of bounds coordinates [       1.25        1.25]\n",
            "\u001b[34m\u001b[1mtrain: \u001b[0mWARNING ⚠️ /content/datasets/my_custom_dataset/train/images/59f2c64d-23d2-11e8-a6a3-ec086b02610b.jpg: ignoring corrupt image/label: non-normalized or out of bounds coordinates [       1.25        1.25]\n",
            "\u001b[34m\u001b[1mtrain: \u001b[0mWARNING ⚠️ /content/datasets/my_custom_dataset/train/images/59f461ed-23d2-11e8-a6a3-ec086b02610b.jpg: ignoring corrupt image/label: non-normalized or out of bounds coordinates [       1.25        1.25]\n",
            "\u001b[34m\u001b[1mtrain: \u001b[0mWARNING ⚠️ /content/datasets/my_custom_dataset/train/images/59f5fdcd-23d2-11e8-a6a3-ec086b02610b.jpg: ignoring corrupt image/label: non-normalized or out of bounds coordinates [       1.25        1.25]\n",
            "\u001b[34m\u001b[1mtrain: \u001b[0mWARNING ⚠️ /content/datasets/my_custom_dataset/train/images/59f5fe0d-23d2-11e8-a6a3-ec086b02610b.jpg: ignoring corrupt image/label: non-normalized or out of bounds coordinates [       1.25        1.25]\n",
            "\u001b[34m\u001b[1mtrain: \u001b[0mWARNING ⚠️ /content/datasets/my_custom_dataset/train/images/59f5fe28-23d2-11e8-a6a3-ec086b02610b.jpg: ignoring corrupt image/label: non-normalized or out of bounds coordinates [       1.25        1.25]\n",
            "\u001b[34m\u001b[1mtrain: \u001b[0mWARNING ⚠️ /content/datasets/my_custom_dataset/train/images/59f79882-23d2-11e8-a6a3-ec086b02610b.jpg: ignoring corrupt image/label: non-normalized or out of bounds coordinates [       1.25        1.25]\n",
            "\u001b[34m\u001b[1mtrain: \u001b[0mWARNING ⚠️ /content/datasets/my_custom_dataset/train/images/59f79c14-23d2-11e8-a6a3-ec086b02610b.jpg: ignoring corrupt image/label: non-normalized or out of bounds coordinates [       1.25        1.25]\n",
            "\u001b[34m\u001b[1mtrain: \u001b[0mWARNING ⚠️ /content/datasets/my_custom_dataset/train/images/59f947d5-23d2-11e8-a6a3-ec086b02610b.jpg: ignoring corrupt image/label: non-normalized or out of bounds coordinates [       1.25        1.25]\n",
            "\u001b[34m\u001b[1mtrain: \u001b[0mWARNING ⚠️ /content/datasets/my_custom_dataset/train/images/59f947e5-23d2-11e8-a6a3-ec086b02610b.jpg: ignoring corrupt image/label: non-normalized or out of bounds coordinates [       1.25        1.25]\n",
            "\u001b[34m\u001b[1mtrain: \u001b[0mWARNING ⚠️ /content/datasets/my_custom_dataset/train/images/59fae4d5-23d2-11e8-a6a3-ec086b02610b.jpg: ignoring corrupt image/label: non-normalized or out of bounds coordinates [     1.1484]\n",
            "\u001b[34m\u001b[1mtrain: \u001b[0mWARNING ⚠️ /content/datasets/my_custom_dataset/train/images/59fae6f4-23d2-11e8-a6a3-ec086b02610b.jpg: ignoring corrupt image/label: non-normalized or out of bounds coordinates [       1.25        1.25]\n",
            "\u001b[34m\u001b[1mtrain: \u001b[0mWARNING ⚠️ /content/datasets/my_custom_dataset/train/images/59fc7d3a-23d2-11e8-a6a3-ec086b02610b.jpg: ignoring corrupt image/label: non-normalized or out of bounds coordinates [       1.25        1.25]\n",
            "\u001b[34m\u001b[1mtrain: \u001b[0mWARNING ⚠️ /content/datasets/my_custom_dataset/train/images/59fc7f24-23d2-11e8-a6a3-ec086b02610b.jpg: ignoring corrupt image/label: non-normalized or out of bounds coordinates [       1.25        1.25]\n",
            "\u001b[34m\u001b[1mtrain: \u001b[0mWARNING ⚠️ /content/datasets/my_custom_dataset/train/images/59fe2100-23d2-11e8-a6a3-ec086b02610b.jpg: ignoring corrupt image/label: non-normalized or out of bounds coordinates [       1.25        1.25]\n",
            "\u001b[34m\u001b[1mtrain: \u001b[0mWARNING ⚠️ /content/datasets/my_custom_dataset/train/images/59fe2188-23d2-11e8-a6a3-ec086b02610b.jpg: ignoring corrupt image/label: non-normalized or out of bounds coordinates [       1.25        1.25]\n",
            "\u001b[34m\u001b[1mtrain: \u001b[0mWARNING ⚠️ /content/datasets/my_custom_dataset/train/images/59fe22e5-23d2-11e8-a6a3-ec086b02610b.jpg: ignoring corrupt image/label: non-normalized or out of bounds coordinates [       1.25        1.25]\n",
            "\u001b[34m\u001b[1mtrain: \u001b[0mWARNING ⚠️ /content/datasets/my_custom_dataset/train/images/59fe22f4-23d2-11e8-a6a3-ec086b02610b.jpg: ignoring corrupt image/label: non-normalized or out of bounds coordinates [       1.25        1.25]\n",
            "\u001b[34m\u001b[1mtrain: \u001b[0mWARNING ⚠️ /content/datasets/my_custom_dataset/train/images/59ffb9ac-23d2-11e8-a6a3-ec086b02610b.jpg: ignoring corrupt image/label: non-normalized or out of bounds coordinates [       1.25        1.25]\n",
            "\u001b[34m\u001b[1mtrain: \u001b[0mWARNING ⚠️ /content/datasets/my_custom_dataset/train/images/59ffbbb2-23d2-11e8-a6a3-ec086b02610b.jpg: ignoring corrupt image/label: non-normalized or out of bounds coordinates [     1.0571]\n",
            "\u001b[34m\u001b[1mtrain: \u001b[0mWARNING ⚠️ /content/datasets/my_custom_dataset/train/images/59ffbc6a-23d2-11e8-a6a3-ec086b02610b.jpg: ignoring corrupt image/label: non-normalized or out of bounds coordinates [       1.25        1.25]\n",
            "\u001b[34m\u001b[1mtrain: \u001b[0mWARNING ⚠️ /content/datasets/my_custom_dataset/train/images/5a096bee-23d2-11e8-a6a3-ec086b02610b.jpg: ignoring corrupt image/label: non-normalized or out of bounds coordinates [       1.25        1.25]\n",
            "\u001b[34m\u001b[1mtrain: \u001b[0mWARNING ⚠️ /content/datasets/my_custom_dataset/train/images/5a0b0384-23d2-11e8-a6a3-ec086b02610b.jpg: ignoring corrupt image/label: non-normalized or out of bounds coordinates [       1.25        1.25]\n",
            "\u001b[34m\u001b[1mtrain: \u001b[0mWARNING ⚠️ /content/datasets/my_custom_dataset/train/images/5a0e369b-23d2-11e8-a6a3-ec086b02610b.jpg: ignoring corrupt image/label: non-normalized or out of bounds coordinates [       1.25        1.25]\n",
            "\u001b[34m\u001b[1mtrain: \u001b[0mWARNING ⚠️ /content/datasets/my_custom_dataset/train/images/5a0e3768-23d2-11e8-a6a3-ec086b02610b.jpg: ignoring corrupt image/label: non-normalized or out of bounds coordinates [     1.0654      1.1302]\n",
            "\u001b[34m\u001b[1mtrain: \u001b[0mWARNING ⚠️ /content/datasets/my_custom_dataset/train/images/5a0fcf5d-23d2-11e8-a6a3-ec086b02610b.jpg: ignoring corrupt image/label: non-normalized or out of bounds coordinates [       1.25        1.25]\n",
            "\u001b[34m\u001b[1mtrain: \u001b[0mWARNING ⚠️ /content/datasets/my_custom_dataset/train/images/5a1b140a-23d2-11e8-a6a3-ec086b02610b.jpg: ignoring corrupt image/label: non-normalized or out of bounds coordinates [       1.25        1.25]\n",
            "\u001b[34m\u001b[1mtrain: \u001b[0mWARNING ⚠️ /content/datasets/my_custom_dataset/train/images/5a1b141c-23d2-11e8-a6a3-ec086b02610b.jpg: ignoring corrupt image/label: non-normalized or out of bounds coordinates [       1.25        1.25]\n",
            "\u001b[34m\u001b[1mtrain: \u001b[0mWARNING ⚠️ /content/datasets/my_custom_dataset/train/images/5a1cb0ba-23d2-11e8-a6a3-ec086b02610b.jpg: ignoring corrupt image/label: non-normalized or out of bounds coordinates [     1.0479]\n",
            "\u001b[34m\u001b[1mtrain: \u001b[0mWARNING ⚠️ /content/datasets/my_custom_dataset/train/images/5a217628-23d2-11e8-a6a3-ec086b02610b.jpg: ignoring corrupt image/label: non-normalized or out of bounds coordinates [       1.25        1.25]\n",
            "\u001b[34m\u001b[1mtrain: \u001b[0mWARNING ⚠️ /content/datasets/my_custom_dataset/train/images/5a263ac9-23d2-11e8-a6a3-ec086b02610b.jpg: ignoring corrupt image/label: non-normalized or out of bounds coordinates [       1.25        1.25]\n",
            "\u001b[34m\u001b[1mtrain: \u001b[0mWARNING ⚠️ /content/datasets/my_custom_dataset/train/images/5a27d909-23d2-11e8-a6a3-ec086b02610b.jpg: ignoring corrupt image/label: non-normalized or out of bounds coordinates [     1.1396]\n",
            "\u001b[34m\u001b[1mtrain: \u001b[0mWARNING ⚠️ /content/datasets/my_custom_dataset/train/images/5a296339-23d2-11e8-a6a3-ec086b02610b.jpg: ignoring corrupt image/label: non-normalized or out of bounds coordinates [       1.25        1.25]\n",
            "\u001b[34m\u001b[1mtrain: \u001b[0mWARNING ⚠️ /content/datasets/my_custom_dataset/train/images/5a2af5d2-23d2-11e8-a6a3-ec086b02610b.jpg: ignoring corrupt image/label: non-normalized or out of bounds coordinates [       1.25        1.25]\n"
          ]
        },
        {
          "name": "stderr",
          "output_type": "stream",
          "text": [
            "\n"
          ]
        },
        {
          "name": "stdout",
          "output_type": "stream",
          "text": [
            "\u001b[34m\u001b[1mtrain: \u001b[0mNew cache created: /content/datasets/my_custom_dataset/train/labels.cache\n",
            "\u001b[34m\u001b[1malbumentations: \u001b[0mBlur(p=0.01, blur_limit=(3, 7)), MedianBlur(p=0.01, blur_limit=(3, 7)), ToGray(p=0.01, num_output_channels=3, method='weighted_average'), CLAHE(p=0.01, clip_limit=(1.0, 4.0), tile_grid_size=(8, 8))\n"
          ]
        },
        {
          "name": "stderr",
          "output_type": "stream",
          "text": [
            "/usr/local/lib/python3.11/dist-packages/ultralytics/data/augment.py:1837: UserWarning: Argument(s) 'quality_lower' are not valid for transform ImageCompression\n",
            "  A.ImageCompression(quality_lower=75, p=0.0),\n",
            "\u001b[34m\u001b[1mval: \u001b[0mScanning /content/datasets/my_custom_dataset/val/labels... 3283 images, 0 backgrounds, 41 corrupt: 100%|██████████| 3283/3283 [00:03<00:00, 967.83it/s] "
          ]
        },
        {
          "name": "stdout",
          "output_type": "stream",
          "text": [
            "\u001b[34m\u001b[1mval: \u001b[0mWARNING ⚠️ /content/datasets/my_custom_dataset/val/images/585a6473-23d2-11e8-a6a3-ec086b02610b.jpg: ignoring corrupt image/label: non-normalized or out of bounds coordinates [       1.25        1.25]\n",
            "\u001b[34m\u001b[1mval: \u001b[0mWARNING ⚠️ /content/datasets/my_custom_dataset/val/images/585daaa3-23d2-11e8-a6a3-ec086b02610b.jpg: ignoring corrupt image/label: non-normalized or out of bounds coordinates [       1.25        1.25]\n",
            "\u001b[34m\u001b[1mval: \u001b[0mWARNING ⚠️ /content/datasets/my_custom_dataset/val/images/585f4de6-23d2-11e8-a6a3-ec086b02610b.jpg: ignoring corrupt image/label: non-normalized or out of bounds coordinates [       1.25        1.25]\n",
            "\u001b[34m\u001b[1mval: \u001b[0mWARNING ⚠️ /content/datasets/my_custom_dataset/val/images/585f5008-23d2-11e8-a6a3-ec086b02610b.jpg: ignoring corrupt image/label: non-normalized or out of bounds coordinates [     1.1436]\n",
            "\u001b[34m\u001b[1mval: \u001b[0mWARNING ⚠️ /content/datasets/my_custom_dataset/val/images/58678c12-23d2-11e8-a6a3-ec086b02610b.jpg: ignoring corrupt image/label: non-normalized or out of bounds coordinates [     1.0957]\n",
            "\u001b[34m\u001b[1mval: \u001b[0mWARNING ⚠️ /content/datasets/my_custom_dataset/val/images/58678d5f-23d2-11e8-a6a3-ec086b02610b.jpg: ignoring corrupt image/label: non-normalized or out of bounds coordinates [     1.0498]\n",
            "\u001b[34m\u001b[1mval: \u001b[0mWARNING ⚠️ /content/datasets/my_custom_dataset/val/images/58678f08-23d2-11e8-a6a3-ec086b02610b.jpg: ignoring corrupt image/label: non-normalized or out of bounds coordinates [       1.25        1.25]\n",
            "\u001b[34m\u001b[1mval: \u001b[0mWARNING ⚠️ /content/datasets/my_custom_dataset/val/images/586ade1b-23d2-11e8-a6a3-ec086b02610b.jpg: ignoring corrupt image/label: non-normalized or out of bounds coordinates [       1.25        1.25]\n",
            "\u001b[34m\u001b[1mval: \u001b[0mWARNING ⚠️ /content/datasets/my_custom_dataset/val/images/586c89f2-23d2-11e8-a6a3-ec086b02610b.jpg: ignoring corrupt image/label: non-normalized or out of bounds coordinates [       1.25        1.25]\n",
            "\u001b[34m\u001b[1mval: \u001b[0mWARNING ⚠️ /content/datasets/my_custom_dataset/val/images/586e30ce-23d2-11e8-a6a3-ec086b02610b.jpg: ignoring corrupt image/label: non-normalized or out of bounds coordinates [       1.25        1.25]\n",
            "\u001b[34m\u001b[1mval: \u001b[0mWARNING ⚠️ /content/datasets/my_custom_dataset/val/images/586fdca9-23d2-11e8-a6a3-ec086b02610b.jpg: ignoring corrupt image/label: non-normalized or out of bounds coordinates [       1.25        1.25]\n",
            "\u001b[34m\u001b[1mval: \u001b[0mWARNING ⚠️ /content/datasets/my_custom_dataset/val/images/58910d03-23d2-11e8-a6a3-ec086b02610b.jpg: ignoring corrupt image/label: non-normalized or out of bounds coordinates [     1.0859]\n",
            "\u001b[34m\u001b[1mval: \u001b[0mWARNING ⚠️ /content/datasets/my_custom_dataset/val/images/5892b707-23d2-11e8-a6a3-ec086b02610b.jpg: ignoring corrupt image/label: non-normalized or out of bounds coordinates [     1.0381]\n",
            "\u001b[34m\u001b[1mval: \u001b[0mWARNING ⚠️ /content/datasets/my_custom_dataset/val/images/58a8a1d1-23d2-11e8-a6a3-ec086b02610b.jpg: ignoring corrupt image/label: non-normalized or out of bounds coordinates [     1.1514]\n",
            "\u001b[34m\u001b[1mval: \u001b[0mWARNING ⚠️ /content/datasets/my_custom_dataset/val/images/59055df0-23d2-11e8-a6a3-ec086b02610b.jpg: ignoring corrupt image/label: non-normalized or out of bounds coordinates [     1.0967]\n",
            "\u001b[34m\u001b[1mval: \u001b[0mWARNING ⚠️ /content/datasets/my_custom_dataset/val/images/59104c40-23d2-11e8-a6a3-ec086b02610b.jpg: ignoring corrupt image/label: non-normalized or out of bounds coordinates [       1.25        1.25]\n",
            "\u001b[34m\u001b[1mval: \u001b[0mWARNING ⚠️ /content/datasets/my_custom_dataset/val/images/5911d665-23d2-11e8-a6a3-ec086b02610b.jpg: ignoring corrupt image/label: non-normalized or out of bounds coordinates [       1.25        1.25]\n",
            "\u001b[34m\u001b[1mval: \u001b[0mWARNING ⚠️ /content/datasets/my_custom_dataset/val/images/59260c82-23d2-11e8-a6a3-ec086b02610b.jpg: ignoring corrupt image/label: non-normalized or out of bounds coordinates [       1.25        1.25]\n",
            "\u001b[34m\u001b[1mval: \u001b[0mWARNING ⚠️ /content/datasets/my_custom_dataset/val/images/59279d4f-23d2-11e8-a6a3-ec086b02610b.jpg: ignoring corrupt image/label: non-normalized or out of bounds coordinates [     1.0566]\n",
            "\u001b[34m\u001b[1mval: \u001b[0mWARNING ⚠️ /content/datasets/my_custom_dataset/val/images/5968bfb7-23d2-11e8-a6a3-ec086b02610b.jpg: ignoring corrupt image/label: non-normalized or out of bounds coordinates [       1.25        1.25]\n",
            "\u001b[34m\u001b[1mval: \u001b[0mWARNING ⚠️ /content/datasets/my_custom_dataset/val/images/5971f90c-23d2-11e8-a6a3-ec086b02610b.jpg: ignoring corrupt image/label: non-normalized or out of bounds coordinates [       1.25        1.25]\n",
            "\u001b[34m\u001b[1mval: \u001b[0mWARNING ⚠️ /content/datasets/my_custom_dataset/val/images/5971f94f-23d2-11e8-a6a3-ec086b02610b.jpg: ignoring corrupt image/label: non-normalized or out of bounds coordinates [       1.25        1.25]\n",
            "\u001b[34m\u001b[1mval: \u001b[0mWARNING ⚠️ /content/datasets/my_custom_dataset/val/images/5971fb95-23d2-11e8-a6a3-ec086b02610b.jpg: ignoring corrupt image/label: non-normalized or out of bounds coordinates [     1.2051]\n",
            "\u001b[34m\u001b[1mval: \u001b[0mWARNING ⚠️ /content/datasets/my_custom_dataset/val/images/597e6464-23d2-11e8-a6a3-ec086b02610b.jpg: ignoring corrupt image/label: non-normalized or out of bounds coordinates [       1.25        1.25]\n",
            "\u001b[34m\u001b[1mval: \u001b[0mWARNING ⚠️ /content/datasets/my_custom_dataset/val/images/59e43f16-23d2-11e8-a6a3-ec086b02610b.jpg: ignoring corrupt image/label: non-normalized or out of bounds coordinates [       1.25        1.25]\n",
            "\u001b[34m\u001b[1mval: \u001b[0mWARNING ⚠️ /content/datasets/my_custom_dataset/val/images/59e4400c-23d2-11e8-a6a3-ec086b02610b.jpg: ignoring corrupt image/label: non-normalized or out of bounds coordinates [       1.25        1.25]\n",
            "\u001b[34m\u001b[1mval: \u001b[0mWARNING ⚠️ /content/datasets/my_custom_dataset/val/images/59e77de7-23d2-11e8-a6a3-ec086b02610b.jpg: ignoring corrupt image/label: non-normalized or out of bounds coordinates [       1.25        1.25]\n",
            "\u001b[34m\u001b[1mval: \u001b[0mWARNING ⚠️ /content/datasets/my_custom_dataset/val/images/59e91ad3-23d2-11e8-a6a3-ec086b02610b.jpg: ignoring corrupt image/label: non-normalized or out of bounds coordinates [       1.25        1.25]\n",
            "\u001b[34m\u001b[1mval: \u001b[0mWARNING ⚠️ /content/datasets/my_custom_dataset/val/images/59ec550c-23d2-11e8-a6a3-ec086b02610b.jpg: ignoring corrupt image/label: non-normalized or out of bounds coordinates [       1.25        1.25]\n",
            "\u001b[34m\u001b[1mval: \u001b[0mWARNING ⚠️ /content/datasets/my_custom_dataset/val/images/59f94658-23d2-11e8-a6a3-ec086b02610b.jpg: ignoring corrupt image/label: non-normalized or out of bounds coordinates [       1.25        1.25]\n",
            "\u001b[34m\u001b[1mval: \u001b[0mWARNING ⚠️ /content/datasets/my_custom_dataset/val/images/59fae5ec-23d2-11e8-a6a3-ec086b02610b.jpg: ignoring corrupt image/label: non-normalized or out of bounds coordinates [       1.25        1.25]\n",
            "\u001b[34m\u001b[1mval: \u001b[0mWARNING ⚠️ /content/datasets/my_custom_dataset/val/images/59fc7e91-23d2-11e8-a6a3-ec086b02610b.jpg: ignoring corrupt image/label: non-normalized or out of bounds coordinates [       1.25        1.25]\n",
            "\u001b[34m\u001b[1mval: \u001b[0mWARNING ⚠️ /content/datasets/my_custom_dataset/val/images/59fc7f67-23d2-11e8-a6a3-ec086b02610b.jpg: ignoring corrupt image/label: non-normalized or out of bounds coordinates [       1.25        1.25]\n",
            "\u001b[34m\u001b[1mval: \u001b[0mWARNING ⚠️ /content/datasets/my_custom_dataset/val/images/59fe21c8-23d2-11e8-a6a3-ec086b02610b.jpg: ignoring corrupt image/label: non-normalized or out of bounds coordinates [     1.1055]\n",
            "\u001b[34m\u001b[1mval: \u001b[0mWARNING ⚠️ /content/datasets/my_custom_dataset/val/images/5a02fbd1-23d2-11e8-a6a3-ec086b02610b.jpg: ignoring corrupt image/label: non-normalized or out of bounds coordinates [       1.25        1.25]\n",
            "\u001b[34m\u001b[1mval: \u001b[0mWARNING ⚠️ /content/datasets/my_custom_dataset/val/images/5a06317a-23d2-11e8-a6a3-ec086b02610b.jpg: ignoring corrupt image/label: non-normalized or out of bounds coordinates [       1.25        1.25]\n",
            "\u001b[34m\u001b[1mval: \u001b[0mWARNING ⚠️ /content/datasets/my_custom_dataset/val/images/5a0e3539-23d2-11e8-a6a3-ec086b02610b.jpg: ignoring corrupt image/label: non-normalized or out of bounds coordinates [       1.25        1.25]\n",
            "\u001b[34m\u001b[1mval: \u001b[0mWARNING ⚠️ /content/datasets/my_custom_dataset/val/images/5a0fd068-23d2-11e8-a6a3-ec086b02610b.jpg: ignoring corrupt image/label: non-normalized or out of bounds coordinates [       1.25        1.25]\n",
            "\u001b[34m\u001b[1mval: \u001b[0mWARNING ⚠️ /content/datasets/my_custom_dataset/val/images/5a116b3f-23d2-11e8-a6a3-ec086b02610b.jpg: ignoring corrupt image/label: non-normalized or out of bounds coordinates [       1.25        1.25]\n",
            "\u001b[34m\u001b[1mval: \u001b[0mWARNING ⚠️ /content/datasets/my_custom_dataset/val/images/5a116d47-23d2-11e8-a6a3-ec086b02610b.jpg: ignoring corrupt image/label: non-normalized or out of bounds coordinates [       1.25        1.25]\n",
            "\u001b[34m\u001b[1mval: \u001b[0mWARNING ⚠️ /content/datasets/my_custom_dataset/val/images/5a14a609-23d2-11e8-a6a3-ec086b02610b.jpg: ignoring corrupt image/label: non-normalized or out of bounds coordinates [     1.0381]\n"
          ]
        },
        {
          "name": "stderr",
          "output_type": "stream",
          "text": [
            "\n"
          ]
        },
        {
          "name": "stdout",
          "output_type": "stream",
          "text": [
            "\u001b[34m\u001b[1mval: \u001b[0mNew cache created: /content/datasets/my_custom_dataset/val/labels.cache\n",
            "Plotting labels to /content/drive/My Drive/cct20/cct20/my_yolo_project/train22/labels.jpg... \n",
            "\u001b[34m\u001b[1moptimizer:\u001b[0m 'optimizer=auto' found, ignoring 'lr0=0.01' and 'momentum=0.937' and determining best 'optimizer', 'lr0' and 'momentum' automatically... \n",
            "\u001b[34m\u001b[1moptimizer:\u001b[0m AdamW(lr=0.0005, momentum=0.9) with parameter groups 77 weight(decay=0.0), 84 weight(decay=0.0005), 83 bias(decay=0.0)\n",
            "\u001b[34m\u001b[1mTensorBoard: \u001b[0mmodel graph visualization added ✅\n",
            "Image sizes 1024 train, 1024 val\n",
            "Using 2 dataloader workers\n",
            "Logging results to \u001b[1m/content/drive/My Drive/cct20/cct20/my_yolo_project/train22\u001b[0m\n",
            "Starting training for 20 epochs...\n",
            "\n",
            "      Epoch    GPU_mem   box_loss   cls_loss   dfl_loss  Instances       Size\n"
          ]
        },
        {
          "name": "stderr",
          "output_type": "stream",
          "text": [
            "       1/20      8.21G    0.09692     0.7144      1.447          4       1024: 100%|██████████| 1174/1174 [13:01<00:00,  1.50it/s]\n",
            "                 Class     Images  Instances      Box(P          R      mAP50  mAP50-95): 100%|██████████| 203/203 [01:17<00:00,  2.63it/s]"
          ]
        },
        {
          "name": "stdout",
          "output_type": "stream",
          "text": [
            "                   all       3242       3299      0.854      0.778      0.811      0.541\n"
          ]
        },
        {
          "name": "stderr",
          "output_type": "stream",
          "text": [
            "\n"
          ]
        },
        {
          "name": "stdout",
          "output_type": "stream",
          "text": [
            "\n",
            "      Epoch    GPU_mem   box_loss   cls_loss   dfl_loss  Instances       Size\n"
          ]
        },
        {
          "name": "stderr",
          "output_type": "stream",
          "text": [
            "       2/20      8.54G    0.09799      0.769      1.457          6       1024: 100%|██████████| 1174/1174 [12:59<00:00,  1.51it/s]\n",
            "                 Class     Images  Instances      Box(P          R      mAP50  mAP50-95): 100%|██████████| 203/203 [01:16<00:00,  2.66it/s]"
          ]
        },
        {
          "name": "stdout",
          "output_type": "stream",
          "text": [
            "                   all       3242       3299      0.826      0.753      0.767      0.495\n"
          ]
        },
        {
          "name": "stderr",
          "output_type": "stream",
          "text": [
            "\n"
          ]
        },
        {
          "name": "stdout",
          "output_type": "stream",
          "text": [
            "\n",
            "      Epoch    GPU_mem   box_loss   cls_loss   dfl_loss  Instances       Size\n"
          ]
        },
        {
          "name": "stderr",
          "output_type": "stream",
          "text": [
            "       3/20      8.56G    0.09894     0.8275      1.473          5       1024: 100%|██████████| 1174/1174 [12:55<00:00,  1.51it/s]\n",
            "                 Class     Images  Instances      Box(P          R      mAP50  mAP50-95): 100%|██████████| 203/203 [01:15<00:00,  2.69it/s]"
          ]
        },
        {
          "name": "stdout",
          "output_type": "stream",
          "text": [
            "                   all       3242       3299      0.853      0.754      0.778      0.498\n"
          ]
        },
        {
          "name": "stderr",
          "output_type": "stream",
          "text": [
            "\n"
          ]
        },
        {
          "name": "stdout",
          "output_type": "stream",
          "text": [
            "\n",
            "      Epoch    GPU_mem   box_loss   cls_loss   dfl_loss  Instances       Size\n"
          ]
        },
        {
          "name": "stderr",
          "output_type": "stream",
          "text": [
            "       4/20      8.54G    0.09775     0.8018      1.456          5       1024: 100%|██████████| 1174/1174 [12:53<00:00,  1.52it/s]\n",
            "                 Class     Images  Instances      Box(P          R      mAP50  mAP50-95): 100%|██████████| 203/203 [01:15<00:00,  2.69it/s]"
          ]
        },
        {
          "name": "stdout",
          "output_type": "stream",
          "text": [
            "                   all       3242       3299      0.826      0.769      0.783      0.508\n"
          ]
        },
        {
          "name": "stderr",
          "output_type": "stream",
          "text": [
            "\n"
          ]
        },
        {
          "name": "stdout",
          "output_type": "stream",
          "text": [
            "\n",
            "      Epoch    GPU_mem   box_loss   cls_loss   dfl_loss  Instances       Size\n"
          ]
        },
        {
          "name": "stderr",
          "output_type": "stream",
          "text": [
            "       5/20      8.56G    0.09724     0.7795      1.445          6       1024: 100%|██████████| 1174/1174 [12:53<00:00,  1.52it/s]\n",
            "                 Class     Images  Instances      Box(P          R      mAP50  mAP50-95): 100%|██████████| 203/203 [01:15<00:00,  2.70it/s]"
          ]
        },
        {
          "name": "stdout",
          "output_type": "stream",
          "text": [
            "                   all       3242       3299      0.865      0.723      0.764      0.495\n"
          ]
        },
        {
          "name": "stderr",
          "output_type": "stream",
          "text": [
            "\n"
          ]
        },
        {
          "name": "stdout",
          "output_type": "stream",
          "text": [
            "\n",
            "      Epoch    GPU_mem   box_loss   cls_loss   dfl_loss  Instances       Size\n"
          ]
        },
        {
          "name": "stderr",
          "output_type": "stream",
          "text": [
            "       6/20      8.56G    0.09633     0.7602       1.44          6       1024: 100%|██████████| 1174/1174 [12:52<00:00,  1.52it/s]\n",
            "                 Class     Images  Instances      Box(P          R      mAP50  mAP50-95): 100%|██████████| 203/203 [01:14<00:00,  2.71it/s]"
          ]
        },
        {
          "name": "stdout",
          "output_type": "stream",
          "text": [
            "                   all       3242       3299      0.865      0.754      0.785      0.503\n"
          ]
        },
        {
          "name": "stderr",
          "output_type": "stream",
          "text": [
            "\n"
          ]
        },
        {
          "name": "stdout",
          "output_type": "stream",
          "text": [
            "\n",
            "      Epoch    GPU_mem   box_loss   cls_loss   dfl_loss  Instances       Size\n"
          ]
        },
        {
          "name": "stderr",
          "output_type": "stream",
          "text": [
            "       7/20      8.56G    0.09572     0.7389       1.43          5       1024: 100%|██████████| 1174/1174 [12:51<00:00,  1.52it/s]\n",
            "                 Class     Images  Instances      Box(P          R      mAP50  mAP50-95): 100%|██████████| 203/203 [01:14<00:00,  2.71it/s]"
          ]
        },
        {
          "name": "stdout",
          "output_type": "stream",
          "text": [
            "                   all       3242       3299      0.798      0.789      0.792      0.504\n"
          ]
        },
        {
          "name": "stderr",
          "output_type": "stream",
          "text": [
            "\n"
          ]
        },
        {
          "name": "stdout",
          "output_type": "stream",
          "text": [
            "\n",
            "      Epoch    GPU_mem   box_loss   cls_loss   dfl_loss  Instances       Size\n"
          ]
        },
        {
          "name": "stderr",
          "output_type": "stream",
          "text": [
            "       8/20      8.57G    0.09482     0.7333      1.419          7       1024: 100%|██████████| 1174/1174 [12:53<00:00,  1.52it/s]\n",
            "                 Class     Images  Instances      Box(P          R      mAP50  mAP50-95): 100%|██████████| 203/203 [01:14<00:00,  2.71it/s]"
          ]
        },
        {
          "name": "stdout",
          "output_type": "stream",
          "text": [
            "                   all       3242       3299      0.839      0.777      0.801      0.536\n"
          ]
        },
        {
          "name": "stderr",
          "output_type": "stream",
          "text": [
            "\n"
          ]
        },
        {
          "name": "stdout",
          "output_type": "stream",
          "text": [
            "\n",
            "      Epoch    GPU_mem   box_loss   cls_loss   dfl_loss  Instances       Size\n"
          ]
        },
        {
          "name": "stderr",
          "output_type": "stream",
          "text": [
            "       9/20      8.56G    0.09367     0.6976      1.414          7       1024: 100%|██████████| 1174/1174 [12:53<00:00,  1.52it/s]\n",
            "                 Class     Images  Instances      Box(P          R      mAP50  mAP50-95): 100%|██████████| 203/203 [01:15<00:00,  2.69it/s]"
          ]
        },
        {
          "name": "stdout",
          "output_type": "stream",
          "text": [
            "                   all       3242       3299      0.853       0.79      0.807      0.542\n"
          ]
        },
        {
          "name": "stderr",
          "output_type": "stream",
          "text": [
            "\n"
          ]
        },
        {
          "name": "stdout",
          "output_type": "stream",
          "text": [
            "\n",
            "      Epoch    GPU_mem   box_loss   cls_loss   dfl_loss  Instances       Size\n"
          ]
        },
        {
          "name": "stderr",
          "output_type": "stream",
          "text": [
            "      10/20      8.57G    0.09273     0.6795      1.407          7       1024: 100%|██████████| 1174/1174 [12:53<00:00,  1.52it/s]\n",
            "                 Class     Images  Instances      Box(P          R      mAP50  mAP50-95): 100%|██████████| 203/203 [01:15<00:00,  2.69it/s]"
          ]
        },
        {
          "name": "stdout",
          "output_type": "stream",
          "text": [
            "                   all       3242       3299      0.858      0.789      0.817      0.549\n"
          ]
        },
        {
          "name": "stderr",
          "output_type": "stream",
          "text": [
            "\n"
          ]
        },
        {
          "name": "stdout",
          "output_type": "stream",
          "text": [
            "Closing dataloader mosaic\n",
            "\u001b[34m\u001b[1malbumentations: \u001b[0mBlur(p=0.01, blur_limit=(3, 7)), MedianBlur(p=0.01, blur_limit=(3, 7)), ToGray(p=0.01, num_output_channels=3, method='weighted_average'), CLAHE(p=0.01, clip_limit=(1.0, 4.0), tile_grid_size=(8, 8))\n"
          ]
        },
        {
          "name": "stderr",
          "output_type": "stream",
          "text": [
            "/usr/local/lib/python3.11/dist-packages/ultralytics/data/augment.py:1837: UserWarning: Argument(s) 'quality_lower' are not valid for transform ImageCompression\n",
            "  A.ImageCompression(quality_lower=75, p=0.0),\n"
          ]
        },
        {
          "name": "stdout",
          "output_type": "stream",
          "text": [
            "\n",
            "      Epoch    GPU_mem   box_loss   cls_loss   dfl_loss  Instances       Size\n"
          ]
        },
        {
          "name": "stderr",
          "output_type": "stream",
          "text": [
            "      11/20      8.56G    0.09278     0.5843      1.419          3       1024: 100%|██████████| 1174/1174 [12:52<00:00,  1.52it/s]\n",
            "                 Class     Images  Instances      Box(P          R      mAP50  mAP50-95): 100%|██████████| 203/203 [01:15<00:00,  2.70it/s]"
          ]
        },
        {
          "name": "stdout",
          "output_type": "stream",
          "text": [
            "                   all       3242       3299      0.876      0.806      0.818      0.548\n"
          ]
        },
        {
          "name": "stderr",
          "output_type": "stream",
          "text": [
            "\n"
          ]
        },
        {
          "name": "stdout",
          "output_type": "stream",
          "text": [
            "\n",
            "      Epoch    GPU_mem   box_loss   cls_loss   dfl_loss  Instances       Size\n"
          ]
        },
        {
          "name": "stderr",
          "output_type": "stream",
          "text": [
            "      12/20      8.55G    0.09203     0.5651      1.415          4       1024: 100%|██████████| 1174/1174 [12:51<00:00,  1.52it/s]\n",
            "                 Class     Images  Instances      Box(P          R      mAP50  mAP50-95): 100%|██████████| 203/203 [01:15<00:00,  2.70it/s]"
          ]
        },
        {
          "name": "stdout",
          "output_type": "stream",
          "text": [
            "                   all       3242       3299      0.858      0.824      0.814      0.551\n"
          ]
        },
        {
          "name": "stderr",
          "output_type": "stream",
          "text": [
            "\n"
          ]
        },
        {
          "name": "stdout",
          "output_type": "stream",
          "text": [
            "\n",
            "      Epoch    GPU_mem   box_loss   cls_loss   dfl_loss  Instances       Size\n"
          ]
        },
        {
          "name": "stderr",
          "output_type": "stream",
          "text": [
            "      13/20      8.56G    0.09088     0.5473      1.388          4       1024: 100%|██████████| 1174/1174 [12:51<00:00,  1.52it/s]\n",
            "                 Class     Images  Instances      Box(P          R      mAP50  mAP50-95): 100%|██████████| 203/203 [01:14<00:00,  2.71it/s]"
          ]
        },
        {
          "name": "stdout",
          "output_type": "stream",
          "text": [
            "                   all       3242       3299       0.87      0.823      0.823      0.556\n"
          ]
        },
        {
          "name": "stderr",
          "output_type": "stream",
          "text": [
            "\n"
          ]
        },
        {
          "name": "stdout",
          "output_type": "stream",
          "text": [
            "\n",
            "      Epoch    GPU_mem   box_loss   cls_loss   dfl_loss  Instances       Size\n"
          ]
        },
        {
          "name": "stderr",
          "output_type": "stream",
          "text": [
            "      14/20      8.56G       0.09     0.5347      1.383          4       1024: 100%|██████████| 1174/1174 [12:51<00:00,  1.52it/s]\n",
            "                 Class     Images  Instances      Box(P          R      mAP50  mAP50-95): 100%|██████████| 203/203 [01:14<00:00,  2.71it/s]"
          ]
        },
        {
          "name": "stdout",
          "output_type": "stream",
          "text": [
            "                   all       3242       3299      0.869      0.812      0.831      0.561\n"
          ]
        },
        {
          "name": "stderr",
          "output_type": "stream",
          "text": [
            "\n"
          ]
        },
        {
          "name": "stdout",
          "output_type": "stream",
          "text": [
            "\n",
            "      Epoch    GPU_mem   box_loss   cls_loss   dfl_loss  Instances       Size\n"
          ]
        },
        {
          "name": "stderr",
          "output_type": "stream",
          "text": [
            "      15/20      8.57G     0.0885       0.51      1.363          4       1024: 100%|██████████| 1174/1174 [12:49<00:00,  1.53it/s]\n",
            "                 Class     Images  Instances      Box(P          R      mAP50  mAP50-95): 100%|██████████| 203/203 [01:15<00:00,  2.70it/s]"
          ]
        },
        {
          "name": "stdout",
          "output_type": "stream",
          "text": [
            "                   all       3242       3299      0.861      0.821      0.829       0.56\n"
          ]
        },
        {
          "name": "stderr",
          "output_type": "stream",
          "text": [
            "\n"
          ]
        },
        {
          "name": "stdout",
          "output_type": "stream",
          "text": [
            "\n",
            "      Epoch    GPU_mem   box_loss   cls_loss   dfl_loss  Instances       Size\n"
          ]
        },
        {
          "name": "stderr",
          "output_type": "stream",
          "text": [
            "      16/20      8.56G    0.08728     0.4907      1.358          8       1024:  96%|█████████▌| 1129/1174 [12:20<00:29,  1.50it/s]"
          ]
        }
      ],
      "source": [
        "model = YOLO(r\"/content/drive/My Drive/cct20/cct20/my_yolo_project/train17/weights/best.pt\")\n",
        "model.train(data='data.yaml', project=r\"/content/drive/My Drive/cct20/cct20/my_yolo_project\", imgsz=(747, 1024), batch=-1, epochs=20,augment=True, verbose=True, save=True, box=0.6, iou=0.5, mosaic=0.5)"
      ]
    }
  ],
  "metadata": {
    "accelerator": "GPU",
    "colab": {
      "gpuType": "T4",
      "machine_shape": "hm",
      "provenance": []
    },
    "kernelspec": {
      "display_name": ".venv",
      "language": "python",
      "name": "python3"
    },
    "language_info": {
      "name": "python",
      "version": "3.12.8"
    }
  },
  "nbformat": 4,
  "nbformat_minor": 0
}
