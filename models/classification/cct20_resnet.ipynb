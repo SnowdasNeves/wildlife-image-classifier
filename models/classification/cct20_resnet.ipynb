{
 "cells": [
  {
   "cell_type": "markdown",
   "metadata": {},
   "source": [
    "# Fine-tuning ResNet18 with CCT20"
   ]
  },
  {
   "cell_type": "markdown",
   "metadata": {},
   "source": [
    "### Imports and CUDA check"
   ]
  },
  {
   "cell_type": "code",
   "execution_count": 22,
   "metadata": {},
   "outputs": [],
   "source": [
    "import os\n",
    "import random\n",
    "import json\n",
    "import copy\n",
    "import numpy as np\n",
    "import matplotlib.pyplot as plt\n",
    "from collections import Counter\n",
    "\n",
    "import torch\n",
    "import torch.nn as nn\n",
    "import torch.optim as optim\n",
    "from torch.utils.data import Dataset, DataLoader, ConcatDataset, WeightedRandomSampler, Subset\n",
    "import torchvision.transforms as transforms\n",
    "import torchvision.models as models\n",
    "from PIL import Image\n",
    "from sklearn.metrics import precision_score, recall_score, f1_score, accuracy_score, classification_report\n",
    "from sklearn.model_selection import StratifiedKFold"
   ]
  },
  {
   "cell_type": "code",
   "execution_count": 2,
   "metadata": {},
   "outputs": [
    {
     "name": "stdout",
     "output_type": "stream",
     "text": [
      "CUDA is available. You can use GPU for PyTorch.\n"
     ]
    }
   ],
   "source": [
    "# Check if CUDA is available\n",
    "if torch.cuda.is_available():\n",
    "    print(\"CUDA is available. You can use GPU for PyTorch.\")\n",
    "else:\n",
    "    print(\"CUDA is not available. Using CPU for PyTorch.\")"
   ]
  },
  {
   "cell_type": "code",
   "execution_count": 3,
   "metadata": {},
   "outputs": [
    {
     "name": "stdout",
     "output_type": "stream",
     "text": [
      "Using device: cuda\n"
     ]
    }
   ],
   "source": [
    "device = torch.device(\"cuda\" if torch.cuda.is_available() else \"cpu\")\n",
    "print(\"Using device:\", device)"
   ]
  },
  {
   "cell_type": "markdown",
   "metadata": {},
   "source": [
    "### Dataset Preparation"
   ]
  },
  {
   "cell_type": "code",
   "execution_count": 4,
   "metadata": {},
   "outputs": [],
   "source": [
    "class CCTDataset(Dataset):\n",
    "    def __init__(self, json_file, images_dir, transform=None, label_mapping=None):\n",
    "        with open(json_file, 'r') as f:\n",
    "            data = json.load(f)\n",
    "\n",
    "        self.images = {img[\"id\"]: img[\"file_name\"] for img in data[\"images\"]}\n",
    "        self.annotations = data.get(\"annotations\", [])\n",
    "        self.images_dir = images_dir\n",
    "        self.transform = transform\n",
    "        self.label_mapping = label_mapping\n",
    "\n",
    "    def __len__(self):\n",
    "        return len(self.annotations)\n",
    "\n",
    "    def __getitem__(self, idx):\n",
    "        ann = self.annotations[idx]\n",
    "        img_id = ann[\"image_id\"]\n",
    "        img_path = os.path.join(self.images_dir, self.images[img_id])\n",
    "        # print(img_path)\n",
    "\n",
    "        if not os.path.exists(img_path):\n",
    "            print(f\"Missing image: {img_path}\")\n",
    "            return self.__getitem__((idx + 1) % len(self))\n",
    "        \n",
    "        try:\n",
    "            image = Image.open(img_path).convert('RGB')\n",
    "        except Exception as e:\n",
    "            print(f\"Failed to open image {img_path}: {e}\")\n",
    "            return self.__getitem__((idx + 1) % len(self))\n",
    "        \n",
    "        # Crop the image using bounding box coordinates from json files\n",
    "        bbox = ann.get(\"bbox\")\n",
    "        if bbox:\n",
    "            x, y, w, h = bbox\n",
    "            x = x / 2\n",
    "            y = y / 2\n",
    "            w = w / 2\n",
    "            h = h / 2\n",
    "            image = image.crop((x, y, x + w, y + h))\n",
    "        \n",
    "        if self.transform:\n",
    "            image = self.transform(image)\n",
    "        # label = self.label_mapping[ann[\"category_id\"]]\n",
    "        label = self.label_mapping.get(ann[\"category_id\"], 0)  # Assigns class 0 if no label is found. This was done to try to fix dataloader stall\n",
    "        return image, label"
   ]
  },
  {
   "cell_type": "code",
   "execution_count": 5,
   "metadata": {},
   "outputs": [],
   "source": [
    "def get_label_mapping(json_file):\n",
    "    with open(json_file, 'r') as f:\n",
    "        data = json.load(f)\n",
    "    \n",
    "    categories = data[\"categories\"]\n",
    "    mapping = {category[\"id\"]: idx for idx, category in enumerate(categories)}\n",
    "    # name_mapping = {idx: category[\"name\"] for idx, category in enumerate(categories)}\n",
    "    # print(\"Final name mapping:\", name_mapping)\n",
    "    return mapping"
   ]
  },
  {
   "cell_type": "code",
   "execution_count": 6,
   "metadata": {},
   "outputs": [],
   "source": [
    "train_json = 'cct20-metadata/train_annotations.json'\n",
    "cis_val_json = 'cct20-metadata/cis_val_annotations.json'\n",
    "trans_val_json = 'cct20-metadata/trans_val_annotations.json'\n",
    "cis_test_json = 'cct20-metadata/cis_test_annotations.json'\n",
    "trans_test_json = 'cct20-metadata/trans_test_annotations.json'\n",
    "images_dir = 'cct20-images'\n",
    "\n",
    "# Create label mapping and determine number of classes\n",
    "label_mapping = get_label_mapping(train_json)\n",
    "num_classes = len(label_mapping)"
   ]
  },
  {
   "cell_type": "markdown",
   "metadata": {},
   "source": [
    "### Dataset Augmentation"
   ]
  },
  {
   "cell_type": "code",
   "execution_count": 7,
   "metadata": {},
   "outputs": [],
   "source": [
    "train_transform = transforms.Compose([\n",
    "    transforms.Resize((224, 224)),\n",
    "    transforms.RandomRotation(20),\n",
    "    transforms.RandomHorizontalFlip(),\n",
    "    # transforms.ColorJitter(brightness=0.5, contrast=0.5, saturation=0.5),\n",
    "    transforms.ToTensor(),\n",
    "    transforms.Normalize(mean=[0.485, 0.456, 0.406],\n",
    "                         std=[0.229, 0.224, 0.225])\n",
    "])\n",
    "\n",
    "val_transform = transforms.Compose([\n",
    "    transforms.Resize((224, 224)),\n",
    "    transforms.ToTensor(),\n",
    "    transforms.Normalize(mean=[0.485, 0.456, 0.406],\n",
    "                         std=[0.229, 0.224, 0.225])\n",
    "])\n",
    "\n",
    "test_transform = val_transform"
   ]
  },
  {
   "cell_type": "markdown",
   "metadata": {},
   "source": [
    "### Assembling train-test sets"
   ]
  },
  {
   "cell_type": "code",
   "execution_count": 8,
   "metadata": {},
   "outputs": [
    {
     "name": "stdout",
     "output_type": "stream",
     "text": [
      "Train dataset size: 38099\n",
      "Validation dataset size: 5447\n",
      "Test dataset size: 16395\n"
     ]
    }
   ],
   "source": [
    "cis_test_dataset = CCTDataset(cis_test_json, images_dir, transform=test_transform, label_mapping=label_mapping)\n",
    "trans_test_dataset = CCTDataset(trans_test_json, images_dir, transform=test_transform, label_mapping=label_mapping)\n",
    "# test_dataset = ConcatDataset([cis_test_dataset, trans_test_dataset])\n",
    "test_dataset = cis_test_dataset\n",
    "\n",
    "train_dataset = CCTDataset(train_json, images_dir, transform=train_transform, label_mapping=label_mapping)\n",
    "train_dataset = ConcatDataset([trans_test_dataset, train_dataset])\n",
    "\n",
    "cis_val_dataset = CCTDataset(cis_val_json, images_dir, transform=val_transform, label_mapping=label_mapping)\n",
    "trans_val_dataset = CCTDataset(trans_val_json, images_dir, transform=val_transform, label_mapping=label_mapping)\n",
    "val_dataset = ConcatDataset([cis_val_dataset, trans_val_dataset])\n",
    "\n",
    "print(f\"Train dataset size: {len(train_dataset)}\")\n",
    "# image_tensor_1, label_example = train_dataset[0]\n",
    "# print(image_tensor_1.shape, label_example, \"\\n\")\n",
    "print(f\"Validation dataset size: {len(val_dataset)}\")\n",
    "print(f\"Test dataset size: {len(test_dataset)}\")"
   ]
  },
  {
   "cell_type": "markdown",
   "metadata": {},
   "source": [
    "### Class Imbalance Correction"
   ]
  },
  {
   "cell_type": "code",
   "execution_count": 9,
   "metadata": {},
   "outputs": [
    {
     "name": "stdout",
     "output_type": "stream",
     "text": [
      "Filtered train dataset size: 38023\n",
      "Filtered validation dataset size: 5443\n",
      "Filtered test dataset size: 16225\n",
      "\n",
      "Number of classes after filtering: 13\n"
     ]
    }
   ],
   "source": [
    "total_dataset = ConcatDataset([train_dataset, val_dataset, test_dataset])\n",
    "total_class_counts = Counter([label for _, label in total_dataset])\n",
    "\n",
    "valid_classes = {cls for cls, count in total_class_counts.items() if count >= 500}\n",
    "\n",
    "filtered_train_indices = [idx for idx, (_, label) in enumerate(train_dataset) if label in valid_classes]\n",
    "filtered_train_dataset = Subset(train_dataset, filtered_train_indices)\n",
    "\n",
    "filtered_val_indices = [idx for idx, (_, label) in enumerate(val_dataset) if label in valid_classes]\n",
    "filtered_val_dataset = Subset(val_dataset, filtered_val_indices)\n",
    "\n",
    "filtered_test_indices = [idx for idx, (_, label) in enumerate(test_dataset) if label in valid_classes]\n",
    "filtered_test_dataset = Subset(test_dataset, filtered_test_indices)\n",
    "\n",
    "print(f\"Filtered train dataset size: {len(filtered_train_dataset)}\")\n",
    "print(f\"Filtered validation dataset size: {len(filtered_val_dataset)}\")\n",
    "print(f\"Filtered test dataset size: {len(filtered_test_dataset)}\\n\")\n",
    "\n",
    "num_classes = len(valid_classes)\n",
    "print(\"Number of classes after filtering:\", num_classes)\n",
    "\n",
    "# Check if all datasets have the same classes\n",
    "# for dataset_name, dataset in zip([\"Train\", \"Validation\", \"Test\"],\n",
    "#                                  [filtered_train_dataset, filtered_val_dataset, filtered_test_dataset]):\n",
    "#     unique_classes = set(label for _, label in dataset)\n",
    "#     print(f\"{dataset_name} classes: {sorted(unique_classes)}\")"
   ]
  },
  {
   "cell_type": "code",
   "execution_count": 10,
   "metadata": {},
   "outputs": [
    {
     "name": "stdout",
     "output_type": "stream",
     "text": [
      "Label 14 changed to 12 in all datasets.\n",
      "\n"
     ]
    }
   ],
   "source": [
    "class RelabelDataset(Dataset):\n",
    "    def __init__(self, dataset, old_label=14, new_label=12):\n",
    "        self.dataset = dataset\n",
    "        self.old_label = old_label\n",
    "        self.new_label = new_label\n",
    "\n",
    "    def __len__(self):\n",
    "        return len(self.dataset)\n",
    "\n",
    "    def __getitem__(self, idx):\n",
    "        image, label = self.dataset[idx]\n",
    "        if label == self.old_label:\n",
    "            label = self.new_label\n",
    "        return image, label\n",
    "\n",
    "# Apply the relabel wrapper to all datasets\n",
    "filtered_train_dataset = RelabelDataset(filtered_train_dataset)\n",
    "filtered_val_dataset = RelabelDataset(filtered_val_dataset)\n",
    "filtered_test_dataset = RelabelDataset(filtered_test_dataset)\n",
    "\n",
    "print(\"Label 14 changed to 12 in all datasets.\\n\")\n",
    "\n",
    "# Check if all datasets have the same classes\n",
    "# for dataset_name, dataset in zip([\"Train\", \"Validation\", \"Test\"],\n",
    "#                                  [filtered_train_dataset, filtered_val_dataset, filtered_test_dataset]):\n",
    "#     unique_classes = set(label for _, label in dataset)\n",
    "#     print(f\"{dataset_name} classes: {sorted(unique_classes)}\")"
   ]
  },
  {
   "cell_type": "code",
   "execution_count": 11,
   "metadata": {},
   "outputs": [
    {
     "name": "stdout",
     "output_type": "stream",
     "text": [
      "Class counts: Counter({1: 8280, 4: 6839, 3: 3849, 9: 3361, 0: 3166, 7: 2802, 8: 2308, 6: 1976, 12: 1781, 2: 1778, 5: 881, 10: 563, 11: 439})\n",
      "Class weights: {7: 0.00035688793718772306, 4: 0.00014622020763269483, 2: 0.0005624296962879641, 0: 0.0003158559696778269, 1: 0.00012077294685990338, 8: 0.0004332755632582322, 3: 0.0002598077422707197, 10: 0.0017761989342806395, 6: 0.0005060728744939271, 9: 0.0002975304968759298, 11: 0.002277904328018223, 5: 0.0011350737797956867, 12: 0.0005614823133071309}\n"
     ]
    }
   ],
   "source": [
    "# np.set_printoptions(suppress=True)  # Prevent arrays from being printed in scientific notation for better readability\n",
    "\n",
    "# class_counts = np.zeros(num_classes, dtype=int)\n",
    "# for _, label in filtered_train_dataset:\n",
    "#     print(label)\n",
    "#     class_counts[label] += 1\n",
    "# print(f\"Class counts: {class_counts}\\n\")\n",
    "\n",
    "# # Correction to avoid divided by zero error\n",
    "# for idx in range(len(class_counts)):\n",
    "#     if class_counts[idx] == 0:\n",
    "#         class_counts[idx] = 1\n",
    "#         print(\"Warning: Some classes have no samples in the training dataset.\")\n",
    "\n",
    "# class_weights = 1.0 / class_counts\n",
    "# print(f\"Class weights: {class_weights}\")\n",
    "\n",
    "# sample_weights = [class_weights[label] for _, label in filtered_train_dataset]\n",
    "\n",
    "# sampler = WeightedRandomSampler(sample_weights, num_samples=len(filtered_train_dataset), replacement=True)\n",
    "\n",
    "class_counts = Counter(label for _, label in filtered_train_dataset)\n",
    "print(f\"Class counts: {class_counts}\")\n",
    "\n",
    "class_weights = {cls: 1.0 / count for cls, count in class_counts.items()}\n",
    "print(f\"Class weights: {class_weights}\")\n",
    "\n",
    "sample_weights = [class_weights[label] for _, label in filtered_train_dataset]\n",
    "\n",
    "sampler = WeightedRandomSampler(sample_weights, num_samples=len(filtered_train_dataset), replacement=True)"
   ]
  },
  {
   "cell_type": "markdown",
   "metadata": {},
   "source": [
    "### Data Loader"
   ]
  },
  {
   "cell_type": "code",
   "execution_count": 12,
   "metadata": {},
   "outputs": [],
   "source": [
    "batch_size = 64\n",
    "\n",
    "train_loader = DataLoader(filtered_train_dataset, batch_size=batch_size, shuffle=False, sampler=sampler, num_workers=0, pin_memory=True)\n",
    "val_loader = DataLoader(filtered_val_dataset, batch_size=batch_size, shuffle=False, num_workers=0, pin_memory=True)\n",
    "test_loader = DataLoader(filtered_test_dataset, batch_size=batch_size, shuffle=False, num_workers=0, pin_memory=True)"
   ]
  },
  {
   "cell_type": "markdown",
   "metadata": {},
   "source": [
    "### BBox Cropping Verification"
   ]
  },
  {
   "cell_type": "code",
   "execution_count": null,
   "metadata": {},
   "outputs": [],
   "source": [
    "# Getting the class names\n",
    "with open(train_json, 'r') as f:\n",
    "    data = json.load(f)\n",
    "idx_to_name = {label_mapping[cat['id']]: cat['name'] for cat in data['categories']}\n",
    "\n",
    "# Plot 5 random images from the training dataset to verify the crop\n",
    "indices = random.sample(range(len(train_dataset)), 5)\n",
    "fig, axs = plt.subplots(1, 5, figsize=(20, 5))\n",
    "for ax, idx in zip(axs, indices):\n",
    "    img, label = train_dataset[idx]\n",
    "    \n",
    "    # Convert tensor image to numpy array and unnormalize\n",
    "    img = img.cpu().permute(1, 2, 0).numpy()\n",
    "    mean = np.array([0.485, 0.456, 0.406])\n",
    "    std = np.array([0.229, 0.224, 0.225])\n",
    "    img = std * img + mean\n",
    "    img = np.clip(img, 0, 1)\n",
    "    ax.imshow(img)\n",
    "    ax.set_title(f'Label: {idx_to_name[label]}')\n",
    "    ax.axis('off')\n",
    "plt.tight_layout()\n",
    "plt.show()"
   ]
  },
  {
   "cell_type": "markdown",
   "metadata": {},
   "source": [
    "### Model Import"
   ]
  },
  {
   "cell_type": "code",
   "execution_count": 13,
   "metadata": {},
   "outputs": [
    {
     "name": "stderr",
     "output_type": "stream",
     "text": [
      "c:\\Users\\diogo\\Documents\\Repos\\cifar10-image-classifier\\.venv\\Lib\\site-packages\\torchvision\\models\\_utils.py:208: UserWarning: The parameter 'pretrained' is deprecated since 0.13 and may be removed in the future, please use 'weights' instead.\n",
      "  warnings.warn(\n",
      "c:\\Users\\diogo\\Documents\\Repos\\cifar10-image-classifier\\.venv\\Lib\\site-packages\\torchvision\\models\\_utils.py:223: UserWarning: Arguments other than a weight enum or `None` for 'weights' are deprecated since 0.13 and may be removed in the future. The current behavior is equivalent to passing `weights=ResNet18_Weights.IMAGENET1K_V1`. You can also use `weights=ResNet18_Weights.DEFAULT` to get the most up-to-date weights.\n",
      "  warnings.warn(msg)\n"
     ]
    }
   ],
   "source": [
    "# Loading the model exactly like the CIFAR-10 ResNet18 model\n",
    "model = models.resnet18(pretrained=True)\n",
    "\n",
    "num_features = model.fc.in_features\n",
    "# model.fc = nn.Linear(num_features, num_classes)\n",
    "\n",
    "model.fc = nn.Sequential(\n",
    "    nn.Dropout(0.5),\n",
    "    nn.Linear(num_features, 512),\n",
    "    nn.ReLU(inplace=True),\n",
    "    nn.Dropout(0.5),\n",
    "    nn.Linear(512, num_classes)\n",
    ")\n",
    "\n",
    "model = model.to(device)"
   ]
  },
  {
   "cell_type": "code",
   "execution_count": 14,
   "metadata": {},
   "outputs": [],
   "source": [
    "learning_rate = 0.0005\n",
    "\n",
    "criterion = nn.CrossEntropyLoss()\n",
    "optimizer = optim.Adam(model.parameters(), lr=learning_rate)\n",
    "scheduler = optim.lr_scheduler.StepLR(optimizer, step_size=20, gamma=0.5)"
   ]
  },
  {
   "cell_type": "markdown",
   "metadata": {},
   "source": [
    "### Training Loop"
   ]
  },
  {
   "cell_type": "code",
   "execution_count": 15,
   "metadata": {},
   "outputs": [],
   "source": [
    "num_epochs = 200\n",
    "best_f1 = 0.0\n",
    "epochs_no_improve = 0\n",
    "patience = 20\n",
    "train_losses = []\n",
    "val_losses = []\n",
    "f1_scores = []\n",
    "\n",
    "best_model_wts = copy.deepcopy(model.state_dict())  # Saves weight of epoch with best f1-score"
   ]
  },
  {
   "cell_type": "code",
   "execution_count": null,
   "metadata": {},
   "outputs": [],
   "source": [
    "# k-folds initialization\n",
    "n_splits = 5\n",
    "skf = StratifiedKFold(n_splits=n_splits, shuffle=True, random_state=42)"
   ]
  },
  {
   "cell_type": "code",
   "execution_count": 16,
   "metadata": {},
   "outputs": [
    {
     "name": "stdout",
     "output_type": "stream",
     "text": [
      "Completed the 1st epoch. Something is actually happening!\n",
      "\n",
      "Epoch 10/200, Train Loss: 0.201971, Val Loss: 1.406228, Val F1-score: 0.6599\n",
      "Epoch 20/200, Train Loss: 0.119159, Val Loss: 1.613265, Val F1-score: 0.6820\n",
      "Epoch 30/200, Train Loss: 0.043499, Val Loss: 2.066979, Val F1-score: 0.6884\n",
      "Epoch 40/200, Train Loss: 0.034188, Val Loss: 2.422687, Val F1-score: 0.6999\n",
      "Early stopping triggered at epoch 41/200: no improvement in 20 epochs.\n"
     ]
    }
   ],
   "source": [
    "# Original code without k-folds\n",
    "for epoch in range(1, num_epochs + 1):\n",
    "    if epoch == 2:\n",
    "        print(f'Completed the 1st epoch. Something is actually happening!\\n')\n",
    "    \n",
    "    model.train()\n",
    "    running_train_loss = 0.0\n",
    "    # print(\"Starting the training loop.\")  # Prints this statement, but does not reach the next print statement.\n",
    "    for images, labels in train_loader:\n",
    "        # print(\"does not reach this statement.\")  # Does not reach this print statement. Problem with the dataloader?\n",
    "        images, labels = images.to(device), labels.to(device)\n",
    "        \n",
    "        optimizer.zero_grad()\n",
    "        outputs = model(images)\n",
    "        loss = criterion(outputs, labels)\n",
    "        loss.backward()\n",
    "        optimizer.step()\n",
    "        running_train_loss += loss.item() * images.size(0)\n",
    "\n",
    "    scheduler.step()\n",
    "\n",
    "    epoch_train_loss = running_train_loss / len(train_loader.dataset)\n",
    "    train_losses.append(epoch_train_loss)\n",
    "\n",
    "    model.eval()\n",
    "    running_val_loss = 0.0\n",
    "    all_preds = []\n",
    "    all_labels = []\n",
    "    \n",
    "    with torch.no_grad():\n",
    "        for images, labels in val_loader:\n",
    "            images, labels = images.to(device), labels.to(device)\n",
    "            outputs = model(images)\n",
    "            loss = criterion(outputs, labels)\n",
    "            running_val_loss += loss.item() * images.size(0)\n",
    "            \n",
    "            preds = torch.argmax(outputs, dim=1)\n",
    "            all_preds.extend(preds.cpu().numpy())\n",
    "            all_labels.extend(labels.cpu().numpy())\n",
    "    \n",
    "    epoch_val_loss = running_val_loss / len(val_loader.dataset)\n",
    "    val_losses.append(epoch_val_loss)\n",
    "\n",
    "    epoch_f1 = f1_score(all_labels, all_preds, average='macro')\n",
    "    f1_scores.append(epoch_f1)\n",
    "\n",
    "\n",
    "    if epoch_f1 > best_f1:\n",
    "        best_f1 = epoch_f1\n",
    "        best_model_wts = copy.deepcopy(model.state_dict())\n",
    "        epochs_no_improve = 0\n",
    "    else:\n",
    "        epochs_no_improve += 1\n",
    "\n",
    "    if epoch % 10 == 0:\n",
    "        print(f'Epoch {epoch}/{num_epochs}, Train Loss: {epoch_train_loss:.6f}, Val Loss: {epoch_val_loss:.6f}, Val F1-score: {epoch_f1:.4f}')\n",
    "\n",
    "    if epochs_no_improve >= patience:\n",
    "        print(f'Early stopping triggered at epoch {epoch}/{num_epochs}: no improvement in {patience} epochs.')\n",
    "        break"
   ]
  },
  {
   "cell_type": "code",
   "execution_count": null,
   "metadata": {},
   "outputs": [],
   "source": [
    "# New code with k-folds\n",
    "for fold, (train_idx, val_idx) in enumerate(skf.split(np.arange(len(train_dataset)), np.array([label for _, label in train_dataset]))):\n",
    "    print(f\"Fold {fold + 1}/{n_splits}]\")\n",
    "\n",
    "    train_subset = Subset(train_dataset, train_idx)\n",
    "    val_subset = Subset(train_dataset, val_idx)\n",
    "\n",
    "    train_loader = DataLoader(train_dataset, batch_size=batch_size, shuffle=False, sampler=sampler, num_workers=0, pin_memory=True)\n",
    "    val_loader = DataLoader(val_subset, batch_size=batch_size, shuffle=False, num_workers=2, pin_memory=True)\n",
    "\n",
    "    for epoch in range(1, num_epochs + 1):\n",
    "        if epoch == 2:\n",
    "            print(f'Completed the 1st epoch. Something is actually happening!\\n')\n",
    "        \n",
    "        model.train()\n",
    "        running_train_loss = 0.0\n",
    "        # print(\"Starting the training loop.\")  # Prints this statement, but does not reach the next print statement.\n",
    "        for images, labels in train_loader:\n",
    "            # print(\"does not reach this statement.\")  # Does not reach this print statement. Problem with the dataloader?\n",
    "            images, labels = images.to(device), labels.to(device)\n",
    "            \n",
    "            optimizer.zero_grad()\n",
    "            outputs = model(images)\n",
    "            loss = criterion(outputs, labels)\n",
    "            loss.backward()\n",
    "            optimizer.step()\n",
    "            running_train_loss += loss.item() * images.size(0)\n",
    "\n",
    "        scheduler.step()\n",
    "\n",
    "        epoch_train_loss = running_train_loss / len(train_loader.dataset)\n",
    "        train_losses.append(epoch_train_loss)\n",
    "\n",
    "        model.eval()\n",
    "        running_val_loss = 0.0\n",
    "        all_preds = []\n",
    "        all_labels = []\n",
    "        \n",
    "        with torch.no_grad():\n",
    "            for images, labels in val_loader:\n",
    "                images, labels = images.to(device), labels.to(device)\n",
    "                outputs = model(images)\n",
    "                loss = criterion(outputs, labels)\n",
    "                running_val_loss += loss.item() * images.size(0)\n",
    "                \n",
    "                preds = torch.argmax(outputs, dim=1)\n",
    "                all_preds.extend(preds.cpu().numpy())\n",
    "                all_labels.extend(labels.cpu().numpy())\n",
    "        \n",
    "        epoch_val_loss = running_val_loss / len(val_loader.dataset)\n",
    "        val_losses.append(epoch_val_loss)\n",
    "\n",
    "        epoch_f1 = f1_score(all_labels, all_preds, average='macro')\n",
    "        f1_scores.append(epoch_f1)\n",
    "\n",
    "\n",
    "        if epoch_f1 > best_f1:\n",
    "            best_f1 = epoch_f1\n",
    "            best_model_wts = copy.deepcopy(model.state_dict())\n",
    "            epochs_no_improve = 0\n",
    "        else:\n",
    "            epochs_no_improve += 1\n",
    "\n",
    "        if epoch % 10 == 0:\n",
    "            print(f'Epoch {epoch}/{num_epochs}, Train Loss: {epoch_train_loss:.6f}, Val Loss: {epoch_val_loss:.6f}, Val F1-score: {epoch_f1:.4f}')\n",
    "\n",
    "        # if epochs_no_improve >= patience:\n",
    "        #     print(f'Early stopping triggered at epoch {epoch}/{num_epochs}: no improvement in {patience} epochs.')\n",
    "        #     break"
   ]
  },
  {
   "cell_type": "code",
   "execution_count": 17,
   "metadata": {},
   "outputs": [
    {
     "data": {
      "text/plain": [
       "<All keys matched successfully>"
      ]
     },
     "execution_count": 17,
     "metadata": {},
     "output_type": "execute_result"
    }
   ],
   "source": [
    "model.load_state_dict(best_model_wts)  # Loads weight of best epoch"
   ]
  },
  {
   "cell_type": "code",
   "execution_count": 18,
   "metadata": {},
   "outputs": [
    {
     "name": "stdout",
     "output_type": "stream",
     "text": [
      "Model saved to 'trained-models\\cct20_resnet_imb1.pth'.\n"
     ]
    }
   ],
   "source": [
    "trained_models_dir = 'trained-models'\n",
    "model_name = 'cct20_resnet_imb1.pth'\n",
    "\n",
    "os.makedirs(trained_models_dir, exist_ok=True)  # Create folder if it doesn't exist\n",
    "\n",
    "torch.save(model.state_dict(), os.path.join(trained_models_dir, model_name))\n",
    "\n",
    "print(f\"Model saved to '{os.path.join(trained_models_dir, model_name)}'.\")"
   ]
  },
  {
   "cell_type": "markdown",
   "metadata": {},
   "source": [
    "### Training Performance"
   ]
  },
  {
   "cell_type": "code",
   "execution_count": 19,
   "metadata": {},
   "outputs": [
    {
     "data": {
      "image/png": "[encoded data removed]",
      "text/plain": [
       "<Figure size 800x500 with 1 Axes>"
      ]
     },
     "metadata": {},
     "output_type": "display_data"
    }
   ],
   "source": [
    "plt.figure(figsize=(8, 5))\n",
    "plt.plot(range(1, len(train_losses) + 1), train_losses, label='Train Loss')\n",
    "plt.plot(range(1, len(val_losses) + 1), val_losses, label='Validation Loss')\n",
    "plt.xlabel('Epochs')\n",
    "plt.ylabel('Loss')\n",
    "plt.title('Training and Validation Loss Evolution')\n",
    "plt.legend()\n",
    "plt.show()"
   ]
  },
  {
   "cell_type": "markdown",
   "metadata": {},
   "source": [
    "### Testing"
   ]
  },
  {
   "cell_type": "code",
   "execution_count": 20,
   "metadata": {},
   "outputs": [],
   "source": [
    "# Class dictionary for CCT20 to make num to name match\n",
    "classes_cct = {\n",
    "    0: 'bobcat',\n",
    "    1: 'opossum',\n",
    "    2: 'empty',\n",
    "    3: 'coyote',\n",
    "    4: 'raccoon',\n",
    "    5: 'bird',\n",
    "    6: 'dog',\n",
    "    7: 'cat',\n",
    "    8: 'squirrel',\n",
    "    9: 'rabbit',\n",
    "    10: 'skunk',\n",
    "    11: 'rodent',\n",
    "    12: 'badger',\n",
    "    13: 'deer',\n",
    "    14: 'car',\n",
    "    15: 'fox'\n",
    "}\n",
    "\n",
    "classes_cct_relabeled = {\n",
    "    0: 'bobcat',\n",
    "    1: 'opossum',\n",
    "    2: 'empty',\n",
    "    3: 'coyote',\n",
    "    4: 'raccoon',\n",
    "    5: 'bird',\n",
    "    6: 'dog',\n",
    "    7: 'cat',\n",
    "    8: 'squirrel',\n",
    "    9: 'rabbit',\n",
    "    10: 'skunk',\n",
    "    11: 'rodent',\n",
    "    12: 'car'  # car went from 14 to 12. Eliminated 12, 13 and 15\n",
    "}\n",
    "\n",
    "target_names = [name for _, name in sorted(classes_cct_relabeled.items())]"
   ]
  },
  {
   "cell_type": "code",
   "execution_count": 24,
   "metadata": {},
   "outputs": [
    {
     "name": "stdout",
     "output_type": "stream",
     "text": [
      "Test Accuracy: 0.7914\n",
      "Test Precision: 0.7996\n",
      "Test Recall: 0.7914\n",
      "Test F1-Score: 0.7896\n",
      "Classification Report:\n",
      "              precision    recall  f1-score   support\n",
      "\n",
      "      bobcat       0.67      0.78      0.72       909\n",
      "     opossum       0.92      0.88      0.89      4535\n",
      "       empty       0.69      0.40      0.51      1180\n",
      "      coyote       0.63      0.86      0.73      1372\n",
      "     raccoon       0.72      0.87      0.79      1103\n",
      "        bird       0.79      0.74      0.76       865\n",
      "         dog       0.69      0.77      0.73       895\n",
      "         cat       0.75      0.76      0.75      1672\n",
      "    squirrel       0.68      0.64      0.66       666\n",
      "      rabbit       0.91      0.78      0.84      1807\n",
      "       skunk       0.80      0.73      0.76       194\n",
      "      rodent       0.69      0.79      0.74       236\n",
      "         car       0.99      1.00      1.00       791\n",
      "\n",
      "    accuracy                           0.79     16225\n",
      "   macro avg       0.76      0.77      0.76     16225\n",
      "weighted avg       0.80      0.79      0.79     16225\n",
      "\n"
     ]
    }
   ],
   "source": [
    "model.eval()\n",
    "all_test_preds = []\n",
    "all_test_labels = []\n",
    "\n",
    "with torch.no_grad():\n",
    "    for images, labels in test_loader:\n",
    "        images, labels = images.to(device), labels.to(device)\n",
    "        outputs = model(images)\n",
    "        preds = torch.argmax(outputs, dim=1)\n",
    "        all_test_preds.extend(preds.cpu().numpy())\n",
    "        all_test_labels.extend(labels.cpu().numpy())\n",
    "\n",
    "test_accuracy = accuracy_score(all_test_labels, all_test_preds)\n",
    "test_precision = precision_score(all_test_labels, all_test_preds, average=\"weighted\")\n",
    "test_recall = recall_score(all_test_labels, all_test_preds, average=\"weighted\")\n",
    "test_f1 = f1_score(all_test_labels, all_test_preds, average=\"weighted\")\n",
    "print(f'Test Accuracy: {test_accuracy:.4f}')\n",
    "print(f'Test Precision: {test_precision:.4f}')\n",
    "print(f'Test Recall: {test_recall:.4f}')\n",
    "print(f'Test F1-Score: {test_f1:.4f}')\n",
    "print('Classification Report:')\n",
    "print(classification_report(all_test_labels, all_test_preds, zero_division=0, target_names=target_names))"
   ]
  }
 ],
 "metadata": {
  "kernelspec": {
   "display_name": ".venv",
   "language": "python",
   "name": "python3"
  },
  "language_info": {
   "codemirror_mode": {
    "name": "ipython",
    "version": 3
   },
   "file_extension": ".py",
   "mimetype": "text/x-python",
   "name": "python",
   "nbconvert_exporter": "python",
   "pygments_lexer": "ipython3",
   "version": "3.12.8"
  }
 },
 "nbformat": 4,
 "nbformat_minor": 2
}
